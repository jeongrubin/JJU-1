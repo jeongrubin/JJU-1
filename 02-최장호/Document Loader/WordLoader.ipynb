{
 "cells": [
  {
   "cell_type": "markdown",
   "metadata": {},
   "source": [
    "## Microsoft Word\n",
    "- Docx2txtLoader"
   ]
  },
  {
   "cell_type": "code",
   "execution_count": 2,
   "metadata": {},
   "outputs": [],
   "source": [
    "# 설치\n",
    "!pip install -qU docx2txt"
   ]
  },
  {
   "cell_type": "code",
   "execution_count": 3,
   "metadata": {},
   "outputs": [
    {
     "name": "stdout",
     "output_type": "stream",
     "text": [
      "1\n"
     ]
    }
   ],
   "source": [
    "from langchain_community.document_loaders import Docx2txtLoader\n",
    "\n",
    "loader = Docx2txtLoader(\"C:/Users/kowm6/Desktop/test.docx\")  # 문서 로더 초기화\n",
    "\n",
    "docs = loader.load()  # 문서 로딩\n",
    "\n",
    "print(len(docs))\n"
   ]
  },
  {
   "cell_type": "markdown",
   "metadata": {},
   "source": [
    "## UnstructuredWordDocumentLoader"
   ]
  },
  {
   "cell_type": "code",
   "execution_count": 8,
   "metadata": {},
   "outputs": [],
   "source": [
    "!pip install -qU unstructured\n",
    "!pip install -qU python-docx\n"
   ]
  },
  {
   "cell_type": "code",
   "execution_count": 9,
   "metadata": {},
   "outputs": [
    {
     "name": "stdout",
     "output_type": "stream",
     "text": [
      "1\n"
     ]
    }
   ],
   "source": [
    "from langchain_community.document_loaders import UnstructuredWordDocumentLoader\n",
    "\n",
    "# 비구조화된 워드 문서 로더 인스턴스화\n",
    "loader = UnstructuredWordDocumentLoader(\"C:/Users/kowm6/Desktop/test.docx\") \n",
    "\n",
    "# 문서 로드\n",
    "docs = loader.load()\n",
    "\n",
    "print(len(docs))"
   ]
  },
  {
   "cell_type": "code",
   "execution_count": 10,
   "metadata": {},
   "outputs": [
    {
     "name": "stdout",
     "output_type": "stream",
     "text": [
      "{'source': 'C:/Users/kowm6/Desktop/test.docx'}\n"
     ]
    }
   ],
   "source": [
    "# metadata 출력\n",
    "print(docs[0].metadata)\n"
   ]
  },
  {
   "cell_type": "code",
   "execution_count": 11,
   "metadata": {},
   "outputs": [
    {
     "name": "stdout",
     "output_type": "stream",
     "text": [
      "2\n"
     ]
    }
   ],
   "source": [
    "# UnstructuredWordDocumentLoader\n",
    "loader = UnstructuredWordDocumentLoader(\n",
    "   \"C:/Users/kowm6/Desktop/test.docx\", mode=\"elements\"\n",
    ")\n",
    "\n",
    "# 데이터 로드\n",
    "docs = loader.load()\n",
    "\n",
    "# 로드한 문서의 개수 출력\n",
    "print(len(docs))\n"
   ]
  },
  {
   "cell_type": "code",
   "execution_count": 13,
   "metadata": {},
   "outputs": [
    {
     "name": "stdout",
     "output_type": "stream",
     "text": [
      "AI 서비스러닝 회의록\n"
     ]
    }
   ],
   "source": [
    "# 첫번째 문서의 내용 출력\n",
    "print(docs[0].page_content)\n"
   ]
  },
  {
   "cell_type": "code",
   "execution_count": 16,
   "metadata": {},
   "outputs": [
    {
     "data": {
      "text/plain": [
       "{'source': 'C:/Users/kowm6/Desktop/test.docx',\n",
       " 'emphasized_text_contents': ['AI 서비스러닝 회의록'],\n",
       " 'emphasized_text_tags': ['b'],\n",
       " 'file_directory': 'C:/Users/kowm6/Desktop',\n",
       " 'filename': 'test.docx',\n",
       " 'last_modified': '2025-01-06T15:30:01',\n",
       " 'text_as_html': '<table><tr><td>AI 서비스러닝 회의록</td></tr></table>',\n",
       " 'languages': ['kor'],\n",
       " 'filetype': 'application/vnd.openxmlformats-officedocument.wordprocessingml.document',\n",
       " 'category': 'Table',\n",
       " 'element_id': 'e7ec516939691d3c793d8e60434c1011'}"
      ]
     },
     "execution_count": 16,
     "metadata": {},
     "output_type": "execute_result"
    }
   ],
   "source": [
    "# 첫번째 문서의 내용 출력\n",
    "docs[0].metadata\n"
   ]
  }
 ],
 "metadata": {
  "kernelspec": {
   "display_name": "Python (app)",
   "language": "python",
   "name": "app"
  },
  "language_info": {
   "codemirror_mode": {
    "name": "ipython",
    "version": 3
   },
   "file_extension": ".py",
   "mimetype": "text/x-python",
   "name": "python",
   "nbconvert_exporter": "python",
   "pygments_lexer": "ipython3",
   "version": "3.10.14"
  }
 },
 "nbformat": 4,
 "nbformat_minor": 2
}
