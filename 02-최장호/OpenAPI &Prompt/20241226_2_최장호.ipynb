{
  "cells": [
    {
      "cell_type": "code",
      "execution_count": null,
      "metadata": {
        "id": "YRulDYipSEHK"
      },
      "outputs": [],
      "source": [
        "import os\n",
        "\n",
        "os.environ['OPENAI_API_KEY'] = '****'"
      ]
    },
    {
      "cell_type": "markdown",
      "metadata": {
        "id": "TGMmHuNUTJhT"
      },
      "source": [
        "# Template 및 Prompt 정의"
      ]
    },
    {
      "cell_type": "code",
      "execution_count": null,
      "metadata": {
        "id": "0-I9xOs2f8k3"
      },
      "outputs": [],
      "source": [
        "from langchain_teddynote.messages import stream_response\n",
        "from langchain_core.prompts import PromptTemplate"
      ]
    },
    {
      "cell_type": "code",
      "execution_count": null,
      "metadata": {
        "id": "74cBIfNyLYbu"
      },
      "outputs": [],
      "source": [
        "from langchain_teddynote.messages import stream_response\n",
        "from langchain_core.prompts import PromptTemplate"
      ]
    },
    {
      "cell_type": "code",
      "execution_count": null,
      "metadata": {
        "colab": {
          "base_uri": "https://localhost:8080/"
        },
        "id": "ll9_L3UNRzfj",
        "outputId": "05c5ab29-fc34-40d3-dcef-2763abae1298"
      },
      "outputs": [
        {
          "data": {
            "text/plain": [
              "PromptTemplate(input_variables=['country'], input_types={}, partial_variables={}, template='{country}의 수도는 어디인가요?')"
            ]
          },
          "execution_count": 53,
          "metadata": {},
          "output_type": "execute_result"
        }
      ],
      "source": [
        "# template 정의\n",
        "template = \"{country}의 수도는 어디인가요?\"\n",
        "\n",
        "# from_template 메소드를 이용하여 PromptTemplate 객체 생성\n",
        "prompt_template = PromptTemplate.from_template(template)\n",
        "prompt_template"
      ]
    },
    {
      "cell_type": "markdown",
      "metadata": {
        "id": "yE8oC39fTtE8"
      },
      "source": [
        "# 모델 설정"
      ]
    },
    {
      "cell_type": "code",
      "execution_count": null,
      "metadata": {
        "id": "ITYSNcCDTsbb"
      },
      "outputs": [],
      "source": [
        "from langchain_openai import ChatOpenAI\n",
        "\n",
        "model = ChatOpenAI(\n",
        "     model='gpt-3.5-turbo',\n",
        "    max_tokens=2048,\n",
        "    temperature = 0.1,\n",
        ")"
      ]
    },
    {
      "cell_type": "markdown",
      "metadata": {
        "id": "nUZAjUf2UfxA"
      },
      "source": [
        "## Chain 생성"
      ]
    },
    {
      "cell_type": "code",
      "execution_count": null,
      "metadata": {
        "id": "BL8nD82VUbuJ"
      },
      "outputs": [],
      "source": [
        "prompt = PromptTemplate.from_template(\"{country}에 대해 쉽게 설명해주세요\")\n",
        "\n",
        "model = ChatOpenAI()\n",
        "\n",
        "chain = prompt | model"
      ]
    },
    {
      "cell_type": "code",
      "execution_count": null,
      "metadata": {
        "colab": {
          "base_uri": "https://localhost:8080/"
        },
        "id": "YAiULzmQbFP4",
        "outputId": "33d129c5-a73d-44a8-cb44-ca650b6f7980"
      },
      "outputs": [
        {
          "data": {
            "text/plain": [
              "AIMessage(content='서울은 대한민국의 수도이고, 가장 큰 도시입니다. 인구 밀도가 높고 현대적인 도시로서 국내외에서 많은 사람들이 방문하고 거주하고 있습니다. 서울은 역사적인 관광명소와 현대적인 상업시설이 공존하는 도시로, 다양한 문화와 음식, 쇼핑 등을 즐길 수 있습니다. 또한 대중교통 시스템이 발달해 있어 이동이 편리하고 다양한 관광 명소를 쉽게 방문할 수 있습니다.', additional_kwargs={'refusal': None}, response_metadata={'token_usage': {'completion_tokens': 193, 'prompt_tokens': 21, 'total_tokens': 214, 'completion_tokens_details': {'accepted_prediction_tokens': 0, 'audio_tokens': 0, 'reasoning_tokens': 0, 'rejected_prediction_tokens': 0}, 'prompt_tokens_details': {'audio_tokens': 0, 'cached_tokens': 0}}, 'model_name': 'gpt-3.5-turbo-0125', 'system_fingerprint': None, 'finish_reason': 'stop', 'logprobs': None}, id='run-7f666777-ba83-4b13-95b5-620762383bc1-0', usage_metadata={'input_tokens': 21, 'output_tokens': 193, 'total_tokens': 214, 'input_token_details': {'audio': 0, 'cache_read': 0}, 'output_token_details': {'audio': 0, 'reasoning': 0}})"
            ]
          },
          "execution_count": 59,
          "metadata": {},
          "output_type": "execute_result"
        }
      ],
      "source": [
        "chain.invoke({\"country\": \"서울\"})"
      ]
    }
  ],
  "metadata": {
    "colab": {
      "provenance": []
    },
    "kernelspec": {
      "display_name": "Python 3",
      "name": "python3"
    },
    "language_info": {
      "name": "python"
    }
  },
  "nbformat": 4,
  "nbformat_minor": 0
}
