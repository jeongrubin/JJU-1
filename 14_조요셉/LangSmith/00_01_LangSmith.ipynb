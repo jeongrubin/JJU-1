{
 "cells": [
  {
   "cell_type": "markdown",
   "metadata": {
    "id": "iySqcdja13oG"
   },
   "source": [
    "# [note]\n",
    "\n",
    "- py : LANGCHAIN_TRACING_V2=True\n",
    "\n",
    "  - LANGCHAIN_ENDPOINT=\"https://api.smith.langchain.com\"\n",
    "\n",
    "  - LANGCHAIN_API_KEY=\"your api key\"\n",
    "\n",
    "  - LANGCHAIN_PROJECT=\"Test_JJU_JosephCho\""
   ]
  },
  {
   "cell_type": "code",
   "execution_count": 1,
   "metadata": {
    "executionInfo": {
     "elapsed": 6950,
     "status": "ok",
     "timestamp": 1736138230343,
     "user": {
      "displayName": "조요셉",
      "userId": "18273953234454799710"
     },
     "user_tz": -540
    },
    "id": "hLzd1akv1Qv4"
   },
   "outputs": [],
   "source": [
    "!pip install -qU langchain langchain-openai"
   ]
  },
  {
   "cell_type": "code",
   "execution_count": 3,
   "metadata": {
    "executionInfo": {
     "elapsed": 6,
     "status": "ok",
     "timestamp": 1736138230343,
     "user": {
      "displayName": "조요셉",
      "userId": "18273953234454799710"
     },
     "user_tz": -540
    },
    "id": "14MuU5bo1kZQ"
   },
   "outputs": [],
   "source": [
    "import os\n",
    "\n",
    "os.environ[\"OPENAI_API_KEY\"] = \"your_openai_api_key\"\n",
    "os.environ[\"LANGCHAIN_API_KEY\"] = \"your_langchain_api_key\"\n",
    "os.environ['LANGCHAIN_TRACING_V2'] = \"true\"\n",
    "os.environ['LANGCHAIN_ENDPOINT'] = \"https://api.smith.langchain.com\"\n",
    "os.environ['LANGCHAIN_PROJECT'] = \"Test_JJU_JosephCho\""
   ]
  },
  {
   "cell_type": "code",
   "execution_count": 4,
   "metadata": {
    "colab": {
     "base_uri": "https://localhost:8080/"
    },
    "executionInfo": {
     "elapsed": 5,
     "status": "ok",
     "timestamp": 1736138230343,
     "user": {
      "displayName": "조요셉",
      "userId": "18273953234454799710"
     },
     "user_tz": -540
    },
    "id": "TvD9xi2u5Y-Y",
    "outputId": "876ca505-eb2f-427b-c60f-32e2aab5d943"
   },
   "outputs": [
    {
     "name": "stdout",
     "output_type": "stream",
     "text": [
      "your_langchain_api_key\n",
      "true\n",
      "https://api.smith.langchain.com\n",
      "Test_JJU_JosephCho\n"
     ]
    }
   ],
   "source": [
    "print(os.environ[\"LANGCHAIN_API_KEY\"])\n",
    "print(os.environ[\"LANGCHAIN_TRACING_V2\"])\n",
    "print(os.environ[\"LANGCHAIN_ENDPOINT\"])\n",
    "print(os.environ[\"LANGCHAIN_PROJECT\"])"
   ]
  },
  {
   "cell_type": "code",
   "execution_count": 6,
   "metadata": {
    "colab": {
     "base_uri": "https://localhost:8080/"
    },
    "executionInfo": {
     "elapsed": 3934,
     "status": "ok",
     "timestamp": 1736138434893,
     "user": {
      "displayName": "조요셉",
      "userId": "18273953234454799710"
     },
     "user_tz": -540
    },
    "id": "GE8qeZNR235q",
    "outputId": "06f6af87-11ce-4dc6-e6e1-a909102a6d0f"
   },
   "outputs": [
    {
     "name": "stdout",
     "output_type": "stream",
     "text": [
      "2025년은 여러 가지 변화와 도전이 있을 것으로 예상됩니다. 당신이 태어난 날이 2003년 1월 24일이라면, 2025년에는 22세가 되실 것입니다. 이는 새로운 경험과 기회를 맞이할 수 있는 적절한 나이이기도 합니다.\n",
      "\n",
      "운세는 개인별로 다를 수 있기 때문에 정확하게 말씀드리기는 어렵습니다. 하지만, 새로운 도전에 대한 준비와 유연성이 필요한 해가 될 것으로 예상됩니다. 자신을 믿고 적극적으로 행동하며, 새로운 기회를 잡는 것이 중요할 것입니다. 또한, 주변 사람들과의 소통과 협력을 통해 성공을 이루는데 도움이 될 것입니다.\n",
      "\n",
      "2025년이 당신에게 행운과 성공이 함께하길 바라며, 미래에 대한 염려보다는 자신을 믿고 나아가는 것이 중요하다는 점을 기억하시기 바랍니다.\n"
     ]
    }
   ],
   "source": [
    "from langchain_openai import ChatOpenAI\n",
    "\n",
    "llm = ChatOpenAI()\n",
    "AIMessage = llm.invoke(\"호주의 수도는?\")\n",
    "print(AIMessage.content)"
   ]
  },
  {
   "cell_type": "code",
   "execution_count": 8,
   "metadata": {
    "colab": {
     "base_uri": "https://localhost:8080/"
    },
    "executionInfo": {
     "elapsed": 3112,
     "status": "ok",
     "timestamp": 1736138797292,
     "user": {
      "displayName": "조요셉",
      "userId": "18273953234454799710"
     },
     "user_tz": -540
    },
    "id": "JnuPvgMJ7gl1",
    "outputId": "2f8259cf-db4b-4012-ddcf-63c0037f24ce"
   },
   "outputs": [
    {
     "name": "stdout",
     "output_type": "stream",
     "text": [
      "미래의 운세를 정확하게 예측하는 것은 불가능합니다. 하지만 2025년에 대한 긍정적인 전망을 가지는 것은 좋은 시작일 수 있습니다. 운세는 종종 개인의 태도와 선택에 따라 달라질 수 있으므로, 긍정적인 마음가짐과 목표를 설정하고 노력하는 것이 중요합니다.\n",
      "\n",
      "2003년 1월 24일에 태어났다면, 2025년에는 22세가 되겠네요. 이 시기는 일반적으로 많은 사람들이 학업이나 직업에서 중요한 결정을 내리는 시기일 수 있습니다. 자신의 관심사와 목표를 명확히 하고, 이를 위해 필요한 경험과 지식을 쌓아가는 것이 좋습니다.\n",
      "\n",
      "또한, 건강과 인간관계에도 신경을 쓰는 것이 중요합니다. 새로운 사람들을 만나고 다양한 경험을 통해 성장할 수 있는 기회를 찾으세요. 긍정적인 태도와 열린 마음으로 2025년을 맞이한다면, 좋은 일들이 많이 생길 것입니다.\n"
     ]
    }
   ],
   "source": [
    "from langchain_openai import ChatOpenAI\n",
    "\n",
    "llm = ChatOpenAI(\n",
    "    model='gpt-4o',\n",
    "    temperature=0,\n",
    "    max_tokens=None,\n",
    "    max_retries=2,\n",
    "    api_key=os.environ[\"OPENAI_API_KEY\"],\n",
    ")\n",
    "AIMessage = llm.invoke(\"일본의 수도는?\")\n",
    "print(AIMessage.content)"
   ]
  },
  {
   "cell_type": "code",
   "execution_count": null,
   "metadata": {
    "id": "qMrm0i8C71Yy"
   },
   "outputs": [],
   "source": []
  }
 ],
 "metadata": {
  "colab": {
   "authorship_tag": "ABX9TyMukagmKL95VkN+1ZJIhfVf",
   "provenance": []
  },
  "kernelspec": {
   "display_name": "bitcomputer",
   "language": "python",
   "name": "python3"
  },
  "language_info": {
   "codemirror_mode": {
    "name": "ipython",
    "version": 3
   },
   "file_extension": ".py",
   "mimetype": "text/x-python",
   "name": "python",
   "nbconvert_exporter": "python",
   "pygments_lexer": "ipython3",
   "version": "3.11.11"
  }
 },
 "nbformat": 4,
 "nbformat_minor": 0
}
