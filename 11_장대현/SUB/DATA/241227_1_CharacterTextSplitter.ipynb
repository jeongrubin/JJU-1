{
  "nbformat": 4,
  "nbformat_minor": 0,
  "metadata": {
    "colab": {
      "provenance": []
    },
    "kernelspec": {
      "name": "python3",
      "display_name": "Python 3"
    },
    "language_info": {
      "name": "python"
    }
  },
  "cells": [
    {
      "cell_type": "markdown",
      "source": [
        "Character Text Spilitter"
      ],
      "metadata": {
        "id": "wkzXpvj5qCzr"
      }
    },
    {
      "cell_type": "code",
      "execution_count": 64,
      "metadata": {
        "id": "dS_0DlUnphvr"
      },
      "outputs": [],
      "source": [
        "# /content/data/appendix-keywords.txt 파일을 열어서 f라는 파일 객체를 생성\n",
        "with open(\"/content/data/appendix-keywords.txt\") as f:\n",
        "  file = f.read()                  # 파일의 내용을 읽어서 file 변수에 저장"
      ]
    },
    {
      "cell_type": "code",
      "source": [
        "print(file[:500])"
      ],
      "metadata": {
        "colab": {
          "base_uri": "https://localhost:8080/"
        },
        "id": "83Deo0msp83V",
        "outputId": "b309ea66-8338-4606-b62d-c96772d52ea6"
      },
      "execution_count": 65,
      "outputs": [
        {
          "output_type": "stream",
          "name": "stdout",
          "text": [
            "Semantic Search\n",
            "\n",
            "정의: 의미론적 검색은 사용자의 질의를 단순한 키워드 매칭을 넘어서 그 의미를 파악하여 관련된 결과를 반환하는 검색 방식입니다.\n",
            "예시: 사용자가 \"태양계 행성\"이라고 검색하면, \"목성\", \"화성\" 등과 같이 관련된 행성에 대한 정보를 반환합니다.\n",
            "연관키워드: 자연어 처리, 검색 알고리즘, 데이터 마이닝\n",
            "\n",
            "Embedding\n",
            "\n",
            "정의: 임베딩은 단어나 문장 같은 텍스트 데이터를 저차원의 연속적인 벡터로 변환하는 과정입니다. 이를 통해 컴퓨터가 텍스트를 이해하고 처리할 수 있게 합니다.\n",
            "예시: \"사과\"라는 단어를 [0.65, -0.23, 0.17]과 같은 벡터로 표현합니다.\n",
            "연관키워드: 자연어 처리, 벡터화, 딥러닝\n",
            "\n",
            "Token\n",
            "\n",
            "정의: 토큰은 텍스트를 더 작은 단위로 분할하는 것을 의미합니다. 이는 일반적으로 단어, 문장, 또는 구절일 수 있습니다.\n",
            "예시: 문장 \"나는 학교에 간다\"를 \"나는\", \"학교에\", \"간다\"로 분할합니다.\n",
            "연관키워드: 토큰화, 자연어\n"
          ]
        }
      ]
    },
    {
      "cell_type": "markdown",
      "source": [
        "[링크 텍스트](https://) # CharacterTextSplitter를 사용하여 분할\n",
        "\n",
        "CharacterTextSplitter를 사용하여 Text를 청크(Chunk)로 분할하는 코드\n",
        "- `separator:` 분할할 기준을 설정\n",
        "- `chunk_size:` 각 청크의 최대 크기를 설정\n",
        "- `chunk_overlap:` 인접한 청크 간 중복을 허용\n",
        "- `length_function:` 텍스트의 길이를 계산하는 함수를 지정"
      ],
      "metadata": {
        "id": "jUJswOG2uASc"
      }
    },
    {
      "cell_type": "code",
      "source": [
        "from langchain_text_splitters import CharacterTextSplitter\n",
        "\n",
        "# CharacterTextSplitter를 사용하여 텍스트를 청크(Chunk)로 분할하는 코드\n",
        "text_splitter = CharacterTextSplitter(\n",
        "      # 텍스트를 분할할 때 사용할 구분자를 지정. 기본값은 \"\\n\\n\"\n",
        "      separator = \"\\n\\n\",\n",
        "      # 분할된 텍스트 청크의 최대 크기를 지정(문자 수)\n",
        "      chunk_size = 220,\n",
        "      # 분할된 텍스트 청크 간의 중복되는 문자 수를 지정\n",
        "      chunk_overlap = 0,\n",
        "      # 텍스트의 길이를 계산하는 함수를 지정\n",
        "      length_function = len,\n",
        ")"
      ],
      "metadata": {
        "id": "_B6GyseIs9_o"
      },
      "execution_count": 66,
      "outputs": []
    },
    {
      "cell_type": "code",
      "source": [
        "texts = text_splitter.split_text(file)"
      ],
      "metadata": {
        "id": "2etw25luA4E_"
      },
      "execution_count": 67,
      "outputs": []
    },
    {
      "cell_type": "code",
      "source": [
        "# 텍스트를 청크로 분할\n",
        "texts = text_splitter.create_documents([file])\n",
        "print(len(texts[0].page_content)) # 분할된 문서의 개수를 출력\n",
        "print(texts[0])                   # 분할된 문서 중 첫 번째 문서를 출력"
      ],
      "metadata": {
        "colab": {
          "base_uri": "https://localhost:8080/"
        },
        "id": "iDjJQ66MvC2c",
        "outputId": "3c1a990f-f20c-46bd-8759-5771dd83dab9"
      },
      "execution_count": 68,
      "outputs": [
        {
          "output_type": "stream",
          "name": "stdout",
          "text": [
            "197\n",
            "page_content='Semantic Search\n",
            "\n",
            "정의: 의미론적 검색은 사용자의 질의를 단순한 키워드 매칭을 넘어서 그 의미를 파악하여 관련된 결과를 반환하는 검색 방식입니다.\n",
            "예시: 사용자가 \"태양계 행성\"이라고 검색하면, \"목성\", \"화성\" 등과 같이 관련된 행성에 대한 정보를 반환합니다.\n",
            "연관키워드: 자연어 처리, 검색 알고리즘, 데이터 마이닝\n",
            "\n",
            "Embedding'\n"
          ]
        }
      ]
    },
    {
      "cell_type": "markdown",
      "source": [
        "`create_document` 메서드를 이용한 메타 데이터 전달"
      ],
      "metadata": {
        "id": "t9xWT8XNxWtc"
      }
    },
    {
      "cell_type": "code",
      "source": [
        "metadatas = [\n",
        "    {\"document\": 1},\n",
        "#    {\"document\": 2},\n",
        "]  # 문서에 대한 메타데이터 리스트를 정의\n",
        "documents = text_splitter.create_documents(\n",
        "    [\n",
        "        file,\n",
        "#        file,\n",
        "    ],  # 분할할 텍스트 데이터를 리스트로 전달\n",
        "    metadatas = metadatas # 각 문서에 해당하는 메타데이터를 전달\n",
        ")\n",
        "print(documents[0]) # 분할된 문서 중 첫 번째 문서를 출력"
      ],
      "metadata": {
        "colab": {
          "base_uri": "https://localhost:8080/"
        },
        "id": "7Juu2uluwO8D",
        "outputId": "889d9836-bf53-4e0a-fdbb-d4f907f7bea6"
      },
      "execution_count": 69,
      "outputs": [
        {
          "output_type": "stream",
          "name": "stdout",
          "text": [
            "page_content='Semantic Search\n",
            "\n",
            "정의: 의미론적 검색은 사용자의 질의를 단순한 키워드 매칭을 넘어서 그 의미를 파악하여 관련된 결과를 반환하는 검색 방식입니다.\n",
            "예시: 사용자가 \"태양계 행성\"이라고 검색하면, \"목성\", \"화성\" 등과 같이 관련된 행성에 대한 정보를 반환합니다.\n",
            "연관키워드: 자연어 처리, 검색 알고리즘, 데이터 마이닝\n",
            "\n",
            "Embedding' metadata={'document': 1}\n"
          ]
        }
      ]
    },
    {
      "cell_type": "code",
      "source": [
        "len(documents)"
      ],
      "metadata": {
        "colab": {
          "base_uri": "https://localhost:8080/"
        },
        "id": "Flg4E9iwyViL",
        "outputId": "08391f26-0353-4a28-82db-cb4762bd567c"
      },
      "execution_count": 70,
      "outputs": [
        {
          "output_type": "execute_result",
          "data": {
            "text/plain": [
              "31"
            ]
          },
          "metadata": {},
          "execution_count": 70
        }
      ]
    },
    {
      "cell_type": "code",
      "source": [
        "documents[7].metadata"
      ],
      "metadata": {
        "colab": {
          "base_uri": "https://localhost:8080/"
        },
        "id": "NLKoy7oxyX2E",
        "outputId": "a5cc64c5-3080-4662-c015-07ae4abec893"
      },
      "execution_count": 71,
      "outputs": [
        {
          "output_type": "execute_result",
          "data": {
            "text/plain": [
              "{'document': 1}"
            ]
          },
          "metadata": {},
          "execution_count": 71
        }
      ]
    },
    {
      "cell_type": "code",
      "source": [
        "# text_splitter를 사용하여 file 텍스트를 분할하고, 분할된 텍스트의 첫 번째 요소를 반환\n",
        "text_splitter.split_text(file)[0]"
      ],
      "metadata": {
        "colab": {
          "base_uri": "https://localhost:8080/",
          "height": 71
        },
        "id": "F6AdbUVVybU5",
        "outputId": "e4e15bcd-2732-4ced-d0cd-4ca4da9019c5"
      },
      "execution_count": 72,
      "outputs": [
        {
          "output_type": "execute_result",
          "data": {
            "text/plain": [
              "'Semantic Search\\n\\n정의: 의미론적 검색은 사용자의 질의를 단순한 키워드 매칭을 넘어서 그 의미를 파악하여 관련된 결과를 반환하는 검색 방식입니다.\\n예시: 사용자가 \"태양계 행성\"이라고 검색하면, \"목성\", \"화성\" 등과 같이 관련된 행성에 대한 정보를 반환합니다.\\n연관키워드: 자연어 처리, 검색 알고리즘, 데이터 마이닝\\n\\nEmbedding'"
            ],
            "application/vnd.google.colaboratory.intrinsic+json": {
              "type": "string"
            }
          },
          "metadata": {},
          "execution_count": 72
        }
      ]
    }
  ]
}
