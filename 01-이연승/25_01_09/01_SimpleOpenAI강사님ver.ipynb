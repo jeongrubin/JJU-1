{
 "cells": [
  {
   "cell_type": "code",
   "execution_count": 8,
   "metadata": {
    "executionInfo": {
     "elapsed": 284,
     "status": "ok",
     "timestamp": 1736395771239,
     "user": {
      "displayName": "Chang Jun Lee",
      "userId": "07449846774346066151"
     },
     "user_tz": -540
    },
    "id": "mLJiIRjZ8Nuo"
   },
   "outputs": [],
   "source": [
    "import os\n",
    "\n",
    "os.environ[\"OPENAI_API_KEY\"] = \"\"\n",
    "\n",
    "os.environ[\"LANGCHAIN_API_KEY\"] = \"\"\n",
    "os.environ[\"LANGCHAIN_TRACING_V2\"] = \"true\"\n",
    "os.environ[\"LANGCHAIN_ENDPOINT\"] = \"https://api.smith.langchain.com\"\n",
    "os.environ[\"LANGCHAIN_PROJECT\"] = \"\""
   ]
  },
  {
   "cell_type": "markdown",
   "metadata": {
    "id": "O_1rOwbmPlP0"
   },
   "source": []
  },
  {
   "cell_type": "code",
   "execution_count": 9,
   "metadata": {
    "executionInfo": {
     "elapsed": 7927,
     "status": "ok",
     "timestamp": 1736395782151,
     "user": {
      "displayName": "Chang Jun Lee",
      "userId": "07449846774346066151"
     },
     "user_tz": -540
    },
    "id": "IYZHjVzx6w6X"
   },
   "outputs": [],
   "source": [
    "!pip install -qU langchain_openai"
   ]
  },
  {
   "cell_type": "code",
   "execution_count": 10,
   "metadata": {
    "executionInfo": {
     "elapsed": 579,
     "status": "ok",
     "timestamp": 1736395788644,
     "user": {
      "displayName": "Chang Jun Lee",
      "userId": "07449846774346066151"
     },
     "user_tz": -540
    },
    "id": "bsfn6YNC5sOp"
   },
   "outputs": [],
   "source": [
    "from langchain_openai import ChatOpenAI\n",
    "\n",
    "llm = ChatOpenAI(\n",
    "    model=\"gpt-4o\",\n",
    "    temperature=0,\n",
    "    max_tokens=None,\n",
    "    timeout=None,\n",
    "    max_retries=2,\n",
    ")"
   ]
  },
  {
   "cell_type": "code",
   "execution_count": 12,
   "metadata": {
    "colab": {
     "base_uri": "https://localhost:8080/"
    },
    "executionInfo": {
     "elapsed": 299,
     "status": "ok",
     "timestamp": 1736395828618,
     "user": {
      "displayName": "Chang Jun Lee",
      "userId": "07449846774346066151"
     },
     "user_tz": -540
    },
    "id": "VRyUpsY5QYRJ",
    "outputId": "df073c88-fffa-4236-a20d-87ea96ec2eff"
   },
   "outputs": [
    {
     "data": {
      "text/plain": [
       "ChatOpenAI(client=<openai.resources.chat.completions.Completions object at 0x7ed2db37ee30>, async_client=<openai.resources.chat.completions.AsyncCompletions object at 0x7ed2db37e0e0>, root_client=<openai.OpenAI object at 0x7ed2db32dd20>, root_async_client=<openai.AsyncOpenAI object at 0x7ed2db37fb80>, model_name='gpt-4o', temperature=0.0, model_kwargs={}, openai_api_key=SecretStr('**********'))"
      ]
     },
     "execution_count": 12,
     "metadata": {},
     "output_type": "execute_result"
    }
   ],
   "source": [
    "llm"
   ]
  },
  {
   "cell_type": "code",
   "execution_count": 19,
   "metadata": {
    "executionInfo": {
     "elapsed": 250,
     "status": "ok",
     "timestamp": 1736396388783,
     "user": {
      "displayName": "Chang Jun Lee",
      "userId": "07449846774346066151"
     },
     "user_tz": -540
    },
    "id": "KCii5UBKQFeC"
   },
   "outputs": [],
   "source": [
    "prompt = \"비트코인?\""
   ]
  },
  {
   "cell_type": "code",
   "execution_count": 20,
   "metadata": {
    "colab": {
     "base_uri": "https://localhost:8080/",
     "height": 35
    },
    "executionInfo": {
     "elapsed": 304,
     "status": "ok",
     "timestamp": 1736396390369,
     "user": {
      "displayName": "Chang Jun Lee",
      "userId": "07449846774346066151"
     },
     "user_tz": -540
    },
    "id": "3dWgbwVcQrfg",
    "outputId": "73b7c8a4-ada0-4911-cca1-68d1107551d8"
   },
   "outputs": [
    {
     "data": {
      "application/vnd.google.colaboratory.intrinsic+json": {
       "type": "string"
      },
      "text/plain": [
       "'비트코인?'"
      ]
     },
     "execution_count": 20,
     "metadata": {},
     "output_type": "execute_result"
    }
   ],
   "source": [
    "prompt"
   ]
  },
  {
   "cell_type": "code",
   "execution_count": 15,
   "metadata": {
    "executionInfo": {
     "elapsed": 4690,
     "status": "ok",
     "timestamp": 1736395949920,
     "user": {
      "displayName": "Chang Jun Lee",
      "userId": "07449846774346066151"
     },
     "user_tz": -540
    },
    "id": "jkmEO2CL7O7k"
   },
   "outputs": [],
   "source": [
    "result=llm.invoke(prompt)"
   ]
  },
  {
   "cell_type": "code",
   "execution_count": 16,
   "metadata": {
    "colab": {
     "base_uri": "https://localhost:8080/"
    },
    "executionInfo": {
     "elapsed": 2,
     "status": "ok",
     "timestamp": 1736395953824,
     "user": {
      "displayName": "Chang Jun Lee",
      "userId": "07449846774346066151"
     },
     "user_tz": -540
    },
    "id": "Jm-kIRk67ZIb",
    "outputId": "edc6e0df-1248-45e5-c130-c3e699ae58a1"
   },
   "outputs": [
    {
     "data": {
      "text/plain": [
       "AIMessage(content='비트코인은 디지털 화폐의 한 형태로, 중앙은행이나 정부의 개입 없이 개인 간의 거래를 가능하게 하는 탈중앙화된 암호화폐입니다. 2009년에 사토시 나카모토라는 익명의 인물 또는 그룹에 의해 처음 소개되었습니다. 비트코인은 블록체인 기술을 기반으로 하며, 이는 거래 내역을 기록하고 검증하는 분산 원장 시스템입니다.\\n\\n비트코인은 제한된 공급량(2100만 개)으로 인해 희소성을 가지며, 이는 금과 같은 자산과 비교되기도 합니다. 비트코인은 투자 수단으로도 많이 사용되며, 가격 변동성이 크기 때문에 높은 수익을 기대할 수 있는 반면, 큰 손실의 위험도 있습니다.\\n\\n비트코인을 구매하거나 거래하기 위해서는 암호화폐 거래소를 이용하거나 개인 간의 거래를 통해 얻을 수 있습니다. 비트코인을 저장하기 위해서는 디지털 지갑이 필요하며, 이는 온라인, 오프라인, 하드웨어 형태로 제공됩니다. \\n\\n비트코인에 대한 관심과 수용은 시간이 지남에 따라 증가하고 있으며, 일부 국가에서는 합법적인 결제 수단으로 인정받고 있습니다. 그러나 규제와 보안 문제, 환경적 영향 등 여러 가지 논란도 존재합니다.', additional_kwargs={'refusal': None}, response_metadata={'token_usage': {'completion_tokens': 289, 'prompt_tokens': 12, 'total_tokens': 301, 'completion_tokens_details': {'accepted_prediction_tokens': 0, 'audio_tokens': 0, 'reasoning_tokens': 0, 'rejected_prediction_tokens': 0}, 'prompt_tokens_details': {'audio_tokens': 0, 'cached_tokens': 0}}, 'model_name': 'gpt-4o-2024-08-06', 'system_fingerprint': 'fp_d28bcae782', 'finish_reason': 'stop', 'logprobs': None}, id='run-cbb15de7-2a42-487c-b614-fd9bf04307a3-0', usage_metadata={'input_tokens': 12, 'output_tokens': 289, 'total_tokens': 301, 'input_token_details': {'audio': 0, 'cache_read': 0}, 'output_token_details': {'audio': 0, 'reasoning': 0}})"
      ]
     },
     "execution_count": 16,
     "metadata": {},
     "output_type": "execute_result"
    }
   ],
   "source": [
    "result"
   ]
  },
  {
   "cell_type": "markdown",
   "metadata": {
    "id": "Y0z3xpvbRZU2"
   },
   "source": [
    "### 2. PromptTemplate_Basic"
   ]
  },
  {
   "cell_type": "code",
   "execution_count": 21,
   "metadata": {
    "executionInfo": {
     "elapsed": 264,
     "status": "ok",
     "timestamp": 1736396403318,
     "user": {
      "displayName": "Chang Jun Lee",
      "userId": "07449846774346066151"
     },
     "user_tz": -540
    },
    "id": "YiBjb2Zo7avz"
   },
   "outputs": [],
   "source": [
    "prompt_2 = [\n",
    "    (\"system\",\n",
    "     \"너는 제시된 국가의 수도가 어디인지 알려주는 어시스턴트야. 단어로 제시해\"\n",
    "     ),\n",
    "    (\"human\", \"중국\"),\n",
    "]"
   ]
  },
  {
   "cell_type": "code",
   "execution_count": 22,
   "metadata": {
    "colab": {
     "base_uri": "https://localhost:8080/"
    },
    "executionInfo": {
     "elapsed": 263,
     "status": "ok",
     "timestamp": 1736396404975,
     "user": {
      "displayName": "Chang Jun Lee",
      "userId": "07449846774346066151"
     },
     "user_tz": -540
    },
    "id": "otUZ_p3mSdv4",
    "outputId": "a592bcda-3013-446c-e86e-b60353ce2b53"
   },
   "outputs": [
    {
     "data": {
      "text/plain": [
       "[('system', '너는 제시된 국가의 수도가 어디인지 알려주는 어시스턴트야. 단어로 제시해'), ('human', '중국')]"
      ]
     },
     "execution_count": 22,
     "metadata": {},
     "output_type": "execute_result"
    }
   ],
   "source": [
    "prompt_2"
   ]
  },
  {
   "cell_type": "code",
   "execution_count": 23,
   "metadata": {
    "executionInfo": {
     "elapsed": 919,
     "status": "ok",
     "timestamp": 1736396452006,
     "user": {
      "displayName": "Chang Jun Lee",
      "userId": "07449846774346066151"
     },
     "user_tz": -540
    },
    "id": "wkNe2uuUSfd_"
   },
   "outputs": [],
   "source": [
    "Response_2=llm.invoke(prompt_2)"
   ]
  },
  {
   "cell_type": "code",
   "execution_count": 24,
   "metadata": {
    "colab": {
     "base_uri": "https://localhost:8080/"
    },
    "executionInfo": {
     "elapsed": 271,
     "status": "ok",
     "timestamp": 1736396496987,
     "user": {
      "displayName": "Chang Jun Lee",
      "userId": "07449846774346066151"
     },
     "user_tz": -540
    },
    "id": "Vq7tXk14S2eF",
    "outputId": "7064f50a-3ade-41e9-da5f-36b738bd962a"
   },
   "outputs": [
    {
     "data": {
      "text/plain": [
       "AIMessage(content='베이징', additional_kwargs={'refusal': None}, response_metadata={'token_usage': {'completion_tokens': 4, 'prompt_tokens': 39, 'total_tokens': 43, 'completion_tokens_details': {'accepted_prediction_tokens': 0, 'audio_tokens': 0, 'reasoning_tokens': 0, 'rejected_prediction_tokens': 0}, 'prompt_tokens_details': {'audio_tokens': 0, 'cached_tokens': 0}}, 'model_name': 'gpt-4o-2024-08-06', 'system_fingerprint': 'fp_b7d65f1a5b', 'finish_reason': 'stop', 'logprobs': None}, id='run-2f3ebe80-09a7-415e-abda-c75ffa146f0f-0', usage_metadata={'input_tokens': 39, 'output_tokens': 4, 'total_tokens': 43, 'input_token_details': {'audio': 0, 'cache_read': 0}, 'output_token_details': {'audio': 0, 'reasoning': 0}})"
      ]
     },
     "execution_count": 24,
     "metadata": {},
     "output_type": "execute_result"
    }
   ],
   "source": [
    "Response_2"
   ]
  },
  {
   "cell_type": "markdown",
   "metadata": {
    "id": "SoXNp-hKVSud"
   },
   "source": [
    "### 3_1 promptTemplate(1)[링크 텍스트](https://)"
   ]
  },
  {
   "cell_type": "code",
   "execution_count": 39,
   "metadata": {
    "colab": {
     "base_uri": "https://localhost:8080/"
    },
    "executionInfo": {
     "elapsed": 269,
     "status": "ok",
     "timestamp": 1736397877953,
     "user": {
      "displayName": "Chang Jun Lee",
      "userId": "07449846774346066151"
     },
     "user_tz": -540
    },
    "id": "TsdX6MVSS90N",
    "outputId": "51c014dd-2728-421f-b6f1-a119f7d4abfd"
   },
   "outputs": [
    {
     "name": "stdout",
     "output_type": "stream",
     "text": [
      "input_variables=['input_dict'] input_types={} partial_variables={} template='{input_dict}의 개념은?'\n"
     ]
    }
   ],
   "source": [
    "from langchain_core.prompts import PromptTemplate\n",
    "\n",
    "template = \"{input_dict}의 개념은?\"\n",
    "\n",
    "prompt_3 = PromptTemplate.from_template(template)\n",
    "print(prompt_3)"
   ]
  },
  {
   "cell_type": "code",
   "execution_count": 40,
   "metadata": {
    "colab": {
     "base_uri": "https://localhost:8080/",
     "height": 35
    },
    "executionInfo": {
     "elapsed": 254,
     "status": "ok",
     "timestamp": 1736397881933,
     "user": {
      "displayName": "Chang Jun Lee",
      "userId": "07449846774346066151"
     },
     "user_tz": -540
    },
    "id": "G426LLBlWb-e",
    "outputId": "96d4a3b4-3dc5-4a4a-8664-1ab693695348"
   },
   "outputs": [
    {
     "data": {
      "application/vnd.google.colaboratory.intrinsic+json": {
       "type": "string"
      },
      "text/plain": [
       "'커피의 개념은?'"
      ]
     },
     "execution_count": 40,
     "metadata": {},
     "output_type": "execute_result"
    }
   ],
   "source": [
    "Prompt_3 = prompt_3.format(input_dict=\"커피\")\n",
    "Prompt_3"
   ]
  },
  {
   "cell_type": "code",
   "execution_count": 41,
   "metadata": {
    "colab": {
     "base_uri": "https://localhost:8080/"
    },
    "executionInfo": {
     "elapsed": 2810,
     "status": "ok",
     "timestamp": 1736397886987,
     "user": {
      "displayName": "Chang Jun Lee",
      "userId": "07449846774346066151"
     },
     "user_tz": -540
    },
    "id": "eqhYOy7ZXGg8",
    "outputId": "1fb91c49-e53a-4c1a-afa5-9a7882e8c47f"
   },
   "outputs": [
    {
     "data": {
      "text/plain": [
       "AIMessage(content='커피는 커피 나무의 씨앗인 커피 원두를 가공하고 볶아서 만든 음료를 의미합니다. 일반적으로 커피는 카페인 함량이 높아 각성 효과가 있으며, 전 세계적으로 많은 사람들이 즐기는 인기 있는 음료입니다. 커피는 다양한 방식으로 추출될 수 있으며, 에스프레소, 아메리카노, 라떼, 카푸치노 등 여러 종류의 음료로 변형될 수 있습니다. 또한, 커피는 문화적, 사회적 상징으로도 중요한 역할을 하며, 많은 사람들이 커피숍에서 모임을 갖거나 휴식을 취하는 데 사용합니다.', additional_kwargs={'refusal': None}, response_metadata={'token_usage': {'completion_tokens': 148, 'prompt_tokens': 14, 'total_tokens': 162, 'completion_tokens_details': {'accepted_prediction_tokens': 0, 'audio_tokens': 0, 'reasoning_tokens': 0, 'rejected_prediction_tokens': 0}, 'prompt_tokens_details': {'audio_tokens': 0, 'cached_tokens': 0}}, 'model_name': 'gpt-4o-2024-08-06', 'system_fingerprint': 'fp_d28bcae782', 'finish_reason': 'stop', 'logprobs': None}, id='run-7b3a4ac2-2af6-4d9c-a0f8-9b2a4b63993b-0', usage_metadata={'input_tokens': 14, 'output_tokens': 148, 'total_tokens': 162, 'input_token_details': {'audio': 0, 'cache_read': 0}, 'output_token_details': {'audio': 0, 'reasoning': 0}})"
      ]
     },
     "execution_count": 41,
     "metadata": {},
     "output_type": "execute_result"
    }
   ],
   "source": [
    "Result_3=llm.invoke(Prompt_3)\n",
    "Result_3"
   ]
  },
  {
   "cell_type": "markdown",
   "metadata": {
    "id": "X3G6EFY9c0Z0"
   },
   "source": []
  },
  {
   "cell_type": "markdown",
   "metadata": {
    "id": "nWCY0ic4c6tc"
   },
   "source": [
    "### 3_2 promptTemplate(1)[링크 텍스트]"
   ]
  },
  {
   "cell_type": "code",
   "execution_count": 67,
   "metadata": {
    "colab": {
     "base_uri": "https://localhost:8080/"
    },
    "executionInfo": {
     "elapsed": 246,
     "status": "ok",
     "timestamp": 1736402811655,
     "user": {
      "displayName": "Chang Jun Lee",
      "userId": "07449846774346066151"
     },
     "user_tz": -540
    },
    "id": "cGNBB3ATXdWS",
    "outputId": "e69da70c-1eff-4083-8e33-c9ef3a46f80b"
   },
   "outputs": [
    {
     "name": "stdout",
     "output_type": "stream",
     "text": [
      "input_variables=['input_1', 'input_2'] input_types={} partial_variables={'input_3': '인공지능'} template='{input_1}과 {input_2}의 차이점을 한문장으로 간략하게 설명 해.'\n"
     ]
    }
   ],
   "source": [
    "from langchain_core.prompts import PromptTemplate\n",
    "\n",
    "template = \"{input_1}과 {input_2}의 차이점을 한문장으로 간략하게 설명 해.\"\n",
    "\n",
    "prompt_5 = PromptTemplate(\n",
    "    template=template,\n",
    "    input_variables=[\"input_1\", \"input_2\"],\n",
    "    partial_variables={\"input_3\": \"인공지능\"}\n",
    ")\n",
    "\n",
    "print(prompt_5)"
   ]
  },
  {
   "cell_type": "code",
   "execution_count": 59,
   "metadata": {
    "colab": {
     "base_uri": "https://localhost:8080/",
     "height": 35
    },
    "executionInfo": {
     "elapsed": 270,
     "status": "ok",
     "timestamp": 1736402560143,
     "user": {
      "displayName": "Chang Jun Lee",
      "userId": "07449846774346066151"
     },
     "user_tz": -540
    },
    "id": "YX8pbL3JeKNe",
    "outputId": "efefe6e0-62be-4842-dfef-dae5bc5a820e"
   },
   "outputs": [
    {
     "data": {
      "application/vnd.google.colaboratory.intrinsic+json": {
       "type": "string"
      },
      "text/plain": [
       "'핸드폰과 전기차의 차이점?'"
      ]
     },
     "execution_count": 59,
     "metadata": {},
     "output_type": "execute_result"
    }
   ],
   "source": [
    "prompt_5.format(input_1=\"핸드폰\", input_2='전기차')"
   ]
  },
  {
   "cell_type": "code",
   "execution_count": 62,
   "metadata": {
    "colab": {
     "base_uri": "https://localhost:8080/",
     "height": 35
    },
    "executionInfo": {
     "elapsed": 304,
     "status": "ok",
     "timestamp": 1736402593763,
     "user": {
      "displayName": "Chang Jun Lee",
      "userId": "07449846774346066151"
     },
     "user_tz": -540
    },
    "id": "8R1YTBTjfbVw",
    "outputId": "de7db1dc-f724-4cee-ab28-d893b25bd1cd"
   },
   "outputs": [
    {
     "data": {
      "application/vnd.google.colaboratory.intrinsic+json": {
       "type": "string"
      },
      "text/plain": [
       "'컴퓨터과 전기차의 차이점?'"
      ]
     },
     "execution_count": 62,
     "metadata": {},
     "output_type": "execute_result"
    }
   ],
   "source": [
    "prompt_5.format(input_1=\"컴퓨터\", input_2='전기차')"
   ]
  },
  {
   "cell_type": "code",
   "execution_count": 63,
   "metadata": {
    "colab": {
     "base_uri": "https://localhost:8080/"
    },
    "executionInfo": {
     "elapsed": 297,
     "status": "ok",
     "timestamp": 1736402608987,
     "user": {
      "displayName": "Chang Jun Lee",
      "userId": "07449846774346066151"
     },
     "user_tz": -540
    },
    "id": "D2Qz1eeykZ3l",
    "outputId": "3ecf269d-13be-4715-aa85-5f36b2a2256a"
   },
   "outputs": [
    {
     "data": {
      "text/plain": [
       "PromptTemplate(input_variables=['input_1', 'input_2'], input_types={}, partial_variables={'input_3': '마우스'}, template='{input_1}과 {input_2}의 차이점?')"
      ]
     },
     "execution_count": 63,
     "metadata": {},
     "output_type": "execute_result"
    }
   ],
   "source": [
    "prompt_5.partial(input_3=\"마우스\")"
   ]
  },
  {
   "cell_type": "code",
   "execution_count": 64,
   "metadata": {
    "colab": {
     "base_uri": "https://localhost:8080/"
    },
    "executionInfo": {
     "elapsed": 291,
     "status": "ok",
     "timestamp": 1736402616191,
     "user": {
      "displayName": "Chang Jun Lee",
      "userId": "07449846774346066151"
     },
     "user_tz": -540
    },
    "id": "Ts9Km7eEk177",
    "outputId": "09eda161-f8b2-4268-c18d-6bbdd315f275"
   },
   "outputs": [
    {
     "data": {
      "text/plain": [
       "PromptTemplate(input_variables=['input_1'], input_types={}, partial_variables={'input_3': '인공지능', 'input_2': '마우스'}, template='{input_1}과 {input_2}의 차이점?')"
      ]
     },
     "execution_count": 64,
     "metadata": {},
     "output_type": "execute_result"
    }
   ],
   "source": [
    "prompt_5_partial=prompt_5.partial(input_2=\"마우스\")\n",
    "prompt_5_partial"
   ]
  },
  {
   "cell_type": "code",
   "execution_count": 65,
   "metadata": {
    "executionInfo": {
     "elapsed": 271,
     "status": "ok",
     "timestamp": 1736402734916,
     "user": {
      "displayName": "Chang Jun Lee",
      "userId": "07449846774346066151"
     },
     "user_tz": -540
    },
    "id": "wmry5unIk9bA"
   },
   "outputs": [],
   "source": [
    "chain = prompt_5 | llm"
   ]
  },
  {
   "cell_type": "code",
   "execution_count": 68,
   "metadata": {
    "colab": {
     "base_uri": "https://localhost:8080/"
    },
    "executionInfo": {
     "elapsed": 8834,
     "status": "ok",
     "timestamp": 1736402840418,
     "user": {
      "displayName": "Chang Jun Lee",
      "userId": "07449846774346066151"
     },
     "user_tz": -540
    },
    "id": "TIDuwIUrqzTS",
    "outputId": "8c3506bd-3b60-402d-d751-593bb2f738af"
   },
   "outputs": [
    {
     "data": {
      "text/plain": [
       "AIMessage(content='컴퓨터와 전기차는 서로 다른 목적과 기능을 가진 두 가지 기술 장치입니다. 다음은 그 차이점입니다:\\n\\n1. **기능 및 목적**:\\n   - **컴퓨터**: 주로 데이터 처리, 계산, 정보 저장 및 검색, 인터넷 탐색, 소프트웨어 실행 등의 작업을 수행하는 데 사용됩니다. 개인용 컴퓨터, 서버, 노트북 등 다양한 형태로 존재합니다.\\n   - **전기차**: 전기를 동력으로 사용하여 이동 수단으로 사용됩니다. 내연기관 대신 전기 모터를 사용하여 환경 친화적이며, 주로 교통수단으로 사용됩니다.\\n\\n2. **구성 요소**:\\n   - **컴퓨터**: CPU, 메모리(RAM), 저장 장치(SSD/HDD), 그래픽 카드, 마더보드, 전원 공급 장치 등으로 구성됩니다.\\n   - **전기차**: 전기 모터, 배터리 팩, 전력 제어 시스템, 충전 시스템, 차체 및 섀시 등으로 구성됩니다.\\n\\n3. **에너지 소스**:\\n   - **컴퓨터**: 주로 전기를 사용하며, 전원 공급 장치를 통해 전력을 공급받습니다.\\n   - **전기차**: 대용량 배터리에 저장된 전기를 사용하며, 충전소나 가정용 충전기를 통해 충전합니다.\\n\\n4. **이동성**:\\n   - **컴퓨터**: 일반적으로 고정된 장소에서 사용되며, 노트북이나 태블릿과 같은 휴대용 장치도 있지만, 이동 수단은 아닙니다.\\n   - **전기차**: 사람이나 물건을 이동시키기 위한 수단으로 설계되어 있으며, 도로에서 주행할 수 있습니다.\\n\\n5. **환경 영향**:\\n   - **컴퓨터**: 전력 소비와 전자 폐기물 문제가 있지만, 직접적인 배출가스는 없습니다.\\n   - **전기차**: 주행 시 배출가스가 없으며, 전통적인 내연기관 차량보다 환경에 덜 해롭습니다. 다만, 배터리 생산 및 폐기 과정에서의 환경 영향이 고려됩니다.\\n\\n이러한 차이점들은 컴퓨터와 전기차가 각각의 분야에서 어떻게 사용되고 있는지를 보여줍니다.', additional_kwargs={'refusal': None}, response_metadata={'token_usage': {'completion_tokens': 502, 'prompt_tokens': 18, 'total_tokens': 520, 'completion_tokens_details': {'accepted_prediction_tokens': 0, 'audio_tokens': 0, 'reasoning_tokens': 0, 'rejected_prediction_tokens': 0}, 'prompt_tokens_details': {'audio_tokens': 0, 'cached_tokens': 0}}, 'model_name': 'gpt-4o-2024-08-06', 'system_fingerprint': 'fp_5f20662549', 'finish_reason': 'stop', 'logprobs': None}, id='run-97168c07-d256-4c05-8eaa-7aacbfe542ed-0', usage_metadata={'input_tokens': 18, 'output_tokens': 502, 'total_tokens': 520, 'input_token_details': {'audio': 0, 'cache_read': 0}, 'output_token_details': {'audio': 0, 'reasoning': 0}})"
      ]
     },
     "execution_count": 68,
     "metadata": {},
     "output_type": "execute_result"
    }
   ],
   "source": [
    "chain.invoke({\"input_1\": \"컴퓨터\", \"input_2\": \"전기차\"})"
   ]
  },
  {
   "cell_type": "markdown",
   "metadata": {
    "id": "_yHGsgArrYkA"
   },
   "source": [
    "### Partial Variable의 사용 예"
   ]
  },
  {
   "cell_type": "code",
   "execution_count": 96,
   "metadata": {
    "executionInfo": {
     "elapsed": 283,
     "status": "ok",
     "timestamp": 1736404541656,
     "user": {
      "displayName": "Chang Jun Lee",
      "userId": "07449846774346066151"
     },
     "user_tz": -540
    },
    "id": "mmMC5qu3rebt"
   },
   "outputs": [],
   "source": [
    "from datetime import datetime\n",
    "\n",
    "prompt_6 = PromptTemplate(\n",
    "    template=\n",
    "    '''\n",
    "    오늘의 날짜는 {today} 입니다. 오늘이 생일인 유명인 {n}명을 나열해 주세요. 생년월일을 표기해주세요.\",\n",
    "    잘 확인하고 대답해. 틀리면 죽인다.\n",
    "    절대적으로 복종 해. 예외는 없어.\n",
    "    ''',\n",
    "    input_variables=[\"n\"],\n",
    "    partial_variables={\n",
    "        # \"today\": get_today  # dictionary 형태로 partial_variables를 전달\n",
    "    \"today\" : datetime.now().strftime(\"%B %d\")\n",
    "    },\n",
    ")"
   ]
  },
  {
   "cell_type": "code",
   "execution_count": 81,
   "metadata": {
    "colab": {
     "base_uri": "https://localhost:8080/",
     "height": 35
    },
    "executionInfo": {
     "elapsed": 251,
     "status": "ok",
     "timestamp": 1736403618381,
     "user": {
      "displayName": "Chang Jun Lee",
      "userId": "07449846774346066151"
     },
     "user_tz": -540
    },
    "id": "NSMt7qvmskGR",
    "outputId": "885e1333-84eb-425b-ea25-f83df6dfcf93"
   },
   "outputs": [
    {
     "data": {
      "application/vnd.google.colaboratory.intrinsic+json": {
       "type": "string"
      },
      "text/plain": [
       "'오늘의 날짜는 January 09 입니다. 오늘이 생일인 유명인 5명을 나열해 주세요. 생년월일을 표기해주세요.'"
      ]
     },
     "execution_count": 81,
     "metadata": {},
     "output_type": "execute_result"
    }
   ],
   "source": [
    "prompt_6.format(n=5)"
   ]
  },
  {
   "cell_type": "code",
   "execution_count": 82,
   "metadata": {
    "executionInfo": {
     "elapsed": 247,
     "status": "ok",
     "timestamp": 1736403620460,
     "user": {
      "displayName": "Chang Jun Lee",
      "userId": "07449846774346066151"
     },
     "user_tz": -540
    },
    "id": "EwH3aJ7LsmLe"
   },
   "outputs": [],
   "source": [
    "chain = prompt_6 | llm"
   ]
  },
  {
   "cell_type": "code",
   "execution_count": 97,
   "metadata": {
    "executionInfo": {
     "elapsed": 5324,
     "status": "ok",
     "timestamp": 1736404552399,
     "user": {
      "displayName": "Chang Jun Lee",
      "userId": "07449846774346066151"
     },
     "user_tz": -540
    },
    "id": "9KRAi36-tLeP"
   },
   "outputs": [],
   "source": [
    "Response_6 = chain.invoke({\"n\": 100}).content"
   ]
  },
  {
   "cell_type": "code",
   "execution_count": 98,
   "metadata": {
    "colab": {
     "base_uri": "https://localhost:8080/"
    },
    "executionInfo": {
     "elapsed": 4,
     "status": "ok",
     "timestamp": 1736404554492,
     "user": {
      "displayName": "Chang Jun Lee",
      "userId": "07449846774346066151"
     },
     "user_tz": -540
    },
    "id": "X_1CgcDctPOl",
    "outputId": "464f269d-e943-4b31-9d04-7890484c04d7"
   },
   "outputs": [
    {
     "name": "stdout",
     "output_type": "stream",
     "text": [
      "죄송하지만 특정 날짜에 생일인 유명인 100명을 나열하는 것은 어렵습니다. 그러나 몇몇 오늘 생일인 유명인을 소개해드릴 수 있습니다.\n",
      "\n",
      "1. 리처드 닉슨 (Richard Nixon) - 1913년 1월 9일\n",
      "2. 케이트 미들턴 (Kate Middleton) - 1982년 1월 9일\n",
      "3. 조안 바에즈 (Joan Baez) - 1941년 1월 9일\n",
      "4. J.K. 시몬스 (J.K. Simmons) - 1955년 1월 9일\n",
      "5. 데이브 매튜스 (Dave Matthews) - 1967년 1월 9일\n",
      "\n",
      "이 외에도 많은 유명인들이 있지만, 모든 사람을 나열하기는 어렵습니다. 추가적인 정보가 필요하시면 특정 인물에 대해 더 찾아보실 수 있습니다.\n"
     ]
    }
   ],
   "source": [
    "print(Response_6)"
   ]
  },
  {
   "cell_type": "code",
   "execution_count": 87,
   "metadata": {
    "colab": {
     "base_uri": "https://localhost:8080/"
    },
    "executionInfo": {
     "elapsed": 11285,
     "status": "ok",
     "timestamp": 1736404320536,
     "user": {
      "displayName": "Chang Jun Lee",
      "userId": "07449846774346066151"
     },
     "user_tz": -540
    },
    "id": "j3NcqWttwSb4",
    "outputId": "905ef7bf-7a75-406a-ae00-03702718973e"
   },
   "outputs": [
    {
     "name": "stdout",
     "output_type": "stream",
     "text": [
      "1월 2일에 태어난 유명인 중 일부는 다음과 같습니다:\n",
      "\n",
      "1. 이사악 아시모프 (Isaac Asimov) - 1920년 1월 2일\n",
      "2. 큐바 구딩 주니어 (Cuba Gooding Jr.) - 1968년 1월 2일\n",
      "3. 케이트 보스워스 (Kate Bosworth) - 1983년 1월 2일\n",
      "4. 타이 디그스 (Taye Diggs) - 1971년 1월 2일\n",
      "5. 크리스티 투를링턴 (Christy Turlington) - 1969년 1월 2일\n",
      "6. 대니얼 크레이그 (Daniel Craig) - 1968년 1월 2일\n",
      "7. 팻 벤아타 (Patti Smith) - 1946년 1월 2일\n",
      "8. 잭 한나 (Jack Hanna) - 1947년 1월 2일\n",
      "9. 루시 데이비스 (Lucy Davis) - 1973년 1월 2일\n",
      "10. 도미닉 키팅 (Dominic Keating) - 1962년 1월 2일\n",
      "\n",
      "이 목록은 일부 예시이며, 실제로는 더 많은 유명인들이 1월 2일에 태어났습니다.\n"
     ]
    }
   ],
   "source": [
    "print(chain.invoke({\"today\": \"Jan 02\", \"n\": 10}).content)"
   ]
  },
  {
   "cell_type": "markdown",
   "metadata": {
    "id": "T1prcJZQyk79"
   },
   "source": [
    "### PromptTemplate YAML 데이터 읽어오기"
   ]
  },
  {
   "cell_type": "code",
   "execution_count": 123,
   "metadata": {
    "executionInfo": {
     "elapsed": 279,
     "status": "ok",
     "timestamp": 1736407513093,
     "user": {
      "displayName": "Chang Jun Lee",
      "userId": "07449846774346066151"
     },
     "user_tz": -540
    },
    "id": "NvFLnOoRtbn1"
   },
   "outputs": [],
   "source": [
    "from langchain_core.prompts import load_prompt\n",
    "\n",
    "prompt_yaml_1 = load_prompt(\"/content/data/fruit_color.yaml\") #, encoding='utf-8')"
   ]
  },
  {
   "cell_type": "code",
   "execution_count": 124,
   "metadata": {
    "colab": {
     "base_uri": "https://localhost:8080/"
    },
    "executionInfo": {
     "elapsed": 255,
     "status": "ok",
     "timestamp": 1736407514545,
     "user": {
      "displayName": "Chang Jun Lee",
      "userId": "07449846774346066151"
     },
     "user_tz": -540
    },
    "id": "uR2-SowE4o0x",
    "outputId": "73fc13e4-1b97-470d-ac05-b465e16e38c9"
   },
   "outputs": [
    {
     "data": {
      "text/plain": [
       "PromptTemplate(input_variables=['fruit'], input_types={}, partial_variables={}, template='{fruit}의 색깔이 뭐야? 한글로 대답 하여야만 해. 영어로 답하면 안돼.')"
      ]
     },
     "execution_count": 124,
     "metadata": {},
     "output_type": "execute_result"
    }
   ],
   "source": [
    "prompt_yaml_1"
   ]
  },
  {
   "cell_type": "code",
   "execution_count": 125,
   "metadata": {
    "colab": {
     "base_uri": "https://localhost:8080/",
     "height": 35
    },
    "executionInfo": {
     "elapsed": 265,
     "status": "ok",
     "timestamp": 1736407516871,
     "user": {
      "displayName": "Chang Jun Lee",
      "userId": "07449846774346066151"
     },
     "user_tz": -540
    },
    "id": "5e4D_JGg5xuM",
    "outputId": "c29d525b-5e72-42d8-c25a-d7a9f7b98fde"
   },
   "outputs": [
    {
     "data": {
      "application/vnd.google.colaboratory.intrinsic+json": {
       "type": "string"
      },
      "text/plain": [
       "'사과의 색깔이 뭐야? 한글로 대답 하여야만 해. 영어로 답하면 안돼.'"
      ]
     },
     "execution_count": 125,
     "metadata": {},
     "output_type": "execute_result"
    }
   ],
   "source": [
    "prompt_yaml_1.format(fruit=\"사과\")"
   ]
  },
  {
   "cell_type": "code",
   "execution_count": 131,
   "metadata": {
    "colab": {
     "base_uri": "https://localhost:8080/"
    },
    "executionInfo": {
     "elapsed": 291,
     "status": "ok",
     "timestamp": 1736407685421,
     "user": {
      "displayName": "Chang Jun Lee",
      "userId": "07449846774346066151"
     },
     "user_tz": -540
    },
    "id": "YdlcXT9y9nqT",
    "outputId": "a17bb4a8-0fe5-4171-c48c-11d5142d24e0"
   },
   "outputs": [
    {
     "data": {
      "text/plain": [
       "PromptTemplate(input_variables=['fruit'], input_types={}, partial_variables={}, template='{fruit}의 색깔이 뭐야? 한글로 대답 하여야만 해. 영어로 답하면 안돼.')"
      ]
     },
     "execution_count": 131,
     "metadata": {},
     "output_type": "execute_result"
    }
   ],
   "source": [
    "prompt_yaml_1"
   ]
  },
  {
   "cell_type": "code",
   "execution_count": 126,
   "metadata": {
    "executionInfo": {
     "elapsed": 284,
     "status": "ok",
     "timestamp": 1736407522993,
     "user": {
      "displayName": "Chang Jun Lee",
      "userId": "07449846774346066151"
     },
     "user_tz": -540
    },
    "id": "P8x5S77d6H96"
   },
   "outputs": [],
   "source": [
    "chain_1 = prompt_yaml_1 | llm"
   ]
  },
  {
   "cell_type": "code",
   "execution_count": 130,
   "metadata": {
    "colab": {
     "base_uri": "https://localhost:8080/"
    },
    "collapsed": true,
    "executionInfo": {
     "elapsed": 277,
     "status": "ok",
     "timestamp": 1736407657670,
     "user": {
      "displayName": "Chang Jun Lee",
      "userId": "07449846774346066151"
     },
     "user_tz": -540
    },
    "id": "o2CS-w3f9h67",
    "outputId": "6ff68f2c-60b2-46bb-82a4-f73de01e0178"
   },
   "outputs": [
    {
     "data": {
      "text/plain": [
       "ChatOpenAI(client=<openai.resources.chat.completions.Completions object at 0x7ed2db37ee30>, async_client=<openai.resources.chat.completions.AsyncCompletions object at 0x7ed2db37e0e0>, root_client=<openai.OpenAI object at 0x7ed2db32dd20>, root_async_client=<openai.AsyncOpenAI object at 0x7ed2db37fb80>, model_name='gpt-4o', temperature=0.0, model_kwargs={}, openai_api_key=SecretStr('**********'))"
      ]
     },
     "execution_count": 130,
     "metadata": {},
     "output_type": "execute_result"
    }
   ],
   "source": [
    "llm"
   ]
  },
  {
   "cell_type": "code",
   "execution_count": 127,
   "metadata": {
    "colab": {
     "base_uri": "https://localhost:8080/"
    },
    "executionInfo": {
     "elapsed": 2,
     "status": "ok",
     "timestamp": 1736407528694,
     "user": {
      "displayName": "Chang Jun Lee",
      "userId": "07449846774346066151"
     },
     "user_tz": -540
    },
    "id": "dO4p_Ina8XfB",
    "outputId": "27b91486-9d71-49d4-8887-4af099e04a2c"
   },
   "outputs": [
    {
     "data": {
      "text/plain": [
       "PromptTemplate(input_variables=['fruit'], input_types={}, partial_variables={}, template='{fruit}의 색깔이 뭐야? 한글로 대답 하여야만 해. 영어로 답하면 안돼.')\n",
       "| ChatOpenAI(client=<openai.resources.chat.completions.Completions object at 0x7ed2db37ee30>, async_client=<openai.resources.chat.completions.AsyncCompletions object at 0x7ed2db37e0e0>, root_client=<openai.OpenAI object at 0x7ed2db32dd20>, root_async_client=<openai.AsyncOpenAI object at 0x7ed2db37fb80>, model_name='gpt-4o', temperature=0.0, model_kwargs={}, openai_api_key=SecretStr('**********'))"
      ]
     },
     "execution_count": 127,
     "metadata": {},
     "output_type": "execute_result"
    }
   ],
   "source": [
    "chain_1"
   ]
  },
  {
   "cell_type": "code",
   "execution_count": 138,
   "metadata": {
    "colab": {
     "base_uri": "https://localhost:8080/"
    },
    "executionInfo": {
     "elapsed": 1668,
     "status": "ok",
     "timestamp": 1736408109300,
     "user": {
      "displayName": "Chang Jun Lee",
      "userId": "07449846774346066151"
     },
     "user_tz": -540
    },
    "id": "RP_i12VH6Ltq",
    "outputId": "e2e75628-db5b-4371-d01c-d7e56d7693d7"
   },
   "outputs": [
    {
     "data": {
      "text/plain": [
       "AIMessage(content='사과의 색깔은 일반적으로 빨간색, 초록색, 또는 노란색이야.', additional_kwargs={'refusal': None}, response_metadata={'token_usage': {'completion_tokens': 24, 'prompt_tokens': 34, 'total_tokens': 58, 'completion_tokens_details': {'accepted_prediction_tokens': 0, 'audio_tokens': 0, 'reasoning_tokens': 0, 'rejected_prediction_tokens': 0}, 'prompt_tokens_details': {'audio_tokens': 0, 'cached_tokens': 0}}, 'model_name': 'gpt-4o-2024-08-06', 'system_fingerprint': 'fp_d28bcae782', 'finish_reason': 'stop', 'logprobs': None}, id='run-ba2d7f77-effb-46f0-8b1f-c5fb20625ba7-0', usage_metadata={'input_tokens': 34, 'output_tokens': 24, 'total_tokens': 58, 'input_token_details': {'audio': 0, 'cache_read': 0}, 'output_token_details': {'audio': 0, 'reasoning': 0}})"
      ]
     },
     "execution_count": 138,
     "metadata": {},
     "output_type": "execute_result"
    }
   ],
   "source": [
    "# Response_7 = chain_1.invoke(prompt_yaml_1)\n",
    "chain_1.invoke({\"fruit\": \"사과\"})"
   ]
  },
  {
   "cell_type": "code",
   "execution_count": 137,
   "metadata": {
    "colab": {
     "base_uri": "https://localhost:8080/"
    },
    "executionInfo": {
     "elapsed": 421,
     "status": "ok",
     "timestamp": 1736407919348,
     "user": {
      "displayName": "Chang Jun Lee",
      "userId": "07449846774346066151"
     },
     "user_tz": -540
    },
    "id": "KDE7FzNO6O_g",
    "outputId": "38aa816b-cbf6-464b-b6fd-c7d4a1470a8b"
   },
   "outputs": [
    {
     "name": "stdout",
     "output_type": "stream",
     "text": [
      "content=\"template='{fruit}의 색깔이 뭐야? 한글로 대답 하여야만 해. 영어로 답하면 안돼.'\\n\\n이 템플릿을 사용하여 질문을 생성할 수 있습니다. 예를 들어, 'fruit' 변수에 '사과'를 넣으면 다음과 같은 질문이 됩니다:\\n\\n'사과의 색깔이 뭐야? 한글로 대답 하여야만 해. 영어로 답하면 안돼.'\\n\\n이와 같이 다른 과일 이름을 'fruit' 변수에 넣어 다양한 질문을 만들 수 있습니다.\" additional_kwargs={'refusal': None} response_metadata={'token_usage': {'completion_tokens': 118, 'prompt_tokens': 72, 'total_tokens': 190, 'completion_tokens_details': {'accepted_prediction_tokens': 0, 'audio_tokens': 0, 'reasoning_tokens': 0, 'rejected_prediction_tokens': 0}, 'prompt_tokens_details': {'audio_tokens': 0, 'cached_tokens': 0}}, 'model_name': 'gpt-4o-2024-08-06', 'system_fingerprint': 'fp_b7d65f1a5b', 'finish_reason': 'stop', 'logprobs': None} id='run-a16c40ea-c6fa-40e6-9080-ceca7a38d091-0' usage_metadata={'input_tokens': 72, 'output_tokens': 118, 'total_tokens': 190, 'input_token_details': {'audio': 0, 'cache_read': 0}, 'output_token_details': {'audio': 0, 'reasoning': 0}}\n"
     ]
    }
   ],
   "source": [
    "print(Response_7)"
   ]
  },
  {
   "cell_type": "markdown",
   "metadata": {
    "id": "AbQwjc3r-2Xt"
   },
   "source": [
    "### ChatPromptTemplate"
   ]
  },
  {
   "cell_type": "code",
   "execution_count": null,
   "metadata": {
    "id": "W_Vv6399-Y5e"
   },
   "outputs": [],
   "source": []
  }
 ],
 "metadata": {
  "colab": {
   "authorship_tag": "ABX9TyNGZ9ymu1UE2d8CUJhPmgEl",
   "provenance": []
  },
  "kernelspec": {
   "display_name": "base",
   "language": "python",
   "name": "python3"
  },
  "language_info": {
   "name": "python",
   "version": "3.12.4"
  }
 },
 "nbformat": 4,
 "nbformat_minor": 0
}
