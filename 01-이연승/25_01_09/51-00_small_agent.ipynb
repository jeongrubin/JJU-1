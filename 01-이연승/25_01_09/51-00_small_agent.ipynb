{
 "cells": [
  {
   "cell_type": "code",
   "execution_count": 1,
   "metadata": {},
   "outputs": [
    {
     "name": "stderr",
     "output_type": "stream",
     "text": [
      "WARNING: Skipping C:\\Users\\eys63\\anaconda3\\Lib\\site-packages\\tensorflow_intel-2.18.0.dist-info due to invalid metadata entry 'name'\n",
      "WARNING: Skipping C:\\Users\\eys63\\anaconda3\\Lib\\site-packages\\tensorflow_intel-2.18.0.dist-info due to invalid metadata entry 'name'\n"
     ]
    }
   ],
   "source": [
    "!pip install -qU praisonaiagents"
   ]
  },
  {
   "cell_type": "code",
   "execution_count": 2,
   "metadata": {},
   "outputs": [
    {
     "name": "stderr",
     "output_type": "stream",
     "text": [
      "WARNING: Skipping C:\\Users\\eys63\\anaconda3\\Lib\\site-packages\\tensorflow_intel-2.18.0.dist-info due to invalid metadata entry 'name'\n",
      "WARNING: Skipping C:\\Users\\eys63\\anaconda3\\Lib\\site-packages\\tensorflow_intel-2.18.0.dist-info due to invalid metadata entry 'name'\n"
     ]
    }
   ],
   "source": [
    "!pip install -qU duckduckgo_search"
   ]
  },
  {
   "cell_type": "code",
   "execution_count": 1,
   "metadata": {},
   "outputs": [
    {
     "data": {
      "text/plain": [
       "True"
      ]
     },
     "execution_count": 1,
     "metadata": {},
     "output_type": "execute_result"
    }
   ],
   "source": [
    "from dotenv import load_dotenv\n",
    "import os\n",
    "\n",
    "load_dotenv()\n",
    "\n",
    "OPENAI_API_KEY = os.getenv(\"OPENAI_API_KEY\")\n",
    "LANGCHAIN_API_KEY = os.getenv(\"LANGCHAIN_API_KEY\")\n",
    "LANGCHAIN_TRACING_V2 = os.getenv(\"LANGCHAIN_TRACING_V2\")\n",
    "LANGCHAIN_ENDPOINT = os.getenv(\"LANGCHAIN_ENDPOINT\")"
   ]
  },
  {
   "cell_type": "code",
   "execution_count": 2,
   "metadata": {},
   "outputs": [
    {
     "data": {
      "text/html": [
       "<pre style=\"white-space:pre;overflow-x:auto;line-height:normal;font-family:Menlo,'DejaVu Sans Mono',consolas,'Courier New',monospace\"><span style=\"color: #7fbfbf; text-decoration-color: #7fbfbf\">[10:49:34] </span><span style=\"color: #000080; text-decoration-color: #000080\">INFO    </span> <span style=\"font-weight: bold\">[</span><span style=\"color: #00ff00; text-decoration-color: #00ff00; font-weight: bold\">10:49:34</span><span style=\"font-weight: bold\">]</span> agents.py:<span style=\"color: #008080; text-decoration-color: #008080; font-weight: bold\">69</span> INFO Auto-generated <span style=\"color: #008080; text-decoration-color: #008080; font-weight: bold\">2</span> tasks from agents                    <a href=\"file://c:\\Users\\eys63\\anaconda3\\Lib\\site-packages\\praisonaiagents\\agents\\agents.py\" target=\"_blank\"><span style=\"color: #7f7f7f; text-decoration-color: #7f7f7f\">agents.py</span></a><span style=\"color: #7f7f7f; text-decoration-color: #7f7f7f\">:</span><a href=\"file://c:\\Users\\eys63\\anaconda3\\Lib\\site-packages\\praisonaiagents\\agents\\agents.py#69\" target=\"_blank\"><span style=\"color: #7f7f7f; text-decoration-color: #7f7f7f\">69</span></a>\n",
       "</pre>\n"
      ],
      "text/plain": [
       "\u001b[2;36m[10:49:34]\u001b[0m\u001b[2;36m \u001b[0m\u001b[34mINFO    \u001b[0m \u001b[1m[\u001b[0m\u001b[1;92m10:49:34\u001b[0m\u001b[1m]\u001b[0m agents.py:\u001b[1;36m69\u001b[0m INFO Auto-generated \u001b[1;36m2\u001b[0m tasks from agents                    \u001b]8;id=804878;file://c:\\Users\\eys63\\anaconda3\\Lib\\site-packages\\praisonaiagents\\agents\\agents.py\u001b\\\u001b[2magents.py\u001b[0m\u001b]8;;\u001b\\\u001b[2m:\u001b[0m\u001b]8;id=267469;file://c:\\Users\\eys63\\anaconda3\\Lib\\site-packages\\praisonaiagents\\agents\\agents.py#69\u001b\\\u001b[2m69\u001b[0m\u001b]8;;\u001b\\\n"
      ]
     },
     "metadata": {},
     "output_type": "display_data"
    },
    {
     "data": {
      "text/html": [
       "<pre style=\"white-space:pre;overflow-x:auto;line-height:normal;font-family:Menlo,'DejaVu Sans Mono',consolas,'Courier New',monospace\"><span style=\"color: #7fbfbf; text-decoration-color: #7fbfbf\">           </span><span style=\"color: #000080; text-decoration-color: #000080\">INFO    </span> <span style=\"font-weight: bold\">[</span><span style=\"color: #00ff00; text-decoration-color: #00ff00; font-weight: bold\">10:49:34</span><span style=\"font-weight: bold\">]</span> agents.py:<span style=\"color: #008080; text-decoration-color: #008080; font-weight: bold\">90</span> INFO Set up sequential flow with automatic context passing <a href=\"file://c:\\Users\\eys63\\anaconda3\\Lib\\site-packages\\praisonaiagents\\agents\\agents.py\" target=\"_blank\"><span style=\"color: #7f7f7f; text-decoration-color: #7f7f7f\">agents.py</span></a><span style=\"color: #7f7f7f; text-decoration-color: #7f7f7f\">:</span><a href=\"file://c:\\Users\\eys63\\anaconda3\\Lib\\site-packages\\praisonaiagents\\agents\\agents.py#90\" target=\"_blank\"><span style=\"color: #7f7f7f; text-decoration-color: #7f7f7f\">90</span></a>\n",
       "</pre>\n"
      ],
      "text/plain": [
       "\u001b[2;36m          \u001b[0m\u001b[2;36m \u001b[0m\u001b[34mINFO    \u001b[0m \u001b[1m[\u001b[0m\u001b[1;92m10:49:34\u001b[0m\u001b[1m]\u001b[0m agents.py:\u001b[1;36m90\u001b[0m INFO Set up sequential flow with automatic context passing \u001b]8;id=29809;file://c:\\Users\\eys63\\anaconda3\\Lib\\site-packages\\praisonaiagents\\agents\\agents.py\u001b\\\u001b[2magents.py\u001b[0m\u001b]8;;\u001b\\\u001b[2m:\u001b[0m\u001b]8;id=918985;file://c:\\Users\\eys63\\anaconda3\\Lib\\site-packages\\praisonaiagents\\agents\\agents.py#90\u001b\\\u001b[2m90\u001b[0m\u001b]8;;\u001b\\\n"
      ]
     },
     "metadata": {},
     "output_type": "display_data"
    },
    {
     "data": {
      "text/html": [
       "<pre style=\"white-space:pre;overflow-x:auto;line-height:normal;font-family:Menlo,'DejaVu Sans Mono',consolas,'Courier New',monospace\"><span style=\"color: #008080; text-decoration-color: #008080\">╭──────────────────────────────────────────── Instruction ─────────────────────────────────────────────╮</span>\n",
       "<span style=\"color: #008080; text-decoration-color: #008080\">│</span> <span style=\"color: #000080; text-decoration-color: #000080; font-weight: bold\">Agent Agent is processing prompt: </span>                                                                   <span style=\"color: #008080; text-decoration-color: #008080\">│</span>\n",
       "<span style=\"color: #008080; text-decoration-color: #008080\">│</span> <span style=\"color: #000080; text-decoration-color: #000080; font-weight: bold\">You need to do the following task: 너는 인공지능 딥러닝에 관해서 알려주는 agent야..</span>                  <span style=\"color: #008080; text-decoration-color: #008080\">│</span>\n",
       "<span style=\"color: #008080; text-decoration-color: #008080\">│</span> <span style=\"color: #000080; text-decoration-color: #000080; font-weight: bold\">Expected Output: Complete the assigned task successfully.</span>                                            <span style=\"color: #008080; text-decoration-color: #008080\">│</span>\n",
       "<span style=\"color: #008080; text-decoration-color: #008080\">│</span> <span style=\"color: #000080; text-decoration-color: #000080; font-weight: bold\">Please provide only the final result of your work. Do not add any conversation or extra explanation.</span> <span style=\"color: #008080; text-decoration-color: #008080\">│</span>\n",
       "<span style=\"color: #008080; text-decoration-color: #008080\">╰──────────────────────────────────────────────────────────────────────────────────────────────────────╯</span>\n",
       "</pre>\n"
      ],
      "text/plain": [
       "\u001b[36m╭─\u001b[0m\u001b[36m───────────────────────────────────────────\u001b[0m\u001b[36m Instruction \u001b[0m\u001b[36m────────────────────────────────────────────\u001b[0m\u001b[36m─╮\u001b[0m\n",
       "\u001b[36m│\u001b[0m \u001b[1;34mAgent Agent is processing prompt: \u001b[0m                                                                   \u001b[36m│\u001b[0m\n",
       "\u001b[36m│\u001b[0m \u001b[1;34mYou need to do the following task: 너는 인공지능 딥러닝에 관해서 알려주는 agent야..\u001b[0m                  \u001b[36m│\u001b[0m\n",
       "\u001b[36m│\u001b[0m \u001b[1;34mExpected Output: Complete the assigned task successfully.\u001b[0m                                            \u001b[36m│\u001b[0m\n",
       "\u001b[36m│\u001b[0m \u001b[1;34mPlease provide only the final result of your work. Do not add any conversation or extra explanation.\u001b[0m \u001b[36m│\u001b[0m\n",
       "\u001b[36m╰──────────────────────────────────────────────────────────────────────────────────────────────────────╯\u001b[0m\n"
      ]
     },
     "metadata": {},
     "output_type": "display_data"
    },
    {
     "data": {
      "text/html": [
       "<pre style=\"white-space:pre;overflow-x:auto;line-height:normal;font-family:Menlo,'DejaVu Sans Mono',consolas,'Courier New',monospace\"><span style=\"color: #7fbfbf; text-decoration-color: #7fbfbf\">[10:49:36] </span><span style=\"color: #000080; text-decoration-color: #000080\">INFO    </span> <span style=\"font-weight: bold\">[</span><span style=\"color: #00ff00; text-decoration-color: #00ff00; font-weight: bold\">10:49:36</span><span style=\"font-weight: bold\">]</span> _client.py:<span style=\"color: #008080; text-decoration-color: #008080; font-weight: bold\">1025</span> INFO HTTP Request: <span style=\"color: #808000; text-decoration-color: #808000; font-weight: bold\">POST</span>                              <a href=\"file://c:\\Users\\eys63\\anaconda3\\Lib\\site-packages\\httpx\\_client.py\" target=\"_blank\"><span style=\"color: #7f7f7f; text-decoration-color: #7f7f7f\">_client.py</span></a><span style=\"color: #7f7f7f; text-decoration-color: #7f7f7f\">:</span><a href=\"file://c:\\Users\\eys63\\anaconda3\\Lib\\site-packages\\httpx\\_client.py#1025\" target=\"_blank\"><span style=\"color: #7f7f7f; text-decoration-color: #7f7f7f\">1025</span></a>\n",
       "<span style=\"color: #7fbfbf; text-decoration-color: #7fbfbf\">           </span>         <span style=\"color: #0000ff; text-decoration-color: #0000ff; text-decoration: underline\">https://api.openai.com/v1/chat/completions</span> <span style=\"color: #008000; text-decoration-color: #008000\">\"HTTP/1.1 200 OK\"</span>                    <span style=\"color: #7f7f7f; text-decoration-color: #7f7f7f\">               </span>\n",
       "</pre>\n"
      ],
      "text/plain": [
       "\u001b[2;36m[10:49:36]\u001b[0m\u001b[2;36m \u001b[0m\u001b[34mINFO    \u001b[0m \u001b[1m[\u001b[0m\u001b[1;92m10:49:36\u001b[0m\u001b[1m]\u001b[0m _client.py:\u001b[1;36m1025\u001b[0m INFO HTTP Request: \u001b[1;33mPOST\u001b[0m                              \u001b]8;id=366021;file://c:\\Users\\eys63\\anaconda3\\Lib\\site-packages\\httpx\\_client.py\u001b\\\u001b[2m_client.py\u001b[0m\u001b]8;;\u001b\\\u001b[2m:\u001b[0m\u001b]8;id=213325;file://c:\\Users\\eys63\\anaconda3\\Lib\\site-packages\\httpx\\_client.py#1025\u001b\\\u001b[2m1025\u001b[0m\u001b]8;;\u001b\\\n",
       "\u001b[2;36m           \u001b[0m         \u001b[4;94mhttps://api.openai.com/v1/chat/completions\u001b[0m \u001b[32m\"HTTP/1.1 200 OK\"\u001b[0m                    \u001b[2m               \u001b[0m\n"
      ]
     },
     "metadata": {},
     "output_type": "display_data"
    },
    {
     "data": {
      "text/html": [
       "<pre style=\"white-space:pre;overflow-x:auto;line-height:normal;font-family:Menlo,'DejaVu Sans Mono',consolas,'Courier New',monospace\"><span style=\"color: #7fbfbf; text-decoration-color: #7fbfbf\">           </span><span style=\"color: #000080; text-decoration-color: #000080\">INFO    </span> <span style=\"font-weight: bold\">[</span><span style=\"color: #00ff00; text-decoration-color: #00ff00; font-weight: bold\">10:49:36</span><span style=\"font-weight: bold\">]</span> _client.py:<span style=\"color: #008080; text-decoration-color: #008080; font-weight: bold\">1025</span> INFO HTTP Request: <span style=\"color: #808000; text-decoration-color: #808000; font-weight: bold\">POST</span>                              <a href=\"file://c:\\Users\\eys63\\anaconda3\\Lib\\site-packages\\httpx\\_client.py\" target=\"_blank\"><span style=\"color: #7f7f7f; text-decoration-color: #7f7f7f\">_client.py</span></a><span style=\"color: #7f7f7f; text-decoration-color: #7f7f7f\">:</span><a href=\"file://c:\\Users\\eys63\\anaconda3\\Lib\\site-packages\\httpx\\_client.py#1025\" target=\"_blank\"><span style=\"color: #7f7f7f; text-decoration-color: #7f7f7f\">1025</span></a>\n",
       "<span style=\"color: #7fbfbf; text-decoration-color: #7fbfbf\">           </span>         <span style=\"color: #0000ff; text-decoration-color: #0000ff; text-decoration: underline\">https://api.openai.com/v1/chat/completions</span> <span style=\"color: #008000; text-decoration-color: #008000\">\"HTTP/1.1 200 OK\"</span>                    <span style=\"color: #7f7f7f; text-decoration-color: #7f7f7f\">               </span>\n",
       "</pre>\n"
      ],
      "text/plain": [
       "\u001b[2;36m          \u001b[0m\u001b[2;36m \u001b[0m\u001b[34mINFO    \u001b[0m \u001b[1m[\u001b[0m\u001b[1;92m10:49:36\u001b[0m\u001b[1m]\u001b[0m _client.py:\u001b[1;36m1025\u001b[0m INFO HTTP Request: \u001b[1;33mPOST\u001b[0m                              \u001b]8;id=29577;file://c:\\Users\\eys63\\anaconda3\\Lib\\site-packages\\httpx\\_client.py\u001b\\\u001b[2m_client.py\u001b[0m\u001b]8;;\u001b\\\u001b[2m:\u001b[0m\u001b]8;id=987325;file://c:\\Users\\eys63\\anaconda3\\Lib\\site-packages\\httpx\\_client.py#1025\u001b\\\u001b[2m1025\u001b[0m\u001b]8;;\u001b\\\n",
       "\u001b[2;36m           \u001b[0m         \u001b[4;94mhttps://api.openai.com/v1/chat/completions\u001b[0m \u001b[32m\"HTTP/1.1 200 OK\"\u001b[0m                    \u001b[2m               \u001b[0m\n"
      ]
     },
     "metadata": {},
     "output_type": "display_data"
    },
    {
     "data": {
      "application/vnd.jupyter.widget-view+json": {
       "model_id": "3d4b3e8a4fa445a4a009e636214b02a8",
       "version_major": 2,
       "version_minor": 0
      },
      "text/plain": [
       "Output()"
      ]
     },
     "metadata": {},
     "output_type": "display_data"
    },
    {
     "data": {
      "text/html": [
       "<pre style=\"white-space:pre;overflow-x:auto;line-height:normal;font-family:Menlo,'DejaVu Sans Mono',consolas,'Courier New',monospace\"></pre>\n"
      ],
      "text/plain": []
     },
     "metadata": {},
     "output_type": "display_data"
    },
    {
     "data": {
      "text/html": [
       "<pre style=\"white-space:pre;overflow-x:auto;line-height:normal;font-family:Menlo,'DejaVu Sans Mono',consolas,'Courier New',monospace\">\n",
       "</pre>\n"
      ],
      "text/plain": [
       "\n"
      ]
     },
     "metadata": {},
     "output_type": "display_data"
    },
    {
     "data": {
      "text/html": [
       "<pre style=\"white-space:pre;overflow-x:auto;line-height:normal;font-family:Menlo,'DejaVu Sans Mono',consolas,'Courier New',monospace\"><span style=\"color: #7fbfbf; text-decoration-color: #7fbfbf\">[10:49:43] </span><span style=\"color: #000080; text-decoration-color: #000080\">INFO    </span> <span style=\"font-weight: bold\">[</span><span style=\"color: #00ff00; text-decoration-color: #00ff00; font-weight: bold\">10:49:43</span><span style=\"font-weight: bold\">]</span> _client.py:<span style=\"color: #008080; text-decoration-color: #008080; font-weight: bold\">1025</span> INFO HTTP Request: <span style=\"color: #808000; text-decoration-color: #808000; font-weight: bold\">POST</span>                              <a href=\"file://c:\\Users\\eys63\\anaconda3\\Lib\\site-packages\\httpx\\_client.py\" target=\"_blank\"><span style=\"color: #7f7f7f; text-decoration-color: #7f7f7f\">_client.py</span></a><span style=\"color: #7f7f7f; text-decoration-color: #7f7f7f\">:</span><a href=\"file://c:\\Users\\eys63\\anaconda3\\Lib\\site-packages\\httpx\\_client.py#1025\" target=\"_blank\"><span style=\"color: #7f7f7f; text-decoration-color: #7f7f7f\">1025</span></a>\n",
       "<span style=\"color: #7fbfbf; text-decoration-color: #7fbfbf\">           </span>         <span style=\"color: #0000ff; text-decoration-color: #0000ff; text-decoration: underline\">https://api.openai.com/v1/chat/completions</span> <span style=\"color: #008000; text-decoration-color: #008000\">\"HTTP/1.1 200 OK\"</span>                    <span style=\"color: #7f7f7f; text-decoration-color: #7f7f7f\">               </span>\n",
       "</pre>\n"
      ],
      "text/plain": [
       "\u001b[2;36m[10:49:43]\u001b[0m\u001b[2;36m \u001b[0m\u001b[34mINFO    \u001b[0m \u001b[1m[\u001b[0m\u001b[1;92m10:49:43\u001b[0m\u001b[1m]\u001b[0m _client.py:\u001b[1;36m1025\u001b[0m INFO HTTP Request: \u001b[1;33mPOST\u001b[0m                              \u001b]8;id=657386;file://c:\\Users\\eys63\\anaconda3\\Lib\\site-packages\\httpx\\_client.py\u001b\\\u001b[2m_client.py\u001b[0m\u001b]8;;\u001b\\\u001b[2m:\u001b[0m\u001b]8;id=780653;file://c:\\Users\\eys63\\anaconda3\\Lib\\site-packages\\httpx\\_client.py#1025\u001b\\\u001b[2m1025\u001b[0m\u001b]8;;\u001b\\\n",
       "\u001b[2;36m           \u001b[0m         \u001b[4;94mhttps://api.openai.com/v1/chat/completions\u001b[0m \u001b[32m\"HTTP/1.1 200 OK\"\u001b[0m                    \u001b[2m               \u001b[0m\n"
      ]
     },
     "metadata": {},
     "output_type": "display_data"
    },
    {
     "data": {
      "text/html": [
       "<pre style=\"white-space:pre;overflow-x:auto;line-height:normal;font-family:Menlo,'DejaVu Sans Mono',consolas,'Courier New',monospace\"><span style=\"color: #7fbfbf; text-decoration-color: #7fbfbf\">           </span><span style=\"color: #000080; text-decoration-color: #000080\">INFO    </span> <span style=\"font-weight: bold\">[</span><span style=\"color: #00ff00; text-decoration-color: #00ff00; font-weight: bold\">10:49:43</span><span style=\"font-weight: bold\">]</span> agent.py:<span style=\"color: #008080; text-decoration-color: #008080; font-weight: bold\">528</span> INFO Agent Agent final response: 딥러닝은 인공지능의 한    <a href=\"file://c:\\Users\\eys63\\anaconda3\\Lib\\site-packages\\praisonaiagents\\agent\\agent.py\" target=\"_blank\"><span style=\"color: #7f7f7f; text-decoration-color: #7f7f7f\">agent.py</span></a><span style=\"color: #7f7f7f; text-decoration-color: #7f7f7f\">:</span><a href=\"file://c:\\Users\\eys63\\anaconda3\\Lib\\site-packages\\praisonaiagents\\agent\\agent.py#528\" target=\"_blank\"><span style=\"color: #7f7f7f; text-decoration-color: #7f7f7f\">528</span></a>\n",
       "<span style=\"color: #7fbfbf; text-decoration-color: #7fbfbf\">           </span>         분야로, 인공신경망을 기반으로 한 기계 학습 기술입니다. 이는 대량의 데이터를        <span style=\"color: #7f7f7f; text-decoration-color: #7f7f7f\">            </span>\n",
       "<span style=\"color: #7fbfbf; text-decoration-color: #7fbfbf\">           </span>         처리하고 패턴을 학습하여 예측, 분류, 생성 등의 작업을 수행합니다. 딥러닝 모델은    <span style=\"color: #7f7f7f; text-decoration-color: #7f7f7f\">            </span>\n",
       "<span style=\"color: #7fbfbf; text-decoration-color: #7fbfbf\">           </span>         여러 층의 뉴런으로 구성된 네트워크를 사용하여 입력 데이터를 점진적으로 추상화하고  <span style=\"color: #7f7f7f; text-decoration-color: #7f7f7f\">            </span>\n",
       "<span style=\"color: #7fbfbf; text-decoration-color: #7fbfbf\">           </span>         복잡한 문제를 해결합니다. 주요 응용 분야로는 이미지 및 음성 인식, 자연어 처리,     <span style=\"color: #7f7f7f; text-decoration-color: #7f7f7f\">            </span>\n",
       "<span style=\"color: #7fbfbf; text-decoration-color: #7fbfbf\">           </span>         자율주행차, 의료 진단 등이 있습니다. 대표적인 딥러닝 프레임워크로는 TensorFlow,    <span style=\"color: #7f7f7f; text-decoration-color: #7f7f7f\">            </span>\n",
       "<span style=\"color: #7fbfbf; text-decoration-color: #7fbfbf\">           </span>         PyTorch, Keras 등이 있습니다.                                                      <span style=\"color: #7f7f7f; text-decoration-color: #7f7f7f\">            </span>\n",
       "</pre>\n"
      ],
      "text/plain": [
       "\u001b[2;36m          \u001b[0m\u001b[2;36m \u001b[0m\u001b[34mINFO    \u001b[0m \u001b[1m[\u001b[0m\u001b[1;92m10:49:43\u001b[0m\u001b[1m]\u001b[0m agent.py:\u001b[1;36m528\u001b[0m INFO Agent Agent final response: 딥러닝은 인공지능의 한    \u001b]8;id=435216;file://c:\\Users\\eys63\\anaconda3\\Lib\\site-packages\\praisonaiagents\\agent\\agent.py\u001b\\\u001b[2magent.py\u001b[0m\u001b]8;;\u001b\\\u001b[2m:\u001b[0m\u001b]8;id=979011;file://c:\\Users\\eys63\\anaconda3\\Lib\\site-packages\\praisonaiagents\\agent\\agent.py#528\u001b\\\u001b[2m528\u001b[0m\u001b]8;;\u001b\\\n",
       "\u001b[2;36m           \u001b[0m         분야로, 인공신경망을 기반으로 한 기계 학습 기술입니다. 이는 대량의 데이터를        \u001b[2m            \u001b[0m\n",
       "\u001b[2;36m           \u001b[0m         처리하고 패턴을 학습하여 예측, 분류, 생성 등의 작업을 수행합니다. 딥러닝 모델은    \u001b[2m            \u001b[0m\n",
       "\u001b[2;36m           \u001b[0m         여러 층의 뉴런으로 구성된 네트워크를 사용하여 입력 데이터를 점진적으로 추상화하고  \u001b[2m            \u001b[0m\n",
       "\u001b[2;36m           \u001b[0m         복잡한 문제를 해결합니다. 주요 응용 분야로는 이미지 및 음성 인식, 자연어 처리,     \u001b[2m            \u001b[0m\n",
       "\u001b[2;36m           \u001b[0m         자율주행차, 의료 진단 등이 있습니다. 대표적인 딥러닝 프레임워크로는 TensorFlow,    \u001b[2m            \u001b[0m\n",
       "\u001b[2;36m           \u001b[0m         PyTorch, Keras 등이 있습니다.                                                      \u001b[2m            \u001b[0m\n"
      ]
     },
     "metadata": {},
     "output_type": "display_data"
    },
    {
     "data": {
      "text/html": [
       "<pre style=\"white-space:pre;overflow-x:auto;line-height:normal;font-family:Menlo,'DejaVu Sans Mono',consolas,'Courier New',monospace\"><span style=\"color: #7f7f7f; text-decoration-color: #7f7f7f\">Response generated in 9.4s</span>\n",
       "</pre>\n"
      ],
      "text/plain": [
       "\u001b[2mResponse generated in 9.4s\u001b[0m\n"
      ]
     },
     "metadata": {},
     "output_type": "display_data"
    },
    {
     "data": {
      "text/html": [
       "<pre style=\"white-space:pre;overflow-x:auto;line-height:normal;font-family:Menlo,'DejaVu Sans Mono',consolas,'Courier New',monospace\"><span style=\"color: #008080; text-decoration-color: #008080\">╭──────────────────────────────────────────────────── Message ────────────────────────────────────────────────────╮</span>\n",
       "<span style=\"color: #008080; text-decoration-color: #008080\">│</span> You need to do the following task: 너는 인공지능 딥러닝에 관해서 알려주는 agent야.. Expected Output: Complete   <span style=\"color: #008080; text-decoration-color: #008080\">│</span>\n",
       "<span style=\"color: #008080; text-decoration-color: #008080\">│</span> the assigned task successfully. Please provide only the final result of your work. Do not add any conversation  <span style=\"color: #008080; text-decoration-color: #008080\">│</span>\n",
       "<span style=\"color: #008080; text-decoration-color: #008080\">│</span> or extra explanation.                                                                                           <span style=\"color: #008080; text-decoration-color: #008080\">│</span>\n",
       "<span style=\"color: #008080; text-decoration-color: #008080\">╰─────────────────────────────────────────────────────────────────────────────────────────────────────────────────╯</span>\n",
       "</pre>\n"
      ],
      "text/plain": [
       "\u001b[36m╭─\u001b[0m\u001b[36m───────────────────────────────────────────────────\u001b[0m\u001b[36m Message \u001b[0m\u001b[36m───────────────────────────────────────────────────\u001b[0m\u001b[36m─╮\u001b[0m\n",
       "\u001b[36m│\u001b[0m You need to do the following task: 너는 인공지능 딥러닝에 관해서 알려주는 agent야.. Expected Output: Complete   \u001b[36m│\u001b[0m\n",
       "\u001b[36m│\u001b[0m the assigned task successfully. Please provide only the final result of your work. Do not add any conversation  \u001b[36m│\u001b[0m\n",
       "\u001b[36m│\u001b[0m or extra explanation.                                                                                           \u001b[36m│\u001b[0m\n",
       "\u001b[36m╰─────────────────────────────────────────────────────────────────────────────────────────────────────────────────╯\u001b[0m\n"
      ]
     },
     "metadata": {},
     "output_type": "display_data"
    },
    {
     "data": {
      "text/html": [
       "<pre style=\"white-space:pre;overflow-x:auto;line-height:normal;font-family:Menlo,'DejaVu Sans Mono',consolas,'Courier New',monospace\"><span style=\"color: #008080; text-decoration-color: #008080\">╭─────────────────────────────────────────────────── Response ────────────────────────────────────────────────────╮</span>\n",
       "<span style=\"color: #008080; text-decoration-color: #008080\">│</span> 딥러닝은 인공지능의 한 분야로, 인공신경망을 기반으로 한 기계 학습 기술입니다. 이는 대량의 데이터를 처리하고     <span style=\"color: #008080; text-decoration-color: #008080\">│</span>\n",
       "<span style=\"color: #008080; text-decoration-color: #008080\">│</span> 패턴을 학습하여 예측, 분류, 생성 등의 작업을 수행합니다. 딥러닝 모델은 여러 층의 뉴런으로 구성된 네트워크를     <span style=\"color: #008080; text-decoration-color: #008080\">│</span>\n",
       "<span style=\"color: #008080; text-decoration-color: #008080\">│</span> 사용하여 입력 데이터를 점진적으로 추상화하고 복잡한 문제를 해결합니다. 주요 응용 분야로는 이미지 및 음성 인식,  <span style=\"color: #008080; text-decoration-color: #008080\">│</span>\n",
       "<span style=\"color: #008080; text-decoration-color: #008080\">│</span> 자연어 처리, 자율주행차, 의료 진단 등이 있습니다. 대표적인 딥러닝 프레임워크로는 TensorFlow, PyTorch, Keras     <span style=\"color: #008080; text-decoration-color: #008080\">│</span>\n",
       "<span style=\"color: #008080; text-decoration-color: #008080\">│</span> 등이 있습니다.                                                                                                  <span style=\"color: #008080; text-decoration-color: #008080\">│</span>\n",
       "<span style=\"color: #008080; text-decoration-color: #008080\">╰─────────────────────────────────────────────────────────────────────────────────────────────────────────────────╯</span>\n",
       "</pre>\n"
      ],
      "text/plain": [
       "\u001b[36m╭─\u001b[0m\u001b[36m──────────────────────────────────────────────────\u001b[0m\u001b[36m Response \u001b[0m\u001b[36m───────────────────────────────────────────────────\u001b[0m\u001b[36m─╮\u001b[0m\n",
       "\u001b[36m│\u001b[0m 딥러닝은 인공지능의 한 분야로, 인공신경망을 기반으로 한 기계 학습 기술입니다. 이는 대량의 데이터를 처리하고     \u001b[36m│\u001b[0m\n",
       "\u001b[36m│\u001b[0m 패턴을 학습하여 예측, 분류, 생성 등의 작업을 수행합니다. 딥러닝 모델은 여러 층의 뉴런으로 구성된 네트워크를     \u001b[36m│\u001b[0m\n",
       "\u001b[36m│\u001b[0m 사용하여 입력 데이터를 점진적으로 추상화하고 복잡한 문제를 해결합니다. 주요 응용 분야로는 이미지 및 음성 인식,  \u001b[36m│\u001b[0m\n",
       "\u001b[36m│\u001b[0m 자연어 처리, 자율주행차, 의료 진단 등이 있습니다. 대표적인 딥러닝 프레임워크로는 TensorFlow, PyTorch, Keras     \u001b[36m│\u001b[0m\n",
       "\u001b[36m│\u001b[0m 등이 있습니다.                                                                                                  \u001b[36m│\u001b[0m\n",
       "\u001b[36m╰─────────────────────────────────────────────────────────────────────────────────────────────────────────────────╯\u001b[0m\n"
      ]
     },
     "metadata": {},
     "output_type": "display_data"
    },
    {
     "data": {
      "text/html": [
       "<pre style=\"white-space:pre;overflow-x:auto;line-height:normal;font-family:Menlo,'DejaVu Sans Mono',consolas,'Courier New',monospace\"><span style=\"color: #008080; text-decoration-color: #008080\">╭────────────────────────────────────────────────── Instruction ──────────────────────────────────────────────────╮</span>\n",
       "<span style=\"color: #008080; text-decoration-color: #008080\">│</span> <span style=\"color: #000080; text-decoration-color: #000080; font-weight: bold\">Agent Agent is processing prompt: </span>                                                                              <span style=\"color: #008080; text-decoration-color: #008080\">│</span>\n",
       "<span style=\"color: #008080; text-decoration-color: #008080\">│</span> <span style=\"color: #000080; text-decoration-color: #000080; font-weight: bold\">You need to do the following task: 너는 요약 agent로 관련된 정보를 찾아서 설명해주는 agent야..</span>                  <span style=\"color: #008080; text-decoration-color: #008080\">│</span>\n",
       "<span style=\"color: #008080; text-decoration-color: #008080\">│</span> <span style=\"color: #000080; text-decoration-color: #000080; font-weight: bold\">Expected Output: Complete the assigned task successfully.</span>                                                       <span style=\"color: #008080; text-decoration-color: #008080\">│</span>\n",
       "<span style=\"color: #008080; text-decoration-color: #008080\">│</span>                                                                                                                 <span style=\"color: #008080; text-decoration-color: #008080\">│</span>\n",
       "<span style=\"color: #008080; text-decoration-color: #008080\">│</span> <span style=\"color: #000080; text-decoration-color: #000080; font-weight: bold\">Here are the results of previous tasks that might be useful:</span>                                                    <span style=\"color: #008080; text-decoration-color: #008080\">│</span>\n",
       "<span style=\"color: #008080; text-decoration-color: #008080\">│</span>                                                                                                                 <span style=\"color: #008080; text-decoration-color: #008080\">│</span>\n",
       "<span style=\"color: #008080; text-decoration-color: #008080\">│</span> <span style=\"color: #000080; text-decoration-color: #000080; font-weight: bold\">Result of previous task Agent: 딥러닝은 인공지능의 한 분야로, 인공신경망을 기반으로 한 기계 학습 기술입니다. </span>   <span style=\"color: #008080; text-decoration-color: #008080\">│</span>\n",
       "<span style=\"color: #008080; text-decoration-color: #008080\">│</span> <span style=\"color: #000080; text-decoration-color: #000080; font-weight: bold\">이는 대량의 데이터를 처리하고 패턴을 학습하여 예측, 분류, 생성 등의 작업을 수행합니다. 딥러닝 모델은 여러 층의 </span> <span style=\"color: #008080; text-decoration-color: #008080\">│</span>\n",
       "<span style=\"color: #008080; text-decoration-color: #008080\">│</span> <span style=\"color: #000080; text-decoration-color: #000080; font-weight: bold\">뉴런으로 구성된 네트워크를 사용하여 입력 데이터를 점진적으로 추상화하고 복잡한 문제를 해결합니다. 주요 응용 </span>    <span style=\"color: #008080; text-decoration-color: #008080\">│</span>\n",
       "<span style=\"color: #008080; text-decoration-color: #008080\">│</span> <span style=\"color: #000080; text-decoration-color: #000080; font-weight: bold\">분야로는 이미지 및 음성 인식, 자연어 처리, 자율주행차, 의료 진단 등이 있습니다. 대표적인 딥러닝 프레임워크로는 </span> <span style=\"color: #008080; text-decoration-color: #008080\">│</span>\n",
       "<span style=\"color: #008080; text-decoration-color: #008080\">│</span> <span style=\"color: #000080; text-decoration-color: #000080; font-weight: bold\">TensorFlow, PyTorch, Keras 등이 있습니다.</span>                                                                       <span style=\"color: #008080; text-decoration-color: #008080\">│</span>\n",
       "<span style=\"color: #008080; text-decoration-color: #008080\">│</span>                                                                                                                 <span style=\"color: #008080; text-decoration-color: #008080\">│</span>\n",
       "<span style=\"color: #008080; text-decoration-color: #008080\">│</span> <span style=\"color: #000080; text-decoration-color: #000080; font-weight: bold\">Please provide only the final result of your work. Do not add any conversation or extra explanation.</span>            <span style=\"color: #008080; text-decoration-color: #008080\">│</span>\n",
       "<span style=\"color: #008080; text-decoration-color: #008080\">╰─────────────────────────────────────────────────────────────────────────────────────────────────────────────────╯</span>\n",
       "</pre>\n"
      ],
      "text/plain": [
       "\u001b[36m╭─\u001b[0m\u001b[36m─────────────────────────────────────────────────\u001b[0m\u001b[36m Instruction \u001b[0m\u001b[36m─────────────────────────────────────────────────\u001b[0m\u001b[36m─╮\u001b[0m\n",
       "\u001b[36m│\u001b[0m \u001b[1;34mAgent Agent is processing prompt: \u001b[0m                                                                              \u001b[36m│\u001b[0m\n",
       "\u001b[36m│\u001b[0m \u001b[1;34mYou need to do the following task: 너는 요약 agent로 관련된 정보를 찾아서 설명해주는 agent야..\u001b[0m                  \u001b[36m│\u001b[0m\n",
       "\u001b[36m│\u001b[0m \u001b[1;34mExpected Output: Complete the assigned task successfully.\u001b[0m                                                       \u001b[36m│\u001b[0m\n",
       "\u001b[36m│\u001b[0m                                                                                                                 \u001b[36m│\u001b[0m\n",
       "\u001b[36m│\u001b[0m \u001b[1;34mHere are the results of previous tasks that might be useful:\u001b[0m                                                    \u001b[36m│\u001b[0m\n",
       "\u001b[36m│\u001b[0m                                                                                                                 \u001b[36m│\u001b[0m\n",
       "\u001b[36m│\u001b[0m \u001b[1;34mResult of previous task Agent: 딥러닝은 인공지능의 한 분야로, 인공신경망을 기반으로 한 기계 학습 기술입니다. \u001b[0m   \u001b[36m│\u001b[0m\n",
       "\u001b[36m│\u001b[0m \u001b[1;34m이는 대량의 데이터를 처리하고 패턴을 학습하여 예측, 분류, 생성 등의 작업을 수행합니다. 딥러닝 모델은 여러 층의 \u001b[0m \u001b[36m│\u001b[0m\n",
       "\u001b[36m│\u001b[0m \u001b[1;34m뉴런으로 구성된 네트워크를 사용하여 입력 데이터를 점진적으로 추상화하고 복잡한 문제를 해결합니다. 주요 응용 \u001b[0m    \u001b[36m│\u001b[0m\n",
       "\u001b[36m│\u001b[0m \u001b[1;34m분야로는 이미지 및 음성 인식, 자연어 처리, 자율주행차, 의료 진단 등이 있습니다. 대표적인 딥러닝 프레임워크로는 \u001b[0m \u001b[36m│\u001b[0m\n",
       "\u001b[36m│\u001b[0m \u001b[1;34mTensorFlow, PyTorch, Keras 등이 있습니다.\u001b[0m                                                                       \u001b[36m│\u001b[0m\n",
       "\u001b[36m│\u001b[0m                                                                                                                 \u001b[36m│\u001b[0m\n",
       "\u001b[36m│\u001b[0m \u001b[1;34mPlease provide only the final result of your work. Do not add any conversation or extra explanation.\u001b[0m            \u001b[36m│\u001b[0m\n",
       "\u001b[36m╰─────────────────────────────────────────────────────────────────────────────────────────────────────────────────╯\u001b[0m\n"
      ]
     },
     "metadata": {},
     "output_type": "display_data"
    },
    {
     "data": {
      "text/html": [
       "<pre style=\"white-space:pre;overflow-x:auto;line-height:normal;font-family:Menlo,'DejaVu Sans Mono',consolas,'Courier New',monospace\"><span style=\"color: #7fbfbf; text-decoration-color: #7fbfbf\">[10:49:46] </span><span style=\"color: #000080; text-decoration-color: #000080\">INFO    </span> <span style=\"font-weight: bold\">[</span><span style=\"color: #00ff00; text-decoration-color: #00ff00; font-weight: bold\">10:49:46</span><span style=\"font-weight: bold\">]</span> _client.py:<span style=\"color: #008080; text-decoration-color: #008080; font-weight: bold\">1025</span> INFO HTTP Request: <span style=\"color: #808000; text-decoration-color: #808000; font-weight: bold\">POST</span>                              <a href=\"file://c:\\Users\\eys63\\anaconda3\\Lib\\site-packages\\httpx\\_client.py\" target=\"_blank\"><span style=\"color: #7f7f7f; text-decoration-color: #7f7f7f\">_client.py</span></a><span style=\"color: #7f7f7f; text-decoration-color: #7f7f7f\">:</span><a href=\"file://c:\\Users\\eys63\\anaconda3\\Lib\\site-packages\\httpx\\_client.py#1025\" target=\"_blank\"><span style=\"color: #7f7f7f; text-decoration-color: #7f7f7f\">1025</span></a>\n",
       "<span style=\"color: #7fbfbf; text-decoration-color: #7fbfbf\">           </span>         <span style=\"color: #0000ff; text-decoration-color: #0000ff; text-decoration: underline\">https://api.openai.com/v1/chat/completions</span> <span style=\"color: #008000; text-decoration-color: #008000\">\"HTTP/1.1 200 OK\"</span>                    <span style=\"color: #7f7f7f; text-decoration-color: #7f7f7f\">               </span>\n",
       "</pre>\n"
      ],
      "text/plain": [
       "\u001b[2;36m[10:49:46]\u001b[0m\u001b[2;36m \u001b[0m\u001b[34mINFO    \u001b[0m \u001b[1m[\u001b[0m\u001b[1;92m10:49:46\u001b[0m\u001b[1m]\u001b[0m _client.py:\u001b[1;36m1025\u001b[0m INFO HTTP Request: \u001b[1;33mPOST\u001b[0m                              \u001b]8;id=545228;file://c:\\Users\\eys63\\anaconda3\\Lib\\site-packages\\httpx\\_client.py\u001b\\\u001b[2m_client.py\u001b[0m\u001b]8;;\u001b\\\u001b[2m:\u001b[0m\u001b]8;id=1915;file://c:\\Users\\eys63\\anaconda3\\Lib\\site-packages\\httpx\\_client.py#1025\u001b\\\u001b[2m1025\u001b[0m\u001b]8;;\u001b\\\n",
       "\u001b[2;36m           \u001b[0m         \u001b[4;94mhttps://api.openai.com/v1/chat/completions\u001b[0m \u001b[32m\"HTTP/1.1 200 OK\"\u001b[0m                    \u001b[2m               \u001b[0m\n"
      ]
     },
     "metadata": {},
     "output_type": "display_data"
    },
    {
     "data": {
      "text/html": [
       "<pre style=\"white-space:pre;overflow-x:auto;line-height:normal;font-family:Menlo,'DejaVu Sans Mono',consolas,'Courier New',monospace\"><span style=\"color: #7fbfbf; text-decoration-color: #7fbfbf\">[10:49:47] </span><span style=\"color: #000080; text-decoration-color: #000080\">INFO    </span> <span style=\"font-weight: bold\">[</span><span style=\"color: #00ff00; text-decoration-color: #00ff00; font-weight: bold\">10:49:47</span><span style=\"font-weight: bold\">]</span> _client.py:<span style=\"color: #008080; text-decoration-color: #008080; font-weight: bold\">1025</span> INFO HTTP Request: <span style=\"color: #808000; text-decoration-color: #808000; font-weight: bold\">POST</span>                              <a href=\"file://c:\\Users\\eys63\\anaconda3\\Lib\\site-packages\\httpx\\_client.py\" target=\"_blank\"><span style=\"color: #7f7f7f; text-decoration-color: #7f7f7f\">_client.py</span></a><span style=\"color: #7f7f7f; text-decoration-color: #7f7f7f\">:</span><a href=\"file://c:\\Users\\eys63\\anaconda3\\Lib\\site-packages\\httpx\\_client.py#1025\" target=\"_blank\"><span style=\"color: #7f7f7f; text-decoration-color: #7f7f7f\">1025</span></a>\n",
       "<span style=\"color: #7fbfbf; text-decoration-color: #7fbfbf\">           </span>         <span style=\"color: #0000ff; text-decoration-color: #0000ff; text-decoration: underline\">https://api.openai.com/v1/chat/completions</span> <span style=\"color: #008000; text-decoration-color: #008000\">\"HTTP/1.1 200 OK\"</span>                    <span style=\"color: #7f7f7f; text-decoration-color: #7f7f7f\">               </span>\n",
       "</pre>\n"
      ],
      "text/plain": [
       "\u001b[2;36m[10:49:47]\u001b[0m\u001b[2;36m \u001b[0m\u001b[34mINFO    \u001b[0m \u001b[1m[\u001b[0m\u001b[1;92m10:49:47\u001b[0m\u001b[1m]\u001b[0m _client.py:\u001b[1;36m1025\u001b[0m INFO HTTP Request: \u001b[1;33mPOST\u001b[0m                              \u001b]8;id=489502;file://c:\\Users\\eys63\\anaconda3\\Lib\\site-packages\\httpx\\_client.py\u001b\\\u001b[2m_client.py\u001b[0m\u001b]8;;\u001b\\\u001b[2m:\u001b[0m\u001b]8;id=452138;file://c:\\Users\\eys63\\anaconda3\\Lib\\site-packages\\httpx\\_client.py#1025\u001b\\\u001b[2m1025\u001b[0m\u001b]8;;\u001b\\\n",
       "\u001b[2;36m           \u001b[0m         \u001b[4;94mhttps://api.openai.com/v1/chat/completions\u001b[0m \u001b[32m\"HTTP/1.1 200 OK\"\u001b[0m                    \u001b[2m               \u001b[0m\n"
      ]
     },
     "metadata": {},
     "output_type": "display_data"
    },
    {
     "data": {
      "application/vnd.jupyter.widget-view+json": {
       "model_id": "05214653ff5b43eeac31c00e9a7978a9",
       "version_major": 2,
       "version_minor": 0
      },
      "text/plain": [
       "Output()"
      ]
     },
     "metadata": {},
     "output_type": "display_data"
    },
    {
     "data": {
      "text/html": [
       "<pre style=\"white-space:pre;overflow-x:auto;line-height:normal;font-family:Menlo,'DejaVu Sans Mono',consolas,'Courier New',monospace\"></pre>\n"
      ],
      "text/plain": []
     },
     "metadata": {},
     "output_type": "display_data"
    },
    {
     "data": {
      "text/html": [
       "<pre style=\"white-space:pre;overflow-x:auto;line-height:normal;font-family:Menlo,'DejaVu Sans Mono',consolas,'Courier New',monospace\">\n",
       "</pre>\n"
      ],
      "text/plain": [
       "\n"
      ]
     },
     "metadata": {},
     "output_type": "display_data"
    },
    {
     "data": {
      "text/html": [
       "<pre style=\"white-space:pre;overflow-x:auto;line-height:normal;font-family:Menlo,'DejaVu Sans Mono',consolas,'Courier New',monospace\"><span style=\"color: #7fbfbf; text-decoration-color: #7fbfbf\">[10:49:52] </span><span style=\"color: #000080; text-decoration-color: #000080\">INFO    </span> <span style=\"font-weight: bold\">[</span><span style=\"color: #00ff00; text-decoration-color: #00ff00; font-weight: bold\">10:49:52</span><span style=\"font-weight: bold\">]</span> _client.py:<span style=\"color: #008080; text-decoration-color: #008080; font-weight: bold\">1025</span> INFO HTTP Request: <span style=\"color: #808000; text-decoration-color: #808000; font-weight: bold\">POST</span>                              <a href=\"file://c:\\Users\\eys63\\anaconda3\\Lib\\site-packages\\httpx\\_client.py\" target=\"_blank\"><span style=\"color: #7f7f7f; text-decoration-color: #7f7f7f\">_client.py</span></a><span style=\"color: #7f7f7f; text-decoration-color: #7f7f7f\">:</span><a href=\"file://c:\\Users\\eys63\\anaconda3\\Lib\\site-packages\\httpx\\_client.py#1025\" target=\"_blank\"><span style=\"color: #7f7f7f; text-decoration-color: #7f7f7f\">1025</span></a>\n",
       "<span style=\"color: #7fbfbf; text-decoration-color: #7fbfbf\">           </span>         <span style=\"color: #0000ff; text-decoration-color: #0000ff; text-decoration: underline\">https://api.openai.com/v1/chat/completions</span> <span style=\"color: #008000; text-decoration-color: #008000\">\"HTTP/1.1 200 OK\"</span>                    <span style=\"color: #7f7f7f; text-decoration-color: #7f7f7f\">               </span>\n",
       "</pre>\n"
      ],
      "text/plain": [
       "\u001b[2;36m[10:49:52]\u001b[0m\u001b[2;36m \u001b[0m\u001b[34mINFO    \u001b[0m \u001b[1m[\u001b[0m\u001b[1;92m10:49:52\u001b[0m\u001b[1m]\u001b[0m _client.py:\u001b[1;36m1025\u001b[0m INFO HTTP Request: \u001b[1;33mPOST\u001b[0m                              \u001b]8;id=925969;file://c:\\Users\\eys63\\anaconda3\\Lib\\site-packages\\httpx\\_client.py\u001b\\\u001b[2m_client.py\u001b[0m\u001b]8;;\u001b\\\u001b[2m:\u001b[0m\u001b]8;id=659687;file://c:\\Users\\eys63\\anaconda3\\Lib\\site-packages\\httpx\\_client.py#1025\u001b\\\u001b[2m1025\u001b[0m\u001b]8;;\u001b\\\n",
       "\u001b[2;36m           \u001b[0m         \u001b[4;94mhttps://api.openai.com/v1/chat/completions\u001b[0m \u001b[32m\"HTTP/1.1 200 OK\"\u001b[0m                    \u001b[2m               \u001b[0m\n"
      ]
     },
     "metadata": {},
     "output_type": "display_data"
    },
    {
     "data": {
      "text/html": [
       "<pre style=\"white-space:pre;overflow-x:auto;line-height:normal;font-family:Menlo,'DejaVu Sans Mono',consolas,'Courier New',monospace\"><span style=\"color: #7fbfbf; text-decoration-color: #7fbfbf\">           </span><span style=\"color: #000080; text-decoration-color: #000080\">INFO    </span> <span style=\"font-weight: bold\">[</span><span style=\"color: #00ff00; text-decoration-color: #00ff00; font-weight: bold\">10:49:52</span><span style=\"font-weight: bold\">]</span> agent.py:<span style=\"color: #008080; text-decoration-color: #008080; font-weight: bold\">528</span> INFO Agent Agent final response: 딥러닝은 인공지능의 한    <a href=\"file://c:\\Users\\eys63\\anaconda3\\Lib\\site-packages\\praisonaiagents\\agent\\agent.py\" target=\"_blank\"><span style=\"color: #7f7f7f; text-decoration-color: #7f7f7f\">agent.py</span></a><span style=\"color: #7f7f7f; text-decoration-color: #7f7f7f\">:</span><a href=\"file://c:\\Users\\eys63\\anaconda3\\Lib\\site-packages\\praisonaiagents\\agent\\agent.py#528\" target=\"_blank\"><span style=\"color: #7f7f7f; text-decoration-color: #7f7f7f\">528</span></a>\n",
       "<span style=\"color: #7fbfbf; text-decoration-color: #7fbfbf\">           </span>         분야로, 인공신경망을 기반으로 한 기계 학습 기술입니다. 이는 대량의 데이터를        <span style=\"color: #7f7f7f; text-decoration-color: #7f7f7f\">            </span>\n",
       "<span style=\"color: #7fbfbf; text-decoration-color: #7fbfbf\">           </span>         처리하고 패턴을 학습하여 예측, 분류, 생성 등의 작업을 수행합니다. 딥러닝 모델은    <span style=\"color: #7f7f7f; text-decoration-color: #7f7f7f\">            </span>\n",
       "<span style=\"color: #7fbfbf; text-decoration-color: #7fbfbf\">           </span>         여러 층의 뉴런으로 구성된 네트워크를 사용하여 입력 데이터를 점진적으로 추상화하고  <span style=\"color: #7f7f7f; text-decoration-color: #7f7f7f\">            </span>\n",
       "<span style=\"color: #7fbfbf; text-decoration-color: #7fbfbf\">           </span>         복잡한 문제를 해결합니다. 주요 응용 분야로는 이미지 및 음성 인식, 자연어 처리,     <span style=\"color: #7f7f7f; text-decoration-color: #7f7f7f\">            </span>\n",
       "<span style=\"color: #7fbfbf; text-decoration-color: #7fbfbf\">           </span>         자율주행차, 의료 진단 등이 있습니다. 대표적인 딥러닝 프레임워크로는 TensorFlow,    <span style=\"color: #7f7f7f; text-decoration-color: #7f7f7f\">            </span>\n",
       "<span style=\"color: #7fbfbf; text-decoration-color: #7fbfbf\">           </span>         PyTorch, Keras 등이 있습니다.                                                      <span style=\"color: #7f7f7f; text-decoration-color: #7f7f7f\">            </span>\n",
       "</pre>\n"
      ],
      "text/plain": [
       "\u001b[2;36m          \u001b[0m\u001b[2;36m \u001b[0m\u001b[34mINFO    \u001b[0m \u001b[1m[\u001b[0m\u001b[1;92m10:49:52\u001b[0m\u001b[1m]\u001b[0m agent.py:\u001b[1;36m528\u001b[0m INFO Agent Agent final response: 딥러닝은 인공지능의 한    \u001b]8;id=760541;file://c:\\Users\\eys63\\anaconda3\\Lib\\site-packages\\praisonaiagents\\agent\\agent.py\u001b\\\u001b[2magent.py\u001b[0m\u001b]8;;\u001b\\\u001b[2m:\u001b[0m\u001b]8;id=152939;file://c:\\Users\\eys63\\anaconda3\\Lib\\site-packages\\praisonaiagents\\agent\\agent.py#528\u001b\\\u001b[2m528\u001b[0m\u001b]8;;\u001b\\\n",
       "\u001b[2;36m           \u001b[0m         분야로, 인공신경망을 기반으로 한 기계 학습 기술입니다. 이는 대량의 데이터를        \u001b[2m            \u001b[0m\n",
       "\u001b[2;36m           \u001b[0m         처리하고 패턴을 학습하여 예측, 분류, 생성 등의 작업을 수행합니다. 딥러닝 모델은    \u001b[2m            \u001b[0m\n",
       "\u001b[2;36m           \u001b[0m         여러 층의 뉴런으로 구성된 네트워크를 사용하여 입력 데이터를 점진적으로 추상화하고  \u001b[2m            \u001b[0m\n",
       "\u001b[2;36m           \u001b[0m         복잡한 문제를 해결합니다. 주요 응용 분야로는 이미지 및 음성 인식, 자연어 처리,     \u001b[2m            \u001b[0m\n",
       "\u001b[2;36m           \u001b[0m         자율주행차, 의료 진단 등이 있습니다. 대표적인 딥러닝 프레임워크로는 TensorFlow,    \u001b[2m            \u001b[0m\n",
       "\u001b[2;36m           \u001b[0m         PyTorch, Keras 등이 있습니다.                                                      \u001b[2m            \u001b[0m\n"
      ]
     },
     "metadata": {},
     "output_type": "display_data"
    },
    {
     "data": {
      "text/html": [
       "<pre style=\"white-space:pre;overflow-x:auto;line-height:normal;font-family:Menlo,'DejaVu Sans Mono',consolas,'Courier New',monospace\"><span style=\"color: #7f7f7f; text-decoration-color: #7f7f7f\">Response generated in 8.8s</span>\n",
       "</pre>\n"
      ],
      "text/plain": [
       "\u001b[2mResponse generated in 8.8s\u001b[0m\n"
      ]
     },
     "metadata": {},
     "output_type": "display_data"
    },
    {
     "data": {
      "text/html": [
       "<pre style=\"white-space:pre;overflow-x:auto;line-height:normal;font-family:Menlo,'DejaVu Sans Mono',consolas,'Courier New',monospace\"><span style=\"color: #008080; text-decoration-color: #008080\">╭──────────────────────────────────────────────────── Message ────────────────────────────────────────────────────╮</span>\n",
       "<span style=\"color: #008080; text-decoration-color: #008080\">│</span> You need to do the following task: 너는 요약 agent로 관련된 정보를 찾아서 설명해주는 agent야.. Expected Output: <span style=\"color: #008080; text-decoration-color: #008080\">│</span>\n",
       "<span style=\"color: #008080; text-decoration-color: #008080\">│</span> Complete the assigned task successfully.                                                                        <span style=\"color: #008080; text-decoration-color: #008080\">│</span>\n",
       "<span style=\"color: #008080; text-decoration-color: #008080\">│</span>                                                                                                                 <span style=\"color: #008080; text-decoration-color: #008080\">│</span>\n",
       "<span style=\"color: #008080; text-decoration-color: #008080\">│</span> Here are the results of previous tasks that might be useful:                                                    <span style=\"color: #008080; text-decoration-color: #008080\">│</span>\n",
       "<span style=\"color: #008080; text-decoration-color: #008080\">│</span>                                                                                                                 <span style=\"color: #008080; text-decoration-color: #008080\">│</span>\n",
       "<span style=\"color: #008080; text-decoration-color: #008080\">│</span> Result of previous task Agent: 딥러닝은 인공지능의 한 분야로, 인공신경망을 기반으로 한 기계 학습 기술입니다.    <span style=\"color: #008080; text-decoration-color: #008080\">│</span>\n",
       "<span style=\"color: #008080; text-decoration-color: #008080\">│</span> 이는 대량의 데이터를 처리하고 패턴을 학습하여 예측, 분류, 생성 등의 작업을 수행합니다. 딥러닝 모델은 여러 층의  <span style=\"color: #008080; text-decoration-color: #008080\">│</span>\n",
       "<span style=\"color: #008080; text-decoration-color: #008080\">│</span> 뉴런으로 구성된 네트워크를 사용하여 입력 데이터를 점진적으로 추상화하고 복잡한 문제를 해결합니다. 주요 응용     <span style=\"color: #008080; text-decoration-color: #008080\">│</span>\n",
       "<span style=\"color: #008080; text-decoration-color: #008080\">│</span> 분야로는 이미지 및 음성 인식, 자연어 처리, 자율주행차, 의료 진단 등이 있습니다. 대표적인 딥러닝 프레임워크로는  <span style=\"color: #008080; text-decoration-color: #008080\">│</span>\n",
       "<span style=\"color: #008080; text-decoration-color: #008080\">│</span> TensorFlow, PyTorch, Keras 등이 있습니다.                                                                       <span style=\"color: #008080; text-decoration-color: #008080\">│</span>\n",
       "<span style=\"color: #008080; text-decoration-color: #008080\">│</span>                                                                                                                 <span style=\"color: #008080; text-decoration-color: #008080\">│</span>\n",
       "<span style=\"color: #008080; text-decoration-color: #008080\">│</span> Please provide only the final result of your work. Do not add any conversation or extra explanation.            <span style=\"color: #008080; text-decoration-color: #008080\">│</span>\n",
       "<span style=\"color: #008080; text-decoration-color: #008080\">╰─────────────────────────────────────────────────────────────────────────────────────────────────────────────────╯</span>\n",
       "</pre>\n"
      ],
      "text/plain": [
       "\u001b[36m╭─\u001b[0m\u001b[36m───────────────────────────────────────────────────\u001b[0m\u001b[36m Message \u001b[0m\u001b[36m───────────────────────────────────────────────────\u001b[0m\u001b[36m─╮\u001b[0m\n",
       "\u001b[36m│\u001b[0m You need to do the following task: 너는 요약 agent로 관련된 정보를 찾아서 설명해주는 agent야.. Expected Output: \u001b[36m│\u001b[0m\n",
       "\u001b[36m│\u001b[0m Complete the assigned task successfully.                                                                        \u001b[36m│\u001b[0m\n",
       "\u001b[36m│\u001b[0m                                                                                                                 \u001b[36m│\u001b[0m\n",
       "\u001b[36m│\u001b[0m Here are the results of previous tasks that might be useful:                                                    \u001b[36m│\u001b[0m\n",
       "\u001b[36m│\u001b[0m                                                                                                                 \u001b[36m│\u001b[0m\n",
       "\u001b[36m│\u001b[0m Result of previous task Agent: 딥러닝은 인공지능의 한 분야로, 인공신경망을 기반으로 한 기계 학습 기술입니다.    \u001b[36m│\u001b[0m\n",
       "\u001b[36m│\u001b[0m 이는 대량의 데이터를 처리하고 패턴을 학습하여 예측, 분류, 생성 등의 작업을 수행합니다. 딥러닝 모델은 여러 층의  \u001b[36m│\u001b[0m\n",
       "\u001b[36m│\u001b[0m 뉴런으로 구성된 네트워크를 사용하여 입력 데이터를 점진적으로 추상화하고 복잡한 문제를 해결합니다. 주요 응용     \u001b[36m│\u001b[0m\n",
       "\u001b[36m│\u001b[0m 분야로는 이미지 및 음성 인식, 자연어 처리, 자율주행차, 의료 진단 등이 있습니다. 대표적인 딥러닝 프레임워크로는  \u001b[36m│\u001b[0m\n",
       "\u001b[36m│\u001b[0m TensorFlow, PyTorch, Keras 등이 있습니다.                                                                       \u001b[36m│\u001b[0m\n",
       "\u001b[36m│\u001b[0m                                                                                                                 \u001b[36m│\u001b[0m\n",
       "\u001b[36m│\u001b[0m Please provide only the final result of your work. Do not add any conversation or extra explanation.            \u001b[36m│\u001b[0m\n",
       "\u001b[36m╰─────────────────────────────────────────────────────────────────────────────────────────────────────────────────╯\u001b[0m\n"
      ]
     },
     "metadata": {},
     "output_type": "display_data"
    },
    {
     "data": {
      "text/html": [
       "<pre style=\"white-space:pre;overflow-x:auto;line-height:normal;font-family:Menlo,'DejaVu Sans Mono',consolas,'Courier New',monospace\"><span style=\"color: #008080; text-decoration-color: #008080\">╭─────────────────────────────────────────────────── Response ────────────────────────────────────────────────────╮</span>\n",
       "<span style=\"color: #008080; text-decoration-color: #008080\">│</span> 딥러닝은 인공지능의 한 분야로, 인공신경망을 기반으로 한 기계 학습 기술입니다. 이는 대량의 데이터를 처리하고     <span style=\"color: #008080; text-decoration-color: #008080\">│</span>\n",
       "<span style=\"color: #008080; text-decoration-color: #008080\">│</span> 패턴을 학습하여 예측, 분류, 생성 등의 작업을 수행합니다. 딥러닝 모델은 여러 층의 뉴런으로 구성된 네트워크를     <span style=\"color: #008080; text-decoration-color: #008080\">│</span>\n",
       "<span style=\"color: #008080; text-decoration-color: #008080\">│</span> 사용하여 입력 데이터를 점진적으로 추상화하고 복잡한 문제를 해결합니다. 주요 응용 분야로는 이미지 및 음성 인식,  <span style=\"color: #008080; text-decoration-color: #008080\">│</span>\n",
       "<span style=\"color: #008080; text-decoration-color: #008080\">│</span> 자연어 처리, 자율주행차, 의료 진단 등이 있습니다. 대표적인 딥러닝 프레임워크로는 TensorFlow, PyTorch, Keras     <span style=\"color: #008080; text-decoration-color: #008080\">│</span>\n",
       "<span style=\"color: #008080; text-decoration-color: #008080\">│</span> 등이 있습니다.                                                                                                  <span style=\"color: #008080; text-decoration-color: #008080\">│</span>\n",
       "<span style=\"color: #008080; text-decoration-color: #008080\">╰─────────────────────────────────────────────────────────────────────────────────────────────────────────────────╯</span>\n",
       "</pre>\n"
      ],
      "text/plain": [
       "\u001b[36m╭─\u001b[0m\u001b[36m──────────────────────────────────────────────────\u001b[0m\u001b[36m Response \u001b[0m\u001b[36m───────────────────────────────────────────────────\u001b[0m\u001b[36m─╮\u001b[0m\n",
       "\u001b[36m│\u001b[0m 딥러닝은 인공지능의 한 분야로, 인공신경망을 기반으로 한 기계 학습 기술입니다. 이는 대량의 데이터를 처리하고     \u001b[36m│\u001b[0m\n",
       "\u001b[36m│\u001b[0m 패턴을 학습하여 예측, 분류, 생성 등의 작업을 수행합니다. 딥러닝 모델은 여러 층의 뉴런으로 구성된 네트워크를     \u001b[36m│\u001b[0m\n",
       "\u001b[36m│\u001b[0m 사용하여 입력 데이터를 점진적으로 추상화하고 복잡한 문제를 해결합니다. 주요 응용 분야로는 이미지 및 음성 인식,  \u001b[36m│\u001b[0m\n",
       "\u001b[36m│\u001b[0m 자연어 처리, 자율주행차, 의료 진단 등이 있습니다. 대표적인 딥러닝 프레임워크로는 TensorFlow, PyTorch, Keras     \u001b[36m│\u001b[0m\n",
       "\u001b[36m│\u001b[0m 등이 있습니다.                                                                                                  \u001b[36m│\u001b[0m\n",
       "\u001b[36m╰─────────────────────────────────────────────────────────────────────────────────────────────────────────────────╯\u001b[0m\n"
      ]
     },
     "metadata": {},
     "output_type": "display_data"
    },
    {
     "data": {
      "text/plain": [
       "{'task_status': {0: 'completed', 1: 'completed'},\n",
       " 'task_results': {0: TaskOutput(description='너는 인공지능 딥러닝에 관해서 알려주는 agent야.', summary='너는 인공지능 딥러', raw='딥러닝은 인공지능의 한 분야로, 인공신경망을 기반으로 한 기계 학습 기술입니다. 이는 대량의 데이터를 처리하고 패턴을 학습하여 예측, 분류, 생성 등의 작업을 수행합니다. 딥러닝 모델은 여러 층의 뉴런으로 구성된 네트워크를 사용하여 입력 데이터를 점진적으로 추상화하고 복잡한 문제를 해결합니다. 주요 응용 분야로는 이미지 및 음성 인식, 자연어 처리, 자율주행차, 의료 진단 등이 있습니다. 대표적인 딥러닝 프레임워크로는 TensorFlow, PyTorch, Keras 등이 있습니다.', pydantic=None, json_dict=None, agent='Agent', output_format='RAW'),\n",
       "  1: TaskOutput(description='너는 요약 agent로 관련된 정보를 찾아서 설명해주는 agent야.', summary='너는 요약 agen', raw='딥러닝은 인공지능의 한 분야로, 인공신경망을 기반으로 한 기계 학습 기술입니다. 이는 대량의 데이터를 처리하고 패턴을 학습하여 예측, 분류, 생성 등의 작업을 수행합니다. 딥러닝 모델은 여러 층의 뉴런으로 구성된 네트워크를 사용하여 입력 데이터를 점진적으로 추상화하고 복잡한 문제를 해결합니다. 주요 응용 분야로는 이미지 및 음성 인식, 자연어 처리, 자율주행차, 의료 진단 등이 있습니다. 대표적인 딥러닝 프레임워크로는 TensorFlow, PyTorch, Keras 등이 있습니다.', pydantic=None, json_dict=None, agent='Agent', output_format='RAW')}}"
      ]
     },
     "execution_count": 2,
     "metadata": {},
     "output_type": "execute_result"
    }
   ],
   "source": [
    "from praisonaiagents import Agent, Agents, Tools\n",
    "\n",
    "# Research agent: 인터넷에서 인공지능 및 딥러닝 관련 정보를 검색\n",
    "research_agent = Agent(\n",
    "    instructions='너는 인공지능 딥러닝에 관해서 알려주는 agent야.',\n",
    "    tools=[Tools.internet_search],\n",
    "    llm='gpt-4o',\n",
    ")\n",
    "\n",
    "# Summarize agent: 검색 결과를 요약하고 한국어로 설명\n",
    "summarize_agent = Agent(\n",
    "    instructions='너는 요약 agent로 관련된 정보를 찾아서 설명해주는 agent야.',\n",
    "    llm='gpt-4o',\n",
    ")\n",
    "\n",
    "# 작업 실행\n",
    "agents = Agents(agents=[research_agent, summarize_agent])\n",
    "agents.start()"
   ]
  }
 ],
 "metadata": {
  "kernelspec": {
   "display_name": "base",
   "language": "python",
   "name": "python3"
  },
  "language_info": {
   "codemirror_mode": {
    "name": "ipython",
    "version": 3
   },
   "file_extension": ".py",
   "mimetype": "text/x-python",
   "name": "python",
   "nbconvert_exporter": "python",
   "pygments_lexer": "ipython3",
   "version": "3.12.4"
  }
 },
 "nbformat": 4,
 "nbformat_minor": 2
}
