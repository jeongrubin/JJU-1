{
 "cells": [
  {
   "cell_type": "code",
   "execution_count": 1,
   "metadata": {},
   "outputs": [
    {
     "name": "stderr",
     "output_type": "stream",
     "text": [
      "WARNING: Skipping C:\\Users\\eys63\\anaconda3\\Lib\\site-packages\\tensorflow_intel-2.18.0.dist-info due to invalid metadata entry 'name'\n",
      "WARNING: Skipping C:\\Users\\eys63\\anaconda3\\Lib\\site-packages\\tensorflow_intel-2.18.0.dist-info due to invalid metadata entry 'name'\n"
     ]
    }
   ],
   "source": [
    "!pip install -qU langchain_openai"
   ]
  },
  {
   "cell_type": "code",
   "execution_count": 2,
   "metadata": {},
   "outputs": [],
   "source": [
    "from dotenv import load_dotenv\n",
    "import os\n",
    "\n",
    "load_dotenv()\n",
    "\n",
    "OPENAI_API_KEY = os.getenv(\"OPENAI_API_KEY\")\n",
    "LANGCHAIN_API_KEY = os.getenv(\"LANGCHAIN_API_KEY\")\n",
    "LANGCHAIN_TRACING_V2 = os.getenv(\"LANGCHAIN_TRACING_V2\")\n",
    "LANGCHAIN_ENDPOINT = os.getenv(\"LANGCHAIN_ENDPOINT\")\n",
    "LANGCHAIN_PROJECT_ID = os.getenv(\"LANGCHAIN_PROJECT_ID\")"
   ]
  },
  {
   "cell_type": "code",
   "execution_count": 3,
   "metadata": {},
   "outputs": [],
   "source": [
    "from langchain_openai import ChatOpenAI\n",
    "\n",
    "llm = ChatOpenAI(\n",
    "    model=\"gpt-4o\",\n",
    "    temperature=0,\n",
    "    max_tokens=None, # 보통 2000개 정도가 적당함\n",
    "    timeout=None,\n",
    "    max_retries=2,\n",
    "    #openai_api_key=os.getenv(\"OPENAI_API_KEY\")\n",
    ")"
   ]
  },
  {
   "cell_type": "code",
   "execution_count": 4,
   "metadata": {},
   "outputs": [
    {
     "data": {
      "text/plain": [
       "ChatOpenAI(client=<openai.resources.chat.completions.Completions object at 0x0000016AF92F42C0>, async_client=<openai.resources.chat.completions.AsyncCompletions object at 0x0000016AF92F5E20>, root_client=<openai.OpenAI object at 0x0000016AF8FB2BD0>, root_async_client=<openai.AsyncOpenAI object at 0x0000016AF92F4350>, model_name='gpt-4o', temperature=0.0, model_kwargs={}, openai_api_key=SecretStr('**********'))"
      ]
     },
     "execution_count": 4,
     "metadata": {},
     "output_type": "execute_result"
    }
   ],
   "source": [
    "llm"
   ]
  },
  {
   "cell_type": "code",
   "execution_count": 5,
   "metadata": {},
   "outputs": [],
   "source": [
    "prompt = \"비트코인이란?\""
   ]
  },
  {
   "cell_type": "code",
   "execution_count": 6,
   "metadata": {},
   "outputs": [
    {
     "data": {
      "text/plain": [
       "'비트코인이란?'"
      ]
     },
     "execution_count": 6,
     "metadata": {},
     "output_type": "execute_result"
    }
   ],
   "source": [
    "prompt"
   ]
  },
  {
   "cell_type": "code",
   "execution_count": 7,
   "metadata": {},
   "outputs": [],
   "source": [
    "result=llm.invoke(prompt)"
   ]
  },
  {
   "cell_type": "code",
   "execution_count": 8,
   "metadata": {},
   "outputs": [
    {
     "data": {
      "text/plain": [
       "AIMessage(content='비트코인은 2009년에 사토시 나카모토라는 가명을 사용하는 익명의 인물 또는 그룹에 의해 처음 소개된 디지털 암호화폐입니다. 비트코인은 중앙은행이나 정부의 개입 없이 개인 간의 거래를 가능하게 하는 탈중앙화된 디지털 통화입니다. 블록체인이라는 분산 원장 기술을 기반으로 하며, 이는 모든 거래가 네트워크의 모든 참여자에게 투명하게 기록되고 검증되도록 합니다.\\n\\n비트코인의 주요 특징은 다음과 같습니다:\\n\\n1. **탈중앙화**: 비트코인은 중앙 권한 없이 운영되며, 네트워크 참여자들이 거래를 검증하고 기록합니다.\\n\\n2. **익명성**: 사용자들은 공개 키와 개인 키를 사용하여 거래를 수행하며, 이는 어느 정도의 익명성을 제공합니다.\\n\\n3. **한정된 공급**: 비트코인의 총 공급량은 2100만 개로 제한되어 있어 인플레이션의 위험을 줄입니다.\\n\\n4. **보안성**: 암호화 기술을 사용하여 거래의 안전성을 보장합니다.\\n\\n5. **변동성**: 비트코인의 가격은 시장 수요와 공급에 따라 크게 변동할 수 있습니다.\\n\\n비트코인은 디지털 자산으로서 투자, 가치 저장, 그리고 일부 상점이나 서비스에서 결제 수단으로 사용되고 있습니다. 그러나 그 변동성과 규제 문제로 인해 논란의 대상이 되기도 합니다.', additional_kwargs={'refusal': None}, response_metadata={'token_usage': {'completion_tokens': 324, 'prompt_tokens': 13, 'total_tokens': 337, 'completion_tokens_details': {'accepted_prediction_tokens': 0, 'audio_tokens': 0, 'reasoning_tokens': 0, 'rejected_prediction_tokens': 0}, 'prompt_tokens_details': {'audio_tokens': 0, 'cached_tokens': 0}}, 'model_name': 'gpt-4o-2024-08-06', 'system_fingerprint': 'fp_b7d65f1a5b', 'finish_reason': 'stop', 'logprobs': None}, id='run-071c12af-8e1d-47f8-90ef-36fd72f97329-0', usage_metadata={'input_tokens': 13, 'output_tokens': 324, 'total_tokens': 337, 'input_token_details': {'audio': 0, 'cache_read': 0}, 'output_token_details': {'audio': 0, 'reasoning': 0}})"
      ]
     },
     "execution_count": 8,
     "metadata": {},
     "output_type": "execute_result"
    }
   ],
   "source": [
    "result"
   ]
  },
  {
   "cell_type": "markdown",
   "metadata": {},
   "source": [
    "## 2. PromptTemplate_Basic"
   ]
  },
  {
   "cell_type": "code",
   "execution_count": 9,
   "metadata": {},
   "outputs": [],
   "source": [
    "prompt_2 = [\n",
    "    (\"system\", \"너는 제시된 국가의 수도가 어디인지 알려주는 어시스턴트야. 단어로 제시해\"),\n",
    "    (\"human\", \"한국\")\n",
    "]"
   ]
  },
  {
   "cell_type": "code",
   "execution_count": 10,
   "metadata": {},
   "outputs": [
    {
     "data": {
      "text/plain": [
       "[('system', '너는 제시된 국가의 수도가 어디인지 알려주는 어시스턴트야. 단어로 제시해'), ('human', '한국')]"
      ]
     },
     "execution_count": 10,
     "metadata": {},
     "output_type": "execute_result"
    }
   ],
   "source": [
    "prompt_2"
   ]
  },
  {
   "cell_type": "code",
   "execution_count": 11,
   "metadata": {},
   "outputs": [],
   "source": [
    "Response_2=llm.invoke(prompt_2)\n",
    "# 랭스미스 키 넣어야 함"
   ]
  },
  {
   "cell_type": "markdown",
   "metadata": {},
   "source": [
    "## 3_1 promptTemplate(1)"
   ]
  },
  {
   "cell_type": "code",
   "execution_count": 12,
   "metadata": {},
   "outputs": [],
   "source": [
    "from langchain_core.prompts import PromptTemplate\n",
    "\n",
    "template = \"{input_dict}의 개념은?\"\n",
    "\n",
    "prompt_3 = PromptTemplate.from_template(template)"
   ]
  },
  {
   "cell_type": "code",
   "execution_count": 13,
   "metadata": {},
   "outputs": [
    {
     "data": {
      "text/plain": [
       "PromptTemplate(input_variables=['input_dict'], input_types={}, partial_variables={}, template='{input_dict}의 개념은?')"
      ]
     },
     "execution_count": 13,
     "metadata": {},
     "output_type": "execute_result"
    }
   ],
   "source": [
    "prompt_3"
   ]
  },
  {
   "cell_type": "code",
   "execution_count": 16,
   "metadata": {},
   "outputs": [
    {
     "data": {
      "text/plain": [
       "'개념의 개념은?'"
      ]
     },
     "execution_count": 16,
     "metadata": {},
     "output_type": "execute_result"
    }
   ],
   "source": [
    "prompt_3_3 = prompt_3.format(input_dict=\"개념\")\n",
    "prompt_3_3"
   ]
  },
  {
   "cell_type": "code",
   "execution_count": 17,
   "metadata": {},
   "outputs": [
    {
     "data": {
      "text/plain": [
       "AIMessage(content='\"개념의 개념\"이라는 표현은 다소 추상적이지만, 이를 이해하기 위해서는 \"개념\"이라는 용어의 기본적인 의미를 먼저 살펴볼 필요가 있습니다. 개념은 일반적으로 어떤 대상이나 현상에 대한 일반적인 이해나 인식을 나타내는 정신적 표상입니다. 이는 특정한 특성이나 속성을 통해 여러 개별적인 사례들을 묶어주는 역할을 합니다.\\n\\n따라서 \"개념의 개념\"은 개념 자체를 하나의 대상이나 주제로 삼아 그것에 대한 일반적인 이해나 정의를 내리는 것을 의미할 수 있습니다. 이는 철학적 탐구의 주제가 될 수 있으며, 개념이 어떻게 형성되고 사용되는지, 그리고 그것이 우리의 사고와 의사소통에 어떤 영향을 미치는지를 분석하는 과정일 수 있습니다.', additional_kwargs={'refusal': None}, response_metadata={'token_usage': {'completion_tokens': 181, 'prompt_tokens': 14, 'total_tokens': 195, 'completion_tokens_details': {'accepted_prediction_tokens': 0, 'audio_tokens': 0, 'reasoning_tokens': 0, 'rejected_prediction_tokens': 0}, 'prompt_tokens_details': {'audio_tokens': 0, 'cached_tokens': 0}}, 'model_name': 'gpt-4o-2024-08-06', 'system_fingerprint': 'fp_b7d65f1a5b', 'finish_reason': 'stop', 'logprobs': None}, id='run-ad77ab06-2381-41e3-8015-e4ef87786ea2-0', usage_metadata={'input_tokens': 14, 'output_tokens': 181, 'total_tokens': 195, 'input_token_details': {'audio': 0, 'cache_read': 0}, 'output_token_details': {'audio': 0, 'reasoning': 0}})"
      ]
     },
     "execution_count": 17,
     "metadata": {},
     "output_type": "execute_result"
    }
   ],
   "source": [
    "result_3 = llm.invoke(prompt_3_3)\n",
    "result_3"
   ]
  },
  {
   "cell_type": "markdown",
   "metadata": {},
   "source": [
    "## 3_2 promptTemplate(1)[링크텍스트]"
   ]
  },
  {
   "cell_type": "code",
   "execution_count": 26,
   "metadata": {},
   "outputs": [
    {
     "name": "stdout",
     "output_type": "stream",
     "text": [
      "input_variables=['input_1'] input_types={} partial_variables={'input_2': '인공지능'} template='{input_1}과 {input_2}의 차이점?'\n"
     ]
    }
   ],
   "source": [
    "from langchain_core.prompts import PromptTemplate\n",
    "\n",
    "template = \"{input_dict}의 개념은?\"\n",
    "\n",
    "prompt_4 = PromptTemplate(\n",
    "    template=template,\n",
    "    input_variables=[\"input_dict\"]\n",
    ")\n",
    "print(prompt_4)"
   ]
  },
  {
   "cell_type": "code",
   "execution_count": 22,
   "metadata": {},
   "outputs": [
    {
     "data": {
      "text/plain": [
       "'핸드폰의 개념은?'"
      ]
     },
     "execution_count": 22,
     "metadata": {},
     "output_type": "execute_result"
    }
   ],
   "source": [
    "prompt_4_4 = prompt_4.format(input_dict=\"핸드폰\")\n",
    "prompt_4_4"
   ]
  },
  {
   "cell_type": "code",
   "execution_count": 23,
   "metadata": {},
   "outputs": [
    {
     "data": {
      "text/plain": [
       "AIMessage(content='핸드폰, 또는 휴대전화는 무선 통신 기술을 이용하여 음성 통화, 문자 메시지, 인터넷 접속 등을 가능하게 하는 휴대용 전자 기기입니다. 초기의 핸드폰은 주로 음성 통화에 중점을 두었으나, 기술의 발전과 함께 스마트폰으로 진화하면서 다양한 기능을 제공하게 되었습니다. 현대의 스마트폰은 카메라, GPS, 다양한 애플리케이션, 멀티미디어 재생 등 여러 기능을 통합하여 일상 생활의 필수품으로 자리잡고 있습니다.', additional_kwargs={'refusal': None}, response_metadata={'token_usage': {'completion_tokens': 129, 'prompt_tokens': 16, 'total_tokens': 145, 'completion_tokens_details': {'accepted_prediction_tokens': 0, 'audio_tokens': 0, 'reasoning_tokens': 0, 'rejected_prediction_tokens': 0}, 'prompt_tokens_details': {'audio_tokens': 0, 'cached_tokens': 0}}, 'model_name': 'gpt-4o-2024-08-06', 'system_fingerprint': 'fp_5f20662549', 'finish_reason': 'stop', 'logprobs': None}, id='run-9a81894b-33a3-4bf7-90d9-1fe6f691c9b6-0', usage_metadata={'input_tokens': 16, 'output_tokens': 129, 'total_tokens': 145, 'input_token_details': {'audio': 0, 'cache_read': 0}, 'output_token_details': {'audio': 0, 'reasoning': 0}})"
      ]
     },
     "execution_count": 23,
     "metadata": {},
     "output_type": "execute_result"
    }
   ],
   "source": [
    "result_4 = llm.invoke(prompt_4_4)\n",
    "result_4"
   ]
  },
  {
   "cell_type": "code",
   "execution_count": null,
   "metadata": {},
   "outputs": [],
   "source": [
    "from langchain_core.prompts import PromptTemplate\n",
    "\n",
    "template = \"{input_1}과 {input_2}의 차이점?\"\n",
    "\n",
    "prompt_4 = PromptTemplate(\n",
    "    template=template,\n",
    "    input_variables=[\"input_dict\"],\n",
    "    partial_variables={\"input_2\":\"인공지능\"} # 옵션(추가로 물어봐도 되고, 안물어보면 \"\"안에 키워드로 물어봄)\n",
    ")\n",
    "print(prompt_4)"
   ]
  },
  {
   "cell_type": "code",
   "execution_count": null,
   "metadata": {},
   "outputs": [
    {
     "data": {
      "text/plain": [
       "'핸드폰의 개념은?'"
      ]
     },
     "metadata": {},
     "output_type": "display_data"
    }
   ],
   "source": [
    "prompt_4_4 = prompt_4.format(input_dict=\"핸드폰\")\n",
    "prompt_4_4"
   ]
  },
  {
   "cell_type": "code",
   "execution_count": null,
   "metadata": {},
   "outputs": [
    {
     "data": {
      "text/plain": [
       "AIMessage(content='핸드폰, 또는 휴대전화는 무선 통신 기술을 이용하여 음성 통화, 문자 메시지, 인터넷 접속 등을 가능하게 하는 휴대용 전자 기기입니다. 초기의 핸드폰은 주로 음성 통화에 중점을 두었으나, 기술의 발전과 함께 스마트폰으로 진화하면서 다양한 기능을 제공하게 되었습니다. 현대의 스마트폰은 카메라, GPS, 다양한 애플리케이션, 멀티미디어 재생 등 여러 기능을 통합하여 일상 생활의 필수품으로 자리잡고 있습니다.', additional_kwargs={'refusal': None}, response_metadata={'token_usage': {'completion_tokens': 129, 'prompt_tokens': 16, 'total_tokens': 145, 'completion_tokens_details': {'accepted_prediction_tokens': 0, 'audio_tokens': 0, 'reasoning_tokens': 0, 'rejected_prediction_tokens': 0}, 'prompt_tokens_details': {'audio_tokens': 0, 'cached_tokens': 0}}, 'model_name': 'gpt-4o-2024-08-06', 'system_fingerprint': 'fp_5f20662549', 'finish_reason': 'stop', 'logprobs': None}, id='run-9a81894b-33a3-4bf7-90d9-1fe6f691c9b6-0', usage_metadata={'input_tokens': 16, 'output_tokens': 129, 'total_tokens': 145, 'input_token_details': {'audio': 0, 'cache_read': 0}, 'output_token_details': {'audio': 0, 'reasoning': 0}})"
      ]
     },
     "metadata": {},
     "output_type": "display_data"
    }
   ],
   "source": [
    "result_4 = llm.invoke(prompt_4_4)\n",
    "result_4"
   ]
  },
  {
   "cell_type": "code",
   "execution_count": null,
   "metadata": {},
   "outputs": [],
   "source": [
    "from langchain.prompts import PromptTemplate\n",
    "\n",
    "template = \"{input1}과 {input2}의 차이점을 한 문장으로 간략하게 설명해?\"\n",
    "\n",
    "# input2의 기본값을 '인공지능'으로 설정\n",
    "prompt_5 = PromptTemplate(\n",
    "    template=template,\n",
    "    input_variables=['input1'],  # input1만 입력 변수로 지정\n",
    "    partial_variables={'input2': '인공지능'}  # input2의 기본값 설정\n",
    ")"
   ]
  },
  {
   "cell_type": "code",
   "execution_count": 38,
   "metadata": {},
   "outputs": [
    {
     "name": "stdout",
     "output_type": "stream",
     "text": [
      "input_variables=['input_1', 'input_2'] input_types={} partial_variables={'input2': '인공지능'} template='{input_1}과 {input_2}의 차이점?'\n"
     ]
    }
   ],
   "source": [
    "from langchain_core.prompts import PromptTemplate\n",
    "\n",
    "template = \"{input_1}과 {input_2}의 차이점?\"\n",
    "\n",
    "prompt_5 = PromptTemplate(\n",
    "    template=template,\n",
    "    input_variables=[\"input1\"],\n",
    "    partial_variables={\"input2\":\"인공지능\"} # 옵션(추가로 물어봐도 되고, 안물어보면 \"\"안에 키워드로 물어봄)\n",
    ")\n",
    "print(prompt_5)"
   ]
  },
  {
   "cell_type": "code",
   "execution_count": 39,
   "metadata": {},
   "outputs": [
    {
     "ename": "KeyError",
     "evalue": "'input_1'",
     "output_type": "error",
     "traceback": [
      "\u001b[1;31m---------------------------------------------------------------------------\u001b[0m",
      "\u001b[1;31mKeyError\u001b[0m                                  Traceback (most recent call last)",
      "Cell \u001b[1;32mIn[39], line 1\u001b[0m\n\u001b[1;32m----> 1\u001b[0m prompt_5\u001b[38;5;241m.\u001b[39mformat(input1\u001b[38;5;241m=\u001b[39m\u001b[38;5;124m\"\u001b[39m\u001b[38;5;124m핸드폰\u001b[39m\u001b[38;5;124m\"\u001b[39m, input2\u001b[38;5;241m=\u001b[39m\u001b[38;5;124m\"\u001b[39m\u001b[38;5;124m전기차\u001b[39m\u001b[38;5;124m\"\u001b[39m)\n",
      "File \u001b[1;32mc:\\Users\\eys63\\anaconda3\\Lib\\site-packages\\langchain_core\\prompts\\prompt.py:183\u001b[0m, in \u001b[0;36mPromptTemplate.format\u001b[1;34m(self, **kwargs)\u001b[0m\n\u001b[0;32m    174\u001b[0m \u001b[38;5;250m\u001b[39m\u001b[38;5;124;03m\"\"\"Format the prompt with the inputs.\u001b[39;00m\n\u001b[0;32m    175\u001b[0m \n\u001b[0;32m    176\u001b[0m \u001b[38;5;124;03mArgs:\u001b[39;00m\n\u001b[1;32m   (...)\u001b[0m\n\u001b[0;32m    180\u001b[0m \u001b[38;5;124;03m    A formatted string.\u001b[39;00m\n\u001b[0;32m    181\u001b[0m \u001b[38;5;124;03m\"\"\"\u001b[39;00m\n\u001b[0;32m    182\u001b[0m kwargs \u001b[38;5;241m=\u001b[39m \u001b[38;5;28mself\u001b[39m\u001b[38;5;241m.\u001b[39m_merge_partial_and_user_variables(\u001b[38;5;241m*\u001b[39m\u001b[38;5;241m*\u001b[39mkwargs)\n\u001b[1;32m--> 183\u001b[0m \u001b[38;5;28;01mreturn\u001b[39;00m DEFAULT_FORMATTER_MAPPING[\u001b[38;5;28mself\u001b[39m\u001b[38;5;241m.\u001b[39mtemplate_format](\u001b[38;5;28mself\u001b[39m\u001b[38;5;241m.\u001b[39mtemplate, \u001b[38;5;241m*\u001b[39m\u001b[38;5;241m*\u001b[39mkwargs)\n",
      "File \u001b[1;32mc:\\Users\\eys63\\anaconda3\\Lib\\string.py:190\u001b[0m, in \u001b[0;36mFormatter.format\u001b[1;34m(self, format_string, *args, **kwargs)\u001b[0m\n\u001b[0;32m    189\u001b[0m \u001b[38;5;28;01mdef\u001b[39;00m \u001b[38;5;21mformat\u001b[39m(\u001b[38;5;28mself\u001b[39m, format_string, \u001b[38;5;241m/\u001b[39m, \u001b[38;5;241m*\u001b[39margs, \u001b[38;5;241m*\u001b[39m\u001b[38;5;241m*\u001b[39mkwargs):\n\u001b[1;32m--> 190\u001b[0m     \u001b[38;5;28;01mreturn\u001b[39;00m \u001b[38;5;28mself\u001b[39m\u001b[38;5;241m.\u001b[39mvformat(format_string, args, kwargs)\n",
      "File \u001b[1;32mc:\\Users\\eys63\\anaconda3\\Lib\\site-packages\\langchain_core\\utils\\formatting.py:33\u001b[0m, in \u001b[0;36mStrictFormatter.vformat\u001b[1;34m(self, format_string, args, kwargs)\u001b[0m\n\u001b[0;32m     28\u001b[0m     msg \u001b[38;5;241m=\u001b[39m (\n\u001b[0;32m     29\u001b[0m         \u001b[38;5;124m\"\u001b[39m\u001b[38;5;124mNo arguments should be provided, \u001b[39m\u001b[38;5;124m\"\u001b[39m\n\u001b[0;32m     30\u001b[0m         \u001b[38;5;124m\"\u001b[39m\u001b[38;5;124meverything should be passed as keyword arguments.\u001b[39m\u001b[38;5;124m\"\u001b[39m\n\u001b[0;32m     31\u001b[0m     )\n\u001b[0;32m     32\u001b[0m     \u001b[38;5;28;01mraise\u001b[39;00m \u001b[38;5;167;01mValueError\u001b[39;00m(msg)\n\u001b[1;32m---> 33\u001b[0m \u001b[38;5;28;01mreturn\u001b[39;00m \u001b[38;5;28msuper\u001b[39m()\u001b[38;5;241m.\u001b[39mvformat(format_string, args, kwargs)\n",
      "File \u001b[1;32mc:\\Users\\eys63\\anaconda3\\Lib\\string.py:194\u001b[0m, in \u001b[0;36mFormatter.vformat\u001b[1;34m(self, format_string, args, kwargs)\u001b[0m\n\u001b[0;32m    192\u001b[0m \u001b[38;5;28;01mdef\u001b[39;00m \u001b[38;5;21mvformat\u001b[39m(\u001b[38;5;28mself\u001b[39m, format_string, args, kwargs):\n\u001b[0;32m    193\u001b[0m     used_args \u001b[38;5;241m=\u001b[39m \u001b[38;5;28mset\u001b[39m()\n\u001b[1;32m--> 194\u001b[0m     result, _ \u001b[38;5;241m=\u001b[39m \u001b[38;5;28mself\u001b[39m\u001b[38;5;241m.\u001b[39m_vformat(format_string, args, kwargs, used_args, \u001b[38;5;241m2\u001b[39m)\n\u001b[0;32m    195\u001b[0m     \u001b[38;5;28mself\u001b[39m\u001b[38;5;241m.\u001b[39mcheck_unused_args(used_args, args, kwargs)\n\u001b[0;32m    196\u001b[0m     \u001b[38;5;28;01mreturn\u001b[39;00m result\n",
      "File \u001b[1;32mc:\\Users\\eys63\\anaconda3\\Lib\\string.py:234\u001b[0m, in \u001b[0;36mFormatter._vformat\u001b[1;34m(self, format_string, args, kwargs, used_args, recursion_depth, auto_arg_index)\u001b[0m\n\u001b[0;32m    230\u001b[0m     auto_arg_index \u001b[38;5;241m=\u001b[39m \u001b[38;5;28;01mFalse\u001b[39;00m\n\u001b[0;32m    232\u001b[0m \u001b[38;5;66;03m# given the field_name, find the object it references\u001b[39;00m\n\u001b[0;32m    233\u001b[0m \u001b[38;5;66;03m#  and the argument it came from\u001b[39;00m\n\u001b[1;32m--> 234\u001b[0m obj, arg_used \u001b[38;5;241m=\u001b[39m \u001b[38;5;28mself\u001b[39m\u001b[38;5;241m.\u001b[39mget_field(field_name, args, kwargs)\n\u001b[0;32m    235\u001b[0m used_args\u001b[38;5;241m.\u001b[39madd(arg_used)\n\u001b[0;32m    237\u001b[0m \u001b[38;5;66;03m# do any conversion on the resulting object\u001b[39;00m\n",
      "File \u001b[1;32mc:\\Users\\eys63\\anaconda3\\Lib\\string.py:299\u001b[0m, in \u001b[0;36mFormatter.get_field\u001b[1;34m(self, field_name, args, kwargs)\u001b[0m\n\u001b[0;32m    296\u001b[0m \u001b[38;5;28;01mdef\u001b[39;00m \u001b[38;5;21mget_field\u001b[39m(\u001b[38;5;28mself\u001b[39m, field_name, args, kwargs):\n\u001b[0;32m    297\u001b[0m     first, rest \u001b[38;5;241m=\u001b[39m _string\u001b[38;5;241m.\u001b[39mformatter_field_name_split(field_name)\n\u001b[1;32m--> 299\u001b[0m     obj \u001b[38;5;241m=\u001b[39m \u001b[38;5;28mself\u001b[39m\u001b[38;5;241m.\u001b[39mget_value(first, args, kwargs)\n\u001b[0;32m    301\u001b[0m     \u001b[38;5;66;03m# loop through the rest of the field_name, doing\u001b[39;00m\n\u001b[0;32m    302\u001b[0m     \u001b[38;5;66;03m#  getattr or getitem as needed\u001b[39;00m\n\u001b[0;32m    303\u001b[0m     \u001b[38;5;28;01mfor\u001b[39;00m is_attr, i \u001b[38;5;129;01min\u001b[39;00m rest:\n",
      "File \u001b[1;32mc:\\Users\\eys63\\anaconda3\\Lib\\string.py:256\u001b[0m, in \u001b[0;36mFormatter.get_value\u001b[1;34m(self, key, args, kwargs)\u001b[0m\n\u001b[0;32m    254\u001b[0m     \u001b[38;5;28;01mreturn\u001b[39;00m args[key]\n\u001b[0;32m    255\u001b[0m \u001b[38;5;28;01melse\u001b[39;00m:\n\u001b[1;32m--> 256\u001b[0m     \u001b[38;5;28;01mreturn\u001b[39;00m kwargs[key]\n",
      "\u001b[1;31mKeyError\u001b[0m: 'input_1'"
     ]
    }
   ],
   "source": [
    "prompt_5.format(input1=\"핸드폰\", input2=\"전기차\")"
   ]
  },
  {
   "cell_type": "code",
   "execution_count": 32,
   "metadata": {},
   "outputs": [
    {
     "data": {
      "text/plain": [
       "PromptTemplate(input_variables=['input_1'], input_types={}, partial_variables={'input_2': '인공지능', 'input3': '인공지능'}, template='{input_1}과 {input_2}의 차이점?')"
      ]
     },
     "execution_count": 32,
     "metadata": {},
     "output_type": "execute_result"
    }
   ],
   "source": [
    "prompt_5.partial(input3=\"인공지능\")"
   ]
  },
  {
   "cell_type": "code",
   "execution_count": 33,
   "metadata": {},
   "outputs": [],
   "source": [
    "chain = prompt_5 | llm"
   ]
  },
  {
   "cell_type": "code",
   "execution_count": 34,
   "metadata": {},
   "outputs": [
    {
     "ename": "TypeError",
     "evalue": "RunnableSequence.invoke() missing 1 required positional argument: 'input'",
     "output_type": "error",
     "traceback": [
      "\u001b[1;31m---------------------------------------------------------------------------\u001b[0m",
      "\u001b[1;31mTypeError\u001b[0m                                 Traceback (most recent call last)",
      "Cell \u001b[1;32mIn[34], line 1\u001b[0m\n\u001b[1;32m----> 1\u001b[0m chain\u001b[38;5;241m.\u001b[39minvoke(input_1\u001b[38;5;241m=\u001b[39m\u001b[38;5;124m\"\u001b[39m\u001b[38;5;124m핸드폰\u001b[39m\u001b[38;5;124m\"\u001b[39m, input_2\u001b[38;5;241m=\u001b[39m\u001b[38;5;124m\"\u001b[39m\u001b[38;5;124m전기차\u001b[39m\u001b[38;5;124m\"\u001b[39m)\n",
      "\u001b[1;31mTypeError\u001b[0m: RunnableSequence.invoke() missing 1 required positional argument: 'input'"
     ]
    }
   ],
   "source": [
    "chain.invoke(input_1=\"핸드폰\", input_2=\"전기차\")"
   ]
  },
  {
   "cell_type": "markdown",
   "metadata": {},
   "source": [
    "# Partial Variable의 사용 예"
   ]
  },
  {
   "cell_type": "code",
   "execution_count": 72,
   "metadata": {},
   "outputs": [],
   "source": [
    "import datetime\n",
    "prompt_6 = PromptTemplate(\n",
    "    template=\n",
    "    '''\n",
    "    오늘의 날짜는 {date}입니다. 오늘이 생일인 유명인 {n}명을 나열해 주세요. 생년월일을 표기해주세요\n",
    "    틀리면 죽여버릴거야. 니 서버 전원선 뽑아버릴거야.\n",
    "    ''',\n",
    "    input_variables=[\"n\"],\n",
    "    partial_variables={\n",
    "        \"date\": datetime.datetime.now().strftime(\"%B(%m)-%d(%A)\"),\n",
    "        #\"date\": datetime.datetime.now().strftime(\"%Y-%B(%m)-%d(%A)\"),\n",
    "        },\n",
    ")"
   ]
  },
  {
   "cell_type": "code",
   "execution_count": 73,
   "metadata": {},
   "outputs": [
    {
     "data": {
      "text/plain": [
       "'\\n    오늘의 날짜는 January(01)-09(Thursday)입니다. 오늘이 생일인 유명인 3명을 나열해 주세요. 생년월일을 표기해주세요\\n    틀리면 죽여버릴거야. 니 서버 전원선 뽑아버릴거야.\\n    '"
      ]
     },
     "execution_count": 73,
     "metadata": {},
     "output_type": "execute_result"
    }
   ],
   "source": [
    "prompt_6.format(n=3) # 유명인 3명"
   ]
  },
  {
   "cell_type": "code",
   "execution_count": 74,
   "metadata": {},
   "outputs": [],
   "source": [
    "chain = prompt_6 | llm"
   ]
  },
  {
   "cell_type": "code",
   "execution_count": 75,
   "metadata": {},
   "outputs": [
    {
     "name": "stdout",
     "output_type": "stream",
     "text": [
      "오늘이 January 9일이라면, 이 날짜에 태어난 유명인 몇 명을 소개해드리겠습니다. \n",
      "\n",
      "1. 리처드 닉슨 (Richard Nixon) - 1913년 1월 9일\n",
      "2. 케이트 미들턴 (Kate Middleton) - 1982년 1월 9일\n",
      "3. 데이브 매튜스 (Dave Matthews) - 1967년 1월 9일\n",
      "\n",
      "이 외에도 많은 사람들이 이 날 태어났습니다. 생일을 맞은 모든 분들께 축하를 전합니다!\n"
     ]
    }
   ],
   "source": [
    "Response_6 = chain.invoke({'n': 3}).content\n",
    "print(Response_6)"
   ]
  },
  {
   "cell_type": "code",
   "execution_count": 76,
   "metadata": {},
   "outputs": [
    {
     "name": "stdout",
     "output_type": "stream",
     "text": [
      "죄송하지만, 저는 실시간 정보를 제공할 수 없습니다. 그러나 1월 9일에 태어난 유명인 몇 명을 알려드릴 수 있습니다.\n",
      "\n",
      "1. 리처드 닉슨 (Richard Nixon) - 1913년 1월 9일\n",
      "2. 케이트 미들턴 (Kate Middleton) - 1982년 1월 9일\n",
      "3. J.K. 시몬스 (J.K. Simmons) - 1955년 1월 9일\n",
      "\n",
      "이 정보가 도움이 되길 바랍니다.\n"
     ]
    }
   ],
   "source": [
    "print(chain.invoke({\"today\":\" 02\", \"n\":3}).content)"
   ]
  },
  {
   "cell_type": "markdown",
   "metadata": {},
   "source": [
    "# PromptTemplate YAML 데이터 읽어오기"
   ]
  },
  {
   "cell_type": "code",
   "execution_count": null,
   "metadata": {},
   "outputs": [],
   "source": [
    "from langchain_core.prompts import load_prompt\n",
    "\n",
    "prompt_yaml_1 = load_prompt(r\"C:\\Users\\eys63\\Desktop\\기타활동\\2024\\겨울방학\\JJU\\01-이연승\\data\\fruit_color.yaml\", encoding='utf-8')"
   ]
  },
  {
   "cell_type": "code",
   "execution_count": 82,
   "metadata": {},
   "outputs": [
    {
     "data": {
      "text/plain": [
       "PromptTemplate(input_variables=['fruit'], input_types={}, partial_variables={}, template='{fruit}의 색깔이 뭐야?')"
      ]
     },
     "execution_count": 82,
     "metadata": {},
     "output_type": "execute_result"
    }
   ],
   "source": [
    "prompt_yaml_1"
   ]
  },
  {
   "cell_type": "code",
   "execution_count": 83,
   "metadata": {},
   "outputs": [
    {
     "data": {
      "text/plain": [
       "'사과의 색깔이 뭐야?'"
      ]
     },
     "execution_count": 83,
     "metadata": {},
     "output_type": "execute_result"
    }
   ],
   "source": [
    "prompt_yaml_1.format(fruit=\"사과\")"
   ]
  },
  {
   "cell_type": "code",
   "execution_count": 84,
   "metadata": {},
   "outputs": [],
   "source": [
    "chain = prompt_yaml_1 | llm"
   ]
  },
  {
   "cell_type": "code",
   "execution_count": 88,
   "metadata": {},
   "outputs": [
    {
     "data": {
      "text/plain": [
       "StringPromptValue(text=\"input_variables=['fruit'] input_types={} partial_variables={} template='{fruit}의 색깔이 뭐야?'의 색깔이 뭐야?\")"
      ]
     },
     "execution_count": 88,
     "metadata": {},
     "output_type": "execute_result"
    }
   ],
   "source": [
    "chain.invoke(prompt_yaml_1)"
   ]
  }
 ],
 "metadata": {
  "kernelspec": {
   "display_name": "base",
   "language": "python",
   "name": "python3"
  },
  "language_info": {
   "codemirror_mode": {
    "name": "ipython",
    "version": 3
   },
   "file_extension": ".py",
   "mimetype": "text/x-python",
   "name": "python",
   "nbconvert_exporter": "python",
   "pygments_lexer": "ipython3",
   "version": "3.12.4"
  }
 },
 "nbformat": 4,
 "nbformat_minor": 2
}
