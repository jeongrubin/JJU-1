{
  "nbformat": 4,
  "nbformat_minor": 0,
  "metadata": {
    "colab": {
      "provenance": []
    },
    "kernelspec": {
      "name": "python3",
      "display_name": "Python 3"
    },
    "language_info": {
      "name": "python"
    }
  },
  "cells": [
    {
      "cell_type": "markdown",
      "source": [
        "## Upstage"
      ],
      "metadata": {
        "id": "6RVaECZ-ex8p"
      }
    },
    {
      "cell_type": "code",
      "execution_count": null,
      "metadata": {
        "colab": {
          "base_uri": "https://localhost:8080/"
        },
        "collapsed": true,
        "id": "t_1KIOTqZ6Rf",
        "outputId": "6f4b2426-0dcc-4794-f251-10a06d12f12f"
      },
      "outputs": [
        {
          "output_type": "stream",
          "name": "stdout",
          "text": [
            "Collecting langchain-upstage\n",
            "  Downloading langchain_upstage-0.4.0-py3-none-any.whl.metadata (3.3 kB)\n",
            "Requirement already satisfied: langchain-core<0.4,>=0.3.0 in /usr/local/lib/python3.10/dist-packages (from langchain-upstage) (0.3.25)\n",
            "Collecting langchain-openai<0.3,>=0.2 (from langchain-upstage)\n",
            "  Downloading langchain_openai-0.2.14-py3-none-any.whl.metadata (2.7 kB)\n",
            "Collecting pypdf<5.0.0,>=4.2.0 (from langchain-upstage)\n",
            "  Downloading pypdf-4.3.1-py3-none-any.whl.metadata (7.4 kB)\n",
            "Requirement already satisfied: requests<3.0.0,>=2.31.0 in /usr/local/lib/python3.10/dist-packages (from langchain-upstage) (2.32.3)\n",
            "Collecting tokenizers<0.20.0,>=0.19.1 (from langchain-upstage)\n",
            "  Downloading tokenizers-0.19.1-cp310-cp310-manylinux_2_17_x86_64.manylinux2014_x86_64.whl.metadata (6.7 kB)\n",
            "Requirement already satisfied: PyYAML>=5.3 in /usr/local/lib/python3.10/dist-packages (from langchain-core<0.4,>=0.3.0->langchain-upstage) (6.0.2)\n",
            "Requirement already satisfied: jsonpatch<2.0,>=1.33 in /usr/local/lib/python3.10/dist-packages (from langchain-core<0.4,>=0.3.0->langchain-upstage) (1.33)\n",
            "Requirement already satisfied: langsmith<0.3,>=0.1.125 in /usr/local/lib/python3.10/dist-packages (from langchain-core<0.4,>=0.3.0->langchain-upstage) (0.2.3)\n",
            "Requirement already satisfied: packaging<25,>=23.2 in /usr/local/lib/python3.10/dist-packages (from langchain-core<0.4,>=0.3.0->langchain-upstage) (24.2)\n",
            "Requirement already satisfied: pydantic<3.0.0,>=2.5.2 in /usr/local/lib/python3.10/dist-packages (from langchain-core<0.4,>=0.3.0->langchain-upstage) (2.10.3)\n",
            "Requirement already satisfied: tenacity!=8.4.0,<10.0.0,>=8.1.0 in /usr/local/lib/python3.10/dist-packages (from langchain-core<0.4,>=0.3.0->langchain-upstage) (9.0.0)\n",
            "Requirement already satisfied: typing-extensions>=4.7 in /usr/local/lib/python3.10/dist-packages (from langchain-core<0.4,>=0.3.0->langchain-upstage) (4.12.2)\n",
            "Collecting langchain-core<0.4,>=0.3.0 (from langchain-upstage)\n",
            "  Downloading langchain_core-0.3.29-py3-none-any.whl.metadata (6.3 kB)\n",
            "Collecting openai<2.0.0,>=1.58.1 (from langchain-openai<0.3,>=0.2->langchain-upstage)\n",
            "  Downloading openai-1.59.3-py3-none-any.whl.metadata (27 kB)\n",
            "Collecting tiktoken<1,>=0.7 (from langchain-openai<0.3,>=0.2->langchain-upstage)\n",
            "  Downloading tiktoken-0.8.0-cp310-cp310-manylinux_2_17_x86_64.manylinux2014_x86_64.whl.metadata (6.6 kB)\n",
            "Requirement already satisfied: charset-normalizer<4,>=2 in /usr/local/lib/python3.10/dist-packages (from requests<3.0.0,>=2.31.0->langchain-upstage) (3.4.0)\n",
            "Requirement already satisfied: idna<4,>=2.5 in /usr/local/lib/python3.10/dist-packages (from requests<3.0.0,>=2.31.0->langchain-upstage) (3.10)\n",
            "Requirement already satisfied: urllib3<3,>=1.21.1 in /usr/local/lib/python3.10/dist-packages (from requests<3.0.0,>=2.31.0->langchain-upstage) (2.2.3)\n",
            "Requirement already satisfied: certifi>=2017.4.17 in /usr/local/lib/python3.10/dist-packages (from requests<3.0.0,>=2.31.0->langchain-upstage) (2024.12.14)\n",
            "Requirement already satisfied: huggingface-hub<1.0,>=0.16.4 in /usr/local/lib/python3.10/dist-packages (from tokenizers<0.20.0,>=0.19.1->langchain-upstage) (0.27.0)\n",
            "Requirement already satisfied: filelock in /usr/local/lib/python3.10/dist-packages (from huggingface-hub<1.0,>=0.16.4->tokenizers<0.20.0,>=0.19.1->langchain-upstage) (3.16.1)\n",
            "Requirement already satisfied: fsspec>=2023.5.0 in /usr/local/lib/python3.10/dist-packages (from huggingface-hub<1.0,>=0.16.4->tokenizers<0.20.0,>=0.19.1->langchain-upstage) (2024.10.0)\n",
            "Requirement already satisfied: tqdm>=4.42.1 in /usr/local/lib/python3.10/dist-packages (from huggingface-hub<1.0,>=0.16.4->tokenizers<0.20.0,>=0.19.1->langchain-upstage) (4.67.1)\n",
            "Requirement already satisfied: jsonpointer>=1.9 in /usr/local/lib/python3.10/dist-packages (from jsonpatch<2.0,>=1.33->langchain-core<0.4,>=0.3.0->langchain-upstage) (3.0.0)\n",
            "Requirement already satisfied: httpx<1,>=0.23.0 in /usr/local/lib/python3.10/dist-packages (from langsmith<0.3,>=0.1.125->langchain-core<0.4,>=0.3.0->langchain-upstage) (0.28.1)\n",
            "Requirement already satisfied: orjson<4.0.0,>=3.9.14 in /usr/local/lib/python3.10/dist-packages (from langsmith<0.3,>=0.1.125->langchain-core<0.4,>=0.3.0->langchain-upstage) (3.10.12)\n",
            "Requirement already satisfied: requests-toolbelt<2.0.0,>=1.0.0 in /usr/local/lib/python3.10/dist-packages (from langsmith<0.3,>=0.1.125->langchain-core<0.4,>=0.3.0->langchain-upstage) (1.0.0)\n",
            "Requirement already satisfied: anyio<5,>=3.5.0 in /usr/local/lib/python3.10/dist-packages (from openai<2.0.0,>=1.58.1->langchain-openai<0.3,>=0.2->langchain-upstage) (3.7.1)\n",
            "Requirement already satisfied: distro<2,>=1.7.0 in /usr/local/lib/python3.10/dist-packages (from openai<2.0.0,>=1.58.1->langchain-openai<0.3,>=0.2->langchain-upstage) (1.9.0)\n",
            "Requirement already satisfied: jiter<1,>=0.4.0 in /usr/local/lib/python3.10/dist-packages (from openai<2.0.0,>=1.58.1->langchain-openai<0.3,>=0.2->langchain-upstage) (0.8.2)\n",
            "Requirement already satisfied: sniffio in /usr/local/lib/python3.10/dist-packages (from openai<2.0.0,>=1.58.1->langchain-openai<0.3,>=0.2->langchain-upstage) (1.3.1)\n",
            "Requirement already satisfied: annotated-types>=0.6.0 in /usr/local/lib/python3.10/dist-packages (from pydantic<3.0.0,>=2.5.2->langchain-core<0.4,>=0.3.0->langchain-upstage) (0.7.0)\n",
            "Requirement already satisfied: pydantic-core==2.27.1 in /usr/local/lib/python3.10/dist-packages (from pydantic<3.0.0,>=2.5.2->langchain-core<0.4,>=0.3.0->langchain-upstage) (2.27.1)\n",
            "Requirement already satisfied: regex>=2022.1.18 in /usr/local/lib/python3.10/dist-packages (from tiktoken<1,>=0.7->langchain-openai<0.3,>=0.2->langchain-upstage) (2024.11.6)\n",
            "Requirement already satisfied: exceptiongroup in /usr/local/lib/python3.10/dist-packages (from anyio<5,>=3.5.0->openai<2.0.0,>=1.58.1->langchain-openai<0.3,>=0.2->langchain-upstage) (1.2.2)\n",
            "Requirement already satisfied: httpcore==1.* in /usr/local/lib/python3.10/dist-packages (from httpx<1,>=0.23.0->langsmith<0.3,>=0.1.125->langchain-core<0.4,>=0.3.0->langchain-upstage) (1.0.7)\n",
            "Requirement already satisfied: h11<0.15,>=0.13 in /usr/local/lib/python3.10/dist-packages (from httpcore==1.*->httpx<1,>=0.23.0->langsmith<0.3,>=0.1.125->langchain-core<0.4,>=0.3.0->langchain-upstage) (0.14.0)\n",
            "Downloading langchain_upstage-0.4.0-py3-none-any.whl (26 kB)\n",
            "Downloading langchain_openai-0.2.14-py3-none-any.whl (50 kB)\n",
            "\u001b[2K   \u001b[90m━━━━━━━━━━━━━━━━━━━━━━━━━━━━━━━━━━━━━━━━\u001b[0m \u001b[32m50.9/50.9 kB\u001b[0m \u001b[31m3.6 MB/s\u001b[0m eta \u001b[36m0:00:00\u001b[0m\n",
            "\u001b[?25hDownloading langchain_core-0.3.29-py3-none-any.whl (411 kB)\n",
            "\u001b[2K   \u001b[90m━━━━━━━━━━━━━━━━━━━━━━━━━━━━━━━━━━━━━━━━\u001b[0m \u001b[32m411.6/411.6 kB\u001b[0m \u001b[31m13.0 MB/s\u001b[0m eta \u001b[36m0:00:00\u001b[0m\n",
            "\u001b[?25hDownloading pypdf-4.3.1-py3-none-any.whl (295 kB)\n",
            "\u001b[2K   \u001b[90m━━━━━━━━━━━━━━━━━━━━━━━━━━━━━━━━━━━━━━━━\u001b[0m \u001b[32m295.8/295.8 kB\u001b[0m \u001b[31m18.3 MB/s\u001b[0m eta \u001b[36m0:00:00\u001b[0m\n",
            "\u001b[?25hDownloading tokenizers-0.19.1-cp310-cp310-manylinux_2_17_x86_64.manylinux2014_x86_64.whl (3.6 MB)\n",
            "\u001b[2K   \u001b[90m━━━━━━━━━━━━━━━━━━━━━━━━━━━━━━━━━━━━━━━━\u001b[0m \u001b[32m3.6/3.6 MB\u001b[0m \u001b[31m36.0 MB/s\u001b[0m eta \u001b[36m0:00:00\u001b[0m\n",
            "\u001b[?25hDownloading openai-1.59.3-py3-none-any.whl (454 kB)\n",
            "\u001b[2K   \u001b[90m━━━━━━━━━━━━━━━━━━━━━━━━━━━━━━━━━━━━━━━━\u001b[0m \u001b[32m454.8/454.8 kB\u001b[0m \u001b[31m3.9 MB/s\u001b[0m eta \u001b[36m0:00:00\u001b[0m\n",
            "\u001b[?25hDownloading tiktoken-0.8.0-cp310-cp310-manylinux_2_17_x86_64.manylinux2014_x86_64.whl (1.2 MB)\n",
            "\u001b[2K   \u001b[90m━━━━━━━━━━━━━━━━━━━━━━━━━━━━━━━━━━━━━━━━\u001b[0m \u001b[32m1.2/1.2 MB\u001b[0m \u001b[31m6.5 MB/s\u001b[0m eta \u001b[36m0:00:00\u001b[0m\n",
            "\u001b[?25hInstalling collected packages: pypdf, tiktoken, tokenizers, openai, langchain-core, langchain-openai, langchain-upstage\n",
            "  Attempting uninstall: tokenizers\n",
            "    Found existing installation: tokenizers 0.21.0\n",
            "    Uninstalling tokenizers-0.21.0:\n",
            "      Successfully uninstalled tokenizers-0.21.0\n",
            "  Attempting uninstall: openai\n",
            "    Found existing installation: openai 1.57.4\n",
            "    Uninstalling openai-1.57.4:\n",
            "      Successfully uninstalled openai-1.57.4\n",
            "  Attempting uninstall: langchain-core\n",
            "    Found existing installation: langchain-core 0.3.25\n",
            "    Uninstalling langchain-core-0.3.25:\n",
            "      Successfully uninstalled langchain-core-0.3.25\n",
            "\u001b[31mERROR: pip's dependency resolver does not currently take into account all the packages that are installed. This behaviour is the source of the following dependency conflicts.\n",
            "transformers 4.47.1 requires tokenizers<0.22,>=0.21, but you have tokenizers 0.19.1 which is incompatible.\u001b[0m\u001b[31m\n",
            "\u001b[0mSuccessfully installed langchain-core-0.3.29 langchain-openai-0.2.14 langchain-upstage-0.4.0 openai-1.59.3 pypdf-4.3.1 tiktoken-0.8.0 tokenizers-0.19.1\n"
          ]
        }
      ],
      "source": [
        "pip install -U langchain-upstage"
      ]
    },
    {
      "cell_type": "code",
      "source": [
        "import os\n",
        "from langchain_upstage import UpstageLayoutAnalysisLoader\n",
        "\n",
        "# 환경 변수에 API 키 설정\n",
        "os.environ[\"UPSTAGE_API_KEY\"] = \"\"\n",
        "\n",
        "# 파일 경로\n",
        "file_path = \"/content/3-3_상관분석_수정.pdf\"\n",
        "\n",
        "# 문서 로더 설정\n",
        "loader = UpstageLayoutAnalysisLoader(\n",
        "    file_path=file_path,\n",
        "    output_type=\"text\",\n",
        "    split=\"page\",\n",
        "    use_ocr=True,\n",
        "    exclude=[\"header\", \"footer\"]\n",
        ")"
      ],
      "metadata": {
        "colab": {
          "base_uri": "https://localhost:8080/"
        },
        "id": "Ni3OlDuRc8tV",
        "outputId": "5212b40e-6173-422b-cbe9-723d52790971"
      },
      "execution_count": null,
      "outputs": [
        {
          "output_type": "stream",
          "name": "stderr",
          "text": [
            "/usr/local/lib/python3.10/dist-packages/langchain_upstage/layout_analysis.py:135: UserWarning: UpstageLayoutAnalysisLoader is deprecated.Please use langchain_upstage.document_parse.UpstageDocumentParseLoader instead.\n",
            "  warnings.warn(\n"
          ]
        }
      ]
    },
    {
      "cell_type": "code",
      "source": [
        "# 문서 로드\n",
        "docs = loader.load()"
      ],
      "metadata": {
        "colab": {
          "base_uri": "https://localhost:8080/"
        },
        "id": "b_SgbgIddjYS",
        "outputId": "71067d90-9ef4-4d92-dee6-8c56d743a265"
      },
      "execution_count": null,
      "outputs": [
        {
          "output_type": "stream",
          "name": "stderr",
          "text": [
            "/usr/local/lib/python3.10/dist-packages/langchain_upstage/layout_analysis_parsers.py:160: UserWarning: UpstageLayoutAnalysisParser is deprecated.Please use langchain_upstage.document_parse_parsers.UpstageDocumentParseParser instead.\n",
            "  warnings.warn(\n"
          ]
        }
      ]
    },
    {
      "cell_type": "code",
      "source": [
        "# 결과 출력\n",
        "for doc in docs[:3]:\n",
        "    print(doc)"
      ],
      "metadata": {
        "colab": {
          "base_uri": "https://localhost:8080/"
        },
        "id": "v_gTfWu4eMWb",
        "outputId": "d005d840-bb99-4e75-8fde-3e731c46ca47"
      },
      "execution_count": null,
      "outputs": [
        {
          "output_type": "stream",
          "name": "stdout",
          "text": [
            "page_content='교육부\n",
            "Ministry of Education NRF 한국연구재단\n",
            "National Reseauch Foundation of Korea 3-3. 상관분석 ● 참고문헌: 이기훈, 통계학개론 http://www.wspi.com/statistics/comelon-cientiont\n",
            "https://hyen4110.tistory.com/38 Convergence andOpenSharingSysters\n",
            "COSS\n",
            "인공지능 ¥' metadata={'page': 1}\n",
            "page_content='3-3. 상관분석 상관분석(Correlation Analysis) 변수들 간의 관련성을 분석하기 위해 사용(모든 변수는 비율, 등간척도)\n",
            "상관관계분석은 한 변수가 다른 변수와 관련성을 가지고 있는지의 여부\n",
            "와 관련성이 있다면 어느 정도 있는지를 알아볼 수 있는 분석 V 광고비와 매출액의 관계, 키와 몸무게의 관계\n",
            "V 가계소득과 지출과의 관계, 키와 앉은키의 관계\n",
            "V 흡연량과 폐암 발생율의 관계, 흡연량과 기대수명\n",
            "V 자동차 속도와 연료 소모량의 관계' metadata={'page': 2}\n",
            "page_content='3-3. 상관분석 상관분석(Correlation Analysis) 두 변수의 연관성 V 두 변수간의 관련이 있음\n",
            "V 두 변수간의 관련이 없음(두 변수가 서로 독립) 연관성의 측도 V 공분산\n",
            "V 상관계수' metadata={'page': 3}\n"
          ]
        }
      ]
    },
    {
      "cell_type": "markdown",
      "source": [
        "## Llamaparser"
      ],
      "metadata": {
        "id": "bBC56uYWe00J"
      }
    },
    {
      "cell_type": "code",
      "source": [
        "# 설치\n",
        "!pip install -qU llama-index-core llama-parse llama-index-readers-file python-dotenv langchain_community"
      ],
      "metadata": {
        "collapsed": true,
        "colab": {
          "base_uri": "https://localhost:8080/"
        },
        "id": "bM4KAJsbfROy",
        "outputId": "1906f356-a2b0-476b-e650-8fc3fd9ad6b9"
      },
      "execution_count": null,
      "outputs": [
        {
          "output_type": "stream",
          "name": "stdout",
          "text": [
            "\u001b[?25l   \u001b[90m━━━━━━━━━━━━━━━━━━━━━━━━━━━━━━━━━━━━━━━━\u001b[0m \u001b[32m0.0/2.5 MB\u001b[0m \u001b[31m?\u001b[0m eta \u001b[36m-:--:--\u001b[0m\r\u001b[2K   \u001b[91m━━━━━\u001b[0m\u001b[90m╺\u001b[0m\u001b[90m━━━━━━━━━━━━━━━━━━━━━━━━━━━━━━━━━━\u001b[0m \u001b[32m0.3/2.5 MB\u001b[0m \u001b[31m9.9 MB/s\u001b[0m eta \u001b[36m0:00:01\u001b[0m\r\u001b[2K   \u001b[91m━━━━━━━━━━━━━━━━━━━━━━━━━━━━━━━━━━━━━━━\u001b[0m\u001b[91m╸\u001b[0m \u001b[32m2.5/2.5 MB\u001b[0m \u001b[31m37.0 MB/s\u001b[0m eta \u001b[36m0:00:01\u001b[0m\r\u001b[2K   \u001b[90m━━━━━━━━━━━━━━━━━━━━━━━━━━━━━━━━━━━━━━━━\u001b[0m \u001b[32m2.5/2.5 MB\u001b[0m \u001b[31m27.6 MB/s\u001b[0m eta \u001b[36m0:00:00\u001b[0m\n",
            "\u001b[?25h\u001b[?25l   \u001b[90m━━━━━━━━━━━━━━━━━━━━━━━━━━━━━━━━━━━━━━━━\u001b[0m \u001b[32m0.0/1.0 MB\u001b[0m \u001b[31m?\u001b[0m eta \u001b[36m-:--:--\u001b[0m\r\u001b[2K   \u001b[90m━━━━━━━━━━━━━━━━━━━━━━━━━━━━━━━━━━━━━━━━\u001b[0m \u001b[32m1.0/1.0 MB\u001b[0m \u001b[31m39.9 MB/s\u001b[0m eta \u001b[36m0:00:00\u001b[0m\n",
            "\u001b[?25h"
          ]
        }
      ]
    },
    {
      "cell_type": "code",
      "source": [
        "import os\n",
        "import nest_asyncio\n",
        "\n",
        "LLAMA_CLOUD_API_KEY = ''\n",
        "\n",
        "nest_asyncio.apply()"
      ],
      "metadata": {
        "id": "2ZnHE9Ixe80S"
      },
      "execution_count": null,
      "outputs": []
    },
    {
      "cell_type": "code",
      "source": [
        "from llama_parse import LlamaParse\n",
        "from llama_index.core import SimpleDirectoryReader\n",
        "\n",
        "# 파서 설정\n",
        "parser = LlamaParse(\n",
        "    result_type=\"markdown\",  # \"markdown\"과 \"text\" 사용 가능\n",
        "    num_workers=8,  # worker 수 (기본값: 4)\n",
        "    verbose=True,\n",
        "    language=\"ko\",\n",
        "    api_key = LLAMA_CLOUD_API_KEY\n",
        ")\n",
        "\n",
        "# SimpleDirectoryReader를 사용하여 파일 파싱\n",
        "file_extractor = {\".pdf\": parser}\n",
        "\n",
        "# LlamaParse로 파일 파싱\n",
        "documents = SimpleDirectoryReader(\n",
        "    input_files=[\"/content/3-3_상관분석_수정.pdf\"],\n",
        "    file_extractor=file_extractor,\n",
        ").load_data()"
      ],
      "metadata": {
        "colab": {
          "base_uri": "https://localhost:8080/"
        },
        "id": "AuSWfyWRfKMc",
        "outputId": "deb4c714-064c-4169-9308-a14c239c9880"
      },
      "execution_count": null,
      "outputs": [
        {
          "output_type": "stream",
          "name": "stdout",
          "text": [
            "Started parsing the file under job_id 3b37754d-fbd6-4528-ae9a-d24109d313f1\n",
            ".."
          ]
        }
      ]
    },
    {
      "cell_type": "code",
      "source": [
        "# 페이지 수 확인\n",
        "len(documents)"
      ],
      "metadata": {
        "colab": {
          "base_uri": "https://localhost:8080/"
        },
        "id": "TFlUKvQKhY_q",
        "outputId": "112be2fd-7aa0-49de-f9c0-ea792c4ed83b"
      },
      "execution_count": null,
      "outputs": [
        {
          "output_type": "execute_result",
          "data": {
            "text/plain": [
              "18"
            ]
          },
          "metadata": {},
          "execution_count": 62
        }
      ]
    },
    {
      "cell_type": "code",
      "source": [
        "# 랭체인 도큐먼트로 변환\n",
        "docs = [doc.to_langchain_format() for doc in documents]"
      ],
      "metadata": {
        "id": "KdlUEYGShyKA"
      },
      "execution_count": null,
      "outputs": []
    },
    {
      "cell_type": "code",
      "source": [
        "# metadata 출력\n",
        "docs[0].metadata"
      ],
      "metadata": {
        "colab": {
          "base_uri": "https://localhost:8080/"
        },
        "id": "tu60zAZPhzn7",
        "outputId": "2542f3b5-c737-40a3-d162-ddd60b6fed79"
      },
      "execution_count": null,
      "outputs": [
        {
          "output_type": "execute_result",
          "data": {
            "text/plain": [
              "{'file_path': '/content/3-3_상관분석_수정.pdf',\n",
              " 'file_name': '3-3_상관분석_수정.pdf',\n",
              " 'file_type': 'application/pdf',\n",
              " 'file_size': 946430,\n",
              " 'creation_date': '2025-01-07',\n",
              " 'last_modified_date': '2025-01-07'}"
            ]
          },
          "metadata": {},
          "execution_count": 64
        }
      ]
    },
    {
      "cell_type": "code",
      "source": [
        "OPENAI_API_KEY = \"\"\n",
        "\n",
        "documents = LlamaParse(\n",
        "    use_vendor_multimodal_model = True,\n",
        "    vendor_multimodal_model_name = 'openai-gpt4o',\n",
        "    vendor_multimoal_api_key = OPENAI_API_KEY,\n",
        "    api_key = LLAMA_CLOUD_API_KEY,\n",
        "    result_type = 'markdown',\n",
        "    language = 'ko',\n",
        "    skip_diagonal_text = True,\n",
        ")"
      ],
      "metadata": {
        "id": "280XZc4Eh9YO"
      },
      "execution_count": null,
      "outputs": []
    },
    {
      "cell_type": "code",
      "source": [],
      "metadata": {
        "id": "AVzuNo5OjWNW"
      },
      "execution_count": null,
      "outputs": []
    },
    {
      "cell_type": "code",
      "source": [
        "# parsing 된 결과\n",
        "parsed_docs = documents.load_data(file_path=\"/content/3-3_상관분석_수정.pdf\")"
      ],
      "metadata": {
        "colab": {
          "base_uri": "https://localhost:8080/"
        },
        "id": "nda8w93jh_cw",
        "outputId": "10996425-fce5-41bf-8b5e-3fe9f8311e54"
      },
      "execution_count": null,
      "outputs": [
        {
          "output_type": "stream",
          "name": "stdout",
          "text": [
            "Started parsing the file under job_id 8b4b4cbf-4a5e-4bd7-84ec-90a91babdb6a\n",
            "."
          ]
        }
      ]
    },
    {
      "cell_type": "code",
      "source": [
        "# langchain 도큐먼트로 변환\n",
        "docs = [doc.to_langchain_format() for doc in parsed_docs]"
      ],
      "metadata": {
        "id": "HdmGRI4biZR_"
      },
      "execution_count": null,
      "outputs": []
    },
    {
      "cell_type": "code",
      "source": [
        "parsing_instruction = (\n",
        "    \"You are parsing a brief of AI Report. Please extract tables in markdown format.\"\n",
        ")\n",
        "\n",
        "parser = LlamaParse(\n",
        "    use_vendor_multimodal_model=True,  # 오타 수정: use_vendor_muitimoal_model -> use_vendor_multimodal_model\n",
        "    vendor_multimodal_model_name='openai-gpt4o',\n",
        "    vendor_multimodal_api_key='',\n",
        "    result_type='markdown',\n",
        "    language='ko',\n",
        "    skip_diagonal_text=True,\n",
        "    parsing_instruction=parsing_instruction,\n",
        "    api_key=LLAMA_CLOUD_API_KEY  # API 키 추가\n",
        ")\n",
        "\n",
        "parser"
      ],
      "metadata": {
        "colab": {
          "base_uri": "https://localhost:8080/"
        },
        "id": "jajpHXakiwUI",
        "outputId": "7b87352c-ae74-4450-e61d-52ba8d439415"
      },
      "execution_count": null,
      "outputs": [
        {
          "output_type": "execute_result",
          "data": {
            "text/plain": [
              "LlamaParse(is_remote=False, api_key='llx-WMEuxSzoupY7tl7BraQJZGg9GPjLjyDqzwogVRf7sTfCHLb8', base_url='https://api.cloud.llamaindex.ai', check_interval=1, custom_client=None, ignore_errors=True, max_timeout=2000, num_workers=4, result_type=<ResultType.MD: 'markdown'>, show_progress=True, split_by_page=True, verbose=True, annotate_links=False, auto_mode=False, auto_mode_trigger_on_image_in_page=False, auto_mode_trigger_on_table_in_page=False, auto_mode_trigger_on_text_in_page=None, auto_mode_trigger_on_regexp_in_page=None, azure_openai_api_version=None, azure_openai_deployment_name=None, azure_openai_endpoint=None, azure_openai_key=None, bbox_bottom=None, bbox_left=None, bbox_right=None, bbox_top=None, continuous_mode=False, disable_ocr=False, disable_image_extraction=False, do_not_cache=False, do_not_unroll_columns=False, extract_charts=False, extract_layout=False, fast_mode=False, guess_xlsx_sheet_names=False, html_make_all_elements_visible=False, html_remove_fixed_elements=False, html_remove_navigation_elements=False, http_proxy=None, invalidate_cache=False, is_formatting_instruction=False, language='ko', max_pages=None, output_pdf_of_document=False, output_s3_path_prefix=None, page_prefix=None, page_separator=None, page_suffix=None, parsing_instruction='You are parsing a brief of AI Report. Please extract tables in markdown format.', premium_mode=False, skip_diagonal_text=True, structured_output=False, structured_output_json_schema=None, structured_output_json_schema_name=None, take_screenshot=False, target_pages=None, use_vendor_multimodal_model=True, vendor_multimodal_api_key='', vendor_multimodal_model_name='openai-gpt4o', webhook_url=None, bounding_box=None, gpt4o_mode=False, gpt4o_api_key=None)"
            ]
          },
          "metadata": {},
          "execution_count": 74
        }
      ]
    },
    {
      "cell_type": "code",
      "source": [
        "# markdown 형식으로 추출된 테이블 확인\n",
        "print(docs[-2].page_content)"
      ],
      "metadata": {
        "colab": {
          "base_uri": "https://localhost:8080/"
        },
        "id": "sEKXKmsUized",
        "outputId": "983372cd-3360-4406-9101-3089848b7380"
      },
      "execution_count": null,
      "outputs": [
        {
          "output_type": "stream",
          "name": "stdout",
          "text": [
            "# 3-3. 상관분석\n",
            "\n",
            "## 상관분석 (Correlation Analysis)\n",
            "\n",
            "- **공분산과 상관계수**\n",
            "  - 특정변수의 분산 중에서 다른 변수와 같이 변화하는 분산(공분산)이 어느 정도 인가\n",
            "  - 공통으로 변화하는 공분산이 클수록 상관도는 높아짐\n",
            "\n",
            "### Diagram\n",
            "\n",
            "- **Left Diagram:**\n",
            "  - X: 소득의 분산\n",
            "  - Y: 소비액의 분산\n",
            "  - 공분산(16%)\n",
            "  - r(상관계수) = 0.4\n",
            "  - r²(결정계수, 설명력) = 0.16\n",
            "\n",
            "- **Right Diagram:**\n",
            "  - X\n",
            "  - Y\n",
            "  - r = 0.9\n",
            "  - r² = 0.81\n"
          ]
        }
      ]
    },
    {
      "cell_type": "code",
      "source": [],
      "metadata": {
        "id": "rC8FBCEtjCot"
      },
      "execution_count": null,
      "outputs": []
    }
  ]
}