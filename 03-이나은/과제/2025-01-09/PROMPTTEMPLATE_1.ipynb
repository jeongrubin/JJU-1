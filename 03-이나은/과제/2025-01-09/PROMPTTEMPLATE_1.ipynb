{
  "nbformat": 4,
  "nbformat_minor": 0,
  "metadata": {
    "colab": {
      "provenance": []
    },
    "kernelspec": {
      "name": "python3",
      "display_name": "Python 3"
    },
    "language_info": {
      "name": "python"
    }
  },
  "cells": [
    {
      "cell_type": "markdown",
      "source": [
        "### PromptTemplate"
      ],
      "metadata": {
        "id": "mZZhhTbKZMfp"
      }
    },
    {
      "cell_type": "code",
      "source": [
        "!pip install -qU langchain_openai"
      ],
      "metadata": {
        "id": "AxpkpkuvAOkt"
      },
      "execution_count": 52,
      "outputs": []
    },
    {
      "cell_type": "code",
      "source": [
        "import os\n",
        "\n",
        "os.environ[\"OPENAI_API_KEY\"] = \"\"\n",
        "os.environ['LANGCHAIN_API_KEY'] = \"\"\n",
        "os.environ['LANGCHAIN_TRACING_V2'] = 'true'\n",
        "os.environ['LANGCHAIN_ENDPOINT'] = 'https://api.smith.langchain.com'\n",
        "os.environ['LANGCHAIN_PROJECT'] = \"test_JJU_LeeNaEun\""
      ],
      "metadata": {
        "id": "G4bwoLhrAI4v"
      },
      "execution_count": 53,
      "outputs": []
    },
    {
      "cell_type": "code",
      "source": [
        "llm = ChatOpenAI(\n",
        "    model = 'gpt-4o',\n",
        "    temperature = 0,\n",
        "    max_tokens = None,\n",
        "    timeout = None,\n",
        "    max_retries = 2,\n",
        "    # base_url = '',\n",
        "    #organization = '',\n",
        ")"
      ],
      "metadata": {
        "id": "MZSzKVEtBPl9"
      },
      "execution_count": 41,
      "outputs": []
    },
    {
      "cell_type": "code",
      "source": [
        "llm"
      ],
      "metadata": {
        "colab": {
          "base_uri": "https://localhost:8080/"
        },
        "id": "4Y5VH-k_BMiJ",
        "outputId": "4abcc43c-f420-4ef7-ecdf-0943100761f5"
      },
      "execution_count": 42,
      "outputs": [
        {
          "output_type": "execute_result",
          "data": {
            "text/plain": [
              "ChatOpenAI(client=<openai.resources.chat.completions.Completions object at 0x7ca2432b36a0>, async_client=<openai.resources.chat.completions.AsyncCompletions object at 0x7ca2432b02e0>, root_client=<openai.OpenAI object at 0x7ca241bc8640>, root_async_client=<openai.AsyncOpenAI object at 0x7ca2432b1e40>, model_name='gpt-4o', temperature=0.0, model_kwargs={}, openai_api_key=SecretStr('**********'))"
            ]
          },
          "metadata": {},
          "execution_count": 42
        }
      ]
    },
    {
      "cell_type": "code",
      "execution_count": 43,
      "metadata": {
        "colab": {
          "base_uri": "https://localhost:8080/"
        },
        "id": "GgPpVtW9_yLG",
        "outputId": "83240e37-7e08-41df-d02f-7f999b18ab1b"
      },
      "outputs": [
        {
          "output_type": "stream",
          "name": "stdout",
          "text": [
            "input_variables=['movie_title'] input_types={} partial_variables={} template='{movie_title}에 대한 줄거리, 감독, 평점에 대해서 알려줘'\n"
          ]
        }
      ],
      "source": [
        "from langchain.prompts import PromptTemplate\n",
        "from langchain_openai import ChatOpenAI\n",
        "\n",
        "template = \"{movie_title}에 대한 줄거리, 감독, 평점에 대해서 알려줘\"\n",
        "\n",
        "prompt = PromptTemplate(\n",
        "    template = template,\n",
        "    input_variables=[\"movie_title\"]\n",
        ")\n",
        "\n",
        "print(prompt)"
      ]
    },
    {
      "cell_type": "code",
      "source": [
        "# 2. LLM 초기화\n",
        "llm = ChatOpenAI(model=\"gpt-4\", temperature=0)\n",
        "\n",
        "Result = prompt.format(movie_title=\"나 홀로 집에\")\n",
        "\n",
        "response = llm.invoke(Result)\n",
        "print(response.content)"
      ],
      "metadata": {
        "colab": {
          "base_uri": "https://localhost:8080/"
        },
        "id": "YBy9OGCuEV_r",
        "outputId": "3701bf1f-35b4-4842-8452-e3c965d2cb8e"
      },
      "execution_count": 44,
      "outputs": [
        {
          "output_type": "stream",
          "name": "stdout",
          "text": [
            "\"나 홀로 집에\"는 1990년에 개봉한 미국의 코미디 영화입니다. 크리스마스 휴가를 맞아 가족들과 함께 파리로 떠나는 맥컬리스터 가존데, 아들 케빈이 집에 혼자 남게 되는 이야기를 그립니다. 케빈은 처음에는 혼자서 자유롭게 집에서 놀지만, 두 명의 도둑이 집을 털려고 하자 그들을 막기 위한 다양한 함정을 설치하게 됩니다.\n",
            "\n",
            "이 영화는 크리스마스 시즌에 가장 많이 보는 영화 중 하나로, 가족들과 함께 보기 좋은 영화로 알려져 있습니다. 감독은 크리스 콜럼버스이며, 주연으로는 맥컬리 컬킨이 출연했습니다.\n",
            "\n",
            "평점은 다양한 리뷰 사이트에서 높은 점수를 받았습니다. IMDb에서는 10점 만점에 7.6점, 로튼 토마토에서는 100% 중 65%의 평점을 받았습니다. 또한, 이 영화는 전 세계적으로 4억 7,600만 달러 이상의 흥행 수익을 올렸습니다.\n"
          ]
        }
      ]
    },
    {
      "cell_type": "code",
      "source": [
        "# 결과를 .txt 파일로 저장\n",
        "with open(\"response.txt\", \"w\", encoding=\"utf-8\") as file:\n",
        "    file.write(response.content)\n",
        "\n",
        "print(\"결과가 response.txt에 저장되었습니다.\")"
      ],
      "metadata": {
        "id": "MEwB35wUEGqf",
        "colab": {
          "base_uri": "https://localhost:8080/"
        },
        "outputId": "25c1796e-1b5f-445d-f7ee-1e594322ace6"
      },
      "execution_count": 45,
      "outputs": [
        {
          "output_type": "stream",
          "name": "stdout",
          "text": [
            "결과가 response.txt에 저장되었습니다.\n"
          ]
        }
      ]
    },
    {
      "cell_type": "markdown",
      "source": [
        "### PromptTemplate YAML 데이터 읽어보기"
      ],
      "metadata": {
        "id": "N0Qcq-hwYmUO"
      }
    },
    {
      "cell_type": "code",
      "source": [
        "from langchain.prompts import load_prompt\n",
        "\n",
        "prompt_yaml_1 = load_prompt(\"/content/movie.yaml\", encoding = 'utf-8')"
      ],
      "metadata": {
        "id": "5Vob-tBkL8Bc"
      },
      "execution_count": 54,
      "outputs": []
    },
    {
      "cell_type": "code",
      "source": [
        "prompt_yaml_1"
      ],
      "metadata": {
        "colab": {
          "base_uri": "https://localhost:8080/"
        },
        "id": "4pJOGSb5YoZR",
        "outputId": "098f7a97-047d-4f3c-86d2-b15bc296095e"
      },
      "execution_count": 55,
      "outputs": [
        {
          "output_type": "execute_result",
          "data": {
            "text/plain": [
              "PromptTemplate(input_variables=['movie'], input_types={}, partial_variables={}, template='{movie}의 줄거리가 뭐야? 한글로 대답해야만 해')"
            ]
          },
          "metadata": {},
          "execution_count": 55
        }
      ]
    },
    {
      "cell_type": "code",
      "source": [
        "prompt_yaml_1.format(movie = \"나 홀로 집에\")"
      ],
      "metadata": {
        "colab": {
          "base_uri": "https://localhost:8080/",
          "height": 35
        },
        "id": "ZXrceaouYpru",
        "outputId": "b2218cea-6065-4c22-bfd5-3eb4a99ed18e"
      },
      "execution_count": 57,
      "outputs": [
        {
          "output_type": "execute_result",
          "data": {
            "text/plain": [
              "'나 홀로 집에의 줄거리가 뭐야? 한글로 대답해야만 해'"
            ],
            "application/vnd.google.colaboratory.intrinsic+json": {
              "type": "string"
            }
          },
          "metadata": {},
          "execution_count": 57
        }
      ]
    },
    {
      "cell_type": "code",
      "source": [
        "chain = prompt_yaml_1 | llm"
      ],
      "metadata": {
        "id": "MZDsDX5vYv-m"
      },
      "execution_count": 58,
      "outputs": []
    },
    {
      "cell_type": "code",
      "source": [
        "chain.invoke(input = \"나 홀로 집에\").content"
      ],
      "metadata": {
        "colab": {
          "base_uri": "https://localhost:8080/",
          "height": 72
        },
        "id": "Neglp8y5Y0EL",
        "outputId": "d760aead-c76c-4c85-c961-809d57dd2a4d"
      },
      "execution_count": 59,
      "outputs": [
        {
          "output_type": "execute_result",
          "data": {
            "text/plain": [
              "'\"나 홀로 집에\"는 크리스마스 시즌에 가족들과 함께 유럽 여행을 떠나게 된 맥컬리스터 가존의 8살 소년 케빈이 주인공입니다. 그러나 케빈은 여행 출발 당일 아침에 가족들이 잊고 떠나버리는 바람에 홀로 집에 남게 됩니다. 처음에는 홀로 집에 남게 된 것이 즐겁게 느껴지지만, 두 명의 도둑이 그의 집을 노리고 있음을 알게 되면서 상황은 급변하게 됩니다. 케빈은 집을 지키기 위해 다양한 함정을 설치하고 도둑들을 물리치는데, 그 과정이 흥미진진하게 그려져 있습니다. 이 영화는 가족의 소중함과 사랑에 대해 다시 한번 생각하게 하는 따뜻한 메시지를 전달하며, 크리스마스 시즌에 가장 많이 찾는 영화 중 하나입니다.'"
            ],
            "application/vnd.google.colaboratory.intrinsic+json": {
              "type": "string"
            }
          },
          "metadata": {},
          "execution_count": 59
        }
      ]
    },
    {
      "cell_type": "code",
      "source": [],
      "metadata": {
        "id": "vXKqeBYzY8P-"
      },
      "execution_count": null,
      "outputs": []
    }
  ]
}