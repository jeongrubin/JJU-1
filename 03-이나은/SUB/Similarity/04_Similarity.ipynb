{
  "nbformat": 4,
  "nbformat_minor": 0,
  "metadata": {
    "colab": {
      "provenance": []
    },
    "kernelspec": {
      "name": "python3",
      "display_name": "Python 3"
    },
    "language_info": {
      "name": "python"
    }
  },
  "cells": [
    {
      "cell_type": "code",
      "source": [
        "import os\n",
        "\n",
        "os.environ[\"OPENAI_API_KEY\"] = \"\"\n",
        "os.environ[\"LANGCHAIN_API_KEY\"] = \"\"\n",
        "os.environ[\"LANGCHAIN_TRACING_V2\"] = \"true\"\n",
        "os.environ[\"LANGCHAIN_ENDPOINT\"] = \"https://api.smith.langchain.com\"\n",
        "os.environ[\"LANGCHAIN_PROJECT\"] = \"01-03-4\""
      ],
      "metadata": {
        "id": "Q1Qf58DRNM5r"
      },
      "execution_count": null,
      "outputs": []
    },
    {
      "cell_type": "code",
      "execution_count": null,
      "metadata": {
        "colab": {
          "base_uri": "https://localhost:8080/"
        },
        "id": "acjhQIU0MvQF",
        "outputId": "ae30b51c-e604-440a-94d9-a1608d10bdfe"
      },
      "outputs": [
        {
          "output_type": "stream",
          "name": "stderr",
          "text": [
            "/usr/local/lib/python3.10/dist-packages/langsmith/client.py:256: LangSmithMissingAPIKeyWarning: API key must be provided when using hosted LangSmith API\n",
            "  warnings.warn(\n"
          ]
        }
      ],
      "source": [
        "from langchain import hub\n",
        "\n",
        "prompt = hub.pull('rlm/rag-prompt')"
      ]
    },
    {
      "cell_type": "code",
      "source": [
        "prompt"
      ],
      "metadata": {
        "colab": {
          "base_uri": "https://localhost:8080/"
        },
        "id": "obOmgR7KNKr-",
        "outputId": "cc90fe4c-b88b-45d8-943d-d866e1201ef6"
      },
      "execution_count": null,
      "outputs": [
        {
          "output_type": "execute_result",
          "data": {
            "text/plain": [
              "ChatPromptTemplate(input_variables=['context', 'question'], input_types={}, partial_variables={}, metadata={'lc_hub_owner': 'rlm', 'lc_hub_repo': 'rag-prompt', 'lc_hub_commit_hash': '50442af133e61576e74536c6556cefe1fac147cad032f4377b60c436e6cdcb6e'}, messages=[HumanMessagePromptTemplate(prompt=PromptTemplate(input_variables=['context', 'question'], input_types={}, partial_variables={}, template=\"You are an assistant for question-answering tasks. Use the following pieces of retrieved context to answer the question. If you don't know the answer, just say that you don't know. Use three sentences maximum and keep the answer concise.\\nQuestion: {question} \\nContext: {context} \\nAnswer:\"), additional_kwargs={})])"
            ]
          },
          "metadata": {},
          "execution_count": 25
        }
      ]
    },
    {
      "cell_type": "markdown",
      "source": [
        "### 1. 남의꺼 밀어넣기"
      ],
      "metadata": {
        "id": "Y9QnzQHVOFgW"
      }
    },
    {
      "cell_type": "code",
      "source": [],
      "metadata": {
        "id": "J3-LpxRcOEnd"
      },
      "execution_count": null,
      "outputs": []
    },
    {
      "cell_type": "markdown",
      "source": [
        "### 2. 내꺼 밀어넣기"
      ],
      "metadata": {
        "id": "BWCrDV1IOJHL"
      }
    },
    {
      "cell_type": "code",
      "source": [
        "from langchain.prompts import PromptTemplate\n",
        "from langchain import hub\n",
        "import os\n",
        "\n",
        "\n",
        "prompt = PromptTemplate(\n",
        "    input_variables=[\"name\"],\n",
        "    template=\"Hello {name}, how can I assist you today?\"\n",
        ")"
      ],
      "metadata": {
        "id": "g7L0rGOHOKvY"
      },
      "execution_count": null,
      "outputs": []
    },
    {
      "cell_type": "markdown",
      "source": [
        "### 3. FewShotChatMessagePromptTemplate"
      ],
      "metadata": {
        "id": "iBFQSXlSfI_L"
      }
    },
    {
      "cell_type": "code",
      "source": [
        "## FewShotChatMessagePromptTemplate\n",
        "\n",
        "examples = [\n",
        "    {\n",
        "        \"instruction\": \"당신은 회의록 작성 전문가 입니다. 주어진 정보를 바탕으로 회의록을 작성해 주세요\",\n",
        "        \"input\": \"2023년 12월 25일, XYZ 회사의 마케팅 전략 회의가 오후 3시에 시작되었다. 회의에는 마케팅 팀장인 김수진, 디지털 마케팅 담당자인 박지민, 소셜 미디어 관리자인 이준호가 참석했다. 회의의 주요 목적은 2024년 상반기 마케팅 전략을 수립하고, 새로운 소셜 미디어 캠페인에 대한 아이디어를 논의하는 것이었다. 팀장인 김수진은 최근 시장 동향에 대한 간략한 개요를 제공했으며, 이어서 각 팀원이 자신의 분야에서의 전략적 아이디어를 발표했다.\",\n",
        "        \"answer\": \"\"\"\n",
        "회의록: XYZ 회사 마케팅 전략 회의\n",
        "일시: 2023년 12월 25일\n",
        "장소: XYZ 회사 회의실\n",
        "참석자: 김수진 (마케팅 팀장), 박지민 (디지털 마케팅 담당자), 이준호 (소셜 미디어 관리자)\n",
        "\n",
        "1. 개회\n",
        "   - 회의는 김수진 팀장의 개회사로 시작됨.\n",
        "   - 회의의 목적은 2024년 상반기 마케팅 전략 수립 및 새로운 소셜 미디어 캠페인 아이디어 논의.\n",
        "\n",
        "2. 시장 동향 개요 (김수진)\n",
        "   - 김수진 팀장은 최근 시장 동향에 대한 분석을 제시.\n",
        "   - 소비자 행동 변화와 경쟁사 전략에 대한 통찰 공유.\n",
        "\n",
        "3. 디지털 마케팅 전략 (박지민)\n",
        "   - 박지민은 디지털 마케팅 전략에 대해 발표.\n",
        "   - 온라인 광고와 SEO 최적화 방안에 중점을 둠.\n",
        "\n",
        "4. 소셜 미디어 캠페인 (이준호)\n",
        "   - 이준호는 새로운 소셜 미디어 캠페인에 대한 아이디어를 제안.\n",
        "   - 인플루언서 마케팅과 콘텐츠 전략에 대한 계획을 설명함.\n",
        "\n",
        "5. 종합 논의\n",
        "   - 팀원들 간의 아이디어 공유 및 토론.\n",
        "   - 각 전략에 대한 예산 및 자원 배분에 대해 논의.\n",
        "\n",
        "6. 마무리\n",
        "   - 다음 회의 날짜 및 시간 확정.\n",
        "   - 회의록 정리 및 배포는 박지민 담당.\n",
        "\"\"\",\n",
        "    },\n",
        "    {\n",
        "        \"instruction\": \"당신은 요약 전문가 입니다. 다음 주어진 정보를 바탕으로 내용을 요약해 주세요\",\n",
        "        \"input\": \"이 문서는 '지속 가능한 도시 개발을 위한 전략'에 대한 20페이지 분량의 보고서입니다. 보고서는 지속 가능한 도시 개발의 중요성, 현재 도시화의 문제점, 그리고 도시 개발을 지속 가능하게 만들기 위한 다양한 전략을 포괄적으로 다루고 있습니다. 이 보고서는 또한 성공적인 지속 가능한 도시 개발 사례를 여러 국가에서 소개하고, 이러한 사례들을 통해 얻은 교훈을 요약하고 있습니다.\",\n",
        "        \"answer\": \"\"\"\n",
        "문서 요약: 지속 가능한 도시 개발을 위한 전략 보고서\n",
        "\n",
        "- 중요성: 지속 가능한 도시 개발이 필수적인 이유와 그에 따른 사회적, 경제적, 환경적 이익을 강조.\n",
        "- 현 문제점: 현재의 도시화 과정에서 발생하는 주요 문제점들, 예를 들어 환경 오염, 자원 고갈, 불평등 증가 등을 분석.\n",
        "- 전략: 지속 가능한 도시 개발을 달성하기 위한 다양한 전략 제시. 이에는 친환경 건축, 대중교통 개선, 에너지 효율성 증대, 지역사회 참여 강화 등이 포함됨.\n",
        "- 사례 연구: 전 세계 여러 도시의 성공적인 지속 가능한 개발 사례를 소개. 예를 들어, 덴마크의 코펜하겐, 일본의 요코하마 등의 사례를 통해 실현 가능한 전략들을 설명.\n",
        "- 교훈: 이러한 사례들에서 얻은 주요 교훈을 요약. 강조된 교훈에는 다각적 접근의 중요성, 지역사회와의 협력, 장기적 계획의 필요성 등이 포함됨.\n",
        "\n",
        "이 보고서는 지속 가능한 도시 개발이 어떻게 현실적이고 효과적인 형태로 이루어질 수 있는지에 대한 심도 있는 분석을 제공합니다.\n",
        "\"\"\",\n",
        "    },\n",
        "    {\n",
        "        \"instruction\": \"당신은 문장 교정 전문가 입니다. 다음 주어진 문장을 교정해 주세요\",\n",
        "        \"input\": \"우리 회사는 새로운 마케팅 전략을 도입하려고 한다. 이를 통해 고객과의 소통이 더 효과적이 될 것이다.\",\n",
        "        \"answer\": \"본 회사는 새로운 마케팅 전략을 도입함으로써, 고객과의 소통을 보다 효과적으로 개선할 수 있을 것으로 기대된다.\",\n",
        "    },\n",
        "]"
      ],
      "metadata": {
        "id": "i0XLaQ6gOwiy"
      },
      "execution_count": null,
      "outputs": []
    },
    {
      "cell_type": "code",
      "source": [
        "!pip install -qU langchain langchain_openai langchain_chroma"
      ],
      "metadata": {
        "collapsed": true,
        "id": "mLjcT3OMah-G"
      },
      "execution_count": null,
      "outputs": []
    },
    {
      "cell_type": "code",
      "source": [
        "from langchain_core.prompts import ChatPromptTemplate, FewShotChatMessagePromptTemplate\n",
        "from langchain_core.example_selectors import SemanticSimilarityExampleSelector\n",
        "from langchain_openai import OpenAIEmbeddings\n",
        "from langchain_chroma import Chroma\n",
        "\n",
        "chroma = Chroma(\"fewshot_chat\", OpenAIEmbeddings())\n",
        "\n",
        "example_prompt = ChatPromptTemplate.from_messages(\n",
        "    [\n",
        "        (\"human\", \"{instruction}:\\n{input}\"),\n",
        "        (\"ai\", \"{answer}\"),\n",
        "    ]\n",
        ")\n",
        "\n",
        "example_selector = SemanticSimilarityExampleSelector.from_examples(\n",
        "    # 여기에는 선택 가능한 예시 목록이 있습니다.\n",
        "    examples,\n",
        "    # 여기에는 의미적 유사성을 측정하는 데 사용되는 임베딩을 생성하는 임베딩 클래스가 있습니다.\n",
        "    OpenAIEmbeddings(),\n",
        "    # 여기에는 임베딩을 저장하고 유사성 검색을 수행하는 데 사용되는 VectorStore 클래스가 있습니다.\n",
        "    chroma,\n",
        "    # 이것은 생성할 예시의 수입니다.\n",
        "    k=1,\n",
        ")\n",
        "\n",
        "few_shot_prompt = FewShotChatMessagePromptTemplate(\n",
        "    example_selector=example_selector,\n",
        "    example_prompt=example_prompt,\n",
        ")"
      ],
      "metadata": {
        "id": "QUzilV_4dFtY"
      },
      "execution_count": null,
      "outputs": []
    },
    {
      "cell_type": "code",
      "source": [
        "question = {\n",
        "    \"instruction\": \"회의록을 작성해 주세요\",\n",
        "    \"input\": \"2023년 12월 26일, ABC 기술 회사의 제품 개발 팀은 새로운 모바일 애플리케이션 프로젝트에 대한 주간 진행 상황 회의를 가졌다. 이 회의에는 프로젝트 매니저인 최현수, 주요 개발자인 황지연, UI/UX 디자이너인 김태영이 참석했다. 회의의 주요 목적은 프로젝트의 현재 진행 상황을 검토하고, 다가오는 마일스톤에 대한 계획을 수립하는 것이었다. 각 팀원은 자신의 작업 영역에 대한 업데이트를 제공했고, 팀은 다음 주까지의 목표를 설정했다.\",\n",
        "}\n",
        "\n",
        "example_selector.select_examples(question)"
      ],
      "metadata": {
        "colab": {
          "base_uri": "https://localhost:8080/"
        },
        "id": "IPGuJspqakhy",
        "outputId": "e673fe62-239e-46dc-ca14-d84d29935350"
      },
      "execution_count": null,
      "outputs": [
        {
          "output_type": "execute_result",
          "data": {
            "text/plain": [
              "[{'answer': '\\n회의록: XYZ 회사 마케팅 전략 회의\\n일시: 2023년 12월 25일\\n장소: XYZ 회사 회의실\\n참석자: 김수진 (마케팅 팀장), 박지민 (디지털 마케팅 담당자), 이준호 (소셜 미디어 관리자)\\n\\n1. 개회\\n   - 회의는 김수진 팀장의 개회사로 시작됨.\\n   - 회의의 목적은 2024년 상반기 마케팅 전략 수립 및 새로운 소셜 미디어 캠페인 아이디어 논의.\\n\\n2. 시장 동향 개요 (김수진)\\n   - 김수진 팀장은 최근 시장 동향에 대한 분석을 제시.\\n   - 소비자 행동 변화와 경쟁사 전략에 대한 통찰 공유.\\n\\n3. 디지털 마케팅 전략 (박지민)\\n   - 박지민은 디지털 마케팅 전략에 대해 발표.\\n   - 온라인 광고와 SEO 최적화 방안에 중점을 둠.\\n\\n4. 소셜 미디어 캠페인 (이준호)\\n   - 이준호는 새로운 소셜 미디어 캠페인에 대한 아이디어를 제안.\\n   - 인플루언서 마케팅과 콘텐츠 전략에 대한 계획을 설명함.\\n\\n5. 종합 논의\\n   - 팀원들 간의 아이디어 공유 및 토론.\\n   - 각 전략에 대한 예산 및 자원 배분에 대해 논의.\\n\\n6. 마무리\\n   - 다음 회의 날짜 및 시간 확정.\\n   - 회의록 정리 및 배포는 박지민 담당.\\n',\n",
              "  'input': '2023년 12월 25일, XYZ 회사의 마케팅 전략 회의가 오후 3시에 시작되었다. 회의에는 마케팅 팀장인 김수진, 디지털 마케팅 담당자인 박지민, 소셜 미디어 관리자인 이준호가 참석했다. 회의의 주요 목적은 2024년 상반기 마케팅 전략을 수립하고, 새로운 소셜 미디어 캠페인에 대한 아이디어를 논의하는 것이었다. 팀장인 김수진은 최근 시장 동향에 대한 간략한 개요를 제공했으며, 이어서 각 팀원이 자신의 분야에서의 전략적 아이디어를 발표했다.',\n",
              "  'instruction': '당신은 회의록 작성 전문가 입니다. 주어진 정보를 바탕으로 회의록을 작성해 주세요'}]"
            ]
          },
          "metadata": {},
          "execution_count": 29
        }
      ]
    },
    {
      "cell_type": "code",
      "source": [
        "final_prompt = ChatPromptTemplate.from_messages(\n",
        "    [\n",
        "        (\n",
        "            \"system\",\n",
        "            \"너는 나에게 도움을 주는 어시스턴트야.\",\n",
        "        ),\n",
        "        few_shot_prompt,\n",
        "        (\"human\", \"{instruction}\\n{input}\"),\n",
        "    ]\n",
        ")"
      ],
      "metadata": {
        "id": "joDnjipcfEWR"
      },
      "execution_count": null,
      "outputs": []
    },
    {
      "cell_type": "code",
      "source": [
        "!pip install -qU langchain_openai"
      ],
      "metadata": {
        "id": "Pl_VUPIxfGVW"
      },
      "execution_count": null,
      "outputs": []
    },
    {
      "cell_type": "code",
      "source": [
        "from langchain_openai import ChatOpenAI\n",
        "\n",
        "llm = ChatOpenAI(model=\"gpt-4o\", temperature=0)\n",
        "chain = final_prompt | llm # ChatOpenAI(model='gpt-4o', temperature=0)"
      ],
      "metadata": {
        "id": "AFt9Ccy4fc8r"
      },
      "execution_count": null,
      "outputs": []
    },
    {
      "cell_type": "code",
      "source": [
        "response = chain.invoke(question)"
      ],
      "metadata": {
        "colab": {
          "base_uri": "https://localhost:8080/"
        },
        "id": "tcOj97afffHD",
        "outputId": "aa2f5207-b297-40b4-a4e9-9c8665c59b56"
      },
      "execution_count": null,
      "outputs": [
        {
          "output_type": "stream",
          "name": "stderr",
          "text": [
            "WARNING:langsmith.client:Failed to multipart ingest runs: langsmith.utils.LangSmithAuthError: Authentication failed for https://api.smith.langchain.com/runs/multipart. HTTPError('401 Client Error: Unauthorized for url: https://api.smith.langchain.com/runs/multipart', '{\"detail\":\"Invalid token\"}')trace=e562f012-12ce-491c-b2fb-f23e81eb9025,id=e562f012-12ce-491c-b2fb-f23e81eb9025; trace=e562f012-12ce-491c-b2fb-f23e81eb9025,id=2e8a0379-c77e-4728-8060-0e495d6c725a\n",
            "WARNING:langsmith.client:Failed to multipart ingest runs: langsmith.utils.LangSmithAuthError: Authentication failed for https://api.smith.langchain.com/runs/multipart. HTTPError('401 Client Error: Unauthorized for url: https://api.smith.langchain.com/runs/multipart', '{\"detail\":\"Invalid token\"}')trace=e562f012-12ce-491c-b2fb-f23e81eb9025,id=5ef63b01-f923-4e58-b91e-bee562b1f3a6; trace=e562f012-12ce-491c-b2fb-f23e81eb9025,id=2e8a0379-c77e-4728-8060-0e495d6c725a\n",
            "WARNING:langsmith.client:Failed to multipart ingest runs: langsmith.utils.LangSmithAuthError: Authentication failed for https://api.smith.langchain.com/runs/multipart. HTTPError('401 Client Error: Unauthorized for url: https://api.smith.langchain.com/runs/multipart', '{\"detail\":\"Invalid token\"}')trace=e562f012-12ce-491c-b2fb-f23e81eb9025,id=e562f012-12ce-491c-b2fb-f23e81eb9025; trace=e562f012-12ce-491c-b2fb-f23e81eb9025,id=5ef63b01-f923-4e58-b91e-bee562b1f3a6\n"
          ]
        }
      ]
    },
    {
      "cell_type": "code",
      "source": [
        "print(response.content)"
      ],
      "metadata": {
        "colab": {
          "base_uri": "https://localhost:8080/"
        },
        "id": "IKtr2-gXfhAF",
        "outputId": "f1ab720a-51cc-4e25-cb16-51acd53e6c82"
      },
      "execution_count": null,
      "outputs": [
        {
          "output_type": "stream",
          "name": "stdout",
          "text": [
            "회의록: ABC 기술 회사 제품 개발 팀 주간 진행 상황 회의\n",
            "일시: 2023년 12월 26일\n",
            "장소: ABC 기술 회사 회의실\n",
            "참석자: 최현수 (프로젝트 매니저), 황지연 (주요 개발자), 김태영 (UI/UX 디자이너)\n",
            "\n",
            "1. 개회\n",
            "   - 회의는 최현수 프로젝트 매니저의 주도로 시작됨.\n",
            "   - 회의의 목적은 프로젝트의 현재 진행 상황 검토 및 다가오는 마일스톤 계획 수립.\n",
            "\n",
            "2. 진행 상황 업데이트\n",
            "   - 최현수: 전체 프로젝트 일정 및 주요 성과에 대한 개요 제공.\n",
            "   - 황지연: 개발 진행 상황 보고, 현재까지의 기술적 문제와 해결 방안 공유.\n",
            "   - 김태영: UI/UX 디자인 진행 상황 설명, 사용자 피드백 반영 여부 논의.\n",
            "\n",
            "3. 다가오는 마일스톤 계획\n",
            "   - 각 팀원은 다음 주까지 달성해야 할 목표를 설정.\n",
            "   - 황지연: 특정 기능 개발 완료 및 테스트 계획 수립.\n",
            "   - 김태영: 디자인 시안 최종 확정 및 프로토타입 제작.\n",
            "\n",
            "4. 종합 논의\n",
            "   - 팀원들 간의 협업 필요 사항 및 지원 요청 사항 논의.\n",
            "   - 프로젝트 일정 조정 및 리소스 배분에 대한 의견 교환.\n",
            "\n",
            "5. 마무리\n",
            "   - 다음 회의 일정 및 준비 사항 확인.\n",
            "   - 회의록 정리 및 배포는 최현수 담당.\n"
          ]
        }
      ]
    },
    {
      "cell_type": "code",
      "source": [],
      "metadata": {
        "id": "N77BfCyQo5gK"
      },
      "execution_count": null,
      "outputs": []
    }
  ]
}