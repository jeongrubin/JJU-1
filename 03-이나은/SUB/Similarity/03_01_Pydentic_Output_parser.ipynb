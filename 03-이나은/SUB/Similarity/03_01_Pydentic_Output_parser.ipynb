{
  "nbformat": 4,
  "nbformat_minor": 0,
  "metadata": {
    "colab": {
      "provenance": []
    },
    "kernelspec": {
      "name": "python3",
      "display_name": "Python 3"
    },
    "language_info": {
      "name": "python"
    }
  },
  "cells": [
    {
      "cell_type": "code",
      "execution_count": 1,
      "metadata": {
        "id": "Ggc8q_mvAsDn"
      },
      "outputs": [],
      "source": [
        "import os\n",
        "\n",
        "os.environ[\"OPENAI_API_KEY\"] = \"\"\n",
        "os.environ[\"LANGCHAIN_API_KEY\"] = \"\"\n",
        "os.environ[\"LANGCHAIN_TRACING_V2\"] = \"true\"\n",
        "os.environ[\"LANGCHAIN_ENDPOINT\"] = \"https://api.smith.langchain.com\"\n",
        "os.environ[\"LANGCHAIN_PROJECT\"] = \"01-03-4\""
      ]
    },
    {
      "cell_type": "code",
      "source": [
        "!pip install -qU langchain_openai"
      ],
      "metadata": {
        "colab": {
          "base_uri": "https://localhost:8080/"
        },
        "id": "_3YBtW-uBNNA",
        "outputId": "824a562e-dda1-48bc-ac19-6580584bdba4"
      },
      "execution_count": 2,
      "outputs": [
        {
          "output_type": "stream",
          "name": "stdout",
          "text": [
            "\u001b[?25l   \u001b[90m━━━━━━━━━━━━━━━━━━━━━━━━━━━━━━━━━━━━━━━━\u001b[0m \u001b[32m0.0/54.2 kB\u001b[0m \u001b[31m?\u001b[0m eta \u001b[36m-:--:--\u001b[0m\r\u001b[2K   \u001b[90m━━━━━━━━━━━━━━━━━━━━━━━━━━━━━━━━━━━━━━━━\u001b[0m \u001b[32m54.2/54.2 kB\u001b[0m \u001b[31m1.6 MB/s\u001b[0m eta \u001b[36m0:00:00\u001b[0m\n",
            "\u001b[?25h\u001b[?25l   \u001b[90m━━━━━━━━━━━━━━━━━━━━━━━━━━━━━━━━━━━━━━━━\u001b[0m \u001b[32m0.0/1.2 MB\u001b[0m \u001b[31m?\u001b[0m eta \u001b[36m-:--:--\u001b[0m\r\u001b[2K   \u001b[91m━━━━━━━━━━━━━━━━━━━━━━━━━━━━━\u001b[0m\u001b[91m╸\u001b[0m\u001b[90m━━━━━━━━━━\u001b[0m \u001b[32m0.9/1.2 MB\u001b[0m \u001b[31m25.7 MB/s\u001b[0m eta \u001b[36m0:00:01\u001b[0m\r\u001b[2K   \u001b[90m━━━━━━━━━━━━━━━━━━━━━━━━━━━━━━━━━━━━━━━━\u001b[0m \u001b[32m1.2/1.2 MB\u001b[0m \u001b[31m17.6 MB/s\u001b[0m eta \u001b[36m0:00:00\u001b[0m\n",
            "\u001b[?25h"
          ]
        }
      ]
    },
    {
      "cell_type": "code",
      "source": [
        "from langchain_openai import ChatOpenAI\n",
        "from langchain_core.output_parsers import StrOutputParser\n",
        "from pydantic import BaseModel, Field\n",
        "\n",
        "llm = ChatOpenAI(temperature = 0, model = \"gpt-4o\")"
      ],
      "metadata": {
        "id": "sA1zE7rNBQ2k"
      },
      "execution_count": 5,
      "outputs": []
    },
    {
      "cell_type": "code",
      "source": [
        "email_conversation = \"\"\"\n",
        "From: John (John@bikecorporation.me)\n",
        "To: Kim (Kim@teddyinternational.me)\n",
        "Subject: “ZENESIS” bike distribution cooperation and meeting schedule proposal\n",
        "Dear Mr. Kim,\n",
        "\n",
        "I am John, Senior Executive Director at Bike Corporation. I recently learned about your new bicycle model, \"ZENESIS,\" through your press release. Bike Corporation is a company that leads innovation and quality in the field of bicycle manufacturing and distribution, with long-time experience and expertise in this field.\n",
        "\n",
        "We would like to request a detailed brochure for the ZENESIS model. In particular, we need information on technical specifications, battery performance, and design aspects. This information will help us further refine our proposed distribution strategy and marketing plan.\n",
        "\n",
        "Additionally, to discuss the possibilities for collaboration in more detail, I propose a meeting next Tuesday, January 15th, at 10:00 AM. Would it be possible to meet at your office to have this discussion?\n",
        "\n",
        "Thank you.\n",
        "\n",
        "Best regards,\n",
        "John\n",
        "Senior Executive Director\n",
        "Bike Corporation\n",
        "\"\"\""
      ],
      "metadata": {
        "id": "eYqmldEmBhZf"
      },
      "execution_count": 6,
      "outputs": []
    },
    {
      "cell_type": "markdown",
      "source": [
        "### Output Parser를 사용하지 않는 경우"
      ],
      "metadata": {
        "id": "xE_e28dYCdEx"
      }
    },
    {
      "cell_type": "code",
      "source": [
        "from itertools import chain\n",
        "from langchain_core.prompts import PromptTemplate\n",
        "from langchain_core.messages import AIMessageChunk\n",
        "from langchain_core.output_parsers import StrOutputParser\n",
        "from langchain_core.output_parsers import PydanticOutputParser\n",
        "\n",
        "prompt = PromptTemplate.from_template(\n",
        "    '''\n",
        "    Please extract the important parts of the following email.\n",
        "    {email_conversation}\n",
        "    '''\n",
        ")\n",
        "\n",
        "llm = ChatOpenAI(temperature = 0, model = \"gpt-4\")\n",
        "\n",
        "chain = prompt | llm\n",
        "\n",
        "answer = chain.stream({\"email_conversation\" : email_conversation})\n",
        "answer"
      ],
      "metadata": {
        "colab": {
          "base_uri": "https://localhost:8080/"
        },
        "id": "jy-amlaHCcQA",
        "outputId": "a674b0be-bfc6-4901-f9fd-04e01160419a"
      },
      "execution_count": 76,
      "outputs": [
        {
          "output_type": "execute_result",
          "data": {
            "text/plain": [
              "<generator object RunnableSequence.stream at 0x7fd96ea73f40>"
            ]
          },
          "metadata": {},
          "execution_count": 76
        }
      ]
    },
    {
      "cell_type": "code",
      "source": [
        "def stream_response(response, return_output = False):\n",
        "    \"\"\"\n",
        "    Streams the response from the AI model, processing and printing each chunk.\n",
        "\n",
        "    This function iterates over each item in the 'response' iterable. If an item is an instance of AIMessageChunk, it extracts and prints the content.\n",
        "    If the item is a string, it prints the string directly.\n",
        "    Optionally, the function can return the concatenated string of all response chunks.\n",
        "\n",
        "    Args:\n",
        "    - response (iterable): An iterable of response chunks, which can be AIMessageChunk objects or strings.\n",
        "    - return_output (bool, optional): If True, the function returns the concatenated response string. The default is False.\n",
        "\n",
        "    Returns:\n",
        "    - str: If `return_output` is True, the concatenated response string. Otherwise, nothing is returned.\n",
        "    \"\"\"\n",
        "    answer = \"\"\n",
        "    for token in response:\n",
        "      if isinstance(token, AIMessageChunk):\n",
        "        answer += token.content\n",
        "        print(token.content, end = \"\", flush = True)\n",
        "\n",
        "      elif isinstance(token, str):\n",
        "        answer += token\n",
        "        print(token, end = \"\", flush = True)\n",
        "\n",
        "    if return_output:\n",
        "      return answer\n",
        "\n",
        "output = stream_response(answer, return_output = True)"
      ],
      "metadata": {
        "colab": {
          "base_uri": "https://localhost:8080/"
        },
        "id": "58lsS2RoEmsM",
        "outputId": "2238dc3f-927d-4f96-8f7c-8edef1a7ab1a"
      },
      "execution_count": 9,
      "outputs": [
        {
          "output_type": "stream",
          "name": "stdout",
          "text": [
            "John, the Senior Executive Director at Bike Corporation, has expressed interest in the new bicycle model \"ZENESIS\" from Teddy International. He has requested a detailed brochure for the model, specifically seeking information on technical specifications, battery performance, and design aspects. John has also proposed a meeting to discuss potential collaboration on Tuesday, January 15th, at 10:00 AM at Teddy International's office."
          ]
        }
      ]
    },
    {
      "cell_type": "markdown",
      "source": [
        "### Uer Output Parser"
      ],
      "metadata": {
        "id": "w4jCqIAZHlkF"
      }
    },
    {
      "cell_type": "code",
      "source": [
        "class EmailSummary(BaseModel):\n",
        "  parson: str = Field(desxription = \"The sender in the email\")\n",
        "  email: str = Field(description = \"The email address of the sender\")\n",
        "  subject: str = Field(description = \"The subject of the email\")\n",
        "  summary: str = Field(description = \"The summary of the email content\")\n",
        "  date: str = Field(description = \"The meetion date and time mentioned in the email content\")"
      ],
      "metadata": {
        "id": "GbHa6ZRCFLls"
      },
      "execution_count": 15,
      "outputs": []
    },
    {
      "cell_type": "code",
      "source": [
        "parser = PydanticOutputParser(pydantic_object = EmailSummary)"
      ],
      "metadata": {
        "id": "z27FI6NRIY3O"
      },
      "execution_count": 16,
      "outputs": []
    },
    {
      "cell_type": "code",
      "source": [
        "print(parser)"
      ],
      "metadata": {
        "colab": {
          "base_uri": "https://localhost:8080/"
        },
        "id": "PDm3Qkq_JCV5",
        "outputId": "0869873d-b819-497c-cbf6-7273a965e573"
      },
      "execution_count": 17,
      "outputs": [
        {
          "output_type": "stream",
          "name": "stdout",
          "text": [
            "pydantic_object=<class '__main__.EmailSummary'>\n"
          ]
        }
      ]
    },
    {
      "cell_type": "markdown",
      "source": [
        "### Prompt 제작"
      ],
      "metadata": {
        "id": "cz6yLBWSKfXS"
      }
    },
    {
      "cell_type": "code",
      "source": [
        "prompt = PromptTemplate.from_template(\n",
        "    '''\n",
        "    You are a helpful assistant.\n",
        "\n",
        "    QUESTION:\n",
        "    {question}\n",
        "\n",
        "    EMAIL CONVERSATION:\n",
        "    {email_conversation}\n",
        "\n",
        "    FORAMT:\n",
        "    {format}\n",
        "    '''\n",
        ")"
      ],
      "metadata": {
        "id": "aK0f8lLTKedz"
      },
      "execution_count": 18,
      "outputs": []
    },
    {
      "cell_type": "code",
      "source": [
        "prompt = prompt.partial(format = parser.get_format_instructions())"
      ],
      "metadata": {
        "id": "gilzEdt4K0ac"
      },
      "execution_count": 19,
      "outputs": []
    },
    {
      "cell_type": "markdown",
      "source": [
        "\n",
        "\n",
        "*   **get_format_instructions()**: 언어 모델이 출력해야 하는 정보의 형식을 정의하는 지침을 제공합니다. 예를 들어, 언어 모델이 출력해야 하는 데이터 필드와 해당 필드의 형식을 지정하는 방법을 설명하는 문자열로 명령을 반환할 수 있습니다.\n",
        "이러한 지침은 언어 모델이 출력을 구조화하고 특정 데이터 모델에 맞게 변환하는 데 매우 중요합니다.\n",
        "*  **parser()**: 언어 모델의 출력(문자열로 가정)을 가져와 이를 분석하고 특정 구조로 변환합니다. Pydantic과 같은 도구를 사용하여 사전 정의 스키마에 대해 입력 문자열의 유효성을 검사하고 해당 스키마를 따르는 데이터 구조로 변환합니다.\n",
        "*   **원하는 정보를 출력하기 위해 여러 과정을 거쳐야 함.**\n",
        "\n"
      ],
      "metadata": {
        "id": "qzKU19DEO1eg"
      }
    },
    {
      "cell_type": "code",
      "source": [
        "test_instruct = parser.get_format_instructions()"
      ],
      "metadata": {
        "id": "6m9sfEARNM50"
      },
      "execution_count": 66,
      "outputs": []
    },
    {
      "cell_type": "code",
      "source": [
        "print(test_instruct)"
      ],
      "metadata": {
        "colab": {
          "base_uri": "https://localhost:8080/"
        },
        "id": "DnLAViDqPrBD",
        "outputId": "4a3a0197-2a27-4b7e-be32-26fc909768fc"
      },
      "execution_count": 67,
      "outputs": [
        {
          "output_type": "stream",
          "name": "stdout",
          "text": [
            "The output should be formatted as a JSON instance that conforms to the JSON schema below.\n",
            "\n",
            "As an example, for the schema {\"properties\": {\"foo\": {\"title\": \"Foo\", \"description\": \"a list of strings\", \"type\": \"array\", \"items\": {\"type\": \"string\"}}}, \"required\": [\"foo\"]}\n",
            "the object {\"foo\": [\"bar\", \"baz\"]} is a well-formatted instance of the schema. The object {\"properties\": {\"foo\": [\"bar\", \"baz\"]}} is not well-formatted.\n",
            "\n",
            "Here is the output schema:\n",
            "```\n",
            "{\"properties\": {\"parson\": {\"desxription\": \"The sender in the email\", \"title\": \"Parson\", \"type\": \"string\"}, \"email\": {\"description\": \"The email address of the sender\", \"title\": \"Email\", \"type\": \"string\"}, \"subject\": {\"description\": \"The subject of the email\", \"title\": \"Subject\", \"type\": \"string\"}, \"summary\": {\"description\": \"The summary of the email content\", \"title\": \"Summary\", \"type\": \"string\"}, \"date\": {\"description\": \"The meetion date and time mentioned in the email content\", \"title\": \"Date\", \"type\": \"string\"}}, \"required\": [\"parson\", \"email\", \"subject\", \"summary\", \"date\"]}\n",
            "```\n"
          ]
        }
      ]
    },
    {
      "cell_type": "code",
      "source": [
        "prompt = PromptTemplate.from_template(\n",
        "    '''\n",
        "    You are a helpful assistant.\n",
        "\n",
        "    QUESTION:\n",
        "    {question}\n",
        "\n",
        "    EMAIL CONVERSATION:\n",
        "    {email_conversation}\n",
        "\n",
        "    FORAMT:\n",
        "    {format}\n",
        "    '''\n",
        ")"
      ],
      "metadata": {
        "id": "e-1Xz7BQPzvL"
      },
      "execution_count": 68,
      "outputs": []
    },
    {
      "cell_type": "code",
      "source": [
        "\n",
        "prompt = prompt.partial(format = parser.get_format_instructions())\n",
        "\n",
        "print(prompt)"
      ],
      "metadata": {
        "colab": {
          "base_uri": "https://localhost:8080/"
        },
        "id": "uEyEwG-2RFjt",
        "outputId": "229cfdd1-12be-418d-db26-595b366a65e4"
      },
      "execution_count": 69,
      "outputs": [
        {
          "output_type": "stream",
          "name": "stdout",
          "text": [
            "input_variables=['email_conversation', 'question'] input_types={} partial_variables={'format': 'The output should be formatted as a JSON instance that conforms to the JSON schema below.\\n\\nAs an example, for the schema {\"properties\": {\"foo\": {\"title\": \"Foo\", \"description\": \"a list of strings\", \"type\": \"array\", \"items\": {\"type\": \"string\"}}}, \"required\": [\"foo\"]}\\nthe object {\"foo\": [\"bar\", \"baz\"]} is a well-formatted instance of the schema. The object {\"properties\": {\"foo\": [\"bar\", \"baz\"]}} is not well-formatted.\\n\\nHere is the output schema:\\n```\\n{\"properties\": {\"parson\": {\"desxription\": \"The sender in the email\", \"title\": \"Parson\", \"type\": \"string\"}, \"email\": {\"description\": \"The email address of the sender\", \"title\": \"Email\", \"type\": \"string\"}, \"subject\": {\"description\": \"The subject of the email\", \"title\": \"Subject\", \"type\": \"string\"}, \"summary\": {\"description\": \"The summary of the email content\", \"title\": \"Summary\", \"type\": \"string\"}, \"date\": {\"description\": \"The meetion date and time mentioned in the email content\", \"title\": \"Date\", \"type\": \"string\"}}, \"required\": [\"parson\", \"email\", \"subject\", \"summary\", \"date\"]}\\n```'} template='\\n    You are a helpful assistant.\\n\\n    QUESTION:\\n    {question}\\n\\n    EMAIL CONVERSATION:\\n    {email_conversation}\\n\\n    FORAMT:\\n    {format}\\n    '\n"
          ]
        }
      ]
    },
    {
      "cell_type": "code",
      "source": [
        "chain = prompt | llm\n",
        "print(chain)"
      ],
      "metadata": {
        "colab": {
          "base_uri": "https://localhost:8080/"
        },
        "id": "qwl6HRO4RKqH",
        "outputId": "09599617-7d59-4844-ac30-535a2b08345d"
      },
      "execution_count": 70,
      "outputs": [
        {
          "output_type": "stream",
          "name": "stdout",
          "text": [
            "first=PromptTemplate(input_variables=['email_conversation', 'question'], input_types={}, partial_variables={'format': 'The output should be formatted as a JSON instance that conforms to the JSON schema below.\\n\\nAs an example, for the schema {\"properties\": {\"foo\": {\"title\": \"Foo\", \"description\": \"a list of strings\", \"type\": \"array\", \"items\": {\"type\": \"string\"}}}, \"required\": [\"foo\"]}\\nthe object {\"foo\": [\"bar\", \"baz\"]} is a well-formatted instance of the schema. The object {\"properties\": {\"foo\": [\"bar\", \"baz\"]}} is not well-formatted.\\n\\nHere is the output schema:\\n```\\n{\"properties\": {\"parson\": {\"desxription\": \"The sender in the email\", \"title\": \"Parson\", \"type\": \"string\"}, \"email\": {\"description\": \"The email address of the sender\", \"title\": \"Email\", \"type\": \"string\"}, \"subject\": {\"description\": \"The subject of the email\", \"title\": \"Subject\", \"type\": \"string\"}, \"summary\": {\"description\": \"The summary of the email content\", \"title\": \"Summary\", \"type\": \"string\"}, \"date\": {\"description\": \"The meetion date and time mentioned in the email content\", \"title\": \"Date\", \"type\": \"string\"}}, \"required\": [\"parson\", \"email\", \"subject\", \"summary\", \"date\"]}\\n```'}, template='\\n    You are a helpful assistant.\\n\\n    QUESTION:\\n    {question}\\n\\n    EMAIL CONVERSATION:\\n    {email_conversation}\\n\\n    FORAMT:\\n    {format}\\n    ') middle=[] last=ChatOpenAI(client=<openai.resources.chat.completions.Completions object at 0x7fd97c236c50>, async_client=<openai.resources.chat.completions.AsyncCompletions object at 0x7fd96f3713c0>, root_client=<openai.OpenAI object at 0x7fd97c237f40>, root_async_client=<openai.AsyncOpenAI object at 0x7fd97c235d50>, model_name='gpt-4', temperature=0.0, model_kwargs={}, openai_api_key=SecretStr('**********'))\n"
          ]
        }
      ]
    },
    {
      "cell_type": "code",
      "source": [
        "response = chain.stream(\n",
        "    {\n",
        "      \"email_conversation\" : email_conversation,\n",
        "      \"question\" : \"이메일을 요약해\",\n",
        "    }\n",
        ")"
      ],
      "metadata": {
        "id": "-fH0NCHJRf3k"
      },
      "execution_count": 71,
      "outputs": []
    },
    {
      "cell_type": "code",
      "source": [
        "output = stream_response(response, return_output = True)"
      ],
      "metadata": {
        "id": "oHsbS229R-5I"
      },
      "execution_count": 73,
      "outputs": []
    },
    {
      "cell_type": "markdown",
      "source": [
        "###  : 구조화를 통해 원하는 정보만 출력 할 수 있도록 함."
      ],
      "metadata": {
        "id": "Vy7u046SU8FK"
      }
    },
    {
      "cell_type": "code",
      "source": [
        "chain = prompt | llm | parser"
      ],
      "metadata": {
        "id": "MzXKwt7ASPa4"
      },
      "execution_count": 42,
      "outputs": []
    },
    {
      "cell_type": "code",
      "source": [
        "response = chain.invoke(\n",
        "    {\n",
        "      \"email_conversation\" : email_conversation,\n",
        "      \"question\" : \"이메일을 요약해\",\n",
        "    }\n",
        ")"
      ],
      "metadata": {
        "id": "sDWB66LlVCYX"
      },
      "execution_count": 46,
      "outputs": []
    },
    {
      "cell_type": "code",
      "source": [
        "print(response)"
      ],
      "metadata": {
        "colab": {
          "base_uri": "https://localhost:8080/"
        },
        "id": "MdD3nZbpVJML",
        "outputId": "e3b57d43-2f5d-4e10-c22c-2df858d831ca"
      },
      "execution_count": 48,
      "outputs": [
        {
          "output_type": "stream",
          "name": "stdout",
          "text": [
            "parson='John' email='John@bikecorporation.me' subject='“ZENESIS” bike distribution cooperation and meeting schedule proposal' summary=\"John, Senior Executive Director at Bike Corporation, is interested in the new bicycle model, 'ZENESIS'. He requests a detailed brochure for the model, specifically information on technical specifications, battery performance, and design aspects. He also proposes a meeting to discuss potential collaboration.\" date='Tuesday, January 15th, at 10:00 AM'\n"
          ]
        }
      ]
    },
    {
      "cell_type": "code",
      "source": [
        "# 원하는 내용만 쏙 골라낼 수 있음.\n",
        "print(response.email)\n",
        "print(response.parson)"
      ],
      "metadata": {
        "colab": {
          "base_uri": "https://localhost:8080/"
        },
        "id": "eO-9ZXl5VUZG",
        "outputId": "5dcf2c92-7e53-472d-9a14-65d032abf087"
      },
      "execution_count": 54,
      "outputs": [
        {
          "output_type": "stream",
          "name": "stdout",
          "text": [
            "John@bikecorporation.me\n",
            "John\n"
          ]
        }
      ]
    },
    {
      "cell_type": "markdown",
      "source": [
        "### mail.txt"
      ],
      "metadata": {
        "id": "n3Czrd1jjIR6"
      }
    },
    {
      "cell_type": "code",
      "source": [
        "from langchain.prompts import PromptTemplate\n",
        "from langchain.output_parsers import PydanticOutputParser\n",
        "from pydantic import BaseModel, Field"
      ],
      "metadata": {
        "id": "m_SK-xxtm-kK"
      },
      "execution_count": 91,
      "outputs": []
    },
    {
      "cell_type": "code",
      "source": [
        "email_conversation = '/content/mail.txt'"
      ],
      "metadata": {
        "id": "G0UUYF6jmJOB"
      },
      "execution_count": 92,
      "outputs": []
    },
    {
      "cell_type": "code",
      "source": [
        "# EmailSummary 모델 정의\n",
        "class EmailSummary(BaseModel):\n",
        "    person: str = Field(description=\"The sender in the email\")\n",
        "    email: str = Field(description=\"The email address of the sender\")\n",
        "    subject: str = Field(description=\"The subject of the email\")\n",
        "    summary: str = Field(description=\"The summary of the email content\")\n",
        "    date: str = Field(description=\"The meeting date and time mentioned in the email content\")\n",
        "    is_spam: str = Field(description=\"Is the email spam or not. If it's spam, return '스팸'; otherwise, 'no spam'.\")\n",
        "\n",
        "# PydanticOutputParser를 사용하여 출력 구조화\n",
        "parser = PydanticOutputParser(pydantic_object=EmailSummary)"
      ],
      "metadata": {
        "id": "kNShbA2dVocl"
      },
      "execution_count": 93,
      "outputs": []
    },
    {
      "cell_type": "code",
      "source": [
        "prompt = PromptTemplate.from_template(\n",
        "    '''\n",
        "    You are a helpful assistant.\n",
        "\n",
        "    QUESTION:\n",
        "    {question}\n",
        "\n",
        "    EMAIL CONVERSATION:\n",
        "    {email_conversation}\n",
        "\n",
        "    FORAMT:\n",
        "    {format}\n",
        "    '''\n",
        ")"
      ],
      "metadata": {
        "id": "WVJtimsrl0ze"
      },
      "execution_count": 101,
      "outputs": []
    },
    {
      "cell_type": "code",
      "source": [
        "prompt = prompt.partial(format = parser.get_format_instructions())\n",
        "\n",
        "print(prompt)"
      ],
      "metadata": {
        "colab": {
          "base_uri": "https://localhost:8080/"
        },
        "id": "cC4pGUbroGik",
        "outputId": "8a6a6d98-972b-4659-e11f-9398580b5326"
      },
      "execution_count": 102,
      "outputs": [
        {
          "output_type": "stream",
          "name": "stdout",
          "text": [
            "input_variables=['email_conversation', 'question'] input_types={} partial_variables={'format': 'The output should be formatted as a JSON instance that conforms to the JSON schema below.\\n\\nAs an example, for the schema {\"properties\": {\"foo\": {\"title\": \"Foo\", \"description\": \"a list of strings\", \"type\": \"array\", \"items\": {\"type\": \"string\"}}}, \"required\": [\"foo\"]}\\nthe object {\"foo\": [\"bar\", \"baz\"]} is a well-formatted instance of the schema. The object {\"properties\": {\"foo\": [\"bar\", \"baz\"]}} is not well-formatted.\\n\\nHere is the output schema:\\n```\\n{\"properties\": {\"person\": {\"description\": \"The sender in the email\", \"title\": \"Person\", \"type\": \"string\"}, \"email\": {\"description\": \"The email address of the sender\", \"title\": \"Email\", \"type\": \"string\"}, \"subject\": {\"description\": \"The subject of the email\", \"title\": \"Subject\", \"type\": \"string\"}, \"summary\": {\"description\": \"The summary of the email content\", \"title\": \"Summary\", \"type\": \"string\"}, \"date\": {\"description\": \"The meeting date and time mentioned in the email content\", \"title\": \"Date\", \"type\": \"string\"}, \"is_spam\": {\"description\": \"Is the email spam or not. If it\\'s spam, return \\'스팸\\'; otherwise, \\'no spam\\'.\", \"title\": \"Is Spam\", \"type\": \"string\"}}, \"required\": [\"person\", \"email\", \"subject\", \"summary\", \"date\", \"is_spam\"]}\\n```'} template='\\n    You are a helpful assistant.\\n\\n    QUESTION:\\n    {question}\\n\\n    EMAIL CONVERSATION:\\n    {email_conversation}\\n\\n    FORAMT:\\n    {format}\\n    '\n"
          ]
        }
      ]
    },
    {
      "cell_type": "markdown",
      "source": [
        "### 2"
      ],
      "metadata": {
        "id": "mK41qTzjoWQj"
      }
    },
    {
      "cell_type": "code",
      "source": [
        "email_conversation = \"\"\"\n",
        "Delivered-To: naaa2004@jj.ac.kr\n",
        "Received: by 2002:a05:7010:3d4:b0:421:d380:e3da with SMTP id v20csp1385711mdi;\n",
        "        Sun, 12 Jan 2025 17:00:03 -0800 (PST)\n",
        "X-Google-Smtp-Source: AGHT+IECADgzgDvX6MPwA2VkNrdQNrATFaYnFkFasu6alR/BxJ05o3MFRcwV8QDuLgrbld0mOgQQ\n",
        "X-Received: by 2002:ac8:4918:0:b0:467:6100:d1ac with SMTP id d75a77b69052e-46c70ff7440mr252312841cf.18.1736730002918;\n",
        "        Sun, 12 Jan 2025 17:00:02 -0800 (PST)\n",
        "ARC-Seal: i=1; a=rsa-sha256; t=1736730002; cv=none;\n",
        "        d=google.com; s=arc-20240605;\n",
        "        b=ceoylfD9t4bNXrWsOCkPDyb3mYnz/PCk53mjTZOCxU5ZVNAiWTHFcH/0BFPSicBrhb\n",
        "         dqURJSd8XZpqJ7mYA8R7pbvpi1OBdrjIXr5nLP3jKiunT6Cy3RqLYGF9IHr4QEaysZwY\n",
        "         Gw5GJubUJCE7I4kw3y7/B4ZbLz9+XLm7y1wc7QVRmK9f4cXdBAfNMGtViKrsiy1uBpVy\n",
        "         wvP32Ql6+vr9WePFoSznHu5Kjqw1W+yDiE923LDOgoACe2KpFdF0Exf7MQCZi6Ce/I6J\n",
        "         Unqd9si8PuNp96J8usIvbQX+sOhJB9Cl7QprXO1NEGvg/Sv83Zkld8voEdJbeEF0SMrC\n",
        "         HZPg==\n",
        "ARC-Message-Signature: i=1; a=rsa-sha256; c=relaxed/relaxed; d=google.com; s=arc-20240605;\n",
        "        h=mime-version:feedback-id:list-unsubscribe-post:list-unsubscribe:to\n",
        "         :reply-to:message-id:subject:date:from:dkim-signature:dkim-signature;\n",
        "        bh=yWt88s15Gt26Aj9LZuGnH7AUxGiXIW/O/YjJxIfEosg=;\n",
        "        fh=a9f3BgF576T6kB6rB7xXDLJFQHwvHtjVpqlQjClcluQ=;\n",
        "        b=ESK0El+DhS/o5o3tbm8mahnSCtbioGLM1vunsjC4f2TbRffEBRH1HcCQx08uC7UXoC\n",
        "         cx3kMH1Me0YFfdfsMsXQ4NZH5BKUoM1Xd4Dz9sHXKAHea+J0yNZm8WZ6kwWtIL2Uj5qK\n",
        "         arma2YO2Jeh6knKOtfQFppe7FqMQetIt9oz2pu0q4TIuYDDRpEeE6q+JwkBbi5F72bvI\n",
        "         w6/lB56rQYavXCpvxyPVluv58ym5Y3CjYTbY9musJX7SwealhX+xPKAiN/b0TYL7PD6j\n",
        "         0Q8T9UeNwDAPEKGj0PvJVxoQN8Ufr21mo2enuBFrKi64dujAD6LsBamV06R7QQMN7QUH\n",
        "         rMNA==;\n",
        "        dara=google.com\n",
        "ARC-Authentication-Results: i=1; mx.google.com;\n",
        "       dkim=pass header.i=@pm.mtasv.net header.s=pm20241021 header.b=ADdBr+5b;\n",
        "       dkim=pass header.i=@langchain.com header.s=20230705013107pm header.b=eB7QdIys;\n",
        "       spf=pass (google.com: domain of pm_bounces@pm-bounces.langchain.com designates 50.31.156.121 as permitted sender) smtp.mailfrom=pm_bounces@pm-bounces.langchain.com;\n",
        "       dmarc=pass (p=REJECT sp=REJECT dis=NONE) header.from=langchain.com\n",
        "Return-Path: <pm_bounces@pm-bounces.langchain.com>\n",
        "Received: from sc-ord-mta121.mtasv.net (sc-ord-mta121.mtasv.net. [50.31.156.121])\n",
        "        by mx.google.com with ESMTPS id d75a77b69052e-46c87332647si82417251cf.31.2025.01.12.17.00.02\n",
        "        for <naaa2004@jj.ac.kr>\n",
        "        (version=TLS1_3 cipher=TLS_AES_256_GCM_SHA384 bits=256/256);\n",
        "        Sun, 12 Jan 2025 17:00:02 -0800 (PST)\n",
        "\n",
        "\"\"\""
      ],
      "metadata": {
        "id": "srTyuuDvoJw7"
      },
      "execution_count": 113,
      "outputs": []
    },
    {
      "cell_type": "code",
      "source": [
        "from itertools import chain\n",
        "from langchain_core.prompts import PromptTemplate\n",
        "from langchain_core.messages import AIMessageChunk\n",
        "from langchain_core.output_parsers import StrOutputParser\n",
        "from langchain_core.output_parsers import PydanticOutputParser\n",
        "\n",
        "prompt = PromptTemplate.from_template(\n",
        "    '''\n",
        "    Please extract the important parts of the following email.\n",
        "    {email_conversation}\n",
        "    '''\n",
        ")\n",
        "\n",
        "llm = ChatOpenAI(temperature = 0, model = \"gpt-4\")\n",
        "\n",
        "chain = prompt | llm\n",
        "\n",
        "answer = chain.stream({\"email_conversation\" : email_conversation})\n",
        "answer"
      ],
      "metadata": {
        "colab": {
          "base_uri": "https://localhost:8080/"
        },
        "id": "E3wXiCe9oVe_",
        "outputId": "197dac54-a8ed-4d04-ff18-99e7633916d5"
      },
      "execution_count": 114,
      "outputs": [
        {
          "output_type": "execute_result",
          "data": {
            "text/plain": [
              "<generator object RunnableSequence.stream at 0x7fd96e6ece40>"
            ]
          },
          "metadata": {},
          "execution_count": 114
        }
      ]
    },
    {
      "cell_type": "code",
      "source": [
        "class EmailSummary(BaseModel):\n",
        "  parson: str = Field(desxription = \"The sender in the email\")\n",
        "  email: str = Field(description = \"The email address of the sender\")\n",
        "  subject: str = Field(description = \"The subject of the email\")\n",
        "  summary: str = Field(description = \"The summary of the email content\")\n",
        "  date: str = Field(description = \"The meetion date and time mentioned in the email content\")"
      ],
      "metadata": {
        "id": "i8qNVqRxoaPE"
      },
      "execution_count": 115,
      "outputs": []
    },
    {
      "cell_type": "code",
      "source": [
        "parser = PydanticOutputParser(pydantic_object = EmailSummary)"
      ],
      "metadata": {
        "id": "--GyJANyoegK"
      },
      "execution_count": 116,
      "outputs": []
    },
    {
      "cell_type": "code",
      "source": [
        "prompt = PromptTemplate.from_template(\n",
        "    '''\n",
        "    You are a helpful assistant.\n",
        "\n",
        "    QUESTION:\n",
        "    {question}\n",
        "\n",
        "    EMAIL CONVERSATION:\n",
        "    {email_conversation}\n",
        "\n",
        "    FORAMT:\n",
        "    {format}\n",
        "    '''\n",
        ")"
      ],
      "metadata": {
        "id": "fkVMDhkDohNM"
      },
      "execution_count": 117,
      "outputs": []
    },
    {
      "cell_type": "code",
      "source": [
        "prompt = prompt.partial(format = parser.get_format_instructions())"
      ],
      "metadata": {
        "id": "TfinaRNRokA5"
      },
      "execution_count": 118,
      "outputs": []
    },
    {
      "cell_type": "code",
      "source": [
        "test_instruct = parser.get_format_instructions()"
      ],
      "metadata": {
        "id": "rAH5MSTXongW"
      },
      "execution_count": 119,
      "outputs": []
    },
    {
      "cell_type": "code",
      "source": [
        "response = chain.stream(\n",
        "    {\n",
        "      \"email_conversation\" : email_conversation,\n",
        "      \"question\" : \"이메일이 스팸인지 구분해\",\n",
        "    }\n",
        ")"
      ],
      "metadata": {
        "id": "5k66OJfcoqiH"
      },
      "execution_count": 120,
      "outputs": []
    },
    {
      "cell_type": "code",
      "source": [
        "output = stream_response(response, return_output = True)"
      ],
      "metadata": {
        "colab": {
          "base_uri": "https://localhost:8080/"
        },
        "id": "xtkJ47Y7owvY",
        "outputId": "ce23c26b-f964-4ea8-c5a2-3b3984c343fa"
      },
      "execution_count": 121,
      "outputs": [
        {
          "output_type": "stream",
          "name": "stdout",
          "text": [
            "The email was delivered to naaa2004@jj.ac.kr on Sun, 12 Jan 2025 17:00:03 -0800 (PST). The email was sent from pm_bounces@pm-bounces.langchain.com. The email passed the DKIM and SPF checks, indicating it is likely not spam or phishing."
          ]
        }
      ]
    },
    {
      "cell_type": "code",
      "source": [],
      "metadata": {
        "id": "zJtfjuvKozhL"
      },
      "execution_count": null,
      "outputs": []
    }
  ]
}