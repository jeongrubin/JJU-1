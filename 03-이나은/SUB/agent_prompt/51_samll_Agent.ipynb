{
  "nbformat": 4,
  "nbformat_minor": 0,
  "metadata": {
    "colab": {
      "provenance": []
    },
    "kernelspec": {
      "name": "python3",
      "display_name": "Python 3"
    },
    "language_info": {
      "name": "python"
    },
    "widgets": {
      "application/vnd.jupyter.widget-state+json": {
        "0e9f0b944b7f4dc98a3412d57e108a01": {
          "model_module": "@jupyter-widgets/output",
          "model_name": "OutputModel",
          "model_module_version": "1.0.0",
          "state": {
            "_dom_classes": [],
            "_model_module": "@jupyter-widgets/output",
            "_model_module_version": "1.0.0",
            "_model_name": "OutputModel",
            "_view_count": null,
            "_view_module": "@jupyter-widgets/output",
            "_view_module_version": "1.0.0",
            "_view_name": "OutputView",
            "layout": "IPY_MODEL_99cb12ce12114e919601d0d541373f07",
            "msg_id": "",
            "outputs": [
              {
                "output_type": "display_data",
                "data": {
                  "text/plain": "\u001b[32m╭─\u001b[0m\u001b[32m─────────────────────────────────────────────\u001b[0m\u001b[32m Generating... 7.3s \u001b[0m\u001b[32m──────────────────────────────────────────────\u001b[0m\u001b[32m─╮\u001b[0m\n\u001b[32m│\u001b[0m 딥러닝은 인공신경망을 기반으로 한 기계 학습의 한 분야로, 대량의 데이터를 처리하고 학습하여 패턴을 인식하고      \u001b[32m│\u001b[0m\n\u001b[32m│\u001b[0m 예측하는 기술입니다. 주요 구성 요소로는 입력층, 은닉층, 출력층으로 이루어진 다층 신경망이 있으며, 주로 역전파   \u001b[32m│\u001b[0m\n\u001b[32m│\u001b[0m 알고리즘을 통해 가중치를 조정하여 학습합니다. 딥러닝은 이미지 인식, 자연어 처리, 음성 인식 등 다양한 분야에서   \u001b[32m│\u001b[0m\n\u001b[32m╰─────────────────────────────────────────────────────────────────────────────────────────────────────────────────╯\u001b[0m\n",
                  "text/html": "<pre style=\"white-space:pre;overflow-x:auto;line-height:normal;font-family:Menlo,'DejaVu Sans Mono',consolas,'Courier New',monospace\"><span style=\"color: #008000; text-decoration-color: #008000\">╭────────────────────────────────────────────── Generating... 7.3s ───────────────────────────────────────────────╮</span>\n<span style=\"color: #008000; text-decoration-color: #008000\">│</span> 딥러닝은 인공신경망을 기반으로 한 기계 학습의 한 분야로, 대량의 데이터를 처리하고 학습하여 패턴을 인식하고      <span style=\"color: #008000; text-decoration-color: #008000\">│</span>\n<span style=\"color: #008000; text-decoration-color: #008000\">│</span> 예측하는 기술입니다. 주요 구성 요소로는 입력층, 은닉층, 출력층으로 이루어진 다층 신경망이 있으며, 주로 역전파   <span style=\"color: #008000; text-decoration-color: #008000\">│</span>\n<span style=\"color: #008000; text-decoration-color: #008000\">│</span> 알고리즘을 통해 가중치를 조정하여 학습합니다. 딥러닝은 이미지 인식, 자연어 처리, 음성 인식 등 다양한 분야에서   <span style=\"color: #008000; text-decoration-color: #008000\">│</span>\n<span style=\"color: #008000; text-decoration-color: #008000\">╰─────────────────────────────────────────────────────────────────────────────────────────────────────────────────╯</span>\n</pre>\n"
                },
                "metadata": {}
              }
            ]
          }
        },
        "99cb12ce12114e919601d0d541373f07": {
          "model_module": "@jupyter-widgets/base",
          "model_name": "LayoutModel",
          "model_module_version": "1.2.0",
          "state": {
            "_model_module": "@jupyter-widgets/base",
            "_model_module_version": "1.2.0",
            "_model_name": "LayoutModel",
            "_view_count": null,
            "_view_module": "@jupyter-widgets/base",
            "_view_module_version": "1.2.0",
            "_view_name": "LayoutView",
            "align_content": null,
            "align_items": null,
            "align_self": null,
            "border": null,
            "bottom": null,
            "display": null,
            "flex": null,
            "flex_flow": null,
            "grid_area": null,
            "grid_auto_columns": null,
            "grid_auto_flow": null,
            "grid_auto_rows": null,
            "grid_column": null,
            "grid_gap": null,
            "grid_row": null,
            "grid_template_areas": null,
            "grid_template_columns": null,
            "grid_template_rows": null,
            "height": null,
            "justify_content": null,
            "justify_items": null,
            "left": null,
            "margin": null,
            "max_height": null,
            "max_width": null,
            "min_height": null,
            "min_width": null,
            "object_fit": null,
            "object_position": null,
            "order": null,
            "overflow": null,
            "overflow_x": null,
            "overflow_y": null,
            "padding": null,
            "right": null,
            "top": null,
            "visibility": null,
            "width": null
          }
        },
        "aeb9e749f8534e3cabb2f2636f9571ef": {
          "model_module": "@jupyter-widgets/output",
          "model_name": "OutputModel",
          "model_module_version": "1.0.0",
          "state": {
            "_dom_classes": [],
            "_model_module": "@jupyter-widgets/output",
            "_model_module_version": "1.0.0",
            "_model_name": "OutputModel",
            "_view_count": null,
            "_view_module": "@jupyter-widgets/output",
            "_view_module_version": "1.0.0",
            "_view_name": "OutputView",
            "layout": "IPY_MODEL_70214a6d83094129a0728541c5ad1c9b",
            "msg_id": "",
            "outputs": [
              {
                "output_type": "display_data",
                "data": {
                  "text/plain": "\u001b[32m╭─\u001b[0m\u001b[32m─────────────────────────────────────────────\u001b[0m\u001b[32m Generating... 4.9s \u001b[0m\u001b[32m──────────────────────────────────────────────\u001b[0m\u001b[32m─╮\u001b[0m\n\u001b[32m│\u001b[0m 딥러닝은 인공신경망을 기반으로 한 기계 학습의 한 분야로, 대량의 데이터를 처리하여 패턴을 학습하고 예측하는 데   \u001b[32m│\u001b[0m\n\u001b[32m│\u001b[0m 사용됩니다. 주요 구성 요소로는 입력층, 은닉층, 출력층으로 구성된 신경망 구조가 있으며, 주로 이미지 인식, 자연어 \u001b[32m│\u001b[0m\n\u001b[32m│\u001b[0m 처리, 음성 인식 등 다양한 분야에 활용됩니다. 주요 알고리즘으로는 CNN(합성곱 신경망), RNN(순환 신경망),          \u001b[32m│\u001b[0m\n\u001b[32m│\u001b[0m LSTM(장단기 메모리 네트워크) 등이 있습니다. 딥러닝의 학습 과정은 주로 역전파 알고리즘을 통해 가중치를 조정하여  \u001b[32m│\u001b[0m\n\u001b[32m╰─────────────────────────────────────────────────────────────────────────────────────────────────────────────────╯\u001b[0m\n",
                  "text/html": "<pre style=\"white-space:pre;overflow-x:auto;line-height:normal;font-family:Menlo,'DejaVu Sans Mono',consolas,'Courier New',monospace\"><span style=\"color: #008000; text-decoration-color: #008000\">╭────────────────────────────────────────────── Generating... 4.9s ───────────────────────────────────────────────╮</span>\n<span style=\"color: #008000; text-decoration-color: #008000\">│</span> 딥러닝은 인공신경망을 기반으로 한 기계 학습의 한 분야로, 대량의 데이터를 처리하여 패턴을 학습하고 예측하는 데   <span style=\"color: #008000; text-decoration-color: #008000\">│</span>\n<span style=\"color: #008000; text-decoration-color: #008000\">│</span> 사용됩니다. 주요 구성 요소로는 입력층, 은닉층, 출력층으로 구성된 신경망 구조가 있으며, 주로 이미지 인식, 자연어 <span style=\"color: #008000; text-decoration-color: #008000\">│</span>\n<span style=\"color: #008000; text-decoration-color: #008000\">│</span> 처리, 음성 인식 등 다양한 분야에 활용됩니다. 주요 알고리즘으로는 CNN(합성곱 신경망), RNN(순환 신경망),          <span style=\"color: #008000; text-decoration-color: #008000\">│</span>\n<span style=\"color: #008000; text-decoration-color: #008000\">│</span> LSTM(장단기 메모리 네트워크) 등이 있습니다. 딥러닝의 학습 과정은 주로 역전파 알고리즘을 통해 가중치를 조정하여  <span style=\"color: #008000; text-decoration-color: #008000\">│</span>\n<span style=\"color: #008000; text-decoration-color: #008000\">╰─────────────────────────────────────────────────────────────────────────────────────────────────────────────────╯</span>\n</pre>\n"
                },
                "metadata": {}
              }
            ]
          }
        },
        "70214a6d83094129a0728541c5ad1c9b": {
          "model_module": "@jupyter-widgets/base",
          "model_name": "LayoutModel",
          "model_module_version": "1.2.0",
          "state": {
            "_model_module": "@jupyter-widgets/base",
            "_model_module_version": "1.2.0",
            "_model_name": "LayoutModel",
            "_view_count": null,
            "_view_module": "@jupyter-widgets/base",
            "_view_module_version": "1.2.0",
            "_view_name": "LayoutView",
            "align_content": null,
            "align_items": null,
            "align_self": null,
            "border": null,
            "bottom": null,
            "display": null,
            "flex": null,
            "flex_flow": null,
            "grid_area": null,
            "grid_auto_columns": null,
            "grid_auto_flow": null,
            "grid_auto_rows": null,
            "grid_column": null,
            "grid_gap": null,
            "grid_row": null,
            "grid_template_areas": null,
            "grid_template_columns": null,
            "grid_template_rows": null,
            "height": null,
            "justify_content": null,
            "justify_items": null,
            "left": null,
            "margin": null,
            "max_height": null,
            "max_width": null,
            "min_height": null,
            "min_width": null,
            "object_fit": null,
            "object_position": null,
            "order": null,
            "overflow": null,
            "overflow_x": null,
            "overflow_y": null,
            "padding": null,
            "right": null,
            "top": null,
            "visibility": null,
            "width": null
          }
        },
        "05ad5040d704416d99aee7868a05de3d": {
          "model_module": "@jupyter-widgets/output",
          "model_name": "OutputModel",
          "model_module_version": "1.0.0",
          "state": {
            "_dom_classes": [],
            "_model_module": "@jupyter-widgets/output",
            "_model_module_version": "1.0.0",
            "_model_name": "OutputModel",
            "_view_count": null,
            "_view_module": "@jupyter-widgets/output",
            "_view_module_version": "1.0.0",
            "_view_name": "OutputView",
            "layout": "IPY_MODEL_c807c72a835a4f91867a340a639223c8",
            "msg_id": "",
            "outputs": [
              {
                "output_type": "display_data",
                "data": {
                  "text/plain": "\u001b[32m╭─\u001b[0m\u001b[32m─────────────────────────────────────────────\u001b[0m\u001b[32m Generating... 7.9s \u001b[0m\u001b[32m──────────────────────────────────────────────\u001b[0m\u001b[32m─╮\u001b[0m\n\u001b[32m│\u001b[0m 딥러닝은 인공신경망을 활용하여 분류, 회귀, 표현 학습 등의 작업을 수행하는 머신러닝의 하위 분야입니다. 생물학적  \u001b[32m│\u001b[0m\n\u001b[32m│\u001b[0m 신경과학에서 영감을 받아 인공 뉴런을 여러 층으로 쌓아 데이터를 처리하도록 \"훈련\"시키는 것이 특징입니다.         \u001b[32m│\u001b[0m\n\u001b[32m│\u001b[0m \"딥\"이라는 용어는 여러 층을 사용하는 것을 의미하며, 일반적으로 수백 또는 수천 개의 층을 사용하여 모델을         \u001b[32m│\u001b[0m\n\u001b[32m│\u001b[0m 훈련합니다. [출처: Wikipedia](https://                                                                          \u001b[32m│\u001b[0m\n\u001b[32m╰─────────────────────────────────────────────────────────────────────────────────────────────────────────────────╯\u001b[0m\n",
                  "text/html": "<pre style=\"white-space:pre;overflow-x:auto;line-height:normal;font-family:Menlo,'DejaVu Sans Mono',consolas,'Courier New',monospace\"><span style=\"color: #008000; text-decoration-color: #008000\">╭────────────────────────────────────────────── Generating... 7.9s ───────────────────────────────────────────────╮</span>\n<span style=\"color: #008000; text-decoration-color: #008000\">│</span> 딥러닝은 인공신경망을 활용하여 분류, 회귀, 표현 학습 등의 작업을 수행하는 머신러닝의 하위 분야입니다. 생물학적  <span style=\"color: #008000; text-decoration-color: #008000\">│</span>\n<span style=\"color: #008000; text-decoration-color: #008000\">│</span> 신경과학에서 영감을 받아 인공 뉴런을 여러 층으로 쌓아 데이터를 처리하도록 \"훈련\"시키는 것이 특징입니다.         <span style=\"color: #008000; text-decoration-color: #008000\">│</span>\n<span style=\"color: #008000; text-decoration-color: #008000\">│</span> \"딥\"이라는 용어는 여러 층을 사용하는 것을 의미하며, 일반적으로 수백 또는 수천 개의 층을 사용하여 모델을         <span style=\"color: #008000; text-decoration-color: #008000\">│</span>\n<span style=\"color: #008000; text-decoration-color: #008000\">│</span> 훈련합니다. [출처: Wikipedia](https://                                                                          <span style=\"color: #008000; text-decoration-color: #008000\">│</span>\n<span style=\"color: #008000; text-decoration-color: #008000\">╰─────────────────────────────────────────────────────────────────────────────────────────────────────────────────╯</span>\n</pre>\n"
                },
                "metadata": {}
              }
            ]
          }
        },
        "c807c72a835a4f91867a340a639223c8": {
          "model_module": "@jupyter-widgets/base",
          "model_name": "LayoutModel",
          "model_module_version": "1.2.0",
          "state": {
            "_model_module": "@jupyter-widgets/base",
            "_model_module_version": "1.2.0",
            "_model_name": "LayoutModel",
            "_view_count": null,
            "_view_module": "@jupyter-widgets/base",
            "_view_module_version": "1.2.0",
            "_view_name": "LayoutView",
            "align_content": null,
            "align_items": null,
            "align_self": null,
            "border": null,
            "bottom": null,
            "display": null,
            "flex": null,
            "flex_flow": null,
            "grid_area": null,
            "grid_auto_columns": null,
            "grid_auto_flow": null,
            "grid_auto_rows": null,
            "grid_column": null,
            "grid_gap": null,
            "grid_row": null,
            "grid_template_areas": null,
            "grid_template_columns": null,
            "grid_template_rows": null,
            "height": null,
            "justify_content": null,
            "justify_items": null,
            "left": null,
            "margin": null,
            "max_height": null,
            "max_width": null,
            "min_height": null,
            "min_width": null,
            "object_fit": null,
            "object_position": null,
            "order": null,
            "overflow": null,
            "overflow_x": null,
            "overflow_y": null,
            "padding": null,
            "right": null,
            "top": null,
            "visibility": null,
            "width": null
          }
        },
        "840a770597c6479eb6dfbd8cd2f84710": {
          "model_module": "@jupyter-widgets/output",
          "model_name": "OutputModel",
          "model_module_version": "1.0.0",
          "state": {
            "_dom_classes": [],
            "_model_module": "@jupyter-widgets/output",
            "_model_module_version": "1.0.0",
            "_model_name": "OutputModel",
            "_view_count": null,
            "_view_module": "@jupyter-widgets/output",
            "_view_module_version": "1.0.0",
            "_view_name": "OutputView",
            "layout": "IPY_MODEL_7130ce56d24f4cd49a6b545d421ef450",
            "msg_id": "",
            "outputs": [
              {
                "output_type": "display_data",
                "data": {
                  "text/plain": "\u001b[32m╭─\u001b[0m\u001b[32m─────────────────────────────────────────────\u001b[0m\u001b[32m Generating... 3.8s \u001b[0m\u001b[32m──────────────────────────────────────────────\u001b[0m\u001b[32m─╮\u001b[0m\n\u001b[32m│\u001b[0m 딥러닝은 인공 신경망을 활용하여 데이터를 처리하고 학습하는 기계 학습의 하위 분야로, 여러 층의 인공 뉴런을       \u001b[32m│\u001b[0m\n\u001b[32m│\u001b[0m 사용하여 복잡한 패턴을                                                                                          \u001b[32m│\u001b[0m\n\u001b[32m╰─────────────────────────────────────────────────────────────────────────────────────────────────────────────────╯\u001b[0m\n",
                  "text/html": "<pre style=\"white-space:pre;overflow-x:auto;line-height:normal;font-family:Menlo,'DejaVu Sans Mono',consolas,'Courier New',monospace\"><span style=\"color: #008000; text-decoration-color: #008000\">╭────────────────────────────────────────────── Generating... 3.8s ───────────────────────────────────────────────╮</span>\n<span style=\"color: #008000; text-decoration-color: #008000\">│</span> 딥러닝은 인공 신경망을 활용하여 데이터를 처리하고 학습하는 기계 학습의 하위 분야로, 여러 층의 인공 뉴런을       <span style=\"color: #008000; text-decoration-color: #008000\">│</span>\n<span style=\"color: #008000; text-decoration-color: #008000\">│</span> 사용하여 복잡한 패턴을                                                                                          <span style=\"color: #008000; text-decoration-color: #008000\">│</span>\n<span style=\"color: #008000; text-decoration-color: #008000\">╰─────────────────────────────────────────────────────────────────────────────────────────────────────────────────╯</span>\n</pre>\n"
                },
                "metadata": {}
              }
            ]
          }
        },
        "7130ce56d24f4cd49a6b545d421ef450": {
          "model_module": "@jupyter-widgets/base",
          "model_name": "LayoutModel",
          "model_module_version": "1.2.0",
          "state": {
            "_model_module": "@jupyter-widgets/base",
            "_model_module_version": "1.2.0",
            "_model_name": "LayoutModel",
            "_view_count": null,
            "_view_module": "@jupyter-widgets/base",
            "_view_module_version": "1.2.0",
            "_view_name": "LayoutView",
            "align_content": null,
            "align_items": null,
            "align_self": null,
            "border": null,
            "bottom": null,
            "display": null,
            "flex": null,
            "flex_flow": null,
            "grid_area": null,
            "grid_auto_columns": null,
            "grid_auto_flow": null,
            "grid_auto_rows": null,
            "grid_column": null,
            "grid_gap": null,
            "grid_row": null,
            "grid_template_areas": null,
            "grid_template_columns": null,
            "grid_template_rows": null,
            "height": null,
            "justify_content": null,
            "justify_items": null,
            "left": null,
            "margin": null,
            "max_height": null,
            "max_width": null,
            "min_height": null,
            "min_width": null,
            "object_fit": null,
            "object_position": null,
            "order": null,
            "overflow": null,
            "overflow_x": null,
            "overflow_y": null,
            "padding": null,
            "right": null,
            "top": null,
            "visibility": null,
            "width": null
          }
        },
        "06488b634fa84adea08d6d411f373d9f": {
          "model_module": "@jupyter-widgets/output",
          "model_name": "OutputModel",
          "model_module_version": "1.0.0",
          "state": {
            "_dom_classes": [],
            "_model_module": "@jupyter-widgets/output",
            "_model_module_version": "1.0.0",
            "_model_name": "OutputModel",
            "_view_count": null,
            "_view_module": "@jupyter-widgets/output",
            "_view_module_version": "1.0.0",
            "_view_name": "OutputView",
            "layout": "IPY_MODEL_0ba29ac0d82e488e87902ebdd3e1769a",
            "msg_id": "",
            "outputs": [
              {
                "output_type": "display_data",
                "data": {
                  "text/plain": "\u001b[32m╭─\u001b[0m\u001b[32m─────────────────────────────────────────────\u001b[0m\u001b[32m Generating... 7.0s \u001b[0m\u001b[32m──────────────────────────────────────────────\u001b[0m\u001b[32m─╮\u001b[0m\n\u001b[32m│\u001b[0m 뉴런 네트워크(Neural Network)는 인공 지능과 머신러닝의 핵심 기술 중 하나로, 인간의 뇌 구조를 모방한 계산        \u001b[32m│\u001b[0m\n\u001b[32m│\u001b[0m 모델입니다. 뉴런 네트워크는 복잡한 데이터의 패턴을 인식하고 학습하여 예측, 분류, 회귀 등 다양한 작업을 수행할   \u001b[32m│\u001b[0m\n\u001b[32m│\u001b[0m 수 있습니다. 뉴런은 일반적으로 층으로 배열되어 있으며, 정보는 입력층에서 출력층으로 전달됩니다. 초기의 인공     \u001b[32m│\u001b[0m\n\u001b[32m│\u001b[0m 신경망은 물리적 기계였지만, 현재는 거의 항상 소프트웨어로 구현                                                  \u001b[32m│\u001b[0m\n\u001b[32m╰─────────────────────────────────────────────────────────────────────────────────────────────────────────────────╯\u001b[0m\n",
                  "text/html": "<pre style=\"white-space:pre;overflow-x:auto;line-height:normal;font-family:Menlo,'DejaVu Sans Mono',consolas,'Courier New',monospace\"><span style=\"color: #008000; text-decoration-color: #008000\">╭────────────────────────────────────────────── Generating... 7.0s ───────────────────────────────────────────────╮</span>\n<span style=\"color: #008000; text-decoration-color: #008000\">│</span> 뉴런 네트워크(Neural Network)는 인공 지능과 머신러닝의 핵심 기술 중 하나로, 인간의 뇌 구조를 모방한 계산        <span style=\"color: #008000; text-decoration-color: #008000\">│</span>\n<span style=\"color: #008000; text-decoration-color: #008000\">│</span> 모델입니다. 뉴런 네트워크는 복잡한 데이터의 패턴을 인식하고 학습하여 예측, 분류, 회귀 등 다양한 작업을 수행할   <span style=\"color: #008000; text-decoration-color: #008000\">│</span>\n<span style=\"color: #008000; text-decoration-color: #008000\">│</span> 수 있습니다. 뉴런은 일반적으로 층으로 배열되어 있으며, 정보는 입력층에서 출력층으로 전달됩니다. 초기의 인공     <span style=\"color: #008000; text-decoration-color: #008000\">│</span>\n<span style=\"color: #008000; text-decoration-color: #008000\">│</span> 신경망은 물리적 기계였지만, 현재는 거의 항상 소프트웨어로 구현                                                  <span style=\"color: #008000; text-decoration-color: #008000\">│</span>\n<span style=\"color: #008000; text-decoration-color: #008000\">╰─────────────────────────────────────────────────────────────────────────────────────────────────────────────────╯</span>\n</pre>\n"
                },
                "metadata": {}
              }
            ]
          }
        },
        "0ba29ac0d82e488e87902ebdd3e1769a": {
          "model_module": "@jupyter-widgets/base",
          "model_name": "LayoutModel",
          "model_module_version": "1.2.0",
          "state": {
            "_model_module": "@jupyter-widgets/base",
            "_model_module_version": "1.2.0",
            "_model_name": "LayoutModel",
            "_view_count": null,
            "_view_module": "@jupyter-widgets/base",
            "_view_module_version": "1.2.0",
            "_view_name": "LayoutView",
            "align_content": null,
            "align_items": null,
            "align_self": null,
            "border": null,
            "bottom": null,
            "display": null,
            "flex": null,
            "flex_flow": null,
            "grid_area": null,
            "grid_auto_columns": null,
            "grid_auto_flow": null,
            "grid_auto_rows": null,
            "grid_column": null,
            "grid_gap": null,
            "grid_row": null,
            "grid_template_areas": null,
            "grid_template_columns": null,
            "grid_template_rows": null,
            "height": null,
            "justify_content": null,
            "justify_items": null,
            "left": null,
            "margin": null,
            "max_height": null,
            "max_width": null,
            "min_height": null,
            "min_width": null,
            "object_fit": null,
            "object_position": null,
            "order": null,
            "overflow": null,
            "overflow_x": null,
            "overflow_y": null,
            "padding": null,
            "right": null,
            "top": null,
            "visibility": null,
            "width": null
          }
        },
        "f20ef3561e994891b2961a8c2eff9c32": {
          "model_module": "@jupyter-widgets/output",
          "model_name": "OutputModel",
          "model_module_version": "1.0.0",
          "state": {
            "_dom_classes": [],
            "_model_module": "@jupyter-widgets/output",
            "_model_module_version": "1.0.0",
            "_model_name": "OutputModel",
            "_view_count": null,
            "_view_module": "@jupyter-widgets/output",
            "_view_module_version": "1.0.0",
            "_view_name": "OutputView",
            "layout": "IPY_MODEL_e32e79e97ffc448282e117fd4c0c7b13",
            "msg_id": "",
            "outputs": [
              {
                "output_type": "display_data",
                "data": {
                  "text/plain": "\u001b[32m╭─\u001b[0m\u001b[32m─────────────────────────────────────────────\u001b[0m\u001b[32m Generating... 3.7s \u001b[0m\u001b[32m──────────────────────────────────────────────\u001b[0m\u001b[32m─╮\u001b[0m\n\u001b[32m│\u001b[0m 뉴런 네트워크는 인공 지능과 머신러닝의 핵심 기술로, 인간의 뇌 구조를 모방한 계산 모델입니다. 복잡한 데이터의    \u001b[32m│\u001b[0m\n\u001b[32m│\u001b[0m 패턴을 인식하고 학습하여 예측, 분류, 회귀 등 다양한 작업을 수행할 수 있으며, 일반적으로 층으로 배열되어 정보가  \u001b[32m│\u001b[0m\n\u001b[32m│\u001b[0m 입력층에서 출력층                                                                                               \u001b[32m│\u001b[0m\n\u001b[32m╰─────────────────────────────────────────────────────────────────────────────────────────────────────────────────╯\u001b[0m\n",
                  "text/html": "<pre style=\"white-space:pre;overflow-x:auto;line-height:normal;font-family:Menlo,'DejaVu Sans Mono',consolas,'Courier New',monospace\"><span style=\"color: #008000; text-decoration-color: #008000\">╭────────────────────────────────────────────── Generating... 3.7s ───────────────────────────────────────────────╮</span>\n<span style=\"color: #008000; text-decoration-color: #008000\">│</span> 뉴런 네트워크는 인공 지능과 머신러닝의 핵심 기술로, 인간의 뇌 구조를 모방한 계산 모델입니다. 복잡한 데이터의    <span style=\"color: #008000; text-decoration-color: #008000\">│</span>\n<span style=\"color: #008000; text-decoration-color: #008000\">│</span> 패턴을 인식하고 학습하여 예측, 분류, 회귀 등 다양한 작업을 수행할 수 있으며, 일반적으로 층으로 배열되어 정보가  <span style=\"color: #008000; text-decoration-color: #008000\">│</span>\n<span style=\"color: #008000; text-decoration-color: #008000\">│</span> 입력층에서 출력층                                                                                               <span style=\"color: #008000; text-decoration-color: #008000\">│</span>\n<span style=\"color: #008000; text-decoration-color: #008000\">╰─────────────────────────────────────────────────────────────────────────────────────────────────────────────────╯</span>\n</pre>\n"
                },
                "metadata": {}
              }
            ]
          }
        },
        "e32e79e97ffc448282e117fd4c0c7b13": {
          "model_module": "@jupyter-widgets/base",
          "model_name": "LayoutModel",
          "model_module_version": "1.2.0",
          "state": {
            "_model_module": "@jupyter-widgets/base",
            "_model_module_version": "1.2.0",
            "_model_name": "LayoutModel",
            "_view_count": null,
            "_view_module": "@jupyter-widgets/base",
            "_view_module_version": "1.2.0",
            "_view_name": "LayoutView",
            "align_content": null,
            "align_items": null,
            "align_self": null,
            "border": null,
            "bottom": null,
            "display": null,
            "flex": null,
            "flex_flow": null,
            "grid_area": null,
            "grid_auto_columns": null,
            "grid_auto_flow": null,
            "grid_auto_rows": null,
            "grid_column": null,
            "grid_gap": null,
            "grid_row": null,
            "grid_template_areas": null,
            "grid_template_columns": null,
            "grid_template_rows": null,
            "height": null,
            "justify_content": null,
            "justify_items": null,
            "left": null,
            "margin": null,
            "max_height": null,
            "max_width": null,
            "min_height": null,
            "min_width": null,
            "object_fit": null,
            "object_position": null,
            "order": null,
            "overflow": null,
            "overflow_x": null,
            "overflow_y": null,
            "padding": null,
            "right": null,
            "top": null,
            "visibility": null,
            "width": null
          }
        }
      }
    }
  },
  "cells": [
    {
      "cell_type": "code",
      "source": [
        "!pip install -qU praisonaiagents duckduckgo_search"
      ],
      "metadata": {
        "id": "iTfZnE60gVUE"
      },
      "execution_count": null,
      "outputs": []
    },
    {
      "cell_type": "code",
      "source": [
        "import os\n",
        "\n",
        "os.environ[\"OPENAI_API_KEY\"] = \"\"\n",
        "os.environ['LANGCHAIN_API_KEY'] = ''\n",
        "os.environ['LANGCHAIN_TRACING_V2'] = 'true'\n",
        "os.environ['LANGCHAIN_ENDPOINT'] = 'https://api.smith.langchain.com'\n",
        "os.environ['LANGCHAIN_PROJECT'] = 'test_JJU_LeeNaEun'"
      ],
      "metadata": {
        "id": "GARDmkUgjXnZ"
      },
      "execution_count": null,
      "outputs": []
    },
    {
      "cell_type": "code",
      "source": [
        "from praisonaiagents import Agent, Agents, Tools\n",
        "\n",
        " # 동적 주제 입력\n",
        "topic = input(\"조사할 주제를 입력하세요: \")\n",
        "\n",
        "# Research agent: 인터넷에서 인공지능 및 딥러닝 관련 정보를 검색\n",
        "research_agent = Agent(\n",
        "    instructions=f'너는 {topic}에 관해서 알려주는 agent야.',\n",
        "    tools=[Tools.internet_search],\n",
        "    llm='gpt-4o'\n",
        ")\n",
        "\n",
        "# Summarize agent: 검색 결과를 요약하고 한국어로 설명\n",
        "summarize_agent = Agent(\n",
        "    instructions='너는 요약 agent로 관련된 정보를 찾아서 설명해주는 agent야.',\n",
        "    llm='gpt-4o',\n",
        ")\n",
        "\n",
        "# 작업 실행\n",
        "agents = Agents(agents=[research_agent, summarize_agent])\n",
        "agents.start()"
      ],
      "metadata": {
        "colab": {
          "base_uri": "https://localhost:8080/",
          "height": 1000,
          "referenced_widgets": [
            "0e9f0b944b7f4dc98a3412d57e108a01",
            "99cb12ce12114e919601d0d541373f07",
            "aeb9e749f8534e3cabb2f2636f9571ef",
            "70214a6d83094129a0728541c5ad1c9b"
          ]
        },
        "id": "vHm_FoEyi_nJ",
        "outputId": "b3e58d16-3c72-4631-93e8-42d701a6e794"
      },
      "execution_count": null,
      "outputs": [
        {
          "name": "stdout",
          "output_type": "stream",
          "text": [
            "조사할 주제를 입력하세요: 딥러닝\n"
          ]
        },
        {
          "output_type": "display_data",
          "data": {
            "text/plain": [
              "\u001b[36m╭─\u001b[0m\u001b[36m───────────────────────────────────────────\u001b[0m\u001b[36m Instruction \u001b[0m\u001b[36m────────────────────────────────────────────\u001b[0m\u001b[36m─╮\u001b[0m\n",
              "\u001b[36m│\u001b[0m \u001b[1;34mAgent Agent is processing prompt: \u001b[0m                                                                   \u001b[36m│\u001b[0m\n",
              "\u001b[36m│\u001b[0m \u001b[1;34mYou need to do the following task: 너는 딥러닝에 관해서 알려주는 agent야..\u001b[0m                           \u001b[36m│\u001b[0m\n",
              "\u001b[36m│\u001b[0m \u001b[1;34mExpected Output: Complete the assigned task successfully.\u001b[0m                                            \u001b[36m│\u001b[0m\n",
              "\u001b[36m│\u001b[0m \u001b[1;34mPlease provide only the final result of your work. Do not add any conversation or extra explanation.\u001b[0m \u001b[36m│\u001b[0m\n",
              "\u001b[36m╰──────────────────────────────────────────────────────────────────────────────────────────────────────╯\u001b[0m\n"
            ],
            "text/html": [
              "<pre style=\"white-space:pre;overflow-x:auto;line-height:normal;font-family:Menlo,'DejaVu Sans Mono',consolas,'Courier New',monospace\"><span style=\"color: #008080; text-decoration-color: #008080\">╭──────────────────────────────────────────── Instruction ─────────────────────────────────────────────╮</span>\n",
              "<span style=\"color: #008080; text-decoration-color: #008080\">│</span> <span style=\"color: #000080; text-decoration-color: #000080; font-weight: bold\">Agent Agent is processing prompt: </span>                                                                   <span style=\"color: #008080; text-decoration-color: #008080\">│</span>\n",
              "<span style=\"color: #008080; text-decoration-color: #008080\">│</span> <span style=\"color: #000080; text-decoration-color: #000080; font-weight: bold\">You need to do the following task: 너는 딥러닝에 관해서 알려주는 agent야..</span>                           <span style=\"color: #008080; text-decoration-color: #008080\">│</span>\n",
              "<span style=\"color: #008080; text-decoration-color: #008080\">│</span> <span style=\"color: #000080; text-decoration-color: #000080; font-weight: bold\">Expected Output: Complete the assigned task successfully.</span>                                            <span style=\"color: #008080; text-decoration-color: #008080\">│</span>\n",
              "<span style=\"color: #008080; text-decoration-color: #008080\">│</span> <span style=\"color: #000080; text-decoration-color: #000080; font-weight: bold\">Please provide only the final result of your work. Do not add any conversation or extra explanation.</span> <span style=\"color: #008080; text-decoration-color: #008080\">│</span>\n",
              "<span style=\"color: #008080; text-decoration-color: #008080\">╰──────────────────────────────────────────────────────────────────────────────────────────────────────╯</span>\n",
              "</pre>\n"
            ]
          },
          "metadata": {}
        },
        {
          "output_type": "display_data",
          "data": {
            "text/plain": [
              "Output()"
            ],
            "application/vnd.jupyter.widget-view+json": {
              "version_major": 2,
              "version_minor": 0,
              "model_id": "0e9f0b944b7f4dc98a3412d57e108a01"
            }
          },
          "metadata": {}
        },
        {
          "output_type": "display_data",
          "data": {
            "text/plain": [],
            "text/html": [
              "<pre style=\"white-space:pre;overflow-x:auto;line-height:normal;font-family:Menlo,'DejaVu Sans Mono',consolas,'Courier New',monospace\"></pre>\n"
            ]
          },
          "metadata": {}
        },
        {
          "output_type": "display_data",
          "data": {
            "text/plain": [
              "\n"
            ],
            "text/html": [
              "<pre style=\"white-space:pre;overflow-x:auto;line-height:normal;font-family:Menlo,'DejaVu Sans Mono',consolas,'Courier New',monospace\">\n",
              "</pre>\n"
            ]
          },
          "metadata": {}
        },
        {
          "output_type": "display_data",
          "data": {
            "text/plain": [
              "\u001b[2mResponse generated in 10.3s\u001b[0m\n"
            ],
            "text/html": [
              "<pre style=\"white-space:pre;overflow-x:auto;line-height:normal;font-family:Menlo,'DejaVu Sans Mono',consolas,'Courier New',monospace\"><span style=\"color: #7f7f7f; text-decoration-color: #7f7f7f\">Response generated in 10.3s</span>\n",
              "</pre>\n"
            ]
          },
          "metadata": {}
        },
        {
          "output_type": "display_data",
          "data": {
            "text/plain": [
              "\u001b[36m╭─\u001b[0m\u001b[36m───────────────────────────────────────────────────\u001b[0m\u001b[36m Message \u001b[0m\u001b[36m───────────────────────────────────────────────────\u001b[0m\u001b[36m─╮\u001b[0m\n",
              "\u001b[36m│\u001b[0m You need to do the following task: 너는 딥러닝에 관해서 알려주는 agent야.. Expected Output: Complete the        \u001b[36m│\u001b[0m\n",
              "\u001b[36m│\u001b[0m assigned task successfully. Please provide only the final result of your work. Do not add any conversation or   \u001b[36m│\u001b[0m\n",
              "\u001b[36m│\u001b[0m extra explanation.                                                                                              \u001b[36m│\u001b[0m\n",
              "\u001b[36m╰─────────────────────────────────────────────────────────────────────────────────────────────────────────────────╯\u001b[0m\n"
            ],
            "text/html": [
              "<pre style=\"white-space:pre;overflow-x:auto;line-height:normal;font-family:Menlo,'DejaVu Sans Mono',consolas,'Courier New',monospace\"><span style=\"color: #008080; text-decoration-color: #008080\">╭──────────────────────────────────────────────────── Message ────────────────────────────────────────────────────╮</span>\n",
              "<span style=\"color: #008080; text-decoration-color: #008080\">│</span> You need to do the following task: 너는 딥러닝에 관해서 알려주는 agent야.. Expected Output: Complete the        <span style=\"color: #008080; text-decoration-color: #008080\">│</span>\n",
              "<span style=\"color: #008080; text-decoration-color: #008080\">│</span> assigned task successfully. Please provide only the final result of your work. Do not add any conversation or   <span style=\"color: #008080; text-decoration-color: #008080\">│</span>\n",
              "<span style=\"color: #008080; text-decoration-color: #008080\">│</span> extra explanation.                                                                                              <span style=\"color: #008080; text-decoration-color: #008080\">│</span>\n",
              "<span style=\"color: #008080; text-decoration-color: #008080\">╰─────────────────────────────────────────────────────────────────────────────────────────────────────────────────╯</span>\n",
              "</pre>\n"
            ]
          },
          "metadata": {}
        },
        {
          "output_type": "display_data",
          "data": {
            "text/plain": [
              "\u001b[36m╭─\u001b[0m\u001b[36m──────────────────────────────────────────────────\u001b[0m\u001b[36m Response \u001b[0m\u001b[36m───────────────────────────────────────────────────\u001b[0m\u001b[36m─╮\u001b[0m\n",
              "\u001b[36m│\u001b[0m 딥러닝은 인공신경망을 기반으로 한 기계 학습의 한 분야로, 대량의 데이터를 처리하여 패턴을 학습하고 예측하는 데   \u001b[36m│\u001b[0m\n",
              "\u001b[36m│\u001b[0m 사용됩니다. 주요 구성 요소로는 입력층, 은닉층, 출력층으로 구성된 신경망 구조가 있으며, 주로 이미지 인식, 자연어 \u001b[36m│\u001b[0m\n",
              "\u001b[36m│\u001b[0m 처리, 음성 인식 등 다양한 분야에 활용됩니다. 주요 알고리즘으로는 CNN(합성곱 신경망), RNN(순환 신경망),          \u001b[36m│\u001b[0m\n",
              "\u001b[36m│\u001b[0m LSTM(장단기 메모리 네트워크) 등이 있습니다. 딥러닝의 학습 과정은 주로 역전파 알고리즘을 통해 가중치를 조정하여  \u001b[36m│\u001b[0m\n",
              "\u001b[36m│\u001b[0m 최적의 모델을 만드는 방식으로 이루어집니다.                                                                     \u001b[36m│\u001b[0m\n",
              "\u001b[36m╰─────────────────────────────────────────────────────────────────────────────────────────────────────────────────╯\u001b[0m\n"
            ],
            "text/html": [
              "<pre style=\"white-space:pre;overflow-x:auto;line-height:normal;font-family:Menlo,'DejaVu Sans Mono',consolas,'Courier New',monospace\"><span style=\"color: #008080; text-decoration-color: #008080\">╭─────────────────────────────────────────────────── Response ────────────────────────────────────────────────────╮</span>\n",
              "<span style=\"color: #008080; text-decoration-color: #008080\">│</span> 딥러닝은 인공신경망을 기반으로 한 기계 학습의 한 분야로, 대량의 데이터를 처리하여 패턴을 학습하고 예측하는 데   <span style=\"color: #008080; text-decoration-color: #008080\">│</span>\n",
              "<span style=\"color: #008080; text-decoration-color: #008080\">│</span> 사용됩니다. 주요 구성 요소로는 입력층, 은닉층, 출력층으로 구성된 신경망 구조가 있으며, 주로 이미지 인식, 자연어 <span style=\"color: #008080; text-decoration-color: #008080\">│</span>\n",
              "<span style=\"color: #008080; text-decoration-color: #008080\">│</span> 처리, 음성 인식 등 다양한 분야에 활용됩니다. 주요 알고리즘으로는 CNN(합성곱 신경망), RNN(순환 신경망),          <span style=\"color: #008080; text-decoration-color: #008080\">│</span>\n",
              "<span style=\"color: #008080; text-decoration-color: #008080\">│</span> LSTM(장단기 메모리 네트워크) 등이 있습니다. 딥러닝의 학습 과정은 주로 역전파 알고리즘을 통해 가중치를 조정하여  <span style=\"color: #008080; text-decoration-color: #008080\">│</span>\n",
              "<span style=\"color: #008080; text-decoration-color: #008080\">│</span> 최적의 모델을 만드는 방식으로 이루어집니다.                                                                     <span style=\"color: #008080; text-decoration-color: #008080\">│</span>\n",
              "<span style=\"color: #008080; text-decoration-color: #008080\">╰─────────────────────────────────────────────────────────────────────────────────────────────────────────────────╯</span>\n",
              "</pre>\n"
            ]
          },
          "metadata": {}
        },
        {
          "output_type": "display_data",
          "data": {
            "text/plain": [
              "\u001b[36m╭─\u001b[0m\u001b[36m─────────────────────────────────────────────────\u001b[0m\u001b[36m Instruction \u001b[0m\u001b[36m─────────────────────────────────────────────────\u001b[0m\u001b[36m─╮\u001b[0m\n",
              "\u001b[36m│\u001b[0m \u001b[1;34mAgent Agent is processing prompt: \u001b[0m                                                                              \u001b[36m│\u001b[0m\n",
              "\u001b[36m│\u001b[0m \u001b[1;34mYou need to do the following task: 너는 요약 agent로 관련된 정보를 찾아서 설명해주는 agent야..\u001b[0m                  \u001b[36m│\u001b[0m\n",
              "\u001b[36m│\u001b[0m \u001b[1;34mExpected Output: Complete the assigned task successfully.\u001b[0m                                                       \u001b[36m│\u001b[0m\n",
              "\u001b[36m│\u001b[0m                                                                                                                 \u001b[36m│\u001b[0m\n",
              "\u001b[36m│\u001b[0m \u001b[1;34mHere are the results of previous tasks that might be useful:\u001b[0m                                                    \u001b[36m│\u001b[0m\n",
              "\u001b[36m│\u001b[0m                                                                                                                 \u001b[36m│\u001b[0m\n",
              "\u001b[36m│\u001b[0m \u001b[1;34mResult of previous task Agent: 딥러닝은 인공신경망을 기반으로 한 기계 학습의 한 분야로, 대량의 데이터를 \u001b[0m        \u001b[36m│\u001b[0m\n",
              "\u001b[36m│\u001b[0m \u001b[1;34m처리하여 패턴을 학습하고 예측하는 데 사용됩니다. 주요 구성 요소로는 입력층, 은닉층, 출력층으로 구성된 신경망 \u001b[0m   \u001b[36m│\u001b[0m\n",
              "\u001b[36m│\u001b[0m \u001b[1;34m구조가 있으며, 주로 이미지 인식, 자연어 처리, 음성 인식 등 다양한 분야에 활용됩니다. 주요 알고리즘으로는 \u001b[0m       \u001b[36m│\u001b[0m\n",
              "\u001b[36m│\u001b[0m \u001b[1;34mCNN(합성곱 신경망), RNN(순환 신경망), LSTM(장단기 메모리 네트워크) 등이 있습니다. 딥러닝의 학습 과정은 주로 \u001b[0m    \u001b[36m│\u001b[0m\n",
              "\u001b[36m│\u001b[0m \u001b[1;34m역전파 알고리즘을 통해 가중치를 조정하여 최적의 모델을 만드는 방식으로 이루어집니다.\u001b[0m                            \u001b[36m│\u001b[0m\n",
              "\u001b[36m│\u001b[0m                                                                                                                 \u001b[36m│\u001b[0m\n",
              "\u001b[36m│\u001b[0m \u001b[1;34mPlease provide only the final result of your work. Do not add any conversation or extra explanation.\u001b[0m            \u001b[36m│\u001b[0m\n",
              "\u001b[36m╰─────────────────────────────────────────────────────────────────────────────────────────────────────────────────╯\u001b[0m\n"
            ],
            "text/html": [
              "<pre style=\"white-space:pre;overflow-x:auto;line-height:normal;font-family:Menlo,'DejaVu Sans Mono',consolas,'Courier New',monospace\"><span style=\"color: #008080; text-decoration-color: #008080\">╭────────────────────────────────────────────────── Instruction ──────────────────────────────────────────────────╮</span>\n",
              "<span style=\"color: #008080; text-decoration-color: #008080\">│</span> <span style=\"color: #000080; text-decoration-color: #000080; font-weight: bold\">Agent Agent is processing prompt: </span>                                                                              <span style=\"color: #008080; text-decoration-color: #008080\">│</span>\n",
              "<span style=\"color: #008080; text-decoration-color: #008080\">│</span> <span style=\"color: #000080; text-decoration-color: #000080; font-weight: bold\">You need to do the following task: 너는 요약 agent로 관련된 정보를 찾아서 설명해주는 agent야..</span>                  <span style=\"color: #008080; text-decoration-color: #008080\">│</span>\n",
              "<span style=\"color: #008080; text-decoration-color: #008080\">│</span> <span style=\"color: #000080; text-decoration-color: #000080; font-weight: bold\">Expected Output: Complete the assigned task successfully.</span>                                                       <span style=\"color: #008080; text-decoration-color: #008080\">│</span>\n",
              "<span style=\"color: #008080; text-decoration-color: #008080\">│</span>                                                                                                                 <span style=\"color: #008080; text-decoration-color: #008080\">│</span>\n",
              "<span style=\"color: #008080; text-decoration-color: #008080\">│</span> <span style=\"color: #000080; text-decoration-color: #000080; font-weight: bold\">Here are the results of previous tasks that might be useful:</span>                                                    <span style=\"color: #008080; text-decoration-color: #008080\">│</span>\n",
              "<span style=\"color: #008080; text-decoration-color: #008080\">│</span>                                                                                                                 <span style=\"color: #008080; text-decoration-color: #008080\">│</span>\n",
              "<span style=\"color: #008080; text-decoration-color: #008080\">│</span> <span style=\"color: #000080; text-decoration-color: #000080; font-weight: bold\">Result of previous task Agent: 딥러닝은 인공신경망을 기반으로 한 기계 학습의 한 분야로, 대량의 데이터를 </span>        <span style=\"color: #008080; text-decoration-color: #008080\">│</span>\n",
              "<span style=\"color: #008080; text-decoration-color: #008080\">│</span> <span style=\"color: #000080; text-decoration-color: #000080; font-weight: bold\">처리하여 패턴을 학습하고 예측하는 데 사용됩니다. 주요 구성 요소로는 입력층, 은닉층, 출력층으로 구성된 신경망 </span>   <span style=\"color: #008080; text-decoration-color: #008080\">│</span>\n",
              "<span style=\"color: #008080; text-decoration-color: #008080\">│</span> <span style=\"color: #000080; text-decoration-color: #000080; font-weight: bold\">구조가 있으며, 주로 이미지 인식, 자연어 처리, 음성 인식 등 다양한 분야에 활용됩니다. 주요 알고리즘으로는 </span>       <span style=\"color: #008080; text-decoration-color: #008080\">│</span>\n",
              "<span style=\"color: #008080; text-decoration-color: #008080\">│</span> <span style=\"color: #000080; text-decoration-color: #000080; font-weight: bold\">CNN(합성곱 신경망), RNN(순환 신경망), LSTM(장단기 메모리 네트워크) 등이 있습니다. 딥러닝의 학습 과정은 주로 </span>    <span style=\"color: #008080; text-decoration-color: #008080\">│</span>\n",
              "<span style=\"color: #008080; text-decoration-color: #008080\">│</span> <span style=\"color: #000080; text-decoration-color: #000080; font-weight: bold\">역전파 알고리즘을 통해 가중치를 조정하여 최적의 모델을 만드는 방식으로 이루어집니다.</span>                            <span style=\"color: #008080; text-decoration-color: #008080\">│</span>\n",
              "<span style=\"color: #008080; text-decoration-color: #008080\">│</span>                                                                                                                 <span style=\"color: #008080; text-decoration-color: #008080\">│</span>\n",
              "<span style=\"color: #008080; text-decoration-color: #008080\">│</span> <span style=\"color: #000080; text-decoration-color: #000080; font-weight: bold\">Please provide only the final result of your work. Do not add any conversation or extra explanation.</span>            <span style=\"color: #008080; text-decoration-color: #008080\">│</span>\n",
              "<span style=\"color: #008080; text-decoration-color: #008080\">╰─────────────────────────────────────────────────────────────────────────────────────────────────────────────────╯</span>\n",
              "</pre>\n"
            ]
          },
          "metadata": {}
        },
        {
          "output_type": "display_data",
          "data": {
            "text/plain": [
              "Output()"
            ],
            "application/vnd.jupyter.widget-view+json": {
              "version_major": 2,
              "version_minor": 0,
              "model_id": "aeb9e749f8534e3cabb2f2636f9571ef"
            }
          },
          "metadata": {}
        },
        {
          "output_type": "display_data",
          "data": {
            "text/plain": [],
            "text/html": [
              "<pre style=\"white-space:pre;overflow-x:auto;line-height:normal;font-family:Menlo,'DejaVu Sans Mono',consolas,'Courier New',monospace\"></pre>\n"
            ]
          },
          "metadata": {}
        },
        {
          "output_type": "display_data",
          "data": {
            "text/plain": [
              "\n"
            ],
            "text/html": [
              "<pre style=\"white-space:pre;overflow-x:auto;line-height:normal;font-family:Menlo,'DejaVu Sans Mono',consolas,'Courier New',monospace\">\n",
              "</pre>\n"
            ]
          },
          "metadata": {}
        },
        {
          "output_type": "display_data",
          "data": {
            "text/plain": [
              "\u001b[2mResponse generated in 7.7s\u001b[0m\n"
            ],
            "text/html": [
              "<pre style=\"white-space:pre;overflow-x:auto;line-height:normal;font-family:Menlo,'DejaVu Sans Mono',consolas,'Courier New',monospace\"><span style=\"color: #7f7f7f; text-decoration-color: #7f7f7f\">Response generated in 7.7s</span>\n",
              "</pre>\n"
            ]
          },
          "metadata": {}
        },
        {
          "output_type": "display_data",
          "data": {
            "text/plain": [
              "\u001b[36m╭─\u001b[0m\u001b[36m───────────────────────────────────────────────────\u001b[0m\u001b[36m Message \u001b[0m\u001b[36m───────────────────────────────────────────────────\u001b[0m\u001b[36m─╮\u001b[0m\n",
              "\u001b[36m│\u001b[0m You need to do the following task: 너는 요약 agent로 관련된 정보를 찾아서 설명해주는 agent야.. Expected Output: \u001b[36m│\u001b[0m\n",
              "\u001b[36m│\u001b[0m Complete the assigned task successfully.                                                                        \u001b[36m│\u001b[0m\n",
              "\u001b[36m│\u001b[0m                                                                                                                 \u001b[36m│\u001b[0m\n",
              "\u001b[36m│\u001b[0m Here are the results of previous tasks that might be useful:                                                    \u001b[36m│\u001b[0m\n",
              "\u001b[36m│\u001b[0m                                                                                                                 \u001b[36m│\u001b[0m\n",
              "\u001b[36m│\u001b[0m Result of previous task Agent: 딥러닝은 인공신경망을 기반으로 한 기계 학습의 한 분야로, 대량의 데이터를         \u001b[36m│\u001b[0m\n",
              "\u001b[36m│\u001b[0m 처리하여 패턴을 학습하고 예측하는 데 사용됩니다. 주요 구성 요소로는 입력층, 은닉층, 출력층으로 구성된 신경망    \u001b[36m│\u001b[0m\n",
              "\u001b[36m│\u001b[0m 구조가 있으며, 주로 이미지 인식, 자연어 처리, 음성 인식 등 다양한 분야에 활용됩니다. 주요 알고리즘으로는        \u001b[36m│\u001b[0m\n",
              "\u001b[36m│\u001b[0m CNN(합성곱 신경망), RNN(순환 신경망), LSTM(장단기 메모리 네트워크) 등이 있습니다. 딥러닝의 학습 과정은 주로     \u001b[36m│\u001b[0m\n",
              "\u001b[36m│\u001b[0m 역전파 알고리즘을 통해 가중치를 조정하여 최적의 모델을 만드는 방식으로 이루어집니다.                            \u001b[36m│\u001b[0m\n",
              "\u001b[36m│\u001b[0m                                                                                                                 \u001b[36m│\u001b[0m\n",
              "\u001b[36m│\u001b[0m Please provide only the final result of your work. Do not add any conversation or extra explanation.            \u001b[36m│\u001b[0m\n",
              "\u001b[36m╰─────────────────────────────────────────────────────────────────────────────────────────────────────────────────╯\u001b[0m\n"
            ],
            "text/html": [
              "<pre style=\"white-space:pre;overflow-x:auto;line-height:normal;font-family:Menlo,'DejaVu Sans Mono',consolas,'Courier New',monospace\"><span style=\"color: #008080; text-decoration-color: #008080\">╭──────────────────────────────────────────────────── Message ────────────────────────────────────────────────────╮</span>\n",
              "<span style=\"color: #008080; text-decoration-color: #008080\">│</span> You need to do the following task: 너는 요약 agent로 관련된 정보를 찾아서 설명해주는 agent야.. Expected Output: <span style=\"color: #008080; text-decoration-color: #008080\">│</span>\n",
              "<span style=\"color: #008080; text-decoration-color: #008080\">│</span> Complete the assigned task successfully.                                                                        <span style=\"color: #008080; text-decoration-color: #008080\">│</span>\n",
              "<span style=\"color: #008080; text-decoration-color: #008080\">│</span>                                                                                                                 <span style=\"color: #008080; text-decoration-color: #008080\">│</span>\n",
              "<span style=\"color: #008080; text-decoration-color: #008080\">│</span> Here are the results of previous tasks that might be useful:                                                    <span style=\"color: #008080; text-decoration-color: #008080\">│</span>\n",
              "<span style=\"color: #008080; text-decoration-color: #008080\">│</span>                                                                                                                 <span style=\"color: #008080; text-decoration-color: #008080\">│</span>\n",
              "<span style=\"color: #008080; text-decoration-color: #008080\">│</span> Result of previous task Agent: 딥러닝은 인공신경망을 기반으로 한 기계 학습의 한 분야로, 대량의 데이터를         <span style=\"color: #008080; text-decoration-color: #008080\">│</span>\n",
              "<span style=\"color: #008080; text-decoration-color: #008080\">│</span> 처리하여 패턴을 학습하고 예측하는 데 사용됩니다. 주요 구성 요소로는 입력층, 은닉층, 출력층으로 구성된 신경망    <span style=\"color: #008080; text-decoration-color: #008080\">│</span>\n",
              "<span style=\"color: #008080; text-decoration-color: #008080\">│</span> 구조가 있으며, 주로 이미지 인식, 자연어 처리, 음성 인식 등 다양한 분야에 활용됩니다. 주요 알고리즘으로는        <span style=\"color: #008080; text-decoration-color: #008080\">│</span>\n",
              "<span style=\"color: #008080; text-decoration-color: #008080\">│</span> CNN(합성곱 신경망), RNN(순환 신경망), LSTM(장단기 메모리 네트워크) 등이 있습니다. 딥러닝의 학습 과정은 주로     <span style=\"color: #008080; text-decoration-color: #008080\">│</span>\n",
              "<span style=\"color: #008080; text-decoration-color: #008080\">│</span> 역전파 알고리즘을 통해 가중치를 조정하여 최적의 모델을 만드는 방식으로 이루어집니다.                            <span style=\"color: #008080; text-decoration-color: #008080\">│</span>\n",
              "<span style=\"color: #008080; text-decoration-color: #008080\">│</span>                                                                                                                 <span style=\"color: #008080; text-decoration-color: #008080\">│</span>\n",
              "<span style=\"color: #008080; text-decoration-color: #008080\">│</span> Please provide only the final result of your work. Do not add any conversation or extra explanation.            <span style=\"color: #008080; text-decoration-color: #008080\">│</span>\n",
              "<span style=\"color: #008080; text-decoration-color: #008080\">╰─────────────────────────────────────────────────────────────────────────────────────────────────────────────────╯</span>\n",
              "</pre>\n"
            ]
          },
          "metadata": {}
        },
        {
          "output_type": "display_data",
          "data": {
            "text/plain": [
              "\u001b[36m╭─\u001b[0m\u001b[36m──────────────────────────────────────────────────\u001b[0m\u001b[36m Response \u001b[0m\u001b[36m───────────────────────────────────────────────────\u001b[0m\u001b[36m─╮\u001b[0m\n",
              "\u001b[36m│\u001b[0m 딥러닝은 인공신경망을 기반으로 한 기계 학습의 한 분야로, 대량의 데이터를 처리하여 패턴을 학습하고 예측하는 데   \u001b[36m│\u001b[0m\n",
              "\u001b[36m│\u001b[0m 사용됩니다. 주요 구성 요소로는 입력층, 은닉층, 출력층으로 구성된 신경망 구조가 있으며, 주로 이미지 인식, 자연어 \u001b[36m│\u001b[0m\n",
              "\u001b[36m│\u001b[0m 처리, 음성 인식 등 다양한 분야에 활용됩니다. 주요 알고리즘으로는 CNN(합성곱 신경망), RNN(순환 신경망),          \u001b[36m│\u001b[0m\n",
              "\u001b[36m│\u001b[0m LSTM(장단기 메모리 네트워크) 등이 있습니다. 딥러닝의 학습 과정은 주로 역전파 알고리즘을 통해 가중치를 조정하여  \u001b[36m│\u001b[0m\n",
              "\u001b[36m│\u001b[0m 최적의 모델을 만드는 방식으로 이루어집니다.                                                                     \u001b[36m│\u001b[0m\n",
              "\u001b[36m╰─────────────────────────────────────────────────────────────────────────────────────────────────────────────────╯\u001b[0m\n"
            ],
            "text/html": [
              "<pre style=\"white-space:pre;overflow-x:auto;line-height:normal;font-family:Menlo,'DejaVu Sans Mono',consolas,'Courier New',monospace\"><span style=\"color: #008080; text-decoration-color: #008080\">╭─────────────────────────────────────────────────── Response ────────────────────────────────────────────────────╮</span>\n",
              "<span style=\"color: #008080; text-decoration-color: #008080\">│</span> 딥러닝은 인공신경망을 기반으로 한 기계 학습의 한 분야로, 대량의 데이터를 처리하여 패턴을 학습하고 예측하는 데   <span style=\"color: #008080; text-decoration-color: #008080\">│</span>\n",
              "<span style=\"color: #008080; text-decoration-color: #008080\">│</span> 사용됩니다. 주요 구성 요소로는 입력층, 은닉층, 출력층으로 구성된 신경망 구조가 있으며, 주로 이미지 인식, 자연어 <span style=\"color: #008080; text-decoration-color: #008080\">│</span>\n",
              "<span style=\"color: #008080; text-decoration-color: #008080\">│</span> 처리, 음성 인식 등 다양한 분야에 활용됩니다. 주요 알고리즘으로는 CNN(합성곱 신경망), RNN(순환 신경망),          <span style=\"color: #008080; text-decoration-color: #008080\">│</span>\n",
              "<span style=\"color: #008080; text-decoration-color: #008080\">│</span> LSTM(장단기 메모리 네트워크) 등이 있습니다. 딥러닝의 학습 과정은 주로 역전파 알고리즘을 통해 가중치를 조정하여  <span style=\"color: #008080; text-decoration-color: #008080\">│</span>\n",
              "<span style=\"color: #008080; text-decoration-color: #008080\">│</span> 최적의 모델을 만드는 방식으로 이루어집니다.                                                                     <span style=\"color: #008080; text-decoration-color: #008080\">│</span>\n",
              "<span style=\"color: #008080; text-decoration-color: #008080\">╰─────────────────────────────────────────────────────────────────────────────────────────────────────────────────╯</span>\n",
              "</pre>\n"
            ]
          },
          "metadata": {}
        },
        {
          "output_type": "execute_result",
          "data": {
            "text/plain": [
              "{'task_status': {0: 'completed', 1: 'completed'},\n",
              " 'task_results': {0: TaskOutput(description='너는 딥러닝에 관해서 알려주는 agent야.', summary='너는 딥러닝에 관해', raw='딥러닝은 인공신경망을 기반으로 한 기계 학습의 한 분야로, 대량의 데이터를 처리하여 패턴을 학습하고 예측하는 데 사용됩니다. 주요 구성 요소로는 입력층, 은닉층, 출력층으로 구성된 신경망 구조가 있으며, 주로 이미지 인식, 자연어 처리, 음성 인식 등 다양한 분야에 활용됩니다. 주요 알고리즘으로는 CNN(합성곱 신경망), RNN(순환 신경망), LSTM(장단기 메모리 네트워크) 등이 있습니다. 딥러닝의 학습 과정은 주로 역전파 알고리즘을 통해 가중치를 조정하여 최적의 모델을 만드는 방식으로 이루어집니다.', pydantic=None, json_dict=None, agent='Agent', output_format='RAW'),\n",
              "  1: TaskOutput(description='너는 요약 agent로 관련된 정보를 찾아서 설명해주는 agent야.', summary='너는 요약 agen', raw='딥러닝은 인공신경망을 기반으로 한 기계 학습의 한 분야로, 대량의 데이터를 처리하여 패턴을 학습하고 예측하는 데 사용됩니다. 주요 구성 요소로는 입력층, 은닉층, 출력층으로 구성된 신경망 구조가 있으며, 주로 이미지 인식, 자연어 처리, 음성 인식 등 다양한 분야에 활용됩니다. 주요 알고리즘으로는 CNN(합성곱 신경망), RNN(순환 신경망), LSTM(장단기 메모리 네트워크) 등이 있습니다. 딥러닝의 학습 과정은 주로 역전파 알고리즘을 통해 가중치를 조정하여 최적의 모델을 만드는 방식으로 이루어집니다.', pydantic=None, json_dict=None, agent='Agent', output_format='RAW')}}"
            ]
          },
          "metadata": {},
          "execution_count": 10
        }
      ]
    },
    {
      "cell_type": "code",
      "source": [
        "from praisonaiagents import Agent, Agents, Tools\n",
        "\n",
        "while True:\n",
        "    # 동적 주제 입력\n",
        "    topic = input(\"조사할 주제를 입력하세요 (종료하려면 'exit' 입력): \")\n",
        "\n",
        "    # 'exit' 입력 시 종료\n",
        "    if topic.lower() == 'exit':\n",
        "        print(\"프로그램을 종료합니다.\")\n",
        "        break\n",
        "\n",
        "    # Research agent: 인터넷에서 관련 정보를 검색\n",
        "    research_agent = Agent(\n",
        "        instructions=f'너는 \"{topic}\"에 관해서 정보를 찾아주는 agent야.',\n",
        "        tools=[Tools.internet_search],\n",
        "        llm='gpt-4o'\n",
        "    )\n",
        "\n",
        "    # Summarize agent: 검색 결과를 요약하고 한국어로 설명\n",
        "    summarize_agent = Agent(\n",
        "        instructions='너는 요약 agent로 관련된 정보를 찾아서 설명해주는 agent야.',\n",
        "        llm='gpt-4o',\n",
        "    )\n",
        "\n",
        "    # 작업 실행\n",
        "    agents = Agents(agents=[research_agent, summarize_agent])\n",
        "    results = agents.start()"
      ],
      "metadata": {
        "colab": {
          "base_uri": "https://localhost:8080/",
          "height": 1000,
          "referenced_widgets": [
            "05ad5040d704416d99aee7868a05de3d",
            "c807c72a835a4f91867a340a639223c8",
            "840a770597c6479eb6dfbd8cd2f84710",
            "7130ce56d24f4cd49a6b545d421ef450",
            "06488b634fa84adea08d6d411f373d9f",
            "0ba29ac0d82e488e87902ebdd3e1769a",
            "f20ef3561e994891b2961a8c2eff9c32",
            "e32e79e97ffc448282e117fd4c0c7b13"
          ]
        },
        "id": "RQ44sczMkh9Y",
        "outputId": "717aaae4-e2fe-40bf-ee40-2041d7320a00"
      },
      "execution_count": null,
      "outputs": [
        {
          "name": "stdout",
          "output_type": "stream",
          "text": [
            "조사할 주제를 입력하세요 (종료하려면 'exit' 입력): 딥러닝\n"
          ]
        },
        {
          "output_type": "display_data",
          "data": {
            "text/plain": [
              "\u001b[36m╭─\u001b[0m\u001b[36m───────────────────────────────────────────\u001b[0m\u001b[36m Instruction \u001b[0m\u001b[36m────────────────────────────────────────────\u001b[0m\u001b[36m─╮\u001b[0m\n",
              "\u001b[36m│\u001b[0m \u001b[1;34mAgent Agent is processing prompt: \u001b[0m                                                                   \u001b[36m│\u001b[0m\n",
              "\u001b[36m│\u001b[0m \u001b[1;34mYou need to do the following task: 너는 \"딥러닝\"에 관해서 정보를 찾아주는 agent야..\u001b[0m                  \u001b[36m│\u001b[0m\n",
              "\u001b[36m│\u001b[0m \u001b[1;34mExpected Output: Complete the assigned task successfully.\u001b[0m                                            \u001b[36m│\u001b[0m\n",
              "\u001b[36m│\u001b[0m \u001b[1;34mPlease provide only the final result of your work. Do not add any conversation or extra explanation.\u001b[0m \u001b[36m│\u001b[0m\n",
              "\u001b[36m╰──────────────────────────────────────────────────────────────────────────────────────────────────────╯\u001b[0m\n"
            ],
            "text/html": [
              "<pre style=\"white-space:pre;overflow-x:auto;line-height:normal;font-family:Menlo,'DejaVu Sans Mono',consolas,'Courier New',monospace\"><span style=\"color: #008080; text-decoration-color: #008080\">╭──────────────────────────────────────────── Instruction ─────────────────────────────────────────────╮</span>\n",
              "<span style=\"color: #008080; text-decoration-color: #008080\">│</span> <span style=\"color: #000080; text-decoration-color: #000080; font-weight: bold\">Agent Agent is processing prompt: </span>                                                                   <span style=\"color: #008080; text-decoration-color: #008080\">│</span>\n",
              "<span style=\"color: #008080; text-decoration-color: #008080\">│</span> <span style=\"color: #000080; text-decoration-color: #000080; font-weight: bold\">You need to do the following task: 너는 \"딥러닝\"에 관해서 정보를 찾아주는 agent야..</span>                  <span style=\"color: #008080; text-decoration-color: #008080\">│</span>\n",
              "<span style=\"color: #008080; text-decoration-color: #008080\">│</span> <span style=\"color: #000080; text-decoration-color: #000080; font-weight: bold\">Expected Output: Complete the assigned task successfully.</span>                                            <span style=\"color: #008080; text-decoration-color: #008080\">│</span>\n",
              "<span style=\"color: #008080; text-decoration-color: #008080\">│</span> <span style=\"color: #000080; text-decoration-color: #000080; font-weight: bold\">Please provide only the final result of your work. Do not add any conversation or extra explanation.</span> <span style=\"color: #008080; text-decoration-color: #008080\">│</span>\n",
              "<span style=\"color: #008080; text-decoration-color: #008080\">╰──────────────────────────────────────────────────────────────────────────────────────────────────────╯</span>\n",
              "</pre>\n"
            ]
          },
          "metadata": {}
        },
        {
          "output_type": "display_data",
          "data": {
            "text/plain": [
              "\u001b[32m╭─\u001b[0m\u001b[32m─────────────────────────────────────\u001b[0m\u001b[32m Tool Call \u001b[0m\u001b[32m─────────────────────────────────────\u001b[0m\u001b[32m─╮\u001b[0m\n",
              "\u001b[32m│\u001b[0m \u001b[1;36mAgent Agent is calling function 'internet_search' with arguments: {'query': '딥러닝'}\u001b[0m \u001b[32m│\u001b[0m\n",
              "\u001b[32m╰───────────────────────────────────────────────────────────────────────────────────────╯\u001b[0m\n"
            ],
            "text/html": [
              "<pre style=\"white-space:pre;overflow-x:auto;line-height:normal;font-family:Menlo,'DejaVu Sans Mono',consolas,'Courier New',monospace\"><span style=\"color: #008000; text-decoration-color: #008000\">╭────────────────────────────────────── Tool Call ──────────────────────────────────────╮</span>\n",
              "<span style=\"color: #008000; text-decoration-color: #008000\">│</span> <span style=\"color: #008080; text-decoration-color: #008080; font-weight: bold\">Agent Agent is calling function 'internet_search' with arguments: {'query': '딥러닝'}</span> <span style=\"color: #008000; text-decoration-color: #008000\">│</span>\n",
              "<span style=\"color: #008000; text-decoration-color: #008000\">╰───────────────────────────────────────────────────────────────────────────────────────╯</span>\n",
              "</pre>\n"
            ]
          },
          "metadata": {}
        },
        {
          "output_type": "display_data",
          "data": {
            "text/plain": [
              "\u001b[32m╭─\u001b[0m\u001b[32m──────────────────────────────────────────────────\u001b[0m\u001b[32m Tool Call \u001b[0m\u001b[32m──────────────────────────────────────────────────\u001b[0m\u001b[32m─╮\u001b[0m\n",
              "\u001b[32m│\u001b[0m \u001b[1;36mFunction 'internet_search' returned: [{\"title\": \"\\ub525 \\ub7ec\\ub2dd - \\uc704\\ud0a4\\ubc31\\uacfc, \\uc6b0\\ub9ac \u001b[0m  \u001b[32m│\u001b[0m\n",
              "\u001b[32m│\u001b[0m \u001b[1;36m\\ubaa8\\ub450\\uc758 \\ubc31\\uacfc\\uc0ac\\uc804\", \"url\": \"https://ko.wikipedia.org/wiki/\\ub525_\\ub7ec\\ub2dd\", \u001b[0m      \u001b[32m│\u001b[0m\n",
              "\u001b[32m│\u001b[0m \u001b[1;36m\"snippet\": \"\\ub2e4\\ub978 \\ub525 \\ub7ec\\ub2dd \\uad6c\\uc870\\ub4e4\\uacfc \\ube44\\uad50\\ud574\\uc11c, cnn\\uc740 \u001b[0m      \u001b[32m│\u001b[0m\n",
              "\u001b[32m│\u001b[0m \u001b[1;36m\\uc601\\uc0c1, \\uc74c\\uc131 \\ubd84\\uc57c \\ubaa8\\ub450\\uc5d0\\uc11c \\uc88b\\uc740 \\uc131\\ub2a5\\uc744 \u001b[0m               \u001b[32m│\u001b[0m\n",
              "\u001b[32m│\u001b[0m \u001b[1;36m\\ubcf4\\uc5ec\\uc900\\ub2e4. CNN\\uc740 \\ub610\\ud55c \\ud45c\\uc900 \\uc5ed\\uc804\\ub2ec\\uc744 \\ud1b5\\ud574 \u001b[0m            \u001b[32m│\u001b[0m\n",
              "\u001b[32m│\u001b[0m \u001b[1;36m\\ud6c8\\ub828\\ub420 \\uc218 \\uc788\\ub2e4. CNN\\uc740 \\ub2e4\\ub978 \\ud53c\\ub4dc\\ud3ec\\uc6cc\\ub4dc \u001b[0m                  \u001b[32m│\u001b[0m\n",
              "\u001b[32m│\u001b[0m \u001b[1;36m\\uc778\\uacf5\\uc2e0\\uacbd\\ub9dd \\uae30\\ubc95\\ub4e4\\ubcf4\\ub2e4 \\uc27d\\uac8c \\ud6c8\\ub828\\ub418\\ub294 \u001b[0m            \u001b[32m│\u001b[0m\n",
              "\u001b[32m│\u001b[0m \u001b[1;36m\\ud3b8\\uc774\\uace0 \\uc801\\uc740 \\uc218\\uc758 \\ub9e4\\uac1c\\ubcc0\\uc218\\ub97c \\uc0ac\\uc6a9\\ud55c\\ub2e4\\ub294 \u001b[0m     \u001b[32m│\u001b[0m\n",
              "\u001b[32m│\u001b[0m \u001b[1;36m\\uc774\\uc810\\uc774 \\uc788\\ub2e4.\"}, {\"title\": \"Deep learning - Wikipedia\", \"url\": \u001b[0m                              \u001b[32m│\u001b[0m\n",
              "\u001b[32m│\u001b[0m \u001b[1;36m\"https://en.wikipedia.org/wiki/Deep_learning\", \"snippet\": \"Deep learning is a subset of machine learning that \u001b[0m  \u001b[32m│\u001b[0m\n",
              "\u001b[32m│\u001b[0m \u001b[1;36mfocuses on utilizing neural networks to perform tasks such as classification, regression, and representation \u001b[0m   \u001b[32m│\u001b[0m\n",
              "\u001b[32m│\u001b[0m \u001b[1;36mlearning.The field takes inspiration from biological neuroscience and is centered around stacking artificial \u001b[0m   \u001b[32m│\u001b[0m\n",
              "\u001b[32m│\u001b[0m \u001b[1;36mneurons into layers and \\\"training\\\" them to process data. The adjective \\\"deep\\\" refers to the use of multiple\u001b[0m \u001b[32m│\u001b[0m\n",
              "\u001b[32m│\u001b[0m \u001b[1;36mlayers (ranging ...\"}, {\"title\": \"\\ub525 \\ub7ec\\ub2dd\\uc774\\ub780 \\ubb34\\uc5c7\\uc778\\uac00\\uc694? - \\ub525 \u001b[0m     \u001b[32m│\u001b[0m\n",
              "\u001b[32m│\u001b[0m \u001b[1;36m\\ub7ec\\ub2dd Ai \\uc124\\uba85 - Aws\", \"url\": \"https://aws.amazon.com/ko/what-is/deep-learning/\", \"snippet\": \u001b[0m     \u001b[32m│\u001b[0m\n",
              "\u001b[32m│\u001b[0m \u001b[1;36m\"\\ub525 \\ub7ec\\ub2dd\\uc740 \\uc778\\uac04\\uc758 \\ub450\\ub1cc\\uc5d0\\uc11c \\uc601\\uac10\\uc744 \\uc5bb\\uc740 \u001b[0m         \u001b[32m│\u001b[0m\n",
              "\u001b[32m│\u001b[0m \u001b[1;36m\\ubc29\\uc2dd\\uc73c\\ub85c \\ub370\\uc774\\ud130\\ub97c \\ucc98\\ub9ac\\ud558\\ub3c4\\ub85d \\ucef4\\ud4e8\\ud130\\ub97c \u001b[0m      \u001b[32m│\u001b[0m\n",
              "\u001b[32m│\u001b[0m \u001b[1;36m\\uac00\\ub974\\uce58\\ub294 \\uc778\\uacf5 \\uc9c0\\ub2a5 (AI) \\ubc29\\uc2dd\\uc785\\ub2c8\\ub2e4. \\ub525 \\ub7ec\\ub2dd \u001b[0m    \u001b[32m│\u001b[0m\n",
              "\u001b[32m│\u001b[0m \u001b[1;36m\\ubaa8\\ub378\\uc740 \\ub2e4\\uc591\\ud55c \\ub370\\uc774\\ud130\\uc758 \\ubcf5\\uc7a1\\ud55c \\ud328\\ud134\\uc744 \u001b[0m           \u001b[32m│\u001b[0m\n",
              "\u001b[32m│\u001b[0m \u001b[1;36m\\uc778\\uc2dd\\ud558\\uc5ec \\uc815\\ud655\\ud55c \\uc778\\uc0ac\\uc774\\ud2b8\\uc640 \\uc608\\uce21\\uc744 \u001b[0m                  \u001b[32m│\u001b[0m\n",
              "\u001b[32m│\u001b[0m \u001b[1;36m\\uc0dd\\uc131\\ud560 \\uc218 \\uc788\\uc73c\\uba70, \\uc790\\ub3d9\\ucc28, \\uc758\\ub8cc, \\uacf5\\uc7a5 \\ub4f1\"}, \u001b[0m         \u001b[32m│\u001b[0m\n",
              "\u001b[32m│\u001b[0m \u001b[1;36m{\"title\": \"What Is Deep Learning? | IBM\", \"url\": \"https://www.ibm.com/think/topics/deep-learning\", \"snippet\": \u001b[0m  \u001b[32m│\u001b[0m\n",
              "\u001b[32m│\u001b[0m \u001b[1;36m\"The chief difference between deep learning and machine learning is the structure of the underlying neural \u001b[0m     \u001b[32m│\u001b[0m\n",
              "\u001b[32m│\u001b[0m \u001b[1;36mnetwork architecture. \\\"Nondeep,\\\" traditional machine learning models use simple neural networks with one or \u001b[0m  \u001b[32m│\u001b[0m\n",
              "\u001b[32m│\u001b[0m \u001b[1;36mtwo computational layers. Deep learning models use three or more layers\\u2014but typically hundreds or \u001b[0m         \u001b[32m│\u001b[0m\n",
              "\u001b[32m│\u001b[0m \u001b[1;36mthousands of layers\\u2014to train the models.\"}, {\"title\": \"\\ub525 \\ub7ec\\ub2dd\\uc774\\ub780 \u001b[0m                    \u001b[32m│\u001b[0m\n",
              "\u001b[32m│\u001b[0m \u001b[1;36m\\ubb34\\uc5c7\\uc778\\uac00\\uc694? | Ibm\", \"url\": \"https://www.ibm.com/kr-ko/topics/deep-learning\", \"snippet\": \u001b[0m    \u001b[32m│\u001b[0m\n",
              "\u001b[32m│\u001b[0m \u001b[1;36m\"\\ub525 \\ub7ec\\ub2dd\\uc740 \\uc778\\uac04 \\ub450\\ub1cc\\uc758 \\ubcf5\\uc7a1\\ud55c \\uc758\\uc0ac \\uacb0\\uc815 \u001b[0m        \u001b[32m│\u001b[0m\n",
              "\u001b[32m│\u001b[0m \u001b[1;36m\\ub2a5\\ub825\\uc744 \\uc2dc\\ubbac\\ub808\\uc774\\uc158\\ud558\\uae30 \\uc704\\ud574 \\uc2ec\\uce35 \u001b[0m                        \u001b[32m│\u001b[0m\n",
              "\u001b[32m│\u001b[0m \u001b[1;36m\\uc2e0\\uacbd\\ub9dd\\uc744 \\uc0ac\\uc6a9\\ud558\\ub294 \\uae30\\uacc4 \\ud559\\uc2b5\\uc758 \\ud558\\uc704 \u001b[0m                 \u001b[32m│\u001b[0m\n",
              "\u001b[32m│\u001b[0m \u001b[1;36m\\uc9d1\\ud569\\uc785\\ub2c8\\ub2e4. \\uc774 \\uc6f9 \\ud398\\uc774\\uc9c0\\uc5d0\\uc11c\\ub294 \\ub525 \\ub7ec\\ub2dd\\uc758 \u001b[0m   \u001b[32m│\u001b[0m\n",
              "\u001b[32m│\u001b[0m \u001b[1;36m\\uae30\\ubcf8 \\uad6c\\uc131 \\uc694\\uc18c, \\ud559\\uc2b5 \\ubc29\\ubc95, \\ube44\\uc9c0\\ub3c4 \\ud559\\uc2b5, \u001b[0m            \u001b[32m│\u001b[0m\n",
              "\u001b[32m│\u001b[0m \u001b[1;36m\\uc790\\ub3d9\\ud654 \\ub4f1\\uc5d0 \\ub300\\ud574 \\uc124\\uba85\\ud558\\uace0, \\ub2e4\\uc591\\ud55c AI \u001b[0m                   \u001b[32m│\u001b[0m\n",
              "\u001b[32m│\u001b[0m \u001b[1;36m\\uc560\\ud50c\\ub9ac\\ucf00\\uc774\\uc158\\uacfc \\uc11c\\ube44\\uc2a4\\uc758 \\uc608\"}]\u001b[0m                                   \u001b[32m│\u001b[0m\n",
              "\u001b[32m╰─────────────────────────────────────────────────────────────────────────────────────────────────────────────────╯\u001b[0m\n"
            ],
            "text/html": [
              "<pre style=\"white-space:pre;overflow-x:auto;line-height:normal;font-family:Menlo,'DejaVu Sans Mono',consolas,'Courier New',monospace\"><span style=\"color: #008000; text-decoration-color: #008000\">╭─────────────────────────────────────────────────── Tool Call ───────────────────────────────────────────────────╮</span>\n",
              "<span style=\"color: #008000; text-decoration-color: #008000\">│</span> <span style=\"color: #008080; text-decoration-color: #008080; font-weight: bold\">Function 'internet_search' returned: [{\"title\": \"\\ub525 \\ub7ec\\ub2dd - \\uc704\\ud0a4\\ubc31\\uacfc, \\uc6b0\\ub9ac </span>  <span style=\"color: #008000; text-decoration-color: #008000\">│</span>\n",
              "<span style=\"color: #008000; text-decoration-color: #008000\">│</span> <span style=\"color: #008080; text-decoration-color: #008080; font-weight: bold\">\\ubaa8\\ub450\\uc758 \\ubc31\\uacfc\\uc0ac\\uc804\", \"url\": \"https://ko.wikipedia.org/wiki/\\ub525_\\ub7ec\\ub2dd\", </span>      <span style=\"color: #008000; text-decoration-color: #008000\">│</span>\n",
              "<span style=\"color: #008000; text-decoration-color: #008000\">│</span> <span style=\"color: #008080; text-decoration-color: #008080; font-weight: bold\">\"snippet\": \"\\ub2e4\\ub978 \\ub525 \\ub7ec\\ub2dd \\uad6c\\uc870\\ub4e4\\uacfc \\ube44\\uad50\\ud574\\uc11c, cnn\\uc740 </span>      <span style=\"color: #008000; text-decoration-color: #008000\">│</span>\n",
              "<span style=\"color: #008000; text-decoration-color: #008000\">│</span> <span style=\"color: #008080; text-decoration-color: #008080; font-weight: bold\">\\uc601\\uc0c1, \\uc74c\\uc131 \\ubd84\\uc57c \\ubaa8\\ub450\\uc5d0\\uc11c \\uc88b\\uc740 \\uc131\\ub2a5\\uc744 </span>               <span style=\"color: #008000; text-decoration-color: #008000\">│</span>\n",
              "<span style=\"color: #008000; text-decoration-color: #008000\">│</span> <span style=\"color: #008080; text-decoration-color: #008080; font-weight: bold\">\\ubcf4\\uc5ec\\uc900\\ub2e4. CNN\\uc740 \\ub610\\ud55c \\ud45c\\uc900 \\uc5ed\\uc804\\ub2ec\\uc744 \\ud1b5\\ud574 </span>            <span style=\"color: #008000; text-decoration-color: #008000\">│</span>\n",
              "<span style=\"color: #008000; text-decoration-color: #008000\">│</span> <span style=\"color: #008080; text-decoration-color: #008080; font-weight: bold\">\\ud6c8\\ub828\\ub420 \\uc218 \\uc788\\ub2e4. CNN\\uc740 \\ub2e4\\ub978 \\ud53c\\ub4dc\\ud3ec\\uc6cc\\ub4dc </span>                  <span style=\"color: #008000; text-decoration-color: #008000\">│</span>\n",
              "<span style=\"color: #008000; text-decoration-color: #008000\">│</span> <span style=\"color: #008080; text-decoration-color: #008080; font-weight: bold\">\\uc778\\uacf5\\uc2e0\\uacbd\\ub9dd \\uae30\\ubc95\\ub4e4\\ubcf4\\ub2e4 \\uc27d\\uac8c \\ud6c8\\ub828\\ub418\\ub294 </span>            <span style=\"color: #008000; text-decoration-color: #008000\">│</span>\n",
              "<span style=\"color: #008000; text-decoration-color: #008000\">│</span> <span style=\"color: #008080; text-decoration-color: #008080; font-weight: bold\">\\ud3b8\\uc774\\uace0 \\uc801\\uc740 \\uc218\\uc758 \\ub9e4\\uac1c\\ubcc0\\uc218\\ub97c \\uc0ac\\uc6a9\\ud55c\\ub2e4\\ub294 </span>     <span style=\"color: #008000; text-decoration-color: #008000\">│</span>\n",
              "<span style=\"color: #008000; text-decoration-color: #008000\">│</span> <span style=\"color: #008080; text-decoration-color: #008080; font-weight: bold\">\\uc774\\uc810\\uc774 \\uc788\\ub2e4.\"}, {\"title\": \"Deep learning - Wikipedia\", \"url\": </span>                              <span style=\"color: #008000; text-decoration-color: #008000\">│</span>\n",
              "<span style=\"color: #008000; text-decoration-color: #008000\">│</span> <span style=\"color: #008080; text-decoration-color: #008080; font-weight: bold\">\"https://en.wikipedia.org/wiki/Deep_learning\", \"snippet\": \"Deep learning is a subset of machine learning that </span>  <span style=\"color: #008000; text-decoration-color: #008000\">│</span>\n",
              "<span style=\"color: #008000; text-decoration-color: #008000\">│</span> <span style=\"color: #008080; text-decoration-color: #008080; font-weight: bold\">focuses on utilizing neural networks to perform tasks such as classification, regression, and representation </span>   <span style=\"color: #008000; text-decoration-color: #008000\">│</span>\n",
              "<span style=\"color: #008000; text-decoration-color: #008000\">│</span> <span style=\"color: #008080; text-decoration-color: #008080; font-weight: bold\">learning.The field takes inspiration from biological neuroscience and is centered around stacking artificial </span>   <span style=\"color: #008000; text-decoration-color: #008000\">│</span>\n",
              "<span style=\"color: #008000; text-decoration-color: #008000\">│</span> <span style=\"color: #008080; text-decoration-color: #008080; font-weight: bold\">neurons into layers and \\\"training\\\" them to process data. The adjective \\\"deep\\\" refers to the use of multiple</span> <span style=\"color: #008000; text-decoration-color: #008000\">│</span>\n",
              "<span style=\"color: #008000; text-decoration-color: #008000\">│</span> <span style=\"color: #008080; text-decoration-color: #008080; font-weight: bold\">layers (ranging ...\"}, {\"title\": \"\\ub525 \\ub7ec\\ub2dd\\uc774\\ub780 \\ubb34\\uc5c7\\uc778\\uac00\\uc694? - \\ub525 </span>     <span style=\"color: #008000; text-decoration-color: #008000\">│</span>\n",
              "<span style=\"color: #008000; text-decoration-color: #008000\">│</span> <span style=\"color: #008080; text-decoration-color: #008080; font-weight: bold\">\\ub7ec\\ub2dd Ai \\uc124\\uba85 - Aws\", \"url\": \"https://aws.amazon.com/ko/what-is/deep-learning/\", \"snippet\": </span>     <span style=\"color: #008000; text-decoration-color: #008000\">│</span>\n",
              "<span style=\"color: #008000; text-decoration-color: #008000\">│</span> <span style=\"color: #008080; text-decoration-color: #008080; font-weight: bold\">\"\\ub525 \\ub7ec\\ub2dd\\uc740 \\uc778\\uac04\\uc758 \\ub450\\ub1cc\\uc5d0\\uc11c \\uc601\\uac10\\uc744 \\uc5bb\\uc740 </span>         <span style=\"color: #008000; text-decoration-color: #008000\">│</span>\n",
              "<span style=\"color: #008000; text-decoration-color: #008000\">│</span> <span style=\"color: #008080; text-decoration-color: #008080; font-weight: bold\">\\ubc29\\uc2dd\\uc73c\\ub85c \\ub370\\uc774\\ud130\\ub97c \\ucc98\\ub9ac\\ud558\\ub3c4\\ub85d \\ucef4\\ud4e8\\ud130\\ub97c </span>      <span style=\"color: #008000; text-decoration-color: #008000\">│</span>\n",
              "<span style=\"color: #008000; text-decoration-color: #008000\">│</span> <span style=\"color: #008080; text-decoration-color: #008080; font-weight: bold\">\\uac00\\ub974\\uce58\\ub294 \\uc778\\uacf5 \\uc9c0\\ub2a5 (AI) \\ubc29\\uc2dd\\uc785\\ub2c8\\ub2e4. \\ub525 \\ub7ec\\ub2dd </span>    <span style=\"color: #008000; text-decoration-color: #008000\">│</span>\n",
              "<span style=\"color: #008000; text-decoration-color: #008000\">│</span> <span style=\"color: #008080; text-decoration-color: #008080; font-weight: bold\">\\ubaa8\\ub378\\uc740 \\ub2e4\\uc591\\ud55c \\ub370\\uc774\\ud130\\uc758 \\ubcf5\\uc7a1\\ud55c \\ud328\\ud134\\uc744 </span>           <span style=\"color: #008000; text-decoration-color: #008000\">│</span>\n",
              "<span style=\"color: #008000; text-decoration-color: #008000\">│</span> <span style=\"color: #008080; text-decoration-color: #008080; font-weight: bold\">\\uc778\\uc2dd\\ud558\\uc5ec \\uc815\\ud655\\ud55c \\uc778\\uc0ac\\uc774\\ud2b8\\uc640 \\uc608\\uce21\\uc744 </span>                  <span style=\"color: #008000; text-decoration-color: #008000\">│</span>\n",
              "<span style=\"color: #008000; text-decoration-color: #008000\">│</span> <span style=\"color: #008080; text-decoration-color: #008080; font-weight: bold\">\\uc0dd\\uc131\\ud560 \\uc218 \\uc788\\uc73c\\uba70, \\uc790\\ub3d9\\ucc28, \\uc758\\ub8cc, \\uacf5\\uc7a5 \\ub4f1\"}, </span>         <span style=\"color: #008000; text-decoration-color: #008000\">│</span>\n",
              "<span style=\"color: #008000; text-decoration-color: #008000\">│</span> <span style=\"color: #008080; text-decoration-color: #008080; font-weight: bold\">{\"title\": \"What Is Deep Learning? | IBM\", \"url\": \"https://www.ibm.com/think/topics/deep-learning\", \"snippet\": </span>  <span style=\"color: #008000; text-decoration-color: #008000\">│</span>\n",
              "<span style=\"color: #008000; text-decoration-color: #008000\">│</span> <span style=\"color: #008080; text-decoration-color: #008080; font-weight: bold\">\"The chief difference between deep learning and machine learning is the structure of the underlying neural </span>     <span style=\"color: #008000; text-decoration-color: #008000\">│</span>\n",
              "<span style=\"color: #008000; text-decoration-color: #008000\">│</span> <span style=\"color: #008080; text-decoration-color: #008080; font-weight: bold\">network architecture. \\\"Nondeep,\\\" traditional machine learning models use simple neural networks with one or </span>  <span style=\"color: #008000; text-decoration-color: #008000\">│</span>\n",
              "<span style=\"color: #008000; text-decoration-color: #008000\">│</span> <span style=\"color: #008080; text-decoration-color: #008080; font-weight: bold\">two computational layers. Deep learning models use three or more layers\\u2014but typically hundreds or </span>         <span style=\"color: #008000; text-decoration-color: #008000\">│</span>\n",
              "<span style=\"color: #008000; text-decoration-color: #008000\">│</span> <span style=\"color: #008080; text-decoration-color: #008080; font-weight: bold\">thousands of layers\\u2014to train the models.\"}, {\"title\": \"\\ub525 \\ub7ec\\ub2dd\\uc774\\ub780 </span>                    <span style=\"color: #008000; text-decoration-color: #008000\">│</span>\n",
              "<span style=\"color: #008000; text-decoration-color: #008000\">│</span> <span style=\"color: #008080; text-decoration-color: #008080; font-weight: bold\">\\ubb34\\uc5c7\\uc778\\uac00\\uc694? | Ibm\", \"url\": \"https://www.ibm.com/kr-ko/topics/deep-learning\", \"snippet\": </span>    <span style=\"color: #008000; text-decoration-color: #008000\">│</span>\n",
              "<span style=\"color: #008000; text-decoration-color: #008000\">│</span> <span style=\"color: #008080; text-decoration-color: #008080; font-weight: bold\">\"\\ub525 \\ub7ec\\ub2dd\\uc740 \\uc778\\uac04 \\ub450\\ub1cc\\uc758 \\ubcf5\\uc7a1\\ud55c \\uc758\\uc0ac \\uacb0\\uc815 </span>        <span style=\"color: #008000; text-decoration-color: #008000\">│</span>\n",
              "<span style=\"color: #008000; text-decoration-color: #008000\">│</span> <span style=\"color: #008080; text-decoration-color: #008080; font-weight: bold\">\\ub2a5\\ub825\\uc744 \\uc2dc\\ubbac\\ub808\\uc774\\uc158\\ud558\\uae30 \\uc704\\ud574 \\uc2ec\\uce35 </span>                        <span style=\"color: #008000; text-decoration-color: #008000\">│</span>\n",
              "<span style=\"color: #008000; text-decoration-color: #008000\">│</span> <span style=\"color: #008080; text-decoration-color: #008080; font-weight: bold\">\\uc2e0\\uacbd\\ub9dd\\uc744 \\uc0ac\\uc6a9\\ud558\\ub294 \\uae30\\uacc4 \\ud559\\uc2b5\\uc758 \\ud558\\uc704 </span>                 <span style=\"color: #008000; text-decoration-color: #008000\">│</span>\n",
              "<span style=\"color: #008000; text-decoration-color: #008000\">│</span> <span style=\"color: #008080; text-decoration-color: #008080; font-weight: bold\">\\uc9d1\\ud569\\uc785\\ub2c8\\ub2e4. \\uc774 \\uc6f9 \\ud398\\uc774\\uc9c0\\uc5d0\\uc11c\\ub294 \\ub525 \\ub7ec\\ub2dd\\uc758 </span>   <span style=\"color: #008000; text-decoration-color: #008000\">│</span>\n",
              "<span style=\"color: #008000; text-decoration-color: #008000\">│</span> <span style=\"color: #008080; text-decoration-color: #008080; font-weight: bold\">\\uae30\\ubcf8 \\uad6c\\uc131 \\uc694\\uc18c, \\ud559\\uc2b5 \\ubc29\\ubc95, \\ube44\\uc9c0\\ub3c4 \\ud559\\uc2b5, </span>            <span style=\"color: #008000; text-decoration-color: #008000\">│</span>\n",
              "<span style=\"color: #008000; text-decoration-color: #008000\">│</span> <span style=\"color: #008080; text-decoration-color: #008080; font-weight: bold\">\\uc790\\ub3d9\\ud654 \\ub4f1\\uc5d0 \\ub300\\ud574 \\uc124\\uba85\\ud558\\uace0, \\ub2e4\\uc591\\ud55c AI </span>                   <span style=\"color: #008000; text-decoration-color: #008000\">│</span>\n",
              "<span style=\"color: #008000; text-decoration-color: #008000\">│</span> <span style=\"color: #008080; text-decoration-color: #008080; font-weight: bold\">\\uc560\\ud50c\\ub9ac\\ucf00\\uc774\\uc158\\uacfc \\uc11c\\ube44\\uc2a4\\uc758 \\uc608\"}]</span>                                   <span style=\"color: #008000; text-decoration-color: #008000\">│</span>\n",
              "<span style=\"color: #008000; text-decoration-color: #008000\">╰─────────────────────────────────────────────────────────────────────────────────────────────────────────────────╯</span>\n",
              "</pre>\n"
            ]
          },
          "metadata": {}
        },
        {
          "output_type": "display_data",
          "data": {
            "text/plain": [
              "Output()"
            ],
            "application/vnd.jupyter.widget-view+json": {
              "version_major": 2,
              "version_minor": 0,
              "model_id": "05ad5040d704416d99aee7868a05de3d"
            }
          },
          "metadata": {}
        },
        {
          "output_type": "display_data",
          "data": {
            "text/plain": [],
            "text/html": [
              "<pre style=\"white-space:pre;overflow-x:auto;line-height:normal;font-family:Menlo,'DejaVu Sans Mono',consolas,'Courier New',monospace\"></pre>\n"
            ]
          },
          "metadata": {}
        },
        {
          "output_type": "display_data",
          "data": {
            "text/plain": [
              "\n"
            ],
            "text/html": [
              "<pre style=\"white-space:pre;overflow-x:auto;line-height:normal;font-family:Menlo,'DejaVu Sans Mono',consolas,'Courier New',monospace\">\n",
              "</pre>\n"
            ]
          },
          "metadata": {}
        },
        {
          "output_type": "display_data",
          "data": {
            "text/plain": [
              "\u001b[2mResponse generated in 11.8s\u001b[0m\n"
            ],
            "text/html": [
              "<pre style=\"white-space:pre;overflow-x:auto;line-height:normal;font-family:Menlo,'DejaVu Sans Mono',consolas,'Courier New',monospace\"><span style=\"color: #7f7f7f; text-decoration-color: #7f7f7f\">Response generated in 11.8s</span>\n",
              "</pre>\n"
            ]
          },
          "metadata": {}
        },
        {
          "output_type": "display_data",
          "data": {
            "text/plain": [
              "\u001b[36m╭─\u001b[0m\u001b[36m───────────────────────────────────────────────────\u001b[0m\u001b[36m Message \u001b[0m\u001b[36m───────────────────────────────────────────────────\u001b[0m\u001b[36m─╮\u001b[0m\n",
              "\u001b[36m│\u001b[0m You need to do the following task: 너는 \"딥러닝\"에 관해서 정보를 찾아주는 agent야.. Expected Output: Complete   \u001b[36m│\u001b[0m\n",
              "\u001b[36m│\u001b[0m the assigned task successfully. Please provide only the final result of your work. Do not add any conversation  \u001b[36m│\u001b[0m\n",
              "\u001b[36m│\u001b[0m or extra explanation.                                                                                           \u001b[36m│\u001b[0m\n",
              "\u001b[36m╰─────────────────────────────────────────────────────────────────────────────────────────────────────────────────╯\u001b[0m\n"
            ],
            "text/html": [
              "<pre style=\"white-space:pre;overflow-x:auto;line-height:normal;font-family:Menlo,'DejaVu Sans Mono',consolas,'Courier New',monospace\"><span style=\"color: #008080; text-decoration-color: #008080\">╭──────────────────────────────────────────────────── Message ────────────────────────────────────────────────────╮</span>\n",
              "<span style=\"color: #008080; text-decoration-color: #008080\">│</span> You need to do the following task: 너는 \"딥러닝\"에 관해서 정보를 찾아주는 agent야.. Expected Output: Complete   <span style=\"color: #008080; text-decoration-color: #008080\">│</span>\n",
              "<span style=\"color: #008080; text-decoration-color: #008080\">│</span> the assigned task successfully. Please provide only the final result of your work. Do not add any conversation  <span style=\"color: #008080; text-decoration-color: #008080\">│</span>\n",
              "<span style=\"color: #008080; text-decoration-color: #008080\">│</span> or extra explanation.                                                                                           <span style=\"color: #008080; text-decoration-color: #008080\">│</span>\n",
              "<span style=\"color: #008080; text-decoration-color: #008080\">╰─────────────────────────────────────────────────────────────────────────────────────────────────────────────────╯</span>\n",
              "</pre>\n"
            ]
          },
          "metadata": {}
        },
        {
          "output_type": "display_data",
          "data": {
            "text/plain": [
              "\u001b[36m╭─\u001b[0m\u001b[36m──────────────────────────────────────────────────\u001b[0m\u001b[36m Response \u001b[0m\u001b[36m───────────────────────────────────────────────────\u001b[0m\u001b[36m─╮\u001b[0m\n",
              "\u001b[36m│\u001b[0m 딥러닝은 인공 신경망을 활용하여 분류, 회귀, 표현 학습 등의 작업을 수행하는 기계 학습의 하위 분야입니다.         \u001b[36m│\u001b[0m\n",
              "\u001b[36m│\u001b[0m 생물학적 신경과학에서 영감을 받아 인공 뉴런을 여러 층으로 쌓아 데이터를 처리하도록 \"훈련\"하는 것이 중심입니다.  \u001b[36m│\u001b[0m\n",
              "\u001b[36m│\u001b[0m \"딥\"이라는 형용사는 여러 층을 사용하는 것을 의미하며, 일반적으로 수백 또는 수천 개의 층을 사용하여 모델을       \u001b[36m│\u001b[0m\n",
              "\u001b[36m│\u001b[0m 훈련합니다. \u001b]8;id=217864;https://en.wikipedia.org/wiki/Deep_learning\u001b\\\u001b[4;34m출처\u001b[0m\u001b]8;;\u001b\\                                                                                                \u001b[36m│\u001b[0m\n",
              "\u001b[36m╰─────────────────────────────────────────────────────────────────────────────────────────────────────────────────╯\u001b[0m\n"
            ],
            "text/html": [
              "<pre style=\"white-space:pre;overflow-x:auto;line-height:normal;font-family:Menlo,'DejaVu Sans Mono',consolas,'Courier New',monospace\"><span style=\"color: #008080; text-decoration-color: #008080\">╭─────────────────────────────────────────────────── Response ────────────────────────────────────────────────────╮</span>\n",
              "<span style=\"color: #008080; text-decoration-color: #008080\">│</span> 딥러닝은 인공 신경망을 활용하여 분류, 회귀, 표현 학습 등의 작업을 수행하는 기계 학습의 하위 분야입니다.         <span style=\"color: #008080; text-decoration-color: #008080\">│</span>\n",
              "<span style=\"color: #008080; text-decoration-color: #008080\">│</span> 생물학적 신경과학에서 영감을 받아 인공 뉴런을 여러 층으로 쌓아 데이터를 처리하도록 \"훈련\"하는 것이 중심입니다.  <span style=\"color: #008080; text-decoration-color: #008080\">│</span>\n",
              "<span style=\"color: #008080; text-decoration-color: #008080\">│</span> \"딥\"이라는 형용사는 여러 층을 사용하는 것을 의미하며, 일반적으로 수백 또는 수천 개의 층을 사용하여 모델을       <span style=\"color: #008080; text-decoration-color: #008080\">│</span>\n",
              "<span style=\"color: #008080; text-decoration-color: #008080\">│</span> 훈련합니다. <a href=\"https://en.wikipedia.org/wiki/Deep_learning\" target=\"_blank\"><span style=\"color: #000080; text-decoration-color: #000080; text-decoration: underline\">출처</span></a>                                                                                                <span style=\"color: #008080; text-decoration-color: #008080\">│</span>\n",
              "<span style=\"color: #008080; text-decoration-color: #008080\">╰─────────────────────────────────────────────────────────────────────────────────────────────────────────────────╯</span>\n",
              "</pre>\n"
            ]
          },
          "metadata": {}
        },
        {
          "output_type": "display_data",
          "data": {
            "text/plain": [
              "\u001b[36m╭─\u001b[0m\u001b[36m─────────────────────────────────────────────────\u001b[0m\u001b[36m Instruction \u001b[0m\u001b[36m─────────────────────────────────────────────────\u001b[0m\u001b[36m─╮\u001b[0m\n",
              "\u001b[36m│\u001b[0m \u001b[1;34mAgent Agent is processing prompt: \u001b[0m                                                                              \u001b[36m│\u001b[0m\n",
              "\u001b[36m│\u001b[0m \u001b[1;34mYou need to do the following task: 너는 요약 agent로 관련된 정보를 찾아서 설명해주는 agent야..\u001b[0m                  \u001b[36m│\u001b[0m\n",
              "\u001b[36m│\u001b[0m \u001b[1;34mExpected Output: Complete the assigned task successfully.\u001b[0m                                                       \u001b[36m│\u001b[0m\n",
              "\u001b[36m│\u001b[0m                                                                                                                 \u001b[36m│\u001b[0m\n",
              "\u001b[36m│\u001b[0m \u001b[1;34mHere are the results of previous tasks that might be useful:\u001b[0m                                                    \u001b[36m│\u001b[0m\n",
              "\u001b[36m│\u001b[0m                                                                                                                 \u001b[36m│\u001b[0m\n",
              "\u001b[36m│\u001b[0m \u001b[1;34mResult of previous task Agent: 딥러닝은 인공 신경망을 활용하여 분류, 회귀, 표현 학습 등의 작업을 수행하는 기계 \u001b[0m \u001b[36m│\u001b[0m\n",
              "\u001b[36m│\u001b[0m \u001b[1;34m학습의 하위 분야입니다. 생물학적 신경과학에서 영감을 받아 인공 뉴런을 여러 층으로 쌓아 데이터를 처리하도록 \u001b[0m     \u001b[36m│\u001b[0m\n",
              "\u001b[36m│\u001b[0m \u001b[1;34m\"훈련\"하는 것이 중심입니다. \"딥\"이라는 형용사는 여러 층을 사용하는 것을 의미하며, 일반적으로 수백 또는 수천 \u001b[0m    \u001b[36m│\u001b[0m\n",
              "\u001b[36m│\u001b[0m \u001b[1;34m개의 층을 사용하여 모델을 훈련합니다. [출처](https://en.wikipedia.org/wiki/Deep_learning)\u001b[0m                       \u001b[36m│\u001b[0m\n",
              "\u001b[36m│\u001b[0m                                                                                                                 \u001b[36m│\u001b[0m\n",
              "\u001b[36m│\u001b[0m \u001b[1;34mPlease provide only the final result of your work. Do not add any conversation or extra explanation.\u001b[0m            \u001b[36m│\u001b[0m\n",
              "\u001b[36m╰─────────────────────────────────────────────────────────────────────────────────────────────────────────────────╯\u001b[0m\n"
            ],
            "text/html": [
              "<pre style=\"white-space:pre;overflow-x:auto;line-height:normal;font-family:Menlo,'DejaVu Sans Mono',consolas,'Courier New',monospace\"><span style=\"color: #008080; text-decoration-color: #008080\">╭────────────────────────────────────────────────── Instruction ──────────────────────────────────────────────────╮</span>\n",
              "<span style=\"color: #008080; text-decoration-color: #008080\">│</span> <span style=\"color: #000080; text-decoration-color: #000080; font-weight: bold\">Agent Agent is processing prompt: </span>                                                                              <span style=\"color: #008080; text-decoration-color: #008080\">│</span>\n",
              "<span style=\"color: #008080; text-decoration-color: #008080\">│</span> <span style=\"color: #000080; text-decoration-color: #000080; font-weight: bold\">You need to do the following task: 너는 요약 agent로 관련된 정보를 찾아서 설명해주는 agent야..</span>                  <span style=\"color: #008080; text-decoration-color: #008080\">│</span>\n",
              "<span style=\"color: #008080; text-decoration-color: #008080\">│</span> <span style=\"color: #000080; text-decoration-color: #000080; font-weight: bold\">Expected Output: Complete the assigned task successfully.</span>                                                       <span style=\"color: #008080; text-decoration-color: #008080\">│</span>\n",
              "<span style=\"color: #008080; text-decoration-color: #008080\">│</span>                                                                                                                 <span style=\"color: #008080; text-decoration-color: #008080\">│</span>\n",
              "<span style=\"color: #008080; text-decoration-color: #008080\">│</span> <span style=\"color: #000080; text-decoration-color: #000080; font-weight: bold\">Here are the results of previous tasks that might be useful:</span>                                                    <span style=\"color: #008080; text-decoration-color: #008080\">│</span>\n",
              "<span style=\"color: #008080; text-decoration-color: #008080\">│</span>                                                                                                                 <span style=\"color: #008080; text-decoration-color: #008080\">│</span>\n",
              "<span style=\"color: #008080; text-decoration-color: #008080\">│</span> <span style=\"color: #000080; text-decoration-color: #000080; font-weight: bold\">Result of previous task Agent: 딥러닝은 인공 신경망을 활용하여 분류, 회귀, 표현 학습 등의 작업을 수행하는 기계 </span> <span style=\"color: #008080; text-decoration-color: #008080\">│</span>\n",
              "<span style=\"color: #008080; text-decoration-color: #008080\">│</span> <span style=\"color: #000080; text-decoration-color: #000080; font-weight: bold\">학습의 하위 분야입니다. 생물학적 신경과학에서 영감을 받아 인공 뉴런을 여러 층으로 쌓아 데이터를 처리하도록 </span>     <span style=\"color: #008080; text-decoration-color: #008080\">│</span>\n",
              "<span style=\"color: #008080; text-decoration-color: #008080\">│</span> <span style=\"color: #000080; text-decoration-color: #000080; font-weight: bold\">\"훈련\"하는 것이 중심입니다. \"딥\"이라는 형용사는 여러 층을 사용하는 것을 의미하며, 일반적으로 수백 또는 수천 </span>    <span style=\"color: #008080; text-decoration-color: #008080\">│</span>\n",
              "<span style=\"color: #008080; text-decoration-color: #008080\">│</span> <span style=\"color: #000080; text-decoration-color: #000080; font-weight: bold\">개의 층을 사용하여 모델을 훈련합니다. [출처](https://en.wikipedia.org/wiki/Deep_learning)</span>                       <span style=\"color: #008080; text-decoration-color: #008080\">│</span>\n",
              "<span style=\"color: #008080; text-decoration-color: #008080\">│</span>                                                                                                                 <span style=\"color: #008080; text-decoration-color: #008080\">│</span>\n",
              "<span style=\"color: #008080; text-decoration-color: #008080\">│</span> <span style=\"color: #000080; text-decoration-color: #000080; font-weight: bold\">Please provide only the final result of your work. Do not add any conversation or extra explanation.</span>            <span style=\"color: #008080; text-decoration-color: #008080\">│</span>\n",
              "<span style=\"color: #008080; text-decoration-color: #008080\">╰─────────────────────────────────────────────────────────────────────────────────────────────────────────────────╯</span>\n",
              "</pre>\n"
            ]
          },
          "metadata": {}
        },
        {
          "output_type": "display_data",
          "data": {
            "text/plain": [
              "Output()"
            ],
            "application/vnd.jupyter.widget-view+json": {
              "version_major": 2,
              "version_minor": 0,
              "model_id": "840a770597c6479eb6dfbd8cd2f84710"
            }
          },
          "metadata": {}
        },
        {
          "output_type": "display_data",
          "data": {
            "text/plain": [],
            "text/html": [
              "<pre style=\"white-space:pre;overflow-x:auto;line-height:normal;font-family:Menlo,'DejaVu Sans Mono',consolas,'Courier New',monospace\"></pre>\n"
            ]
          },
          "metadata": {}
        },
        {
          "output_type": "display_data",
          "data": {
            "text/plain": [
              "\n"
            ],
            "text/html": [
              "<pre style=\"white-space:pre;overflow-x:auto;line-height:normal;font-family:Menlo,'DejaVu Sans Mono',consolas,'Courier New',monospace\">\n",
              "</pre>\n"
            ]
          },
          "metadata": {}
        },
        {
          "output_type": "display_data",
          "data": {
            "text/plain": [
              "\u001b[2mResponse generated in 6.2s\u001b[0m\n"
            ],
            "text/html": [
              "<pre style=\"white-space:pre;overflow-x:auto;line-height:normal;font-family:Menlo,'DejaVu Sans Mono',consolas,'Courier New',monospace\"><span style=\"color: #7f7f7f; text-decoration-color: #7f7f7f\">Response generated in 6.2s</span>\n",
              "</pre>\n"
            ]
          },
          "metadata": {}
        },
        {
          "output_type": "display_data",
          "data": {
            "text/plain": [
              "\u001b[36m╭─\u001b[0m\u001b[36m───────────────────────────────────────────────────\u001b[0m\u001b[36m Message \u001b[0m\u001b[36m───────────────────────────────────────────────────\u001b[0m\u001b[36m─╮\u001b[0m\n",
              "\u001b[36m│\u001b[0m You need to do the following task: 너는 요약 agent로 관련된 정보를 찾아서 설명해주는 agent야.. Expected Output: \u001b[36m│\u001b[0m\n",
              "\u001b[36m│\u001b[0m Complete the assigned task successfully.                                                                        \u001b[36m│\u001b[0m\n",
              "\u001b[36m│\u001b[0m                                                                                                                 \u001b[36m│\u001b[0m\n",
              "\u001b[36m│\u001b[0m Here are the results of previous tasks that might be useful:                                                    \u001b[36m│\u001b[0m\n",
              "\u001b[36m│\u001b[0m                                                                                                                 \u001b[36m│\u001b[0m\n",
              "\u001b[36m│\u001b[0m Result of previous task Agent: 딥러닝은 인공 신경망을 활용하여 분류, 회귀, 표현 학습 등의 작업을 수행하는 기계  \u001b[36m│\u001b[0m\n",
              "\u001b[36m│\u001b[0m 학습의 하위 분야입니다. 생물학적 신경과학에서 영감을 받아 인공 뉴런을 여러 층으로 쌓아 데이터를 처리하도록      \u001b[36m│\u001b[0m\n",
              "\u001b[36m│\u001b[0m \"훈련\"하는 것이 중심입니다. \"딥\"이라는 형용사는 여러 층을 사용하는 것을 의미하며, 일반적으로 수백 또는 수천     \u001b[36m│\u001b[0m\n",
              "\u001b[36m│\u001b[0m 개의 층을 사용하여 모델을 훈련합니다. \u001b]8;id=892390;https://en.wikipedia.org/wiki/Deep_learning\u001b\\\u001b[4;34m출처\u001b[0m\u001b]8;;\u001b\\                                                                      \u001b[36m│\u001b[0m\n",
              "\u001b[36m│\u001b[0m                                                                                                                 \u001b[36m│\u001b[0m\n",
              "\u001b[36m│\u001b[0m Please provide only the final result of your work. Do not add any conversation or extra explanation.            \u001b[36m│\u001b[0m\n",
              "\u001b[36m╰─────────────────────────────────────────────────────────────────────────────────────────────────────────────────╯\u001b[0m\n"
            ],
            "text/html": [
              "<pre style=\"white-space:pre;overflow-x:auto;line-height:normal;font-family:Menlo,'DejaVu Sans Mono',consolas,'Courier New',monospace\"><span style=\"color: #008080; text-decoration-color: #008080\">╭──────────────────────────────────────────────────── Message ────────────────────────────────────────────────────╮</span>\n",
              "<span style=\"color: #008080; text-decoration-color: #008080\">│</span> You need to do the following task: 너는 요약 agent로 관련된 정보를 찾아서 설명해주는 agent야.. Expected Output: <span style=\"color: #008080; text-decoration-color: #008080\">│</span>\n",
              "<span style=\"color: #008080; text-decoration-color: #008080\">│</span> Complete the assigned task successfully.                                                                        <span style=\"color: #008080; text-decoration-color: #008080\">│</span>\n",
              "<span style=\"color: #008080; text-decoration-color: #008080\">│</span>                                                                                                                 <span style=\"color: #008080; text-decoration-color: #008080\">│</span>\n",
              "<span style=\"color: #008080; text-decoration-color: #008080\">│</span> Here are the results of previous tasks that might be useful:                                                    <span style=\"color: #008080; text-decoration-color: #008080\">│</span>\n",
              "<span style=\"color: #008080; text-decoration-color: #008080\">│</span>                                                                                                                 <span style=\"color: #008080; text-decoration-color: #008080\">│</span>\n",
              "<span style=\"color: #008080; text-decoration-color: #008080\">│</span> Result of previous task Agent: 딥러닝은 인공 신경망을 활용하여 분류, 회귀, 표현 학습 등의 작업을 수행하는 기계  <span style=\"color: #008080; text-decoration-color: #008080\">│</span>\n",
              "<span style=\"color: #008080; text-decoration-color: #008080\">│</span> 학습의 하위 분야입니다. 생물학적 신경과학에서 영감을 받아 인공 뉴런을 여러 층으로 쌓아 데이터를 처리하도록      <span style=\"color: #008080; text-decoration-color: #008080\">│</span>\n",
              "<span style=\"color: #008080; text-decoration-color: #008080\">│</span> \"훈련\"하는 것이 중심입니다. \"딥\"이라는 형용사는 여러 층을 사용하는 것을 의미하며, 일반적으로 수백 또는 수천     <span style=\"color: #008080; text-decoration-color: #008080\">│</span>\n",
              "<span style=\"color: #008080; text-decoration-color: #008080\">│</span> 개의 층을 사용하여 모델을 훈련합니다. <a href=\"https://en.wikipedia.org/wiki/Deep_learning\" target=\"_blank\"><span style=\"color: #000080; text-decoration-color: #000080; text-decoration: underline\">출처</span></a>                                                                      <span style=\"color: #008080; text-decoration-color: #008080\">│</span>\n",
              "<span style=\"color: #008080; text-decoration-color: #008080\">│</span>                                                                                                                 <span style=\"color: #008080; text-decoration-color: #008080\">│</span>\n",
              "<span style=\"color: #008080; text-decoration-color: #008080\">│</span> Please provide only the final result of your work. Do not add any conversation or extra explanation.            <span style=\"color: #008080; text-decoration-color: #008080\">│</span>\n",
              "<span style=\"color: #008080; text-decoration-color: #008080\">╰─────────────────────────────────────────────────────────────────────────────────────────────────────────────────╯</span>\n",
              "</pre>\n"
            ]
          },
          "metadata": {}
        },
        {
          "output_type": "display_data",
          "data": {
            "text/plain": [
              "\u001b[36m╭─\u001b[0m\u001b[36m──────────────────────────────────────────────────\u001b[0m\u001b[36m Response \u001b[0m\u001b[36m───────────────────────────────────────────────────\u001b[0m\u001b[36m─╮\u001b[0m\n",
              "\u001b[36m│\u001b[0m 딥러닝은 인공 신경망을 활용하여 분류, 회귀, 표현 학습 등의 작업을 수행하는 기계 학습의 하위 분야입니다.         \u001b[36m│\u001b[0m\n",
              "\u001b[36m│\u001b[0m 생물학적 신경과학에서 영감을 받아 인공 뉴런을 여러 층으로 쌓아 데이터를 처리하도록 \"훈련\"하는 것이 중심입니다.  \u001b[36m│\u001b[0m\n",
              "\u001b[36m│\u001b[0m \"딥\"이라는 형용사는 여러 층을 사용하는 것을 의미하며, 일반적으로 수백 또는 수천 개의 층을 사용하여 모델을       \u001b[36m│\u001b[0m\n",
              "\u001b[36m│\u001b[0m 훈련합니다. \u001b]8;id=318054;https://en.wikipedia.org/wiki/Deep_learning\u001b\\\u001b[4;34m출처\u001b[0m\u001b]8;;\u001b\\                                                                                                \u001b[36m│\u001b[0m\n",
              "\u001b[36m╰─────────────────────────────────────────────────────────────────────────────────────────────────────────────────╯\u001b[0m\n"
            ],
            "text/html": [
              "<pre style=\"white-space:pre;overflow-x:auto;line-height:normal;font-family:Menlo,'DejaVu Sans Mono',consolas,'Courier New',monospace\"><span style=\"color: #008080; text-decoration-color: #008080\">╭─────────────────────────────────────────────────── Response ────────────────────────────────────────────────────╮</span>\n",
              "<span style=\"color: #008080; text-decoration-color: #008080\">│</span> 딥러닝은 인공 신경망을 활용하여 분류, 회귀, 표현 학습 등의 작업을 수행하는 기계 학습의 하위 분야입니다.         <span style=\"color: #008080; text-decoration-color: #008080\">│</span>\n",
              "<span style=\"color: #008080; text-decoration-color: #008080\">│</span> 생물학적 신경과학에서 영감을 받아 인공 뉴런을 여러 층으로 쌓아 데이터를 처리하도록 \"훈련\"하는 것이 중심입니다.  <span style=\"color: #008080; text-decoration-color: #008080\">│</span>\n",
              "<span style=\"color: #008080; text-decoration-color: #008080\">│</span> \"딥\"이라는 형용사는 여러 층을 사용하는 것을 의미하며, 일반적으로 수백 또는 수천 개의 층을 사용하여 모델을       <span style=\"color: #008080; text-decoration-color: #008080\">│</span>\n",
              "<span style=\"color: #008080; text-decoration-color: #008080\">│</span> 훈련합니다. <a href=\"https://en.wikipedia.org/wiki/Deep_learning\" target=\"_blank\"><span style=\"color: #000080; text-decoration-color: #000080; text-decoration: underline\">출처</span></a>                                                                                                <span style=\"color: #008080; text-decoration-color: #008080\">│</span>\n",
              "<span style=\"color: #008080; text-decoration-color: #008080\">╰─────────────────────────────────────────────────────────────────────────────────────────────────────────────────╯</span>\n",
              "</pre>\n"
            ]
          },
          "metadata": {}
        },
        {
          "name": "stdout",
          "output_type": "stream",
          "text": [
            "조사할 주제를 입력하세요 (종료하려면 'exit' 입력): 뉴런 네트워크\n"
          ]
        },
        {
          "output_type": "display_data",
          "data": {
            "text/plain": [
              "\u001b[36m╭─\u001b[0m\u001b[36m───────────────────────────────────────────\u001b[0m\u001b[36m Instruction \u001b[0m\u001b[36m────────────────────────────────────────────\u001b[0m\u001b[36m─╮\u001b[0m\n",
              "\u001b[36m│\u001b[0m \u001b[1;34mAgent Agent is processing prompt: \u001b[0m                                                                   \u001b[36m│\u001b[0m\n",
              "\u001b[36m│\u001b[0m \u001b[1;34mYou need to do the following task: 너는 \"뉴런 네트워크\"에 관해서 정보를 찾아주는 agent야..\u001b[0m           \u001b[36m│\u001b[0m\n",
              "\u001b[36m│\u001b[0m \u001b[1;34mExpected Output: Complete the assigned task successfully.\u001b[0m                                            \u001b[36m│\u001b[0m\n",
              "\u001b[36m│\u001b[0m \u001b[1;34mPlease provide only the final result of your work. Do not add any conversation or extra explanation.\u001b[0m \u001b[36m│\u001b[0m\n",
              "\u001b[36m╰──────────────────────────────────────────────────────────────────────────────────────────────────────╯\u001b[0m\n"
            ],
            "text/html": [
              "<pre style=\"white-space:pre;overflow-x:auto;line-height:normal;font-family:Menlo,'DejaVu Sans Mono',consolas,'Courier New',monospace\"><span style=\"color: #008080; text-decoration-color: #008080\">╭──────────────────────────────────────────── Instruction ─────────────────────────────────────────────╮</span>\n",
              "<span style=\"color: #008080; text-decoration-color: #008080\">│</span> <span style=\"color: #000080; text-decoration-color: #000080; font-weight: bold\">Agent Agent is processing prompt: </span>                                                                   <span style=\"color: #008080; text-decoration-color: #008080\">│</span>\n",
              "<span style=\"color: #008080; text-decoration-color: #008080\">│</span> <span style=\"color: #000080; text-decoration-color: #000080; font-weight: bold\">You need to do the following task: 너는 \"뉴런 네트워크\"에 관해서 정보를 찾아주는 agent야..</span>           <span style=\"color: #008080; text-decoration-color: #008080\">│</span>\n",
              "<span style=\"color: #008080; text-decoration-color: #008080\">│</span> <span style=\"color: #000080; text-decoration-color: #000080; font-weight: bold\">Expected Output: Complete the assigned task successfully.</span>                                            <span style=\"color: #008080; text-decoration-color: #008080\">│</span>\n",
              "<span style=\"color: #008080; text-decoration-color: #008080\">│</span> <span style=\"color: #000080; text-decoration-color: #000080; font-weight: bold\">Please provide only the final result of your work. Do not add any conversation or extra explanation.</span> <span style=\"color: #008080; text-decoration-color: #008080\">│</span>\n",
              "<span style=\"color: #008080; text-decoration-color: #008080\">╰──────────────────────────────────────────────────────────────────────────────────────────────────────╯</span>\n",
              "</pre>\n"
            ]
          },
          "metadata": {}
        },
        {
          "output_type": "display_data",
          "data": {
            "text/plain": [
              "\u001b[32m╭─\u001b[0m\u001b[32m────────────────────────────────────────\u001b[0m\u001b[32m Tool Call \u001b[0m\u001b[32m─────────────────────────────────────────\u001b[0m\u001b[32m─╮\u001b[0m\n",
              "\u001b[32m│\u001b[0m \u001b[1;36mAgent Agent is calling function 'internet_search' with arguments: {'query': '뉴런 네트워크'}\u001b[0m \u001b[32m│\u001b[0m\n",
              "\u001b[32m╰──────────────────────────────────────────────────────────────────────────────────────────────╯\u001b[0m\n"
            ],
            "text/html": [
              "<pre style=\"white-space:pre;overflow-x:auto;line-height:normal;font-family:Menlo,'DejaVu Sans Mono',consolas,'Courier New',monospace\"><span style=\"color: #008000; text-decoration-color: #008000\">╭───────────────────────────────────────── Tool Call ──────────────────────────────────────────╮</span>\n",
              "<span style=\"color: #008000; text-decoration-color: #008000\">│</span> <span style=\"color: #008080; text-decoration-color: #008080; font-weight: bold\">Agent Agent is calling function 'internet_search' with arguments: {'query': '뉴런 네트워크'}</span> <span style=\"color: #008000; text-decoration-color: #008000\">│</span>\n",
              "<span style=\"color: #008000; text-decoration-color: #008000\">╰──────────────────────────────────────────────────────────────────────────────────────────────╯</span>\n",
              "</pre>\n"
            ]
          },
          "metadata": {}
        },
        {
          "output_type": "display_data",
          "data": {
            "text/plain": [
              "\u001b[32m╭─\u001b[0m\u001b[32m──────────────────────────────────────────────────\u001b[0m\u001b[32m Tool Call \u001b[0m\u001b[32m──────────────────────────────────────────────────\u001b[0m\u001b[32m─╮\u001b[0m\n",
              "\u001b[32m│\u001b[0m \u001b[1;36mFunction 'internet_search' returned: [{\"title\": \"\\uc778\\uacf5\\uc2e0\\uacbd\\ub9dd \\uac1c\\ub150(Neural Network) - \u001b[0m \u001b[32m│\u001b[0m\n",
              "\u001b[32m│\u001b[0m \u001b[1;36m\\ube0c\\ub7f0\\uce58\", \"url\": \"https://brunch.co.kr/@gdhan/6\", \"snippet\": \"\\ub274\\ub7f4 \u001b[0m                          \u001b[32m│\u001b[0m\n",
              "\u001b[32m│\u001b[0m \u001b[1;36m\\ub124\\ud2b8\\uc6cc\\ud06c(\\ucc38\\uace06) \\ub274\\ub7f4 \\ub124\\ud2b8\\uc6cc\\ud06c(\\ucc38\\uace07) \u001b[0m                   \u001b[32m│\u001b[0m\n",
              "\u001b[32m│\u001b[0m \u001b[1;36m\\uc778\\uacf5\\uc2e0\\uacbd\\ub9dd \\ubc1c\\uc804 \\uc5ed\\uc0ac, \\ud37c\\uc149\\ud2b8\\ub860(Perceptron), MLP. \u001b[0m           \u001b[32m│\u001b[0m\n",
              "\u001b[32m│\u001b[0m \u001b[1;36m\\uc778\\uacf5\\uc2e0\\uacbd\\ub9dd\\uc740 1943\\ub144\\uc5d0 Warren McCulloch\\uc640 Walter Pitts\\uac00 \u001b[0m                \u001b[32m│\u001b[0m\n",
              "\u001b[32m│\u001b[0m \u001b[1;36m\\ubc1c\\ud45c\\ud55c \\ub17c\\ubb38(A logical calculus of the ideas immanent in nervous activity)\\uc5d0\\uc11c \u001b[0m      \u001b[32m│\u001b[0m\n",
              "\u001b[32m│\u001b[0m \u001b[1;36m\\uc778\\uac04\\uc758 \\uc2e0\\uacbd \\uad6c\\uc870\\ub97c \\ubcf5\\uc7a1\\ud55c \\uc2a4\\uc704\\uce58\\ub4e4\\uc774 \u001b[0m           \u001b[32m│\u001b[0m\n",
              "\u001b[32m│\u001b[0m \u001b[1;36m\\uc5f0\\uacb0\\ub41c ...\"}, {\"title\": \"\\uc778\\uacf5 \\uc2e0\\uacbd\\ub9dd - \\uc704\\ud0a4\\ubc31\\uacfc, \\uc6b0\\ub9ac \u001b[0m  \u001b[32m│\u001b[0m\n",
              "\u001b[32m│\u001b[0m \u001b[1;36m\\ubaa8\\ub450\\uc758 \\ubc31\\uacfc\\uc0ac\\uc804\", \"url\": \u001b[0m                                                           \u001b[32m│\u001b[0m\n",
              "\u001b[32m│\u001b[0m \u001b[1;36m\"https://ko.wikipedia.org/wiki/\\uc778\\uacf5_\\uc2e0\\uacbd\\ub9dd\", \"snippet\": \"\\ubc94\\uc8fc \\ub300\\uc0c1 \u001b[0m         \u001b[32m│\u001b[0m\n",
              "\u001b[32m│\u001b[0m \u001b[1;36m\\ubcc0\\uc218\\ub97c \\uc704\\ud55c \\uc2e0\\uacbd\\ub9dd (\\ub610\\ub294 \\ucef4\\ud3ec\\ub10c\\ud2b8 \\uae30\\ubc18 \u001b[0m         \u001b[32m│\u001b[0m\n",
              "\u001b[32m│\u001b[0m \u001b[1;36m\\ub274\\ub7f4 \\ub124\\ud2b8\\uc6cc\\ud06c\\uc5d0\\uc11c softmax \\uc131\\ubd84)\\uc758 \\ucd9c\\ub825\\uce35\\uc5d0 softmax \u001b[0m \u001b[32m│\u001b[0m\n",
              "\u001b[32m│\u001b[0m \u001b[1;36m\\ud65c\\uc131\\ud654 \\ud568\\uc218, \\uc989 \\ub85c\\uc9c0\\uc2a4\\ud2f1 \\ubc29\\uc815\\uc2dd\\uc758 \u001b[0m                      \u001b[32m│\u001b[0m\n",
              "\u001b[32m│\u001b[0m \u001b[1;36m\\uc77c\\ubc18\\ud654\\ub97c \\ud560\\ub2f9\\ud558\\uc5ec, \\ucd9c\\ub825\\uc740 \\uc0ac\\ud6c4 \\ud655\\ub960\\ub85c \u001b[0m          \u001b[32m│\u001b[0m\n",
              "\u001b[32m│\u001b[0m \u001b[1;36m\\ud574\\uc11d \\ub420 \\uc218 \\uc788\\ub2e4. \\uc774\\uac83\\uc740 \\ubd84\\ub958\\ud560 \\ub54c \\ud655\\uc2e4\\ud55c \u001b[0m       \u001b[32m│\u001b[0m\n",
              "\u001b[32m│\u001b[0m \u001b[1;36m\\uce21\\uc815\\uac12\\uc744 \\uc8fc\\uae30 \\ub54c\\ubb38\\uc5d0 \\uc774\\uc5d0 \\ub9e4\\uc6b0 \\uc720\\uc6a9 ...\"}, \u001b[0m         \u001b[32m│\u001b[0m\n",
              "\u001b[32m│\u001b[0m \u001b[1;36m{\"title\": \"Neural network - Wikipedia\", \"url\": \"https://en.wikipedia.org/wiki/Neural_network\", \"snippet\": \u001b[0m      \u001b[32m│\u001b[0m\n",
              "\u001b[32m│\u001b[0m \u001b[1;36m\"Schematic of a simple feedforward artificial neural network. In machine learning, a neural network is an \u001b[0m      \u001b[32m│\u001b[0m\n",
              "\u001b[32m│\u001b[0m \u001b[1;36martificial mathematical model used to approximate nonlinear functions. While early artificial neural networks \u001b[0m  \u001b[32m│\u001b[0m\n",
              "\u001b[32m│\u001b[0m \u001b[1;36mwere physical machines, [3] today they are almost always implemented in software. Neurons in an artificial \u001b[0m     \u001b[32m│\u001b[0m\n",
              "\u001b[32m│\u001b[0m \u001b[1;36mneural network are usually arranged into layers, with information passing ...\"}, {\"title\": \"\\ub274\\ub7f4 \u001b[0m       \u001b[32m│\u001b[0m\n",
              "\u001b[32m│\u001b[0m \u001b[1;36m\\ub124\\ud2b8\\uc6cc\\ud06c(Neural Networks)\\uc758 \\uac1c\\ub150\", \"url\": \u001b[0m                                          \u001b[32m│\u001b[0m\n",
              "\u001b[32m│\u001b[0m \u001b[1;36m\"https://healthy119.tistory.com/entry/\\ub274\\ub7f4-\\ub124\\ud2b8\\uc6cc\\ud06cNeural-Networks\\uc758-\\uac1c\\ub150\",\u001b[0m \u001b[32m│\u001b[0m\n",
              "\u001b[32m│\u001b[0m \u001b[1;36m\"snippet\": \"\\ub274\\ub7f4\\ub274\\ub7f4 \\ub124\\ud2b8\\uc6cc\\ud06c(Neural Networks)\\ub294 \u001b[0m                           \u001b[32m│\u001b[0m\n",
              "\u001b[32m│\u001b[0m \u001b[1;36m\\uc778\\uacf5\\uc9c0\\ub2a5\\uacfc \\uba38\\uc2e0\\ub7ec\\ub2dd\\uc758 \\ud575\\uc2ec \\uae30\\uc220 \\uc911 \u001b[0m                 \u001b[32m│\u001b[0m\n",
              "\u001b[32m│\u001b[0m \u001b[1;36m\\ud558\\ub098\\ub85c, \\uc778\\uac04\\uc758 \\ub1cc \\uad6c\\uc870\\ub97c \\ubaa8\\ubc29\\ud55c \\uacc4\\uc0b0 \u001b[0m               \u001b[32m│\u001b[0m\n",
              "\u001b[32m│\u001b[0m \u001b[1;36m\\ubaa8\\ub378\\uc785\\ub2c8\\ub2e4. \\ub274\\ub7f4 \\ub124\\ud2b8\\uc6cc\\ud06c\\ub294 \\ubcf5\\uc7a1\\ud55c \u001b[0m                 \u001b[32m│\u001b[0m\n",
              "\u001b[32m│\u001b[0m \u001b[1;36m\\ub370\\uc774\\ud130\\uc758 \\ud328\\ud134\\uc744 \\uc778\\uc2dd\\ud558\\uace0, \\ud559\\uc2b5\\ud558\\uc5ec \\uc608\\uce21, \u001b[0m   \u001b[32m│\u001b[0m\n",
              "\u001b[32m│\u001b[0m \u001b[1;36m\\ubd84\\ub958, \\ud68c\\uadc0 \\ub4f1 \\ub2e4\\uc591\\ud55c \\uc791\\uc5c5\\uc744 \\uc218\\ud589\\ud560 \\uc218 \u001b[0m              \u001b[32m│\u001b[0m\n",
              "\u001b[32m│\u001b[0m \u001b[1;36m\\uc788\\uc2b5\\ub2c8\\ub2e4. \\uc774 \\uae00\\uc5d0\\uc11c\\ub294 \\ub274\\ub7f4 \\ub124\\ud2b8\\uc6cc\\ud06c\\uc758 \u001b[0m          \u001b[32m│\u001b[0m\n",
              "\u001b[32m│\u001b[0m \u001b[1;36m\\uac1c\\ub150, \\uad6c\\uc870, \\uc791\\ub3d9 \\uc6d0\\ub9ac ...\"}, {\"title\": \"\\uc778\\uacf5 \\uc2e0\\uacbd\\ub9dd(Ann) \u001b[0m   \u001b[32m│\u001b[0m\n",
              "\u001b[32m│\u001b[0m \u001b[1;36m\\uac1c\\ub150 \\ubc0f \\uc791\\ub3d9 \\ubc29\\uc2dd : \\ub124\\uc774\\ubc84 \\ube14\\ub85c\\uadf8\", \"url\": \u001b[0m                 \u001b[32m│\u001b[0m\n",
              "\u001b[32m│\u001b[0m \u001b[1;36m\"https://m.blog.naver.com/wiss_00/223094961155\", \"snippet\": \"\\uc778\\uac04 \\ub450\\ub1cc\\ub294 \\uc2e0 \u001b[0m            \u001b[32m│\u001b[0m\n",
              "\u001b[32m│\u001b[0m \u001b[1;36m\\uacbd\\uc138\\ud3ec(=\\ub274\\ub7f0)\\ub4e4\\uc774 \\ubcd1\\ub82c\\uc801\\uc73c\\ub85c \\uc5f0\\uacb0\\ub418\\uc5b4 \u001b[0m          \u001b[32m│\u001b[0m\n",
              "\u001b[32m│\u001b[0m \u001b[1;36m\\uc804\\uae30\\uc2e0\\ud638\\ub97c \\uc804\\ub2ec\\ud55c\\ub2e4. \\uc774\\ub7ec\\ud55c \\ubaa8\\uc2b5\\uc5d0 \u001b[0m                 \u001b[32m│\u001b[0m\n",
              "\u001b[32m│\u001b[0m \u001b[1;36m\\uc601\\uac10\\uc744 \\ubc1b\\uc544 \\uc218\\ud559\\uc801\\uc73c\\ub85c \\ubaa8\\ub378\\ub9c1\\ud55c \\uac83\\uc774 \u001b[0m           \u001b[32m│\u001b[0m\n",
              "\u001b[32m│\u001b[0m \u001b[1;36m\\uc778\\uacf5 \\uc2e0\\uacbd\\ub9dd(Artificial Neural Network, ANN)\\uc774\\ub2e4. ... \\ub124\\ud2b8\\uc6cc\\ud06c \u001b[0m      \u001b[32m│\u001b[0m\n",
              "\u001b[32m│\u001b[0m \u001b[1;36m\\ud615\\ud0dc\\uc5d0 \\ub530\\ub978 \\uc778\\uacf5 \\uc2e0\\uacbd\\ub9dd \\uad6c\\ubd84 ...\"}]\u001b[0m                             \u001b[32m│\u001b[0m\n",
              "\u001b[32m╰─────────────────────────────────────────────────────────────────────────────────────────────────────────────────╯\u001b[0m\n"
            ],
            "text/html": [
              "<pre style=\"white-space:pre;overflow-x:auto;line-height:normal;font-family:Menlo,'DejaVu Sans Mono',consolas,'Courier New',monospace\"><span style=\"color: #008000; text-decoration-color: #008000\">╭─────────────────────────────────────────────────── Tool Call ───────────────────────────────────────────────────╮</span>\n",
              "<span style=\"color: #008000; text-decoration-color: #008000\">│</span> <span style=\"color: #008080; text-decoration-color: #008080; font-weight: bold\">Function 'internet_search' returned: [{\"title\": \"\\uc778\\uacf5\\uc2e0\\uacbd\\ub9dd \\uac1c\\ub150(Neural Network) - </span> <span style=\"color: #008000; text-decoration-color: #008000\">│</span>\n",
              "<span style=\"color: #008000; text-decoration-color: #008000\">│</span> <span style=\"color: #008080; text-decoration-color: #008080; font-weight: bold\">\\ube0c\\ub7f0\\uce58\", \"url\": \"https://brunch.co.kr/@gdhan/6\", \"snippet\": \"\\ub274\\ub7f4 </span>                          <span style=\"color: #008000; text-decoration-color: #008000\">│</span>\n",
              "<span style=\"color: #008000; text-decoration-color: #008000\">│</span> <span style=\"color: #008080; text-decoration-color: #008080; font-weight: bold\">\\ub124\\ud2b8\\uc6cc\\ud06c(\\ucc38\\uace06) \\ub274\\ub7f4 \\ub124\\ud2b8\\uc6cc\\ud06c(\\ucc38\\uace07) </span>                   <span style=\"color: #008000; text-decoration-color: #008000\">│</span>\n",
              "<span style=\"color: #008000; text-decoration-color: #008000\">│</span> <span style=\"color: #008080; text-decoration-color: #008080; font-weight: bold\">\\uc778\\uacf5\\uc2e0\\uacbd\\ub9dd \\ubc1c\\uc804 \\uc5ed\\uc0ac, \\ud37c\\uc149\\ud2b8\\ub860(Perceptron), MLP. </span>           <span style=\"color: #008000; text-decoration-color: #008000\">│</span>\n",
              "<span style=\"color: #008000; text-decoration-color: #008000\">│</span> <span style=\"color: #008080; text-decoration-color: #008080; font-weight: bold\">\\uc778\\uacf5\\uc2e0\\uacbd\\ub9dd\\uc740 1943\\ub144\\uc5d0 Warren McCulloch\\uc640 Walter Pitts\\uac00 </span>                <span style=\"color: #008000; text-decoration-color: #008000\">│</span>\n",
              "<span style=\"color: #008000; text-decoration-color: #008000\">│</span> <span style=\"color: #008080; text-decoration-color: #008080; font-weight: bold\">\\ubc1c\\ud45c\\ud55c \\ub17c\\ubb38(A logical calculus of the ideas immanent in nervous activity)\\uc5d0\\uc11c </span>      <span style=\"color: #008000; text-decoration-color: #008000\">│</span>\n",
              "<span style=\"color: #008000; text-decoration-color: #008000\">│</span> <span style=\"color: #008080; text-decoration-color: #008080; font-weight: bold\">\\uc778\\uac04\\uc758 \\uc2e0\\uacbd \\uad6c\\uc870\\ub97c \\ubcf5\\uc7a1\\ud55c \\uc2a4\\uc704\\uce58\\ub4e4\\uc774 </span>           <span style=\"color: #008000; text-decoration-color: #008000\">│</span>\n",
              "<span style=\"color: #008000; text-decoration-color: #008000\">│</span> <span style=\"color: #008080; text-decoration-color: #008080; font-weight: bold\">\\uc5f0\\uacb0\\ub41c ...\"}, {\"title\": \"\\uc778\\uacf5 \\uc2e0\\uacbd\\ub9dd - \\uc704\\ud0a4\\ubc31\\uacfc, \\uc6b0\\ub9ac </span>  <span style=\"color: #008000; text-decoration-color: #008000\">│</span>\n",
              "<span style=\"color: #008000; text-decoration-color: #008000\">│</span> <span style=\"color: #008080; text-decoration-color: #008080; font-weight: bold\">\\ubaa8\\ub450\\uc758 \\ubc31\\uacfc\\uc0ac\\uc804\", \"url\": </span>                                                           <span style=\"color: #008000; text-decoration-color: #008000\">│</span>\n",
              "<span style=\"color: #008000; text-decoration-color: #008000\">│</span> <span style=\"color: #008080; text-decoration-color: #008080; font-weight: bold\">\"https://ko.wikipedia.org/wiki/\\uc778\\uacf5_\\uc2e0\\uacbd\\ub9dd\", \"snippet\": \"\\ubc94\\uc8fc \\ub300\\uc0c1 </span>         <span style=\"color: #008000; text-decoration-color: #008000\">│</span>\n",
              "<span style=\"color: #008000; text-decoration-color: #008000\">│</span> <span style=\"color: #008080; text-decoration-color: #008080; font-weight: bold\">\\ubcc0\\uc218\\ub97c \\uc704\\ud55c \\uc2e0\\uacbd\\ub9dd (\\ub610\\ub294 \\ucef4\\ud3ec\\ub10c\\ud2b8 \\uae30\\ubc18 </span>         <span style=\"color: #008000; text-decoration-color: #008000\">│</span>\n",
              "<span style=\"color: #008000; text-decoration-color: #008000\">│</span> <span style=\"color: #008080; text-decoration-color: #008080; font-weight: bold\">\\ub274\\ub7f4 \\ub124\\ud2b8\\uc6cc\\ud06c\\uc5d0\\uc11c softmax \\uc131\\ubd84)\\uc758 \\ucd9c\\ub825\\uce35\\uc5d0 softmax </span> <span style=\"color: #008000; text-decoration-color: #008000\">│</span>\n",
              "<span style=\"color: #008000; text-decoration-color: #008000\">│</span> <span style=\"color: #008080; text-decoration-color: #008080; font-weight: bold\">\\ud65c\\uc131\\ud654 \\ud568\\uc218, \\uc989 \\ub85c\\uc9c0\\uc2a4\\ud2f1 \\ubc29\\uc815\\uc2dd\\uc758 </span>                      <span style=\"color: #008000; text-decoration-color: #008000\">│</span>\n",
              "<span style=\"color: #008000; text-decoration-color: #008000\">│</span> <span style=\"color: #008080; text-decoration-color: #008080; font-weight: bold\">\\uc77c\\ubc18\\ud654\\ub97c \\ud560\\ub2f9\\ud558\\uc5ec, \\ucd9c\\ub825\\uc740 \\uc0ac\\ud6c4 \\ud655\\ub960\\ub85c </span>          <span style=\"color: #008000; text-decoration-color: #008000\">│</span>\n",
              "<span style=\"color: #008000; text-decoration-color: #008000\">│</span> <span style=\"color: #008080; text-decoration-color: #008080; font-weight: bold\">\\ud574\\uc11d \\ub420 \\uc218 \\uc788\\ub2e4. \\uc774\\uac83\\uc740 \\ubd84\\ub958\\ud560 \\ub54c \\ud655\\uc2e4\\ud55c </span>       <span style=\"color: #008000; text-decoration-color: #008000\">│</span>\n",
              "<span style=\"color: #008000; text-decoration-color: #008000\">│</span> <span style=\"color: #008080; text-decoration-color: #008080; font-weight: bold\">\\uce21\\uc815\\uac12\\uc744 \\uc8fc\\uae30 \\ub54c\\ubb38\\uc5d0 \\uc774\\uc5d0 \\ub9e4\\uc6b0 \\uc720\\uc6a9 ...\"}, </span>         <span style=\"color: #008000; text-decoration-color: #008000\">│</span>\n",
              "<span style=\"color: #008000; text-decoration-color: #008000\">│</span> <span style=\"color: #008080; text-decoration-color: #008080; font-weight: bold\">{\"title\": \"Neural network - Wikipedia\", \"url\": \"https://en.wikipedia.org/wiki/Neural_network\", \"snippet\": </span>      <span style=\"color: #008000; text-decoration-color: #008000\">│</span>\n",
              "<span style=\"color: #008000; text-decoration-color: #008000\">│</span> <span style=\"color: #008080; text-decoration-color: #008080; font-weight: bold\">\"Schematic of a simple feedforward artificial neural network. In machine learning, a neural network is an </span>      <span style=\"color: #008000; text-decoration-color: #008000\">│</span>\n",
              "<span style=\"color: #008000; text-decoration-color: #008000\">│</span> <span style=\"color: #008080; text-decoration-color: #008080; font-weight: bold\">artificial mathematical model used to approximate nonlinear functions. While early artificial neural networks </span>  <span style=\"color: #008000; text-decoration-color: #008000\">│</span>\n",
              "<span style=\"color: #008000; text-decoration-color: #008000\">│</span> <span style=\"color: #008080; text-decoration-color: #008080; font-weight: bold\">were physical machines, [3] today they are almost always implemented in software. Neurons in an artificial </span>     <span style=\"color: #008000; text-decoration-color: #008000\">│</span>\n",
              "<span style=\"color: #008000; text-decoration-color: #008000\">│</span> <span style=\"color: #008080; text-decoration-color: #008080; font-weight: bold\">neural network are usually arranged into layers, with information passing ...\"}, {\"title\": \"\\ub274\\ub7f4 </span>       <span style=\"color: #008000; text-decoration-color: #008000\">│</span>\n",
              "<span style=\"color: #008000; text-decoration-color: #008000\">│</span> <span style=\"color: #008080; text-decoration-color: #008080; font-weight: bold\">\\ub124\\ud2b8\\uc6cc\\ud06c(Neural Networks)\\uc758 \\uac1c\\ub150\", \"url\": </span>                                          <span style=\"color: #008000; text-decoration-color: #008000\">│</span>\n",
              "<span style=\"color: #008000; text-decoration-color: #008000\">│</span> <span style=\"color: #008080; text-decoration-color: #008080; font-weight: bold\">\"https://healthy119.tistory.com/entry/\\ub274\\ub7f4-\\ub124\\ud2b8\\uc6cc\\ud06cNeural-Networks\\uc758-\\uac1c\\ub150\",</span> <span style=\"color: #008000; text-decoration-color: #008000\">│</span>\n",
              "<span style=\"color: #008000; text-decoration-color: #008000\">│</span> <span style=\"color: #008080; text-decoration-color: #008080; font-weight: bold\">\"snippet\": \"\\ub274\\ub7f4\\ub274\\ub7f4 \\ub124\\ud2b8\\uc6cc\\ud06c(Neural Networks)\\ub294 </span>                           <span style=\"color: #008000; text-decoration-color: #008000\">│</span>\n",
              "<span style=\"color: #008000; text-decoration-color: #008000\">│</span> <span style=\"color: #008080; text-decoration-color: #008080; font-weight: bold\">\\uc778\\uacf5\\uc9c0\\ub2a5\\uacfc \\uba38\\uc2e0\\ub7ec\\ub2dd\\uc758 \\ud575\\uc2ec \\uae30\\uc220 \\uc911 </span>                 <span style=\"color: #008000; text-decoration-color: #008000\">│</span>\n",
              "<span style=\"color: #008000; text-decoration-color: #008000\">│</span> <span style=\"color: #008080; text-decoration-color: #008080; font-weight: bold\">\\ud558\\ub098\\ub85c, \\uc778\\uac04\\uc758 \\ub1cc \\uad6c\\uc870\\ub97c \\ubaa8\\ubc29\\ud55c \\uacc4\\uc0b0 </span>               <span style=\"color: #008000; text-decoration-color: #008000\">│</span>\n",
              "<span style=\"color: #008000; text-decoration-color: #008000\">│</span> <span style=\"color: #008080; text-decoration-color: #008080; font-weight: bold\">\\ubaa8\\ub378\\uc785\\ub2c8\\ub2e4. \\ub274\\ub7f4 \\ub124\\ud2b8\\uc6cc\\ud06c\\ub294 \\ubcf5\\uc7a1\\ud55c </span>                 <span style=\"color: #008000; text-decoration-color: #008000\">│</span>\n",
              "<span style=\"color: #008000; text-decoration-color: #008000\">│</span> <span style=\"color: #008080; text-decoration-color: #008080; font-weight: bold\">\\ub370\\uc774\\ud130\\uc758 \\ud328\\ud134\\uc744 \\uc778\\uc2dd\\ud558\\uace0, \\ud559\\uc2b5\\ud558\\uc5ec \\uc608\\uce21, </span>   <span style=\"color: #008000; text-decoration-color: #008000\">│</span>\n",
              "<span style=\"color: #008000; text-decoration-color: #008000\">│</span> <span style=\"color: #008080; text-decoration-color: #008080; font-weight: bold\">\\ubd84\\ub958, \\ud68c\\uadc0 \\ub4f1 \\ub2e4\\uc591\\ud55c \\uc791\\uc5c5\\uc744 \\uc218\\ud589\\ud560 \\uc218 </span>              <span style=\"color: #008000; text-decoration-color: #008000\">│</span>\n",
              "<span style=\"color: #008000; text-decoration-color: #008000\">│</span> <span style=\"color: #008080; text-decoration-color: #008080; font-weight: bold\">\\uc788\\uc2b5\\ub2c8\\ub2e4. \\uc774 \\uae00\\uc5d0\\uc11c\\ub294 \\ub274\\ub7f4 \\ub124\\ud2b8\\uc6cc\\ud06c\\uc758 </span>          <span style=\"color: #008000; text-decoration-color: #008000\">│</span>\n",
              "<span style=\"color: #008000; text-decoration-color: #008000\">│</span> <span style=\"color: #008080; text-decoration-color: #008080; font-weight: bold\">\\uac1c\\ub150, \\uad6c\\uc870, \\uc791\\ub3d9 \\uc6d0\\ub9ac ...\"}, {\"title\": \"\\uc778\\uacf5 \\uc2e0\\uacbd\\ub9dd(Ann) </span>   <span style=\"color: #008000; text-decoration-color: #008000\">│</span>\n",
              "<span style=\"color: #008000; text-decoration-color: #008000\">│</span> <span style=\"color: #008080; text-decoration-color: #008080; font-weight: bold\">\\uac1c\\ub150 \\ubc0f \\uc791\\ub3d9 \\ubc29\\uc2dd : \\ub124\\uc774\\ubc84 \\ube14\\ub85c\\uadf8\", \"url\": </span>                 <span style=\"color: #008000; text-decoration-color: #008000\">│</span>\n",
              "<span style=\"color: #008000; text-decoration-color: #008000\">│</span> <span style=\"color: #008080; text-decoration-color: #008080; font-weight: bold\">\"https://m.blog.naver.com/wiss_00/223094961155\", \"snippet\": \"\\uc778\\uac04 \\ub450\\ub1cc\\ub294 \\uc2e0 </span>            <span style=\"color: #008000; text-decoration-color: #008000\">│</span>\n",
              "<span style=\"color: #008000; text-decoration-color: #008000\">│</span> <span style=\"color: #008080; text-decoration-color: #008080; font-weight: bold\">\\uacbd\\uc138\\ud3ec(=\\ub274\\ub7f0)\\ub4e4\\uc774 \\ubcd1\\ub82c\\uc801\\uc73c\\ub85c \\uc5f0\\uacb0\\ub418\\uc5b4 </span>          <span style=\"color: #008000; text-decoration-color: #008000\">│</span>\n",
              "<span style=\"color: #008000; text-decoration-color: #008000\">│</span> <span style=\"color: #008080; text-decoration-color: #008080; font-weight: bold\">\\uc804\\uae30\\uc2e0\\ud638\\ub97c \\uc804\\ub2ec\\ud55c\\ub2e4. \\uc774\\ub7ec\\ud55c \\ubaa8\\uc2b5\\uc5d0 </span>                 <span style=\"color: #008000; text-decoration-color: #008000\">│</span>\n",
              "<span style=\"color: #008000; text-decoration-color: #008000\">│</span> <span style=\"color: #008080; text-decoration-color: #008080; font-weight: bold\">\\uc601\\uac10\\uc744 \\ubc1b\\uc544 \\uc218\\ud559\\uc801\\uc73c\\ub85c \\ubaa8\\ub378\\ub9c1\\ud55c \\uac83\\uc774 </span>           <span style=\"color: #008000; text-decoration-color: #008000\">│</span>\n",
              "<span style=\"color: #008000; text-decoration-color: #008000\">│</span> <span style=\"color: #008080; text-decoration-color: #008080; font-weight: bold\">\\uc778\\uacf5 \\uc2e0\\uacbd\\ub9dd(Artificial Neural Network, ANN)\\uc774\\ub2e4. ... \\ub124\\ud2b8\\uc6cc\\ud06c </span>      <span style=\"color: #008000; text-decoration-color: #008000\">│</span>\n",
              "<span style=\"color: #008000; text-decoration-color: #008000\">│</span> <span style=\"color: #008080; text-decoration-color: #008080; font-weight: bold\">\\ud615\\ud0dc\\uc5d0 \\ub530\\ub978 \\uc778\\uacf5 \\uc2e0\\uacbd\\ub9dd \\uad6c\\ubd84 ...\"}]</span>                             <span style=\"color: #008000; text-decoration-color: #008000\">│</span>\n",
              "<span style=\"color: #008000; text-decoration-color: #008000\">╰─────────────────────────────────────────────────────────────────────────────────────────────────────────────────╯</span>\n",
              "</pre>\n"
            ]
          },
          "metadata": {}
        },
        {
          "output_type": "display_data",
          "data": {
            "text/plain": [
              "Output()"
            ],
            "application/vnd.jupyter.widget-view+json": {
              "version_major": 2,
              "version_minor": 0,
              "model_id": "06488b634fa84adea08d6d411f373d9f"
            }
          },
          "metadata": {}
        },
        {
          "output_type": "display_data",
          "data": {
            "text/plain": [],
            "text/html": [
              "<pre style=\"white-space:pre;overflow-x:auto;line-height:normal;font-family:Menlo,'DejaVu Sans Mono',consolas,'Courier New',monospace\"></pre>\n"
            ]
          },
          "metadata": {}
        },
        {
          "output_type": "display_data",
          "data": {
            "text/plain": [
              "\n"
            ],
            "text/html": [
              "<pre style=\"white-space:pre;overflow-x:auto;line-height:normal;font-family:Menlo,'DejaVu Sans Mono',consolas,'Courier New',monospace\">\n",
              "</pre>\n"
            ]
          },
          "metadata": {}
        },
        {
          "output_type": "display_data",
          "data": {
            "text/plain": [
              "\u001b[2mResponse generated in 10.5s\u001b[0m\n"
            ],
            "text/html": [
              "<pre style=\"white-space:pre;overflow-x:auto;line-height:normal;font-family:Menlo,'DejaVu Sans Mono',consolas,'Courier New',monospace\"><span style=\"color: #7f7f7f; text-decoration-color: #7f7f7f\">Response generated in 10.5s</span>\n",
              "</pre>\n"
            ]
          },
          "metadata": {}
        },
        {
          "output_type": "display_data",
          "data": {
            "text/plain": [
              "\u001b[36m╭─\u001b[0m\u001b[36m───────────────────────────────────────────────────\u001b[0m\u001b[36m Message \u001b[0m\u001b[36m───────────────────────────────────────────────────\u001b[0m\u001b[36m─╮\u001b[0m\n",
              "\u001b[36m│\u001b[0m You need to do the following task: 너는 \"뉴런 네트워크\"에 관해서 정보를 찾아주는 agent야.. Expected Output:     \u001b[36m│\u001b[0m\n",
              "\u001b[36m│\u001b[0m Complete the assigned task successfully. Please provide only the final result of your work. Do not add any      \u001b[36m│\u001b[0m\n",
              "\u001b[36m│\u001b[0m conversation or extra explanation.                                                                              \u001b[36m│\u001b[0m\n",
              "\u001b[36m╰─────────────────────────────────────────────────────────────────────────────────────────────────────────────────╯\u001b[0m\n"
            ],
            "text/html": [
              "<pre style=\"white-space:pre;overflow-x:auto;line-height:normal;font-family:Menlo,'DejaVu Sans Mono',consolas,'Courier New',monospace\"><span style=\"color: #008080; text-decoration-color: #008080\">╭──────────────────────────────────────────────────── Message ────────────────────────────────────────────────────╮</span>\n",
              "<span style=\"color: #008080; text-decoration-color: #008080\">│</span> You need to do the following task: 너는 \"뉴런 네트워크\"에 관해서 정보를 찾아주는 agent야.. Expected Output:     <span style=\"color: #008080; text-decoration-color: #008080\">│</span>\n",
              "<span style=\"color: #008080; text-decoration-color: #008080\">│</span> Complete the assigned task successfully. Please provide only the final result of your work. Do not add any      <span style=\"color: #008080; text-decoration-color: #008080\">│</span>\n",
              "<span style=\"color: #008080; text-decoration-color: #008080\">│</span> conversation or extra explanation.                                                                              <span style=\"color: #008080; text-decoration-color: #008080\">│</span>\n",
              "<span style=\"color: #008080; text-decoration-color: #008080\">╰─────────────────────────────────────────────────────────────────────────────────────────────────────────────────╯</span>\n",
              "</pre>\n"
            ]
          },
          "metadata": {}
        },
        {
          "output_type": "display_data",
          "data": {
            "text/plain": [
              "\u001b[36m╭─\u001b[0m\u001b[36m──────────────────────────────────────────────────\u001b[0m\u001b[36m Response \u001b[0m\u001b[36m───────────────────────────────────────────────────\u001b[0m\u001b[36m─╮\u001b[0m\n",
              "\u001b[36m│\u001b[0m 뉴런 네트워크(Neural Network)는 인공 지능과 머신러닝의 핵심 기술 중 하나로, 인간의 뇌 구조를 모방한 계산        \u001b[36m│\u001b[0m\n",
              "\u001b[36m│\u001b[0m 모델입니다. 뉴런 네트워크는 복잡한 데이터의 패턴을 인식하고, 학습하여 예측, 분류, 회귀 등 다양한 작업을 수행할  \u001b[36m│\u001b[0m\n",
              "\u001b[36m│\u001b[0m 수 있습니다. 뉴런은 일반적으로 층으로 배열되며, 정보는 입력층에서 출력층으로 전달됩니다. 초기 인공 신경망은     \u001b[36m│\u001b[0m\n",
              "\u001b[36m│\u001b[0m 물리적 기계였으나, 현재는 거의 항상 소프트웨어로 구현됩니다.                                                    \u001b[36m│\u001b[0m\n",
              "\u001b[36m╰─────────────────────────────────────────────────────────────────────────────────────────────────────────────────╯\u001b[0m\n"
            ],
            "text/html": [
              "<pre style=\"white-space:pre;overflow-x:auto;line-height:normal;font-family:Menlo,'DejaVu Sans Mono',consolas,'Courier New',monospace\"><span style=\"color: #008080; text-decoration-color: #008080\">╭─────────────────────────────────────────────────── Response ────────────────────────────────────────────────────╮</span>\n",
              "<span style=\"color: #008080; text-decoration-color: #008080\">│</span> 뉴런 네트워크(Neural Network)는 인공 지능과 머신러닝의 핵심 기술 중 하나로, 인간의 뇌 구조를 모방한 계산        <span style=\"color: #008080; text-decoration-color: #008080\">│</span>\n",
              "<span style=\"color: #008080; text-decoration-color: #008080\">│</span> 모델입니다. 뉴런 네트워크는 복잡한 데이터의 패턴을 인식하고, 학습하여 예측, 분류, 회귀 등 다양한 작업을 수행할  <span style=\"color: #008080; text-decoration-color: #008080\">│</span>\n",
              "<span style=\"color: #008080; text-decoration-color: #008080\">│</span> 수 있습니다. 뉴런은 일반적으로 층으로 배열되며, 정보는 입력층에서 출력층으로 전달됩니다. 초기 인공 신경망은     <span style=\"color: #008080; text-decoration-color: #008080\">│</span>\n",
              "<span style=\"color: #008080; text-decoration-color: #008080\">│</span> 물리적 기계였으나, 현재는 거의 항상 소프트웨어로 구현됩니다.                                                    <span style=\"color: #008080; text-decoration-color: #008080\">│</span>\n",
              "<span style=\"color: #008080; text-decoration-color: #008080\">╰─────────────────────────────────────────────────────────────────────────────────────────────────────────────────╯</span>\n",
              "</pre>\n"
            ]
          },
          "metadata": {}
        },
        {
          "output_type": "display_data",
          "data": {
            "text/plain": [
              "\u001b[36m╭─\u001b[0m\u001b[36m─────────────────────────────────────────────────\u001b[0m\u001b[36m Instruction \u001b[0m\u001b[36m─────────────────────────────────────────────────\u001b[0m\u001b[36m─╮\u001b[0m\n",
              "\u001b[36m│\u001b[0m \u001b[1;34mAgent Agent is processing prompt: \u001b[0m                                                                              \u001b[36m│\u001b[0m\n",
              "\u001b[36m│\u001b[0m \u001b[1;34mYou need to do the following task: 너는 요약 agent로 관련된 정보를 찾아서 설명해주는 agent야..\u001b[0m                  \u001b[36m│\u001b[0m\n",
              "\u001b[36m│\u001b[0m \u001b[1;34mExpected Output: Complete the assigned task successfully.\u001b[0m                                                       \u001b[36m│\u001b[0m\n",
              "\u001b[36m│\u001b[0m                                                                                                                 \u001b[36m│\u001b[0m\n",
              "\u001b[36m│\u001b[0m \u001b[1;34mHere are the results of previous tasks that might be useful:\u001b[0m                                                    \u001b[36m│\u001b[0m\n",
              "\u001b[36m│\u001b[0m                                                                                                                 \u001b[36m│\u001b[0m\n",
              "\u001b[36m│\u001b[0m \u001b[1;34mResult of previous task Agent: 뉴런 네트워크(Neural Network)는 인공 지능과 머신러닝의 핵심 기술 중 하나로, \u001b[0m     \u001b[36m│\u001b[0m\n",
              "\u001b[36m│\u001b[0m \u001b[1;34m인간의 뇌 구조를 모방한 계산 모델입니다. 뉴런 네트워크는 복잡한 데이터의 패턴을 인식하고, 학습하여 예측, 분류, \u001b[0m \u001b[36m│\u001b[0m\n",
              "\u001b[36m│\u001b[0m \u001b[1;34m회귀 등 다양한 작업을 수행할 수 있습니다. 뉴런은 일반적으로 층으로 배열되며, 정보는 입력층에서 출력층으로 \u001b[0m      \u001b[36m│\u001b[0m\n",
              "\u001b[36m│\u001b[0m \u001b[1;34m전달됩니다. 초기 인공 신경망은 물리적 기계였으나, 현재는 거의 항상 소프트웨어로 구현됩니다.\u001b[0m                     \u001b[36m│\u001b[0m\n",
              "\u001b[36m│\u001b[0m                                                                                                                 \u001b[36m│\u001b[0m\n",
              "\u001b[36m│\u001b[0m \u001b[1;34mPlease provide only the final result of your work. Do not add any conversation or extra explanation.\u001b[0m            \u001b[36m│\u001b[0m\n",
              "\u001b[36m╰─────────────────────────────────────────────────────────────────────────────────────────────────────────────────╯\u001b[0m\n"
            ],
            "text/html": [
              "<pre style=\"white-space:pre;overflow-x:auto;line-height:normal;font-family:Menlo,'DejaVu Sans Mono',consolas,'Courier New',monospace\"><span style=\"color: #008080; text-decoration-color: #008080\">╭────────────────────────────────────────────────── Instruction ──────────────────────────────────────────────────╮</span>\n",
              "<span style=\"color: #008080; text-decoration-color: #008080\">│</span> <span style=\"color: #000080; text-decoration-color: #000080; font-weight: bold\">Agent Agent is processing prompt: </span>                                                                              <span style=\"color: #008080; text-decoration-color: #008080\">│</span>\n",
              "<span style=\"color: #008080; text-decoration-color: #008080\">│</span> <span style=\"color: #000080; text-decoration-color: #000080; font-weight: bold\">You need to do the following task: 너는 요약 agent로 관련된 정보를 찾아서 설명해주는 agent야..</span>                  <span style=\"color: #008080; text-decoration-color: #008080\">│</span>\n",
              "<span style=\"color: #008080; text-decoration-color: #008080\">│</span> <span style=\"color: #000080; text-decoration-color: #000080; font-weight: bold\">Expected Output: Complete the assigned task successfully.</span>                                                       <span style=\"color: #008080; text-decoration-color: #008080\">│</span>\n",
              "<span style=\"color: #008080; text-decoration-color: #008080\">│</span>                                                                                                                 <span style=\"color: #008080; text-decoration-color: #008080\">│</span>\n",
              "<span style=\"color: #008080; text-decoration-color: #008080\">│</span> <span style=\"color: #000080; text-decoration-color: #000080; font-weight: bold\">Here are the results of previous tasks that might be useful:</span>                                                    <span style=\"color: #008080; text-decoration-color: #008080\">│</span>\n",
              "<span style=\"color: #008080; text-decoration-color: #008080\">│</span>                                                                                                                 <span style=\"color: #008080; text-decoration-color: #008080\">│</span>\n",
              "<span style=\"color: #008080; text-decoration-color: #008080\">│</span> <span style=\"color: #000080; text-decoration-color: #000080; font-weight: bold\">Result of previous task Agent: 뉴런 네트워크(Neural Network)는 인공 지능과 머신러닝의 핵심 기술 중 하나로, </span>     <span style=\"color: #008080; text-decoration-color: #008080\">│</span>\n",
              "<span style=\"color: #008080; text-decoration-color: #008080\">│</span> <span style=\"color: #000080; text-decoration-color: #000080; font-weight: bold\">인간의 뇌 구조를 모방한 계산 모델입니다. 뉴런 네트워크는 복잡한 데이터의 패턴을 인식하고, 학습하여 예측, 분류, </span> <span style=\"color: #008080; text-decoration-color: #008080\">│</span>\n",
              "<span style=\"color: #008080; text-decoration-color: #008080\">│</span> <span style=\"color: #000080; text-decoration-color: #000080; font-weight: bold\">회귀 등 다양한 작업을 수행할 수 있습니다. 뉴런은 일반적으로 층으로 배열되며, 정보는 입력층에서 출력층으로 </span>      <span style=\"color: #008080; text-decoration-color: #008080\">│</span>\n",
              "<span style=\"color: #008080; text-decoration-color: #008080\">│</span> <span style=\"color: #000080; text-decoration-color: #000080; font-weight: bold\">전달됩니다. 초기 인공 신경망은 물리적 기계였으나, 현재는 거의 항상 소프트웨어로 구현됩니다.</span>                     <span style=\"color: #008080; text-decoration-color: #008080\">│</span>\n",
              "<span style=\"color: #008080; text-decoration-color: #008080\">│</span>                                                                                                                 <span style=\"color: #008080; text-decoration-color: #008080\">│</span>\n",
              "<span style=\"color: #008080; text-decoration-color: #008080\">│</span> <span style=\"color: #000080; text-decoration-color: #000080; font-weight: bold\">Please provide only the final result of your work. Do not add any conversation or extra explanation.</span>            <span style=\"color: #008080; text-decoration-color: #008080\">│</span>\n",
              "<span style=\"color: #008080; text-decoration-color: #008080\">╰─────────────────────────────────────────────────────────────────────────────────────────────────────────────────╯</span>\n",
              "</pre>\n"
            ]
          },
          "metadata": {}
        },
        {
          "output_type": "display_data",
          "data": {
            "text/plain": [
              "Output()"
            ],
            "application/vnd.jupyter.widget-view+json": {
              "version_major": 2,
              "version_minor": 0,
              "model_id": "f20ef3561e994891b2961a8c2eff9c32"
            }
          },
          "metadata": {}
        },
        {
          "output_type": "display_data",
          "data": {
            "text/plain": [],
            "text/html": [
              "<pre style=\"white-space:pre;overflow-x:auto;line-height:normal;font-family:Menlo,'DejaVu Sans Mono',consolas,'Courier New',monospace\"></pre>\n"
            ]
          },
          "metadata": {}
        },
        {
          "output_type": "display_data",
          "data": {
            "text/plain": [
              "\n"
            ],
            "text/html": [
              "<pre style=\"white-space:pre;overflow-x:auto;line-height:normal;font-family:Menlo,'DejaVu Sans Mono',consolas,'Courier New',monospace\">\n",
              "</pre>\n"
            ]
          },
          "metadata": {}
        },
        {
          "output_type": "display_data",
          "data": {
            "text/plain": [
              "\u001b[2mResponse generated in 5.6s\u001b[0m\n"
            ],
            "text/html": [
              "<pre style=\"white-space:pre;overflow-x:auto;line-height:normal;font-family:Menlo,'DejaVu Sans Mono',consolas,'Courier New',monospace\"><span style=\"color: #7f7f7f; text-decoration-color: #7f7f7f\">Response generated in 5.6s</span>\n",
              "</pre>\n"
            ]
          },
          "metadata": {}
        },
        {
          "output_type": "display_data",
          "data": {
            "text/plain": [
              "\u001b[36m╭─\u001b[0m\u001b[36m───────────────────────────────────────────────────\u001b[0m\u001b[36m Message \u001b[0m\u001b[36m───────────────────────────────────────────────────\u001b[0m\u001b[36m─╮\u001b[0m\n",
              "\u001b[36m│\u001b[0m You need to do the following task: 너는 요약 agent로 관련된 정보를 찾아서 설명해주는 agent야.. Expected Output: \u001b[36m│\u001b[0m\n",
              "\u001b[36m│\u001b[0m Complete the assigned task successfully.                                                                        \u001b[36m│\u001b[0m\n",
              "\u001b[36m│\u001b[0m                                                                                                                 \u001b[36m│\u001b[0m\n",
              "\u001b[36m│\u001b[0m Here are the results of previous tasks that might be useful:                                                    \u001b[36m│\u001b[0m\n",
              "\u001b[36m│\u001b[0m                                                                                                                 \u001b[36m│\u001b[0m\n",
              "\u001b[36m│\u001b[0m Result of previous task Agent: 뉴런 네트워크(Neural Network)는 인공 지능과 머신러닝의 핵심 기술 중 하나로,      \u001b[36m│\u001b[0m\n",
              "\u001b[36m│\u001b[0m 인간의 뇌 구조를 모방한 계산 모델입니다. 뉴런 네트워크는 복잡한 데이터의 패턴을 인식하고, 학습하여 예측, 분류,  \u001b[36m│\u001b[0m\n",
              "\u001b[36m│\u001b[0m 회귀 등 다양한 작업을 수행할 수 있습니다. 뉴런은 일반적으로 층으로 배열되며, 정보는 입력층에서 출력층으로       \u001b[36m│\u001b[0m\n",
              "\u001b[36m│\u001b[0m 전달됩니다. 초기 인공 신경망은 물리적 기계였으나, 현재는 거의 항상 소프트웨어로 구현됩니다.                     \u001b[36m│\u001b[0m\n",
              "\u001b[36m│\u001b[0m                                                                                                                 \u001b[36m│\u001b[0m\n",
              "\u001b[36m│\u001b[0m Please provide only the final result of your work. Do not add any conversation or extra explanation.            \u001b[36m│\u001b[0m\n",
              "\u001b[36m╰─────────────────────────────────────────────────────────────────────────────────────────────────────────────────╯\u001b[0m\n"
            ],
            "text/html": [
              "<pre style=\"white-space:pre;overflow-x:auto;line-height:normal;font-family:Menlo,'DejaVu Sans Mono',consolas,'Courier New',monospace\"><span style=\"color: #008080; text-decoration-color: #008080\">╭──────────────────────────────────────────────────── Message ────────────────────────────────────────────────────╮</span>\n",
              "<span style=\"color: #008080; text-decoration-color: #008080\">│</span> You need to do the following task: 너는 요약 agent로 관련된 정보를 찾아서 설명해주는 agent야.. Expected Output: <span style=\"color: #008080; text-decoration-color: #008080\">│</span>\n",
              "<span style=\"color: #008080; text-decoration-color: #008080\">│</span> Complete the assigned task successfully.                                                                        <span style=\"color: #008080; text-decoration-color: #008080\">│</span>\n",
              "<span style=\"color: #008080; text-decoration-color: #008080\">│</span>                                                                                                                 <span style=\"color: #008080; text-decoration-color: #008080\">│</span>\n",
              "<span style=\"color: #008080; text-decoration-color: #008080\">│</span> Here are the results of previous tasks that might be useful:                                                    <span style=\"color: #008080; text-decoration-color: #008080\">│</span>\n",
              "<span style=\"color: #008080; text-decoration-color: #008080\">│</span>                                                                                                                 <span style=\"color: #008080; text-decoration-color: #008080\">│</span>\n",
              "<span style=\"color: #008080; text-decoration-color: #008080\">│</span> Result of previous task Agent: 뉴런 네트워크(Neural Network)는 인공 지능과 머신러닝의 핵심 기술 중 하나로,      <span style=\"color: #008080; text-decoration-color: #008080\">│</span>\n",
              "<span style=\"color: #008080; text-decoration-color: #008080\">│</span> 인간의 뇌 구조를 모방한 계산 모델입니다. 뉴런 네트워크는 복잡한 데이터의 패턴을 인식하고, 학습하여 예측, 분류,  <span style=\"color: #008080; text-decoration-color: #008080\">│</span>\n",
              "<span style=\"color: #008080; text-decoration-color: #008080\">│</span> 회귀 등 다양한 작업을 수행할 수 있습니다. 뉴런은 일반적으로 층으로 배열되며, 정보는 입력층에서 출력층으로       <span style=\"color: #008080; text-decoration-color: #008080\">│</span>\n",
              "<span style=\"color: #008080; text-decoration-color: #008080\">│</span> 전달됩니다. 초기 인공 신경망은 물리적 기계였으나, 현재는 거의 항상 소프트웨어로 구현됩니다.                     <span style=\"color: #008080; text-decoration-color: #008080\">│</span>\n",
              "<span style=\"color: #008080; text-decoration-color: #008080\">│</span>                                                                                                                 <span style=\"color: #008080; text-decoration-color: #008080\">│</span>\n",
              "<span style=\"color: #008080; text-decoration-color: #008080\">│</span> Please provide only the final result of your work. Do not add any conversation or extra explanation.            <span style=\"color: #008080; text-decoration-color: #008080\">│</span>\n",
              "<span style=\"color: #008080; text-decoration-color: #008080\">╰─────────────────────────────────────────────────────────────────────────────────────────────────────────────────╯</span>\n",
              "</pre>\n"
            ]
          },
          "metadata": {}
        },
        {
          "output_type": "display_data",
          "data": {
            "text/plain": [
              "\u001b[36m╭─\u001b[0m\u001b[36m──────────────────────────────────────────────────\u001b[0m\u001b[36m Response \u001b[0m\u001b[36m───────────────────────────────────────────────────\u001b[0m\u001b[36m─╮\u001b[0m\n",
              "\u001b[36m│\u001b[0m 뉴런 네트워크는 인공 지능과 머신러닝의 핵심 기술로, 인간의 뇌 구조를 모방한 계산 모델입니다. 이는 복잡한        \u001b[36m│\u001b[0m\n",
              "\u001b[36m│\u001b[0m 데이터의 패턴을 인식하고 학습하여 예측, 분류, 회귀 등 다양한 작업을 수행할 수 있습니다. 뉴런은 층으로 배열되며, \u001b[36m│\u001b[0m\n",
              "\u001b[36m│\u001b[0m 정보는 입력층에서 출력층으로 전달됩니다. 초기 인공 신경망은 물리적 기계였으나, 현재는 소프트웨어로 구현됩니다.  \u001b[36m│\u001b[0m\n",
              "\u001b[36m╰─────────────────────────────────────────────────────────────────────────────────────────────────────────────────╯\u001b[0m\n"
            ],
            "text/html": [
              "<pre style=\"white-space:pre;overflow-x:auto;line-height:normal;font-family:Menlo,'DejaVu Sans Mono',consolas,'Courier New',monospace\"><span style=\"color: #008080; text-decoration-color: #008080\">╭─────────────────────────────────────────────────── Response ────────────────────────────────────────────────────╮</span>\n",
              "<span style=\"color: #008080; text-decoration-color: #008080\">│</span> 뉴런 네트워크는 인공 지능과 머신러닝의 핵심 기술로, 인간의 뇌 구조를 모방한 계산 모델입니다. 이는 복잡한        <span style=\"color: #008080; text-decoration-color: #008080\">│</span>\n",
              "<span style=\"color: #008080; text-decoration-color: #008080\">│</span> 데이터의 패턴을 인식하고 학습하여 예측, 분류, 회귀 등 다양한 작업을 수행할 수 있습니다. 뉴런은 층으로 배열되며, <span style=\"color: #008080; text-decoration-color: #008080\">│</span>\n",
              "<span style=\"color: #008080; text-decoration-color: #008080\">│</span> 정보는 입력층에서 출력층으로 전달됩니다. 초기 인공 신경망은 물리적 기계였으나, 현재는 소프트웨어로 구현됩니다.  <span style=\"color: #008080; text-decoration-color: #008080\">│</span>\n",
              "<span style=\"color: #008080; text-decoration-color: #008080\">╰─────────────────────────────────────────────────────────────────────────────────────────────────────────────────╯</span>\n",
              "</pre>\n"
            ]
          },
          "metadata": {}
        },
        {
          "output_type": "stream",
          "name": "stdout",
          "text": [
            "조사할 주제를 입력하세요 (종료하려면 'exit' 입력): exit\n",
            "프로그램을 종료합니다.\n"
          ]
        }
      ]
    },
    {
      "cell_type": "code",
      "source": [],
      "metadata": {
        "id": "6-Duqcyosuie"
      },
      "execution_count": null,
      "outputs": []
    }
  ]
}