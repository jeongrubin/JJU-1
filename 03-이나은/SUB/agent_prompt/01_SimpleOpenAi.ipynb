{
  "nbformat": 4,
  "nbformat_minor": 0,
  "metadata": {
    "colab": {
      "provenance": []
    },
    "kernelspec": {
      "name": "python3",
      "display_name": "Python 3"
    },
    "language_info": {
      "name": "python"
    }
  },
  "cells": [
    {
      "cell_type": "code",
      "source": [
        "!pip install -qU langchain_openai"
      ],
      "metadata": {
        "id": "lrePMHqZ64D6"
      },
      "execution_count": null,
      "outputs": []
    },
    {
      "cell_type": "code",
      "source": [
        "!pip install -qU langchain"
      ],
      "metadata": {
        "id": "JU2uMJwGP5tW"
      },
      "execution_count": null,
      "outputs": []
    },
    {
      "cell_type": "code",
      "source": [
        "import os\n",
        "\n",
        "os.environ[\"OPENAI_API_KEY\"] = \"\"\n",
        "os.environ['LANGCHAIN_API_KEY'] = ''\n",
        "os.environ['LANGCHAIN_TRACING_V2'] = 'true'\n",
        "os.environ['LANGCHAIN_ENDPOINT'] = 'https://api.smith.langchain.com'\n",
        "os.environ['LANGCHAIN_PROJECT'] = \"test_JJU_LeeNaEun\""
      ],
      "metadata": {
        "id": "YIZg-DvN7aKI"
      },
      "execution_count": null,
      "outputs": []
    },
    {
      "cell_type": "code",
      "source": [
        "from langchain_openai import ChatOpenAI"
      ],
      "metadata": {
        "id": "aJnVflLR7JXO"
      },
      "execution_count": null,
      "outputs": []
    },
    {
      "cell_type": "code",
      "execution_count": null,
      "metadata": {
        "id": "JbgUSB1a5yTJ"
      },
      "outputs": [],
      "source": [
        "llm = ChatOpenAI(\n",
        "    model = 'gpt-4o',\n",
        "    temperature = 0,\n",
        "    max_tokens = None,\n",
        "    timeout = None,\n",
        "    max_retries = 2,\n",
        "    # base_url = '',\n",
        "    #organization = '',\n",
        ")"
      ]
    },
    {
      "cell_type": "code",
      "source": [
        "llm"
      ],
      "metadata": {
        "colab": {
          "base_uri": "https://localhost:8080/"
        },
        "id": "eD6Jwi8CQcQH",
        "outputId": "cedaca7e-1d78-483f-ee92-367da74a5320"
      },
      "execution_count": null,
      "outputs": [
        {
          "output_type": "execute_result",
          "data": {
            "text/plain": [
              "ChatOpenAI(client=<openai.resources.chat.completions.Completions object at 0x7c7cecb42e30>, async_client=<openai.resources.chat.completions.AsyncCompletions object at 0x7c7cec978f70>, root_client=<openai.OpenAI object at 0x7c7ceca74b80>, root_async_client=<openai.AsyncOpenAI object at 0x7c7cecb42e90>, model_name='gpt-4o', temperature=0.0, model_kwargs={}, openai_api_key=SecretStr('**********'))"
            ]
          },
          "metadata": {},
          "execution_count": 5
        }
      ]
    },
    {
      "cell_type": "code",
      "source": [
        "result = llm.invoke('전주대학교의 주소는?')\n",
        "result"
      ],
      "metadata": {
        "colab": {
          "base_uri": "https://localhost:8080/"
        },
        "id": "GLWwd8An7C0U",
        "outputId": "78d9aaa8-5b85-454a-ccf2-0e192528f561"
      },
      "execution_count": null,
      "outputs": [
        {
          "output_type": "execute_result",
          "data": {
            "text/plain": [
              "AIMessage(content='전주대학교의 주소는 대한민국 전라북도 전주시 완산구 천잠로 303입니다.', additional_kwargs={'refusal': None}, response_metadata={'token_usage': {'completion_tokens': 24, 'prompt_tokens': 14, 'total_tokens': 38, 'completion_tokens_details': {'accepted_prediction_tokens': 0, 'audio_tokens': 0, 'reasoning_tokens': 0, 'rejected_prediction_tokens': 0}, 'prompt_tokens_details': {'audio_tokens': 0, 'cached_tokens': 0}}, 'model_name': 'gpt-4o-2024-08-06', 'system_fingerprint': 'fp_703d4ff298', 'finish_reason': 'stop', 'logprobs': None}, id='run-b65d9951-6042-4430-9ebf-fa2676ab4ffe-0', usage_metadata={'input_tokens': 14, 'output_tokens': 24, 'total_tokens': 38, 'input_token_details': {'audio': 0, 'cache_read': 0}, 'output_token_details': {'audio': 0, 'reasoning': 0}})"
            ]
          },
          "metadata": {},
          "execution_count": 6
        }
      ]
    },
    {
      "cell_type": "markdown",
      "source": [
        "### 2.PromptTemplate_Basic"
      ],
      "metadata": {
        "id": "K_Cc2cF8RaSV"
      }
    },
    {
      "cell_type": "code",
      "source": [
        "prompt_2 = [\n",
        "    (\"system\", \"너는 한국 대학교 중에 어느 학교가 유명한지 알려주는 어시스턴트야. 단어로 제시해\"),\n",
        "    (\"human\", \"인공지능학과\"),\n",
        "]"
      ],
      "metadata": {
        "id": "oDrD87dX80EJ"
      },
      "execution_count": null,
      "outputs": []
    },
    {
      "cell_type": "code",
      "source": [
        "prompt_2"
      ],
      "metadata": {
        "colab": {
          "base_uri": "https://localhost:8080/"
        },
        "id": "cvQTZrvARvF5",
        "outputId": "c95af1d6-d80c-45d7-f9d9-08fbf84d4588"
      },
      "execution_count": null,
      "outputs": [
        {
          "output_type": "execute_result",
          "data": {
            "text/plain": [
              "[('system', '너는 한국 대학교 중에 어느 학교가 유명한지 알려주는 어시스턴트야. 단어로 제시해'),\n",
              " ('human', '인공지능학과')]"
            ]
          },
          "metadata": {},
          "execution_count": 24
        }
      ]
    },
    {
      "cell_type": "code",
      "source": [
        "Response2 = llm.invoke(prompt_2)\n",
        "Response2"
      ],
      "metadata": {
        "colab": {
          "base_uri": "https://localhost:8080/"
        },
        "id": "icQCupAvRxTx",
        "outputId": "cc5849f3-6c0d-4a78-8474-e561585a6be6"
      },
      "execution_count": null,
      "outputs": [
        {
          "output_type": "execute_result",
          "data": {
            "text/plain": [
              "AIMessage(content='KAIST', additional_kwargs={'refusal': None}, response_metadata={'token_usage': {'completion_tokens': 3, 'prompt_tokens': 44, 'total_tokens': 47, 'completion_tokens_details': {'accepted_prediction_tokens': 0, 'audio_tokens': 0, 'reasoning_tokens': 0, 'rejected_prediction_tokens': 0}, 'prompt_tokens_details': {'audio_tokens': 0, 'cached_tokens': 0}}, 'model_name': 'gpt-4o-2024-08-06', 'system_fingerprint': 'fp_d28bcae782', 'finish_reason': 'stop', 'logprobs': None}, id='run-0e523316-1a86-4d09-a275-a9c2dba4c430-0', usage_metadata={'input_tokens': 44, 'output_tokens': 3, 'total_tokens': 47, 'input_token_details': {'audio': 0, 'cache_read': 0}, 'output_token_details': {'audio': 0, 'reasoning': 0}})"
            ]
          },
          "metadata": {},
          "execution_count": 25
        }
      ]
    },
    {
      "cell_type": "markdown",
      "source": [
        "### 3_1. PromptTemplate(1)"
      ],
      "metadata": {
        "id": "uzqqTdiIVaKB"
      }
    },
    {
      "cell_type": "code",
      "source": [
        "from langchain_core.prompts import PromptTemplate"
      ],
      "metadata": {
        "id": "q2I3myqDVubH"
      },
      "execution_count": null,
      "outputs": []
    },
    {
      "cell_type": "code",
      "source": [
        "template = \"{input}의 개념은?\"\n",
        "\n",
        "prompt_3 = PromptTemplate.from_template(template)\n",
        "print(prompt_3)"
      ],
      "metadata": {
        "colab": {
          "base_uri": "https://localhost:8080/"
        },
        "id": "BSZiS0QpSwsO",
        "outputId": "80095a3a-db54-41c1-b6a6-c41c87acd09e"
      },
      "execution_count": null,
      "outputs": [
        {
          "output_type": "stream",
          "name": "stdout",
          "text": [
            "input_variables=['input'] input_types={} partial_variables={} template='{input}의 개념은?'\n"
          ]
        }
      ]
    },
    {
      "cell_type": "code",
      "source": [
        "Result_3 = prompt_3.format(input = '전주대학교')\n",
        "Result_3"
      ],
      "metadata": {
        "colab": {
          "base_uri": "https://localhost:8080/",
          "height": 36
        },
        "id": "9iCOEqlFWckJ",
        "outputId": "4a3b7688-b12c-43ab-8ace-5eeb70417dc9"
      },
      "execution_count": null,
      "outputs": [
        {
          "output_type": "execute_result",
          "data": {
            "text/plain": [
              "'전주대학교의 개념은?'"
            ],
            "application/vnd.google.colaboratory.intrinsic+json": {
              "type": "string"
            }
          },
          "metadata": {},
          "execution_count": 15
        }
      ]
    },
    {
      "cell_type": "code",
      "source": [
        "Result_3 = llm.invoke(Result_3)\n",
        "Result_3"
      ],
      "metadata": {
        "colab": {
          "base_uri": "https://localhost:8080/"
        },
        "id": "e_7pOH3KXPWx",
        "outputId": "4e8037e0-c494-4928-ca2b-77eae06e6904"
      },
      "execution_count": null,
      "outputs": [
        {
          "output_type": "execute_result",
          "data": {
            "text/plain": [
              "AIMessage(content='전주대학교는 대한민국 전라북도 전주시에 위치한 사립 대학교입니다. 1964년에 설립된 이래로 다양한 학문 분야에서 교육과 연구를 제공하고 있습니다. 전주대학교는 인문사회, 자연과학, 공학, 예술 등 여러 학부와 대학원을 운영하며, 학생들에게 다양한 학문적 기회를 제공합니다. 또한, 지역 사회와의 협력 및 국제 교류를 통해 글로벌 역량을 갖춘 인재 양성을 목표로 하고 있습니다.', additional_kwargs={'refusal': None}, response_metadata={'token_usage': {'completion_tokens': 110, 'prompt_tokens': 15, 'total_tokens': 125, 'completion_tokens_details': {'accepted_prediction_tokens': 0, 'audio_tokens': 0, 'reasoning_tokens': 0, 'rejected_prediction_tokens': 0}, 'prompt_tokens_details': {'audio_tokens': 0, 'cached_tokens': 0}}, 'model_name': 'gpt-4o-2024-08-06', 'system_fingerprint': 'fp_703d4ff298', 'finish_reason': 'stop', 'logprobs': None}, id='run-a8285d83-40d4-45e7-bff2-99080c000766-0', usage_metadata={'input_tokens': 15, 'output_tokens': 110, 'total_tokens': 125, 'input_token_details': {'audio': 0, 'cache_read': 0}, 'output_token_details': {'audio': 0, 'reasoning': 0}})"
            ]
          },
          "metadata": {},
          "execution_count": 16
        }
      ]
    },
    {
      "cell_type": "markdown",
      "source": [
        "### 3_2. PromptTemplate(1)"
      ],
      "metadata": {
        "id": "UAciZcpkc538"
      }
    },
    {
      "cell_type": "code",
      "source": [
        "from langchain_core.prompts import PromptTemplate\n",
        "\n",
        "template = \"{input}의 개념은??\"\n",
        "\n",
        "prompt_4 = PromptTemplate(\n",
        "    template = template,\n",
        "    input_variables = ['input']\n",
        ")\n",
        "\n",
        "print(prompt_4)"
      ],
      "metadata": {
        "colab": {
          "base_uri": "https://localhost:8080/"
        },
        "id": "WUeoGYE2Xghi",
        "outputId": "24bb4c9b-b71d-45e2-f81b-46e566f36776"
      },
      "execution_count": null,
      "outputs": [
        {
          "output_type": "stream",
          "name": "stdout",
          "text": [
            "input_variables=['input'] input_types={} partial_variables={} template='{input}의 개념은?'\n"
          ]
        }
      ]
    },
    {
      "cell_type": "code",
      "source": [
        "Result_4 = prompt_4.format(input = \"AI\")"
      ],
      "metadata": {
        "id": "1voBtM7bdsQa"
      },
      "execution_count": null,
      "outputs": []
    },
    {
      "cell_type": "code",
      "source": [
        "Result_4 = llm.invoke(Result_4)\n",
        "Result_4"
      ],
      "metadata": {
        "colab": {
          "base_uri": "https://localhost:8080/"
        },
        "id": "G4lY6p9IePFt",
        "outputId": "36b59046-24c7-4f5c-f39d-a08fc544e210"
      },
      "execution_count": null,
      "outputs": [
        {
          "output_type": "execute_result",
          "data": {
            "text/plain": [
              "AIMessage(content='AI(인공지능)의 개념은 인간의 지능을 기계가 모방하거나 구현하는 기술을 의미합니다. 이는 컴퓨터 시스템이 학습, 추론, 문제 해결, 이해 및 자연어 처리와 같은 인간의 인지 기능을 수행할 수 있도록 하는 것을 목표로 합니다. AI는 머신러닝, 딥러닝, 자연어 처리, 컴퓨터 비전 등 다양한 하위 분야로 나뉘며, 이러한 기술들은 데이터를 분석하고 패턴을 인식하여 스스로 학습하고 개선할 수 있는 시스템을 개발하는 데 사용됩니다. AI는 의료, 금융, 제조, 자율주행차 등 다양한 산업에서 활용되고 있습니다.', additional_kwargs={'refusal': None}, response_metadata={'token_usage': {'completion_tokens': 146, 'prompt_tokens': 13, 'total_tokens': 159, 'completion_tokens_details': {'accepted_prediction_tokens': 0, 'audio_tokens': 0, 'reasoning_tokens': 0, 'rejected_prediction_tokens': 0}, 'prompt_tokens_details': {'audio_tokens': 0, 'cached_tokens': 0}}, 'model_name': 'gpt-4o-2024-08-06', 'system_fingerprint': 'fp_703d4ff298', 'finish_reason': 'stop', 'logprobs': None}, id='run-9e8f864f-d0b7-4982-b1b4-efc009d9bb2e-0', usage_metadata={'input_tokens': 13, 'output_tokens': 146, 'total_tokens': 159, 'input_token_details': {'audio': 0, 'cache_read': 0}, 'output_token_details': {'audio': 0, 'reasoning': 0}})"
            ]
          },
          "metadata": {},
          "execution_count": 35
        }
      ]
    },
    {
      "cell_type": "markdown",
      "source": [
        "input 2개일 경우"
      ],
      "metadata": {
        "id": "MCJ4vtztgrbI"
      }
    },
    {
      "cell_type": "code",
      "source": [
        "from langchain.prompts import PromptTemplate\n",
        "\n",
        "template = \"{input1}과 {input2}의 차이점을 한 문장으로 간략하게 설명해?\"\n",
        "\n",
        "# input2의 기본값을 '인공지능'으로 설정\n",
        "prompt_5 = PromptTemplate(\n",
        "    template=template,\n",
        "    input_variables=['input1'],  # input1만 입력 변수로 지정\n",
        "    partial_variables={'input2': '인공지능'}  # input2의 기본값 설정\n",
        ")"
      ],
      "metadata": {
        "id": "Wr52FSf9gAVG"
      },
      "execution_count": null,
      "outputs": []
    },
    {
      "cell_type": "code",
      "source": [
        "# 'input1'에 대한 값을 삽입\n",
        "print(prompt_5.format(input1='컴퓨터'))"
      ],
      "metadata": {
        "colab": {
          "base_uri": "https://localhost:8080/"
        },
        "id": "hBURPHfwrV-Q",
        "outputId": "1ef0f97a-7fc2-4601-a7de-14fced386d7c"
      },
      "execution_count": null,
      "outputs": [
        {
          "output_type": "stream",
          "name": "stdout",
          "text": [
            "컴퓨터과 인공지능의 차이점을 한 문장으로 간략하게 설명해?\n"
          ]
        }
      ]
    },
    {
      "cell_type": "code",
      "source": [
        "Result_5 = prompt_5.format(input1 = '전주대학교', input2 = '인공지능')"
      ],
      "metadata": {
        "id": "h5gtoQkAgzgQ"
      },
      "execution_count": null,
      "outputs": []
    },
    {
      "cell_type": "code",
      "source": [
        "Result_5 = llm.invoke(Result_5)\n",
        "Result_5"
      ],
      "metadata": {
        "colab": {
          "base_uri": "https://localhost:8080/"
        },
        "id": "x3YS09HUg-a8",
        "outputId": "e875852b-1a52-469e-d917-a41b98b070d9"
      },
      "execution_count": null,
      "outputs": [
        {
          "output_type": "execute_result",
          "data": {
            "text/plain": [
              "AIMessage(content='전주대학교와 인공지능은 본질적으로 비교할 수 없는 두 가지 개념입니다. 전주대학교는 한국에 위치한 고등 교육 기관으로, 다양한 학문 분야에서 교육과 연구를 제공합니다. 반면, 인공지능(AI)은 컴퓨터 시스템이 인간의 지능적인 작업을 수행할 수 있도록 하는 기술 및 학문 분야입니다. \\n\\n전주대학교는 인공지능을 포함한 여러 학문 분야를 가르치고 연구할 수 있는 장소이며, 인공지능은 그러한 연구와 교육의 주제가 될 수 있습니다. 따라서 전주대학교는 인공지능을 연구하고 교육하는 기관일 수 있지만, 인공지능 자체는 특정한 기술이나 학문적 개념을 의미합니다.', additional_kwargs={'refusal': None}, response_metadata={'token_usage': {'completion_tokens': 158, 'prompt_tokens': 20, 'total_tokens': 178, 'completion_tokens_details': {'accepted_prediction_tokens': 0, 'audio_tokens': 0, 'reasoning_tokens': 0, 'rejected_prediction_tokens': 0}, 'prompt_tokens_details': {'audio_tokens': 0, 'cached_tokens': 0}}, 'model_name': 'gpt-4o-2024-08-06', 'system_fingerprint': 'fp_703d4ff298', 'finish_reason': 'stop', 'logprobs': None}, id='run-4f2e0874-8cc5-4239-9af1-d3210bbf5ea4-0', usage_metadata={'input_tokens': 20, 'output_tokens': 158, 'total_tokens': 178, 'input_token_details': {'audio': 0, 'cache_read': 0}, 'output_token_details': {'audio': 0, 'reasoning': 0}})"
            ]
          },
          "metadata": {},
          "execution_count": 41
        }
      ]
    },
    {
      "cell_type": "code",
      "source": [
        "prompt_5.partial(input2 = '장학금')"
      ],
      "metadata": {
        "colab": {
          "base_uri": "https://localhost:8080/"
        },
        "id": "yRAQs8iDmhGM",
        "outputId": "844c28ab-a9d1-4f4c-a9a6-c5b14ff760b4"
      },
      "execution_count": null,
      "outputs": [
        {
          "output_type": "execute_result",
          "data": {
            "text/plain": [
              "PromptTemplate(input_variables=['input1'], input_types={}, partial_variables={'input2': '장학금'}, template='{input1}과 {input2}의 차이점은?')"
            ]
          },
          "metadata": {},
          "execution_count": 47
        }
      ]
    },
    {
      "cell_type": "code",
      "source": [
        "prompt_5_partial = prompt_5.partial(input2 = '장학금')\n",
        "prompt_5_partial"
      ],
      "metadata": {
        "colab": {
          "base_uri": "https://localhost:8080/"
        },
        "id": "6b_AIjJkmqNn",
        "outputId": "1ecc2f7e-8a14-47c6-f72a-b96056bdbbd9"
      },
      "execution_count": null,
      "outputs": [
        {
          "output_type": "execute_result",
          "data": {
            "text/plain": [
              "PromptTemplate(input_variables=['input1'], input_types={}, partial_variables={'input2': '장학금'}, template='{input1}과 {input2}의 차이점은?')"
            ]
          },
          "metadata": {},
          "execution_count": 48
        }
      ]
    },
    {
      "cell_type": "code",
      "source": [
        "chain = prompt_5 | llm"
      ],
      "metadata": {
        "id": "LVGNYa9rmwIr"
      },
      "execution_count": null,
      "outputs": []
    },
    {
      "cell_type": "code",
      "source": [
        "chain.invoke({'input1':'핸드폰', 'input2':'스마트폰'}).content"
      ],
      "metadata": {
        "colab": {
          "base_uri": "https://localhost:8080/",
          "height": 36
        },
        "id": "kvy0Agviq4qU",
        "outputId": "731fc340-cd40-4f03-b398-929f9834c41a"
      },
      "execution_count": null,
      "outputs": [
        {
          "output_type": "execute_result",
          "data": {
            "text/plain": [
              "'핸드폰은 기본적인 통화와 문자 기능을 제공하는 반면, 스마트폰은 인터넷 접속, 앱 사용 등 다양한 기능을 지원하는 고급 기기입니다.'"
            ],
            "application/vnd.google.colaboratory.intrinsic+json": {
              "type": "string"
            }
          },
          "metadata": {},
          "execution_count": 55
        }
      ]
    },
    {
      "cell_type": "markdown",
      "source": [
        "### Partial Variable의 사용 예"
      ],
      "metadata": {
        "id": "cuiS_ZDUra4F"
      }
    },
    {
      "cell_type": "code",
      "source": [
        "from datetime import datetime\n",
        "\n",
        "prompt_6 = PromptTemplate(\n",
        "    template = \"오늘의 날짜는 {today}입니다. 오늘이 생일인 유명인 {n}명을 나열해 주세요. 생년월일을 표기해주세요.\",\n",
        "    input_variables = [\"n\"],\n",
        "    partial_variables = {\n",
        "        \"today\" : datetime.now().strftime(\"%Y %B %d\")\n",
        "    },\n",
        ")"
      ],
      "metadata": {
        "id": "nlvYRf4QrAbT"
      },
      "execution_count": null,
      "outputs": []
    },
    {
      "cell_type": "code",
      "source": [
        "prompt_6.format(n = 3)"
      ],
      "metadata": {
        "colab": {
          "base_uri": "https://localhost:8080/",
          "height": 36
        },
        "id": "zinVNTIOsQJb",
        "outputId": "9d4bcf92-06ef-4fc3-996e-41e7a35c5664"
      },
      "execution_count": null,
      "outputs": [
        {
          "output_type": "execute_result",
          "data": {
            "text/plain": [
              "'오늘의 날짜는 2025 January 09입니다. 오늘이 생일인 유명인 3명을 나열해 주세요. 생년월일을 표기해주세요.'"
            ],
            "application/vnd.google.colaboratory.intrinsic+json": {
              "type": "string"
            }
          },
          "metadata": {},
          "execution_count": 65
        }
      ]
    },
    {
      "cell_type": "code",
      "source": [
        "chain = prompt_6 | llm"
      ],
      "metadata": {
        "id": "jKZv68irsme9"
      },
      "execution_count": null,
      "outputs": []
    },
    {
      "cell_type": "code",
      "source": [
        "chain.invoke({\"n\" : 5}).content"
      ],
      "metadata": {
        "colab": {
          "base_uri": "https://localhost:8080/",
          "height": 73
        },
        "id": "4_1fbFcatJnF",
        "outputId": "e2298706-e663-4e90-88ef-e708d4d9016b"
      },
      "execution_count": null,
      "outputs": [
        {
          "output_type": "execute_result",
          "data": {
            "text/plain": [
              "'죄송하지만, 특정 날짜에 생일인 유명인을 실시간으로 확인할 수 있는 기능은 없습니다. 그러나 1월 9일에 태어난 몇몇 유명인을 예로 들 수 있습니다.\\n\\n1. 리처드 닉슨 (Richard Nixon) - 1913년 1월 9일\\n2. 케이트 미들턴 (Kate Middleton) - 1982년 1월 9일\\n3. 조안 바에즈 (Joan Baez) - 1941년 1월 9일\\n4. J.K. 시몬스 (J.K. Simmons) - 1955년 1월 9일\\n5. 데이브 매튜스 (Dave Matthews) - 1967년 1월 9일\\n\\n이 목록은 예시일 뿐이며, 실제로 오늘이 생일인 유명인을 확인하려면 최신 정보를 참고하시기 바랍니다.'"
            ],
            "application/vnd.google.colaboratory.intrinsic+json": {
              "type": "string"
            }
          },
          "metadata": {},
          "execution_count": 70
        }
      ]
    },
    {
      "cell_type": "markdown",
      "source": [
        "### PromptTemplate YAML 데이터 읽어보기"
      ],
      "metadata": {
        "id": "vUBKuiXLyo0S"
      }
    },
    {
      "cell_type": "code",
      "source": [
        "from langchain.prompts import load_prompt\n",
        "\n",
        "prompt_yaml_1 = load_prompt(\"/content/fruit_color.yaml\", encoding = 'utf-8')"
      ],
      "metadata": {
        "id": "wbro9tP8tKfP"
      },
      "execution_count": null,
      "outputs": []
    },
    {
      "cell_type": "code",
      "source": [
        "prompt_yaml_1"
      ],
      "metadata": {
        "colab": {
          "base_uri": "https://localhost:8080/"
        },
        "id": "a4EHEwpr4iJ9",
        "outputId": "481a81ca-f8fd-4987-cc56-e0fcf1f5b3cc"
      },
      "execution_count": null,
      "outputs": [
        {
          "output_type": "execute_result",
          "data": {
            "text/plain": [
              "PromptTemplate(input_variables=['fruit'], input_types={}, partial_variables={}, template='{fruit}의 색깔이 뭐야? 한글로 대답해야만 해')"
            ]
          },
          "metadata": {},
          "execution_count": 90
        }
      ]
    },
    {
      "cell_type": "code",
      "source": [
        "prompt_yaml_1.format(fruit = \"귤\")"
      ],
      "metadata": {
        "colab": {
          "base_uri": "https://localhost:8080/",
          "height": 36
        },
        "id": "1187uxMr4ue3",
        "outputId": "64d5a1c6-f7fd-4b4e-9361-f69a0bb8d5d8"
      },
      "execution_count": null,
      "outputs": [
        {
          "output_type": "execute_result",
          "data": {
            "text/plain": [
              "'귤의 색깔이 뭐야? 한글로 대답해야만 해'"
            ],
            "application/vnd.google.colaboratory.intrinsic+json": {
              "type": "string"
            }
          },
          "metadata": {},
          "execution_count": 91
        }
      ]
    },
    {
      "cell_type": "code",
      "source": [
        "chain = prompt_yaml_1 | llm"
      ],
      "metadata": {
        "id": "t1lWpGqP58qy"
      },
      "execution_count": null,
      "outputs": []
    },
    {
      "cell_type": "code",
      "source": [
        "chain.invoke(input = \"귤\").content"
      ],
      "metadata": {
        "colab": {
          "base_uri": "https://localhost:8080/",
          "height": 36
        },
        "id": "ueUXPavL7gLH",
        "outputId": "25362313-1b1f-4a20-c841-44b35eb1cd8f"
      },
      "execution_count": null,
      "outputs": [
        {
          "output_type": "execute_result",
          "data": {
            "text/plain": [
              "'귤의 색깔은 주황색이야.'"
            ],
            "application/vnd.google.colaboratory.intrinsic+json": {
              "type": "string"
            }
          },
          "metadata": {},
          "execution_count": 93
        }
      ]
    },
    {
      "cell_type": "code",
      "source": [
        "chain.invoke(prompt_yaml_1).content"
      ],
      "metadata": {
        "colab": {
          "base_uri": "https://localhost:8080/",
          "height": 36
        },
        "id": "XZJdHGnc6Lak",
        "outputId": "194b116e-decc-4ca8-9630-95b607e073e7"
      },
      "execution_count": null,
      "outputs": [
        {
          "output_type": "execute_result",
          "data": {
            "text/plain": [
              "'Sure, I can help with that. Please provide the name of the fruit, and I will tell you its color in Korean.'"
            ],
            "application/vnd.google.colaboratory.intrinsic+json": {
              "type": "string"
            }
          },
          "metadata": {},
          "execution_count": 94
        }
      ]
    },
    {
      "cell_type": "code",
      "source": [
        "Result7 = prompt_yaml_1.format(fruit=\"귤\")  # '귤' 값을 템플릿에 삽입\n",
        "print(Result7)\n",
        "\n",
        "chain = prompt_yaml_1 | llm\n",
        "print(chain)\n",
        "\n",
        "response = chain.invoke({\"fruit\": \"귤\"})  # 체인에 입력 값 전달\n",
        "print(response)"
      ],
      "metadata": {
        "colab": {
          "base_uri": "https://localhost:8080/"
        },
        "id": "Us1tEI_M6NS2",
        "outputId": "cc337a2c-6853-458c-ed96-348221c0970d"
      },
      "execution_count": null,
      "outputs": [
        {
          "output_type": "stream",
          "name": "stdout",
          "text": [
            "귤의 색깔이 뭐야? 한글로 대답해야만 해\n",
            "first=PromptTemplate(input_variables=['fruit'], input_types={}, partial_variables={}, template='{fruit}의 색깔이 뭐야? 한글로 대답해야만 해') middle=[] last=ChatOpenAI(client=<openai.resources.chat.completions.Completions object at 0x7c7cecb42e30>, async_client=<openai.resources.chat.completions.AsyncCompletions object at 0x7c7cec978f70>, root_client=<openai.OpenAI object at 0x7c7ceca74b80>, root_async_client=<openai.AsyncOpenAI object at 0x7c7cecb42e90>, model_name='gpt-4o', temperature=0.0, model_kwargs={}, openai_api_key=SecretStr('**********'))\n",
            "content='귤의 색깔은 주황색이야.' additional_kwargs={'refusal': None} response_metadata={'token_usage': {'completion_tokens': 13, 'prompt_tokens': 24, 'total_tokens': 37, 'completion_tokens_details': {'accepted_prediction_tokens': 0, 'audio_tokens': 0, 'reasoning_tokens': 0, 'rejected_prediction_tokens': 0}, 'prompt_tokens_details': {'audio_tokens': 0, 'cached_tokens': 0}}, 'model_name': 'gpt-4o-2024-08-06', 'system_fingerprint': 'fp_d28bcae782', 'finish_reason': 'stop', 'logprobs': None} id='run-123368a2-bca6-4506-b6cf-60c7ca21ef7b-0' usage_metadata={'input_tokens': 24, 'output_tokens': 13, 'total_tokens': 37, 'input_token_details': {'audio': 0, 'cache_read': 0}, 'output_token_details': {'audio': 0, 'reasoning': 0}}\n"
          ]
        }
      ]
    },
    {
      "cell_type": "code",
      "source": [],
      "metadata": {
        "id": "Q45DzKiC8VMX"
      },
      "execution_count": null,
      "outputs": []
    }
  ]
}