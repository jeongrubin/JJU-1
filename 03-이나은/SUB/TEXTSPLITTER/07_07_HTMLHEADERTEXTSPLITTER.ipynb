{
  "nbformat": 4,
  "nbformat_minor": 0,
  "metadata": {
    "colab": {
      "provenance": []
    },
    "kernelspec": {
      "name": "python3",
      "display_name": "Python 3"
    },
    "language_info": {
      "name": "python"
    }
  },
  "cells": [
    {
      "cell_type": "code",
      "execution_count": null,
      "metadata": {
        "id": "pWR7sZbX6jSo"
      },
      "outputs": [],
      "source": [
        "html_string = \"\"\"\n",
        "<!DOCTYPE html>\n",
        "  <html lang='en'>\n",
        "  <head>\n",
        "    <meta charset='UTF-8'>\n",
        "    <meta name='viewport' content='width=device-width, initial-scale=1.0'>\n",
        "    <title>Fancy Example HTML Page</title>\n",
        "  </head>\n",
        "  <body>\n",
        "    <h1>Main Title</h1>\n",
        "    <p>This is an introductory paragraph with some basic content.</p>\n",
        "\n",
        "    <h2>Section 1: Introduction</h2>\n",
        "    <p>This section introduces the topic. Below is a list:</p>\n",
        "    <ul>\n",
        "      <li>First item</li>\n",
        "      <li>Second item</li>\n",
        "      <li>Third item with <strong>bold text</strong> and <a href='#'>a link</a></li>\n",
        "    </ul>\n",
        "\n",
        "    <h3>Subsection 1.1: Details</h3>\n",
        "    <p>This subsection provides additional details. Here's a table:</p>\n",
        "    <table border='1'>\n",
        "      <thead>\n",
        "        <tr>\n",
        "          <th>Header 1</th>\n",
        "          <th>Header 2</th>\n",
        "          <th>Header 3</th>\n",
        "        </tr>\n",
        "      </thead>\n",
        "      <tbody>\n",
        "        <tr>\n",
        "          <td>Row 1, Cell 1</td>\n",
        "          <td>Row 1, Cell 2</td>\n",
        "          <td>Row 1, Cell 3</td>\n",
        "        </tr>\n",
        "        <tr>\n",
        "          <td>Row 2, Cell 1</td>\n",
        "          <td>Row 2, Cell 2</td>\n",
        "          <td>Row 2, Cell 3</td>\n",
        "        </tr>\n",
        "      </tbody>\n",
        "    </table>\n",
        "\n",
        "    <h2>Section 2: Media Content</h2>\n",
        "    <p>This section contains an image and a video:</p>\n",
        "      <img src='example_image_link.mp4' alt='Example Image'>\n",
        "      <video controls width='250' src='example_video_link.mp4' type='video/mp4'>\n",
        "      Your browser does not support the video tag.\n",
        "    </video>\n",
        "\n",
        "    <h2>Section 3: Code Example</h2>\n",
        "    <p>This section contains a code block:</p>\n",
        "    <pre><code data-lang=\"html\">\n",
        "    &lt;div&gt;\n",
        "      &lt;p&gt;This is a paragraph inside a div.&lt;/p&gt;\n",
        "    &lt;/div&gt;\n",
        "    </code></pre>\n",
        "\n",
        "    <h2>Conclusion</h2>\n",
        "    <p>This is the conclusion of the document.</p>\n",
        "  </body>\n",
        "  </html>\n",
        "\"\"\""
      ]
    },
    {
      "cell_type": "code",
      "source": [
        "from langchain_text_splitters import HTMLHeaderTextSplitter\n",
        "\n",
        "headers_to_split_on = [\n",
        "    (\"h1\", \"Header 1\"),\n",
        "    (\"h2\", \"Header 2\"),\n",
        "    (\"h3\", \"Header 3\"),\n",
        "]\n",
        "\n",
        "html_splitter = HTMLHeaderTextSplitter(headers_to_split_on)\n",
        "html_header_splits = html_splitter.split_text(html_string)\n",
        "html_header_splits"
      ],
      "metadata": {
        "colab": {
          "base_uri": "https://localhost:8080/"
        },
        "id": "uCHyS_0S8G5p",
        "outputId": "c7a8375a-2b16-42a0-8f43-7abeb41487d8"
      },
      "execution_count": null,
      "outputs": [
        {
          "output_type": "execute_result",
          "data": {
            "text/plain": [
              "[Document(metadata={'Header 1': 'Main Title'}, page_content='This is an introductory paragraph with some basic content.'),\n",
              " Document(metadata={'Header 1': 'Main Title', 'Header 2': 'Section 1: Introduction'}, page_content='This section introduces the topic. Below is a list:  \\nFirst item Second item Third item with bold text and a link'),\n",
              " Document(metadata={'Header 1': 'Main Title', 'Header 2': 'Section 1: Introduction', 'Header 3': 'Subsection 1.1: Details'}, page_content=\"This subsection provides additional details. Here's a table:\"),\n",
              " Document(metadata={'Header 1': 'Main Title', 'Header 2': 'Section 2: Media Content'}, page_content='This section contains an image and a video:'),\n",
              " Document(metadata={'Header 1': 'Main Title', 'Header 2': 'Section 3: Code Example'}, page_content='This section contains a code block:'),\n",
              " Document(metadata={'Header 1': 'Main Title', 'Header 2': 'Conclusion'}, page_content='This is the conclusion of the document.')]"
            ]
          },
          "metadata": {},
          "execution_count": 2
        }
      ]
    },
    {
      "cell_type": "code",
      "source": [
        "from langchain_text_splitters import HTMLHeaderTextSplitter"
      ],
      "metadata": {
        "id": "ByTJmHkV8hsa"
      },
      "execution_count": null,
      "outputs": []
    },
    {
      "cell_type": "code",
      "source": [
        "html_splitter = HTMLHeaderTextSplitter(headers_to_split_on = headers_to_split_on)"
      ],
      "metadata": {
        "id": "hxMDQkMH-cTi"
      },
      "execution_count": null,
      "outputs": []
    },
    {
      "cell_type": "code",
      "source": [
        "html_header_splits = html_splitter.split_text(html_string)"
      ],
      "metadata": {
        "id": "JKScbYiR-n0N"
      },
      "execution_count": null,
      "outputs": []
    },
    {
      "cell_type": "code",
      "source": [
        "for header in html_header_splits:\n",
        "  print(f'{header.page_content}')\n",
        "  print(f\"{header.metadata}\",end = \"\\n===================================\\n\")"
      ],
      "metadata": {
        "colab": {
          "base_uri": "https://localhost:8080/"
        },
        "id": "LmRoNsuK-wNE",
        "outputId": "f9724fa7-6ec8-447f-a05b-d35f15bda134"
      },
      "execution_count": null,
      "outputs": [
        {
          "output_type": "stream",
          "name": "stdout",
          "text": [
            "This is an introductory paragraph with some basic content.\n",
            "{'Header 1': 'Main Title'}\n",
            "===================================\n",
            "This section introduces the topic. Below is a list:  \n",
            "First item Second item Third item with bold text and a link\n",
            "{'Header 1': 'Main Title', 'Header 2': 'Section 1: Introduction'}\n",
            "===================================\n",
            "This subsection provides additional details. Here's a table:\n",
            "{'Header 1': 'Main Title', 'Header 2': 'Section 1: Introduction', 'Header 3': 'Subsection 1.1: Details'}\n",
            "===================================\n",
            "This section contains an image and a video:\n",
            "{'Header 1': 'Main Title', 'Header 2': 'Section 2: Media Content'}\n",
            "===================================\n",
            "This section contains a code block:\n",
            "{'Header 1': 'Main Title', 'Header 2': 'Section 3: Code Example'}\n",
            "===================================\n",
            "This is the conclusion of the document.\n",
            "{'Header 1': 'Main Title', 'Header 2': 'Conclusion'}\n",
            "===================================\n"
          ]
        }
      ]
    },
    {
      "cell_type": "code",
      "source": [
        "from langchain_text_splitters import RecursiveCharacterTextSplitter\n",
        "\n",
        "url = \"https://plato.stanford.edu/entries/goedel/\"\n",
        "\n",
        "headers_to_split_on = [\n",
        "    (\"h1\", \"Header 1\"),\n",
        "    (\"h2\", \"Header 2\"),\n",
        "    (\"h3\", \"Header 3\"),\n",
        "    (\"h4\", \"Header 4\"),\n",
        "]\n",
        "\n",
        "html_splitter = HTMLHeaderTextSplitter(headers_to_split_on)\n",
        "\n",
        "# for local file use html_splitter.split_text_from_file(<path_to_file>)\n",
        "html_header_splits = html_splitter.split_text_from_url(url)"
      ],
      "metadata": {
        "id": "itbP4tNy_Eek"
      },
      "execution_count": null,
      "outputs": []
    },
    {
      "cell_type": "markdown",
      "source": [
        "# 자기소개서 HTML"
      ],
      "metadata": {
        "id": "8tRAn5UlEVpl"
      }
    },
    {
      "cell_type": "code",
      "source": [
        "from langchain.text_splitter import HTMLHeaderTextSplitter\n",
        "\n",
        "# HTML 파일 경로\n",
        "html = \"/content/NAEUN LEE 16d7ad66f39d80829f72da23ebc3c916.html\"\n",
        "\n",
        "# 분할할 헤더를 지정\n",
        "headers_to_split_on = [\n",
        "    (\"h1\", \"Header 1\"),\n",
        "    (\"h2\", \"Header 2\"),\n",
        "    (\"h3\", \"Header 3\"),\n",
        "]\n",
        "\n",
        "# HTMLHeaderTextSplitter 객체 초기화\n",
        "html_splitter = HTMLHeaderTextSplitter(headers_to_split_on=headers_to_split_on)\n",
        "\n",
        "# 로컬 HTML 파일을 분할하여 html_header_splits에 결과 저장\n",
        "html_header_splits = html_splitter.split_text_from_file(html)\n",
        "\n",
        "# 결과를 .txt 파일로 저장\n",
        "with open(\"/content/HTMLHEADERTEXTSPLITTER_RESULT.txt\", \"w\", encoding=\"utf-8\") as f:\n",
        "    for section in html_header_splits:\n",
        "        # Document 객체에서 페이지 콘텐츠만 가져옵니다.\n",
        "        f.write(f\"Content: {section.page_content}\\n\")\n",
        "        f.write(\"=\" * 50 + \"\\n\")\n",
        "\n",
        "print(\"HTMLHEADERTEXTSPLITTER_RESULT.txt\")"
      ],
      "metadata": {
        "colab": {
          "base_uri": "https://localhost:8080/"
        },
        "id": "q_ImRo0KArC3",
        "outputId": "0063be7b-4931-4859-9939-155cda8778ce"
      },
      "execution_count": null,
      "outputs": [
        {
          "output_type": "stream",
          "name": "stdout",
          "text": [
            "HTMLHEADERTEXTSPLITTER_RESULT.txt\n"
          ]
        }
      ]
    },
    {
      "cell_type": "code",
      "source": [
        "html_header_splits"
      ],
      "metadata": {
        "colab": {
          "base_uri": "https://localhost:8080/"
        },
        "id": "Ep2QQ4ymDFPD",
        "outputId": "dd9d6ba3-3d35-4c00-af9f-91a3e298e1ea"
      },
      "execution_count": null,
      "outputs": [
        {
          "output_type": "execute_result",
          "data": {
            "text/plain": [
              "[Document(metadata={'Header 1': 'NAEUN LEE'}, page_content='😀  \\nAI/ML Research Student'),\n",
              " Document(metadata={'Header 1': 'NAEUN LEE', 'Header 3': 'AI/ML Research Student'}, page_content='Contact'),\n",
              " Document(metadata={'Header 1': 'NAEUN LEE', 'Header 3': 'Contact'}, page_content='Location, State/Korea  \\n+00 123 456 789  \\nnaaa2004@naver.com  \\nLinkedIn'),\n",
              " Document(metadata={'Header 1': 'NAEUN LEE', 'Header 3': 'AI/ML Research Student'}, page_content='Profile'),\n",
              " Document(metadata={'Header 1': 'NAEUN LEE', 'Header 3': 'Profile'}, page_content='전주대학교 인공지능학과에 재학 중이며, 머신러닝과 딥러닝을 포함한 인공지능 기술을 학습하고 있습니다. 현재 빅데이터센터에서 활동하며 데이터 분석 및 실무 경험을 쌓고 있으며, 과거에는 대학교 서포터즈로 활동하며 팀워크와 커뮤니케이션 능력을 키웠습니다. 새로운 도전을 통해 성장하고자 합니다.'),\n",
              " Document(metadata={'Header 1': 'NAEUN LEE', 'Header 3': 'AI/ML Research Student'}, page_content='SkillsLanguagesSide Hustles'),\n",
              " Document(metadata={'Header 1': 'NAEUN LEE', 'Header 3': 'Skills'}, page_content='Python  \\n◾◾◾  \\nTensorFlow  \\n◾◾◾  \\nOpenCV  \\n◾◾◾  \\nPowerPoint  \\n◾◾◾◾◾  \\nMicrosoft Excel  \\n◾◾'),\n",
              " Document(metadata={'Header 1': 'NAEUN LEE', 'Header 3': 'Languages'}, page_content='Korean  \\n◾◾  \\nEnglish  \\n◾  \\nFrench  \\n◾'),\n",
              " Document(metadata={'Header 1': 'NAEUN LEE', 'Header 3': 'Side Hustles'}, page_content='Project Name  \\nAccomplishment  \\nQuantify your experience  \\nHighlight technical skills'),\n",
              " Document(metadata={'Header 1': 'NAEUN LEE', 'Header 3': 'AI/ML Research Student'}, page_content='Work ExperienceEducation'),\n",
              " Document(metadata={'Header 1': 'NAEUN LEE', 'Header 3': 'Work Experience'}, page_content='Lead Manager  \\n전주대학교  \\n2023.03 – 2024.12  \\n2023 서포터즈  \\n2023 해외 서비스러닝  \\n2024 AICOSS 해커톤 은상  \\n2024 전주대학교 빅데이터 분석 대회 대상  \\n2024 Malaysia (UTM)  \\n대학생  \\n전주대학교  \\n2023.3 ~  \\n파이썬 배우기  \\n머신러닝 배우기  \\n딥러닝 배우기  \\n리눅스 배우기  \\n선형대수학 배우기'),\n",
              " Document(metadata={'Header 1': 'NAEUN LEE', 'Header 3': 'Education'}, page_content='전주대학교  \\n재학중~  \\nMention the skills you’ve learned  \\nMention the skills you’ve learned  \\n호남 제일 고등학교  \\n2020.3 ~ 2023.2  \\n이과'),\n",
              " Document(metadata={'Header 1': 'NAEUN LEE', 'Header 3': 'AI/ML Research Student'}, page_content='Courses'),\n",
              " Document(metadata={'Header 1': 'NAEUN LEE', 'Header 3': 'Courses'}, page_content='3D Modelling  \\nAnimation  \\nAdvertising and Graphics'),\n",
              " Document(metadata={'Header 1': 'NAEUN LEE', 'Header 3': 'AI/ML Research Student'}, page_content='Achievements'),\n",
              " Document(metadata={'Header 1': 'NAEUN LEE', 'Header 3': 'Achievements'}, page_content='List out your achievements.  \\nList out your achievements.  \\nList out your achievements.'),\n",
              " Document(metadata={'Header 1': 'NAEUN LEE', 'Header 3': 'AI/ML Research Student'}, page_content='References'),\n",
              " Document(metadata={'Header 1': 'NAEUN LEE', 'Header 3': 'References'}, page_content='Add your references  \\nAdd your references  \\nAdd your references')]"
            ]
          },
          "metadata": {},
          "execution_count": 14
        }
      ]
    },
    {
      "cell_type": "code",
      "source": [],
      "metadata": {
        "id": "ahXf2IpPDySC"
      },
      "execution_count": null,
      "outputs": []
    }
  ]
}