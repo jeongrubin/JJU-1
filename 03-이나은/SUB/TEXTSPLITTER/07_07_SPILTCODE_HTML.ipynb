{
  "nbformat": 4,
  "nbformat_minor": 0,
  "metadata": {
    "colab": {
      "provenance": []
    },
    "kernelspec": {
      "name": "python3",
      "display_name": "Python 3"
    },
    "language_info": {
      "name": "python"
    }
  },
  "cells": [
    {
      "cell_type": "code",
      "execution_count": null,
      "metadata": {
        "colab": {
          "base_uri": "https://localhost:8080/"
        },
        "id": "EZ61VbVvFByF",
        "outputId": "d12ca8f8-195f-4d51-8406-0cd1fb746cc3"
      },
      "outputs": [
        {
          "output_type": "stream",
          "name": "stdout",
          "text": [
            "HTMLHEADERTEXTSPLITTER_RESULT.txt\n"
          ]
        }
      ],
      "source": [
        "from langchain.text_splitter import HTMLHeaderTextSplitter\n",
        "\n",
        "# HTML 파일 경로\n",
        "html = \"/content/NAEUN LEE 16d7ad66f39d80829f72da23ebc3c916.html\"\n",
        "\n",
        "# 분할할 헤더를 지정\n",
        "headers_to_split_on = [\n",
        "    (\"h1\", \"Header 1\"),\n",
        "    (\"h2\", \"Header 2\"),\n",
        "    (\"h3\", \"Header 3\"),\n",
        "]\n",
        "\n",
        "# HTMLHeaderTextSplitter 객체 초기화\n",
        "html_splitter = HTMLHeaderTextSplitter(headers_to_split_on=headers_to_split_on)\n",
        "\n",
        "# 로컬 HTML 파일을 분할하여 html_header_splits에 결과 저장\n",
        "html_header_splits = html_splitter.split_text_from_file(html)\n",
        "\n",
        "# 결과를 .txt 파일로 저장\n",
        "with open(\"/content/HTMLHEADERTEXTSPLITTER_RESULT.txt\", \"w\", encoding=\"utf-8\") as f:\n",
        "    for section in html_header_splits:\n",
        "        # Document 객체에서 페이지 콘텐츠만 가져옵니다.\n",
        "        f.write(f\"Content: {section.page_content}\\n\")\n",
        "        f.write(\"=\" * 50 + \"\\n\")\n",
        "\n",
        "print(\"HTMLHEADERTEXTSPLITTER_RESULT.txt\")"
      ]
    },
    {
      "cell_type": "code",
      "source": [],
      "metadata": {
        "id": "2zsPa-21FG3c"
      },
      "execution_count": null,
      "outputs": []
    }
  ]
}