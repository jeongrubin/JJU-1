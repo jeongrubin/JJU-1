{
  "nbformat": 4,
  "nbformat_minor": 0,
  "metadata": {
    "colab": {
      "provenance": []
    },
    "kernelspec": {
      "name": "python3",
      "display_name": "Python 3"
    },
    "language_info": {
      "name": "python"
    }
  },
  "cells": [
    {
      "cell_type": "markdown",
      "source": [
        "## 1.MarkdownHeaderTextSplitter"
      ],
      "metadata": {
        "id": "P5QzRbLsdn2t"
      }
    },
    {
      "cell_type": "code",
      "execution_count": null,
      "metadata": {
        "colab": {
          "base_uri": "https://localhost:8080/"
        },
        "id": "Ktkl22xgdcnR",
        "outputId": "2f86990a-f105-4840-aeb8-6cbf1401d178"
      },
      "outputs": [
        {
          "output_type": "stream",
          "name": "stdout",
          "text": [
            "# Foo\n",
            "\n",
            " ## Bar\n",
            "\n",
            "Hi this is Jim  \n",
            "Hi this is Joe\n",
            "\n",
            " ## Baz\n",
            "\n",
            " Hi this is Molly\n"
          ]
        }
      ],
      "source": [
        "from langchain_text_splitters import MarkdownHeaderTextSplitter\n",
        "\n",
        "# 마크다운 형식의 문서를 문자열로 정의합니다.\n",
        "markdown_document = '# Foo\\n\\n ## Bar\\n\\nHi this is Jim  \\nHi this is Joe\\n\\n ## Baz\\n\\n Hi this is Molly'\n",
        "print(markdown_document)"
      ]
    },
    {
      "cell_type": "markdown",
      "source": [
        "# Splitter 생성"
      ],
      "metadata": {
        "id": "k7fyIyY4fq0E"
      }
    },
    {
      "cell_type": "code",
      "source": [
        "headers_to_split_on = [  # 문서를 분할할 헤더 레벨과 해당 레벨의 이름을 정의합니다.\n",
        "    (\n",
        "        \"#\",\n",
        "        \"Header 1\",\n",
        "    ),  # 헤더 레벨 1은 '#'로 표시되며, 'Header 1'이라는 이름을 가집니다.\n",
        "    (\n",
        "        \"##\",\n",
        "        \"Header 2\",\n",
        "    ),  # 헤더 레벨 2는 '##'로 표시되며, 'Header 2'라는 이름을 가집니다.\n",
        "    (\n",
        "        \"###\",\n",
        "        \"Header 3\",\n",
        "    ),  # 헤더 레벨 3은 '###'로 표시되며, 'Header 3'이라는 이름을 가집니다.\n",
        "]"
      ],
      "metadata": {
        "id": "nqK95J21fYAo"
      },
      "execution_count": null,
      "outputs": []
    },
    {
      "cell_type": "code",
      "source": [
        "# 마크다운 헤더를 기준으로 텍스트를 분할하는 MarkdownHeaderTextSplitter 객체를 생성합니다.\n",
        "markdown_splitter = MarkdownHeaderTextSplitter(headers_to_split_on = headers_to_split_on)"
      ],
      "metadata": {
        "id": "mNt4i_D1gKab"
      },
      "execution_count": null,
      "outputs": []
    },
    {
      "cell_type": "code",
      "source": [
        "# markdown_document를 헤더를 기준으로 분할하여 md_header_splits에 저장합니다.\n",
        "md_header_splits = markdown_splitter.split_text(markdown_document)"
      ],
      "metadata": {
        "id": "7_4IHCrVgLD3"
      },
      "execution_count": null,
      "outputs": []
    },
    {
      "cell_type": "code",
      "source": [
        "# 분할된 결과를 출력합니다.\n",
        "for header in md_header_splits:\n",
        "    print(f\"{header.page_content}\")\n",
        "    print(f\"{header.metadata}\", end=\"\\n=====================\\n\")"
      ],
      "metadata": {
        "colab": {
          "base_uri": "https://localhost:8080/"
        },
        "id": "-aCrBnCygbmp",
        "outputId": "89492a22-2eca-4a05-c10a-45a08d23c069"
      },
      "execution_count": null,
      "outputs": [
        {
          "output_type": "stream",
          "name": "stdout",
          "text": [
            "Hi this is Jim\n",
            "Hi this is Joe\n",
            "{'Header 1': 'Foo', 'Header 2': 'Bar'}\n",
            "=====================\n",
            "Hi this is Molly\n",
            "{'Header 1': 'Foo', 'Header 2': 'Baz'}\n",
            "=====================\n"
          ]
        }
      ]
    },
    {
      "cell_type": "code",
      "source": [
        "markdown_splitter = MarkdownHeaderTextSplitter(\n",
        "    # 분할할 헤더를 지정합니다.\n",
        "    headers_to_split_on=headers_to_split_on,\n",
        "    # 헤더를 제거하지 않도록 설정합니다.\n",
        "    strip_headers=False,\n",
        ")\n",
        "# 마크다운 문서를 헤더를 기준으로 분할합니다.\n",
        "md_header_splits = markdown_splitter.split_text(markdown_document)\n",
        "# 분할된 결과를 출력합니다.\n",
        "for header in md_header_splits:\n",
        "    print(f\"{header.page_content}\")\n",
        "    print(f\"{header.metadata}\", end=\"\\n=====================\\n\")"
      ],
      "metadata": {
        "colab": {
          "base_uri": "https://localhost:8080/"
        },
        "id": "h3zm_JDSgeMV",
        "outputId": "2cb42778-8bf0-4f39-f523-18efbdf81727"
      },
      "execution_count": null,
      "outputs": [
        {
          "output_type": "stream",
          "name": "stdout",
          "text": [
            "# Foo  \n",
            "## Bar  \n",
            "Hi this is Jim\n",
            "Hi this is Joe\n",
            "{'Header 1': 'Foo', 'Header 2': 'Bar'}\n",
            "=====================\n",
            "## Baz  \n",
            "Hi this is Molly\n",
            "{'Header 1': 'Foo', 'Header 2': 'Baz'}\n",
            "=====================\n"
          ]
        }
      ]
    },
    {
      "cell_type": "markdown",
      "source": [
        "# 자소서 markdown"
      ],
      "metadata": {
        "id": "rbLKqwWamrEH"
      }
    },
    {
      "cell_type": "code",
      "source": [
        "# Open and read the contents of the file\n",
        "with open('/content/testresume.md', 'r') as f:\n",
        "    file = f.read()\n",
        "\n",
        "# Display the content\n",
        "print(file)"
      ],
      "metadata": {
        "colab": {
          "base_uri": "https://localhost:8080/"
        },
        "id": "-9_TvH7fhSNf",
        "outputId": "ca2c93f4-8218-4266-e9cb-3c8247f754d6"
      },
      "execution_count": null,
      "outputs": [
        {
          "output_type": "stream",
          "name": "stdout",
          "text": [
            "# NAEUN LEE\n",
            "\n",
            "### AI/ML Research Student\n",
            "\n",
            "---\n",
            "\n",
            "### Contact\n",
            "\n",
            "Location, State/Korea\n",
            "\n",
            "+00 123 456 789\n",
            "\n",
            "naaa2004@naver.com\n",
            "\n",
            "[LinkedIn](https://www.linkedin.com/login)\n",
            "\n",
            "### Profile\n",
            "\n",
            "전주대학교 인공지능학과에 재학 중이며, 머신러닝과 딥러닝을 포함한 인공지능 기술을 학습하고 있습니다. 현재 빅데이터센터에서 활동하며 데이터 분석 및 실무 경험을 쌓고 있으며, 과거에는 대학교 서포터즈로 활동하며 팀워크와 커뮤니케이션 능력을 키웠습니다. 새로운 도전을 통해 성장하고자 합니다.\n",
            "\n",
            "---\n",
            "\n",
            "### Skills\n",
            "\n",
            "**Python**\n",
            "\n",
            "◾◾◾\n",
            "\n",
            "**TensorFlow**\n",
            "\n",
            "◾◾◾\n",
            "\n",
            "**OpenCV**\n",
            "\n",
            "◾◾◾\n",
            "\n",
            "**PowerPoint**\n",
            "\n",
            "◾◾◾◾◾\n",
            "\n",
            "Microsoft Excel\n",
            "\n",
            "◾◾\n",
            "\n",
            "---\n",
            "\n",
            "### Languages\n",
            "\n",
            "Korean\n",
            "\n",
            "◾◾\n",
            "\n",
            "English\n",
            "\n",
            "◾\n",
            "\n",
            "French\n",
            "\n",
            "◾\n",
            "\n",
            "---\n",
            "\n",
            "### Side Hustles\n",
            "\n",
            "**Project Name**\n",
            "\n",
            "- Accomplishment\n",
            "- Quantify your experience\n",
            "- Highlight technical skills\n",
            "\n",
            "---\n",
            "\n",
            "### Work Experience\n",
            "\n",
            "**Lead Manager**\n",
            "\n",
            "전주대학교\n",
            "\n",
            "2023.03 – 2024.12\n",
            "\n",
            "- 2023 서포터즈\n",
            "- 2023 해외 서비스러닝\n",
            "- 2024 AICOSS 해커톤 은상\n",
            "- 2024 전주대학교 빅데이터 분석 대회 대상\n",
            "- 2024 Malaysia (UTM)\n",
            "\n",
            "---\n",
            "\n",
            "대학생\n",
            "\n",
            "전주대학교 \n",
            "\n",
            "*2023.3 ~*\n",
            "\n",
            "- 파이썬 배우기\n",
            "- 머신러닝 배우기\n",
            "- 딥러닝 배우기\n",
            "- 리눅스 배우기\n",
            "- 선형대수학 배우기\n",
            "\n",
            "---\n",
            "\n",
            "### Education\n",
            "\n",
            "전주대학교\n",
            "\n",
            "재학중~\n",
            "\n",
            "- Mention the skills you’ve learned\n",
            "- Mention the skills you’ve learned\n",
            "\n",
            "---\n",
            "\n",
            "호남 제일 고등학교\n",
            "\n",
            "2020.3 ~ 2023.2\n",
            "\n",
            "- 이과\n",
            "\n",
            "---\n",
            "\n",
            "### Courses\n",
            "\n",
            "- 3D Modelling\n",
            "- Animation\n",
            "- Advertising and Graphics\n",
            "\n",
            "### Achievements\n",
            "\n",
            "- List out your achievements.\n",
            "- List out your achievements.\n",
            "- List out your achievements.\n",
            "\n",
            "### References\n",
            "\n",
            "Add your references\n",
            "\n",
            "Add your references\n",
            "\n",
            "Add your references\n",
            "\n",
            "---\n"
          ]
        }
      ]
    },
    {
      "cell_type": "code",
      "source": [
        "# 문서를 분할할 헤더 레벨과 해당 레벨의 이름을 정의합니다.\n",
        "headers_to_split_on = [\n",
        "    (\"#\", \"Header 1\"),\n",
        "    (\"##\", \"Header 2\"),\n",
        "    (\"###\", \"Header 3\"),\n",
        "]"
      ],
      "metadata": {
        "id": "OvlaGXsEkR_r"
      },
      "execution_count": null,
      "outputs": []
    },
    {
      "cell_type": "code",
      "source": [
        "# MarkdownHeaderTextSplitter 객체 생성 (헤더 기준으로 분할)\n",
        "markdown_splitter = MarkdownHeaderTextSplitter(headers_to_split_on = headers_to_split_on)"
      ],
      "metadata": {
        "id": "epsdQFqXkiuo"
      },
      "execution_count": null,
      "outputs": []
    },
    {
      "cell_type": "code",
      "source": [
        "# 마크다운 문서를 헤더 기준으로 분할\n",
        "md_header_splits = markdown_splitter.split_text(file)"
      ],
      "metadata": {
        "id": "hXA0broOknUS"
      },
      "execution_count": null,
      "outputs": []
    },
    {
      "cell_type": "code",
      "source": [
        "# 분할된 결과 출력\n",
        "for header in md_header_splits:\n",
        "    print(f\"{header.page_content}\")   # 분할된 각 섹션의 내용\n",
        "    print(f\"{header.metadata}\", end=\"\\n=====================\\n\")  # 해당 섹션의 메타데이터"
      ],
      "metadata": {
        "colab": {
          "base_uri": "https://localhost:8080/"
        },
        "id": "XXNfybdnkpQS",
        "outputId": "30ba4592-fb67-418c-ef4d-35bc70644d5c"
      },
      "execution_count": null,
      "outputs": [
        {
          "output_type": "stream",
          "name": "stdout",
          "text": [
            "---\n",
            "{'Header 1': 'NAEUN LEE', 'Header 3': 'AI/ML Research Student'}\n",
            "=====================\n",
            "Location, State/Korea  \n",
            "+00 123 456 789  \n",
            "naaa2004@naver.com  \n",
            "[LinkedIn](https://www.linkedin.com/login)\n",
            "{'Header 1': 'NAEUN LEE', 'Header 3': 'Contact'}\n",
            "=====================\n",
            "전주대학교 인공지능학과에 재학 중이며, 머신러닝과 딥러닝을 포함한 인공지능 기술을 학습하고 있습니다. 현재 빅데이터센터에서 활동하며 데이터 분석 및 실무 경험을 쌓고 있으며, 과거에는 대학교 서포터즈로 활동하며 팀워크와 커뮤니케이션 능력을 키웠습니다. 새로운 도전을 통해 성장하고자 합니다.  \n",
            "---\n",
            "{'Header 1': 'NAEUN LEE', 'Header 3': 'Profile'}\n",
            "=====================\n",
            "**Python**  \n",
            "◾◾◾  \n",
            "**TensorFlow**  \n",
            "◾◾◾  \n",
            "**OpenCV**  \n",
            "◾◾◾  \n",
            "**PowerPoint**  \n",
            "◾◾◾◾◾  \n",
            "Microsoft Excel  \n",
            "◾◾  \n",
            "---\n",
            "{'Header 1': 'NAEUN LEE', 'Header 3': 'Skills'}\n",
            "=====================\n",
            "Korean  \n",
            "◾◾  \n",
            "English  \n",
            "◾  \n",
            "French  \n",
            "◾  \n",
            "---\n",
            "{'Header 1': 'NAEUN LEE', 'Header 3': 'Languages'}\n",
            "=====================\n",
            "**Project Name**  \n",
            "- Accomplishment\n",
            "- Quantify your experience\n",
            "- Highlight technical skills  \n",
            "---\n",
            "{'Header 1': 'NAEUN LEE', 'Header 3': 'Side Hustles'}\n",
            "=====================\n",
            "**Lead Manager**  \n",
            "전주대학교  \n",
            "2023.03 – 2024.12  \n",
            "- 2023 서포터즈\n",
            "- 2023 해외 서비스러닝\n",
            "- 2024 AICOSS 해커톤 은상\n",
            "- 2024 전주대학교 빅데이터 분석 대회 대상\n",
            "- 2024 Malaysia (UTM)  \n",
            "---  \n",
            "대학생  \n",
            "전주대학교  \n",
            "*2023.3 ~*  \n",
            "- 파이썬 배우기\n",
            "- 머신러닝 배우기\n",
            "- 딥러닝 배우기\n",
            "- 리눅스 배우기\n",
            "- 선형대수학 배우기  \n",
            "---\n",
            "{'Header 1': 'NAEUN LEE', 'Header 3': 'Work Experience'}\n",
            "=====================\n",
            "전주대학교  \n",
            "재학중~  \n",
            "- Mention the skills you’ve learned\n",
            "- Mention the skills you’ve learned  \n",
            "---  \n",
            "호남 제일 고등학교  \n",
            "2020.3 ~ 2023.2  \n",
            "- 이과  \n",
            "---\n",
            "{'Header 1': 'NAEUN LEE', 'Header 3': 'Education'}\n",
            "=====================\n",
            "- 3D Modelling\n",
            "- Animation\n",
            "- Advertising and Graphics\n",
            "{'Header 1': 'NAEUN LEE', 'Header 3': 'Courses'}\n",
            "=====================\n",
            "- List out your achievements.\n",
            "- List out your achievements.\n",
            "- List out your achievements.\n",
            "{'Header 1': 'NAEUN LEE', 'Header 3': 'Achievements'}\n",
            "=====================\n",
            "Add your references  \n",
            "Add your references  \n",
            "Add your references  \n",
            "---\n",
            "{'Header 1': 'NAEUN LEE', 'Header 3': 'References'}\n",
            "=====================\n"
          ]
        }
      ]
    },
    {
      "cell_type": "code",
      "source": [
        "markdown_splitter = MarkdownHeaderTextSplitter(\n",
        "    # 분할할 헤더를 지정합니다.\n",
        "    headers_to_split_on=headers_to_split_on,\n",
        "    # 헤더를 제거하지 않도록 설정합니다.\n",
        "    strip_headers=False,\n",
        ")\n",
        "# 마크다운 문서를 헤더를 기준으로 분할합니다.\n",
        "md_header_splits = markdown_splitter.split_text(file)\n",
        "# 분할된 결과를 출력합니다.\n",
        "for header in md_header_splits:\n",
        "    print(f\"{header.page_content}\")\n",
        "    print(f\"{header.metadata}\", end=\"\\n=====================\\n\")"
      ],
      "metadata": {
        "colab": {
          "base_uri": "https://localhost:8080/"
        },
        "id": "XWZ1lCkKkq9u",
        "outputId": "b04bf201-ffb5-4080-a46c-01826f0a2939"
      },
      "execution_count": null,
      "outputs": [
        {
          "output_type": "stream",
          "name": "stdout",
          "text": [
            "# NAEUN LEE  \n",
            "### AI/ML Research Student  \n",
            "---\n",
            "{'Header 1': 'NAEUN LEE', 'Header 3': 'AI/ML Research Student'}\n",
            "=====================\n",
            "### Contact  \n",
            "Location, State/Korea  \n",
            "+00 123 456 789  \n",
            "naaa2004@naver.com  \n",
            "[LinkedIn](https://www.linkedin.com/login)\n",
            "{'Header 1': 'NAEUN LEE', 'Header 3': 'Contact'}\n",
            "=====================\n",
            "### Profile  \n",
            "전주대학교 인공지능학과에 재학 중이며, 머신러닝과 딥러닝을 포함한 인공지능 기술을 학습하고 있습니다. 현재 빅데이터센터에서 활동하며 데이터 분석 및 실무 경험을 쌓고 있으며, 과거에는 대학교 서포터즈로 활동하며 팀워크와 커뮤니케이션 능력을 키웠습니다. 새로운 도전을 통해 성장하고자 합니다.  \n",
            "---\n",
            "{'Header 1': 'NAEUN LEE', 'Header 3': 'Profile'}\n",
            "=====================\n",
            "### Skills  \n",
            "**Python**  \n",
            "◾◾◾  \n",
            "**TensorFlow**  \n",
            "◾◾◾  \n",
            "**OpenCV**  \n",
            "◾◾◾  \n",
            "**PowerPoint**  \n",
            "◾◾◾◾◾  \n",
            "Microsoft Excel  \n",
            "◾◾  \n",
            "---\n",
            "{'Header 1': 'NAEUN LEE', 'Header 3': 'Skills'}\n",
            "=====================\n",
            "### Languages  \n",
            "Korean  \n",
            "◾◾  \n",
            "English  \n",
            "◾  \n",
            "French  \n",
            "◾  \n",
            "---\n",
            "{'Header 1': 'NAEUN LEE', 'Header 3': 'Languages'}\n",
            "=====================\n",
            "### Side Hustles  \n",
            "**Project Name**  \n",
            "- Accomplishment\n",
            "- Quantify your experience\n",
            "- Highlight technical skills  \n",
            "---\n",
            "{'Header 1': 'NAEUN LEE', 'Header 3': 'Side Hustles'}\n",
            "=====================\n",
            "### Work Experience  \n",
            "**Lead Manager**  \n",
            "전주대학교  \n",
            "2023.03 – 2024.12  \n",
            "- 2023 서포터즈\n",
            "- 2023 해외 서비스러닝\n",
            "- 2024 AICOSS 해커톤 은상\n",
            "- 2024 전주대학교 빅데이터 분석 대회 대상\n",
            "- 2024 Malaysia (UTM)  \n",
            "---  \n",
            "대학생  \n",
            "전주대학교  \n",
            "*2023.3 ~*  \n",
            "- 파이썬 배우기\n",
            "- 머신러닝 배우기\n",
            "- 딥러닝 배우기\n",
            "- 리눅스 배우기\n",
            "- 선형대수학 배우기  \n",
            "---\n",
            "{'Header 1': 'NAEUN LEE', 'Header 3': 'Work Experience'}\n",
            "=====================\n",
            "### Education  \n",
            "전주대학교  \n",
            "재학중~  \n",
            "- Mention the skills you’ve learned\n",
            "- Mention the skills you’ve learned  \n",
            "---  \n",
            "호남 제일 고등학교  \n",
            "2020.3 ~ 2023.2  \n",
            "- 이과  \n",
            "---\n",
            "{'Header 1': 'NAEUN LEE', 'Header 3': 'Education'}\n",
            "=====================\n",
            "### Courses  \n",
            "- 3D Modelling\n",
            "- Animation\n",
            "- Advertising and Graphics\n",
            "{'Header 1': 'NAEUN LEE', 'Header 3': 'Courses'}\n",
            "=====================\n",
            "### Achievements  \n",
            "- List out your achievements.\n",
            "- List out your achievements.\n",
            "- List out your achievements.\n",
            "{'Header 1': 'NAEUN LEE', 'Header 3': 'Achievements'}\n",
            "=====================\n",
            "### References  \n",
            "Add your references  \n",
            "Add your references  \n",
            "Add your references  \n",
            "---\n",
            "{'Header 1': 'NAEUN LEE', 'Header 3': 'References'}\n",
            "=====================\n"
          ]
        }
      ]
    },
    {
      "cell_type": "code",
      "source": [],
      "metadata": {
        "id": "C1RfMrVjlgRU"
      },
      "execution_count": null,
      "outputs": []
    }
  ]
}