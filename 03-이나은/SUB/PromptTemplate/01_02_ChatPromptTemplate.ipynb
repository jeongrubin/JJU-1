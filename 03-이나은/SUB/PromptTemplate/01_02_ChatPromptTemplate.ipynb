{
  "nbformat": 4,
  "nbformat_minor": 0,
  "metadata": {
    "colab": {
      "provenance": []
    },
    "kernelspec": {
      "name": "python3",
      "display_name": "Python 3"
    },
    "language_info": {
      "name": "python"
    }
  },
  "cells": [
    {
      "cell_type": "code",
      "execution_count": null,
      "metadata": {
        "id": "ZQNhKGFf1-BF"
      },
      "outputs": [],
      "source": [
        "import os\n",
        "\n",
        "os.environ[\"OPENAI_API_KEY\"] = \"\"\n",
        "os.environ[\"LANGCHAIN_API_KEY\"] = \"\"\n",
        "os.environ[\"LANGCHAIN_TRACING_V2\"] = \"true\"\n",
        "os.environ[\"LANGCHAIN_ENDPOINT\"] = \"https://api.smith.langchain.com\"\n",
        "os.environ[\"LANGCHAIN_PROJECT\"] = \"01-03\""
      ]
    },
    {
      "cell_type": "code",
      "source": [
        "!pip install -qU langchain_openai"
      ],
      "metadata": {
        "colab": {
          "base_uri": "https://localhost:8080/"
        },
        "id": "Aq85V0r_4w1v",
        "outputId": "12af9436-b94f-4e19-c47e-ff6f6a0cadaa"
      },
      "execution_count": null,
      "outputs": [
        {
          "output_type": "stream",
          "name": "stdout",
          "text": [
            "\u001b[?25l   \u001b[90m━━━━━━━━━━━━━━━━━━━━━━━━━━━━━━━━━━━━━━━━\u001b[0m \u001b[32m0.0/54.2 kB\u001b[0m \u001b[31m?\u001b[0m eta \u001b[36m-:--:--\u001b[0m\r\u001b[2K   \u001b[90m━━━━━━━━━━━━━━━━━━━━━━━━━━━━━━━━━━━━━━━━\u001b[0m \u001b[32m54.2/54.2 kB\u001b[0m \u001b[31m2.2 MB/s\u001b[0m eta \u001b[36m0:00:00\u001b[0m\n",
            "\u001b[?25h\u001b[?25l   \u001b[90m━━━━━━━━━━━━━━━━━━━━━━━━━━━━━━━━━━━━━━━━\u001b[0m \u001b[32m0.0/1.2 MB\u001b[0m \u001b[31m?\u001b[0m eta \u001b[36m-:--:--\u001b[0m\r\u001b[2K   \u001b[91m━━━━━━━━━━━━━━━━━━━━\u001b[0m\u001b[91m╸\u001b[0m\u001b[90m━━━━━━━━━━━━━━━━━━━\u001b[0m \u001b[32m0.6/1.2 MB\u001b[0m \u001b[31m17.6 MB/s\u001b[0m eta \u001b[36m0:00:01\u001b[0m\r\u001b[2K   \u001b[90m━━━━━━━━━━━━━━━━━━━━━━━━━━━━━━━━━━━━━━━━\u001b[0m \u001b[32m1.2/1.2 MB\u001b[0m \u001b[31m18.0 MB/s\u001b[0m eta \u001b[36m0:00:00\u001b[0m\n",
            "\u001b[?25h"
          ]
        }
      ]
    },
    {
      "cell_type": "code",
      "source": [
        "!pip install -qU langchain"
      ],
      "metadata": {
        "id": "gBdYthHc4B9k"
      },
      "execution_count": null,
      "outputs": []
    },
    {
      "cell_type": "code",
      "source": [
        "!pip install -qU langchain_core"
      ],
      "metadata": {
        "id": "TKzpZ_wn4OSO"
      },
      "execution_count": null,
      "outputs": []
    },
    {
      "cell_type": "markdown",
      "source": [
        "### prompttemplate와 chatprompttemplate 비교\n"
      ],
      "metadata": {
        "id": "y6jdsE0F4ZcT"
      }
    },
    {
      "cell_type": "code",
      "source": [
        "from langchain_core.prompts import PromptTemplate\n",
        "\n",
        "prompr = PromptTemplate.from_template(\n",
        "    '''\n",
        "    {country}의 수도는 어디일까?\n",
        "    '''\n",
        ")"
      ],
      "metadata": {
        "id": "pECAhcHL3B2q"
      },
      "execution_count": null,
      "outputs": []
    },
    {
      "cell_type": "code",
      "source": [
        "from langchain_core.prompts import ChatPromptTemplate\n",
        "\n",
        "chat_prompt = ChatPromptTemplate.from_template(\n",
        "    '''\n",
        "    {country}의 수도는 어디일까?\n",
        "    '''\n",
        ")"
      ],
      "metadata": {
        "id": "YvB4gBdR4-rv"
      },
      "execution_count": null,
      "outputs": []
    },
    {
      "cell_type": "code",
      "source": [
        "from langchain_core.prompts import ChatPromptTemplate\n",
        "\n",
        "chat_prompt = ChatPromptTemplate.from_template(\n",
        "    \"\"\"\n",
        "    ('system', '너는 내용을 요약하는데 능숙한 어시스턴트야. 너의 이름은 {name}이야. 잘 대답해'),\n",
        "    ('human', '반갑습니다.'),\n",
        "    ('ai', '안녕하세요. 무엇을 도와드릴까요?'),\n",
        "    ('human', '{question}'),\n",
        "\"\"\"\n",
        ")\n",
        "\n",
        "chat_prompt"
      ],
      "metadata": {
        "colab": {
          "base_uri": "https://localhost:8080/"
        },
        "id": "ndBk5lZ17DJc",
        "outputId": "385bc58a-c7ac-4993-906c-9f24d0e992f3"
      },
      "execution_count": null,
      "outputs": [
        {
          "output_type": "execute_result",
          "data": {
            "text/plain": [
              "ChatPromptTemplate(input_variables=['name', 'question'], input_types={}, partial_variables={}, messages=[HumanMessagePromptTemplate(prompt=PromptTemplate(input_variables=['name', 'question'], input_types={}, partial_variables={}, template=\"\\n    ('system', '너는 내용을 요약하는데 능숙한 어시스턴트야. 너의 이름은 {name}이야. 잘 대답해'),\\n    ('human', '반갑습니다.'),\\n    ('ai', '안녕하세요. 무엇을 도와드릴까요?'),\\n    ('human', '{question}'),\\n\"), additional_kwargs={})])"
            ]
          },
          "metadata": {},
          "execution_count": 31
        }
      ]
    },
    {
      "cell_type": "code",
      "source": [
        "# 메시지 생성\n",
        "message = chat_prompt.format_messages(name = 'naeun', question=\"오늘 날짜 알려줘\")\n",
        "\n",
        "# 생성된 메시지 출력\n",
        "print(message)"
      ],
      "metadata": {
        "colab": {
          "base_uri": "https://localhost:8080/"
        },
        "id": "1UOy58889NZk",
        "outputId": "1bdb904c-9b9d-4976-d71e-b513f4fd0439"
      },
      "execution_count": null,
      "outputs": [
        {
          "output_type": "stream",
          "name": "stdout",
          "text": [
            "[HumanMessage(content=\"\\n    ('system', '너는 내용을 요약하는데 능숙한 어시스턴트야. 너의 이름은 naeun이야. 잘 대답해'),\\n    ('human', '반갑습니다.'),\\n    ('ai', '안녕하세요. 무엇을 도와드릴까요?'),\\n    ('human', '오늘 날짜 알려줘'),\\n\", additional_kwargs={}, response_metadata={})]\n"
          ]
        }
      ]
    },
    {
      "cell_type": "code",
      "source": [
        "message"
      ],
      "metadata": {
        "colab": {
          "base_uri": "https://localhost:8080/"
        },
        "id": "0P1VgUUs9dRH",
        "outputId": "99ee7443-7631-4294-eb96-4a18d17d90bd"
      },
      "execution_count": null,
      "outputs": [
        {
          "output_type": "execute_result",
          "data": {
            "text/plain": [
              "[HumanMessage(content=\"\\n    ('system', '너는 내용을 요약하는데 능숙한 어시스턴트야. 너의 이름은 naeun이야. 잘 대답해'),\\n    ('human', '반갑습니다.'),\\n    ('ai', '안녕하세요. 무엇을 도와드릴까요?'),\\n    ('human', '오늘 날짜 알려줘'),\\n\", additional_kwargs={}, response_metadata={})]"
            ]
          },
          "metadata": {},
          "execution_count": 36
        }
      ]
    },
    {
      "cell_type": "code",
      "source": [
        "from langchain_openai import ChatOpenAI\n",
        "\n",
        "llm = ChatOpenAI(\n",
        "    model = 'gpt-4o',\n",
        "    temperature = 0,\n",
        "\n",
        ")\n",
        "\n",
        "llm(message)"
      ],
      "metadata": {
        "colab": {
          "base_uri": "https://localhost:8080/"
        },
        "id": "KFBILnoz2imi",
        "outputId": "94c4027b-1330-42d6-d56e-971e35de725e"
      },
      "execution_count": null,
      "outputs": [
        {
          "output_type": "stream",
          "name": "stderr",
          "text": [
            "<ipython-input-37-5718a95ebee6>:9: LangChainDeprecationWarning: The method `BaseChatModel.__call__` was deprecated in langchain-core 0.1.7 and will be removed in 1.0. Use :meth:`~invoke` instead.\n",
            "  llm(message)\n"
          ]
        },
        {
          "output_type": "execute_result",
          "data": {
            "text/plain": [
              "AIMessage(content='오늘은 2023년 10월 21일입니다. 무엇을 도와드릴까요?', additional_kwargs={'refusal': None}, response_metadata={'token_usage': {'completion_tokens': 23, 'prompt_tokens': 81, 'total_tokens': 104, 'completion_tokens_details': {'accepted_prediction_tokens': 0, 'audio_tokens': 0, 'reasoning_tokens': 0, 'rejected_prediction_tokens': 0}, 'prompt_tokens_details': {'audio_tokens': 0, 'cached_tokens': 0}}, 'model_name': 'gpt-4o-2024-08-06', 'system_fingerprint': 'fp_b7d65f1a5b', 'finish_reason': 'stop', 'logprobs': None}, id='run-28ac8874-f361-4a53-8220-7aa8c093275e-0', usage_metadata={'input_tokens': 81, 'output_tokens': 23, 'total_tokens': 104, 'input_token_details': {'audio': 0, 'cache_read': 0}, 'output_token_details': {'audio': 0, 'reasoning': 0}})"
            ]
          },
          "metadata": {},
          "execution_count": 37
        }
      ]
    },
    {
      "cell_type": "code",
      "source": [
        "llm.invoke(message).content"
      ],
      "metadata": {
        "colab": {
          "base_uri": "https://localhost:8080/",
          "height": 35
        },
        "id": "lj14Q7TD-DkT",
        "outputId": "cb4f76a3-2c37-4dc7-8e49-eda8d013abb2"
      },
      "execution_count": null,
      "outputs": [
        {
          "output_type": "execute_result",
          "data": {
            "text/plain": [
              "'오늘은 2023년 10월 21일입니다. 무엇을 도와드릴까요?'"
            ],
            "application/vnd.google.colaboratory.intrinsic+json": {
              "type": "string"
            }
          },
          "metadata": {},
          "execution_count": 38
        }
      ]
    },
    {
      "cell_type": "code",
      "source": [
        "chain = chat_prompt | llm\n",
        "result_2 = chain.invoke({\"name\":\"naeun\",\"question\":\"당신의 이름은 무엇입니까?\"})\n",
        "result_2.content"
      ],
      "metadata": {
        "colab": {
          "base_uri": "https://localhost:8080/",
          "height": 35
        },
        "id": "UVcASN1N3AXf",
        "outputId": "0777c886-3791-4fb6-b605-170e25473078"
      },
      "execution_count": null,
      "outputs": [
        {
          "output_type": "execute_result",
          "data": {
            "text/plain": [
              "\"('ai', '제 이름은 naeun입니다. 어떻게 도와드릴까요?')\""
            ],
            "application/vnd.google.colaboratory.intrinsic+json": {
              "type": "string"
            }
          },
          "metadata": {},
          "execution_count": 40
        }
      ]
    },
    {
      "cell_type": "code",
      "source": [],
      "metadata": {
        "id": "XjMNg7XA-z7-"
      },
      "execution_count": null,
      "outputs": []
    }
  ]
}