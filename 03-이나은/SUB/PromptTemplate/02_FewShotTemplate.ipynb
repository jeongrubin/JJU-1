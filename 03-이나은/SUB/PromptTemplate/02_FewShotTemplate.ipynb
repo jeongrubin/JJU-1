{
  "nbformat": 4,
  "nbformat_minor": 0,
  "metadata": {
    "colab": {
      "provenance": []
    },
    "kernelspec": {
      "name": "python3",
      "display_name": "Python 3"
    },
    "language_info": {
      "name": "python"
    }
  },
  "cells": [
    {
      "cell_type": "code",
      "source": [
        "!pip install -qU langchain langchain_openai"
      ],
      "metadata": {
        "id": "Kedubnw_eAQx"
      },
      "execution_count": null,
      "outputs": []
    },
    {
      "cell_type": "code",
      "source": [
        "import os\n",
        "\n",
        "os.environ[\"OPENAI_API_KEY\"] = \"\"\n",
        "os.environ[\"LANGCHAIN_API_KEY\"] = \"\"\n",
        "os.environ[\"LANGCHAIN_TRACING_V2\"] = \"true\"\n",
        "os.environ[\"LANGCHAIN_ENDPOINT\"] = \"https://api.smith.langchain.com\"\n",
        "os.environ[\"LANGCHAIN_PROJECT\"] = \"01-03\""
      ],
      "metadata": {
        "id": "qfxnUreEdlEh"
      },
      "execution_count": null,
      "outputs": []
    },
    {
      "cell_type": "code",
      "source": [
        "from langchain import PromptTemplate, FewShotPromptTemplate\n",
        "from langchain_openai import ChatOpenAI\n",
        "from langchain_core.output_parsers import StrOutputParser"
      ],
      "metadata": {
        "id": "3OU2RyMpagBr"
      },
      "execution_count": null,
      "outputs": []
    },
    {
      "cell_type": "code",
      "source": [
        "examples = [\n",
        "    {\n",
        "        \"question\": \"스티브 잡스와 아인슈타인 중 누가 더 오래 살았나요?\",\n",
        "        \"answer\": \"\"\"이 질문에 추가 질문이 필요한가요: 예.\n",
        "추가 질문: 스티브 잡스는 몇 살에 사망했나요?\n",
        "중간 답변: 스티브 잡스는 56세에 사망했습니다.\n",
        "추가 질문: 아인슈타인은 몇 살에 사망했나요?\n",
        "중간 답변: 아인슈타인은 76세에 사망했습니다.\n",
        "최종 답변은: 아인슈타인\n",
        "\"\"\",\n",
        "    },\n",
        "    {\n",
        "        \"question\": \"네이버의 창립자는 언제 태어났나요?\",\n",
        "        \"answer\": \"\"\"이 질문에 추가 질문이 필요한가요: 예.\n",
        "추가 질문: 네이버의 창립자는 누구인가요?\n",
        "중간 답변: 네이버는 이해진에 의해 창립되었습니다.\n",
        "추가 질문: 이해진은 언제 태어났나요?\n",
        "중간 답변: 이해진은 1967년 6월 22일에 태어났습니다.\n",
        "최종 답변은: 1967년 6월 22일\n",
        "\"\"\",\n",
        "    },\n",
        "    {\n",
        "        \"question\": \"율곡 이이의 어머니가 태어난 해의 통치하던 왕은 누구인가요?\",\n",
        "        \"answer\": \"\"\"이 질문에 추가 질문이 필요한가요: 예.\n",
        "추가 질문: 율곡 이이의 어머니는 누구인가요?\n",
        "중간 답변: 율곡 이이의 어머니는 신사임당입니다.\n",
        "추가 질문: 신사임당은 언제 태어났나요?\n",
        "중간 답변: 신사임당은 1504년에 태어났습니다.\n",
        "추가 질문: 1504년에 조선을 통치한 왕은 누구인가요?\n",
        "중간 답변: 1504년에 조선을 통치한 왕은 연산군입니다.\n",
        "최종 답변은: 연산군\n",
        "\"\"\",\n",
        "    },\n",
        "    {\n",
        "        \"question\": \"올드보이와 기생충의 감독이 같은 나라 출신인가요?\",\n",
        "        \"answer\": \"\"\"이 질문에 추가 질문이 필요한가요: 예.\n",
        "추가 질문: 올드보이의 감독은 누구인가요?\n",
        "중간 답변: 올드보이의 감독은 박찬욱입니다.\n",
        "추가 질문: 박찬욱은 어느 나라 출신인가요?\n",
        "중간 답변: 박찬욱은 대한민국 출신입니다.\n",
        "추가 질문: 기생충의 감독은 누구인가요?\n",
        "중간 답변: 기생충의 감독은 봉준호입니다.\n",
        "추가 질문: 봉준호는 어느 나라 출신인가요?\n",
        "중간 답변: 봉준호는 대한민국 출신입니다.\n",
        "최종 답변은: 예\n",
        "\"\"\",\n",
        "    },\n",
        "]"
      ],
      "metadata": {
        "id": "UuvPK9P6YQMJ"
      },
      "execution_count": null,
      "outputs": []
    },
    {
      "cell_type": "code",
      "source": [
        "example_prompt = PromptTemplate(\n",
        "    input_variables=[\"question\", \"answer\"],\n",
        "    template=\"Question: {question}\\nAnswer: {answer}\"\n",
        ")"
      ],
      "metadata": {
        "id": "Mc6NlrfAfTn8"
      },
      "execution_count": null,
      "outputs": []
    },
    {
      "cell_type": "code",
      "execution_count": null,
      "metadata": {
        "id": "cMX1Zm2eYAfG"
      },
      "outputs": [],
      "source": [
        "prompt = FewShotPromptTemplate(\n",
        "    examples=examples,\n",
        "    example_prompt=example_prompt,\n",
        "    suffix=\"Question: {question}\\nAnswer:\",\n",
        "    input_variables=[\"question\"]\n",
        ")"
      ]
    },
    {
      "cell_type": "code",
      "source": [
        "question = \"인공지능으로 유명한 대학교 5개가 어디야?\"\n",
        "\n",
        "final_prompt = prompt.format(question = question)\n",
        "print(final_prompt)"
      ],
      "metadata": {
        "colab": {
          "base_uri": "https://localhost:8080/"
        },
        "id": "8pdFbHQleosE",
        "outputId": "bd7f444f-0b25-41d1-fddf-0258d84607b3"
      },
      "execution_count": null,
      "outputs": [
        {
          "output_type": "stream",
          "name": "stdout",
          "text": [
            "Question: 스티브 잡스와 아인슈타인 중 누가 더 오래 살았나요?\n",
            "Answer: 이 질문에 추가 질문이 필요한가요: 예.\n",
            "추가 질문: 스티브 잡스는 몇 살에 사망했나요?\n",
            "중간 답변: 스티브 잡스는 56세에 사망했습니다.\n",
            "추가 질문: 아인슈타인은 몇 살에 사망했나요?\n",
            "중간 답변: 아인슈타인은 76세에 사망했습니다.\n",
            "최종 답변은: 아인슈타인\n",
            "\n",
            "\n",
            "Question: 네이버의 창립자는 언제 태어났나요?\n",
            "Answer: 이 질문에 추가 질문이 필요한가요: 예.\n",
            "추가 질문: 네이버의 창립자는 누구인가요?\n",
            "중간 답변: 네이버는 이해진에 의해 창립되었습니다.\n",
            "추가 질문: 이해진은 언제 태어났나요?\n",
            "중간 답변: 이해진은 1967년 6월 22일에 태어났습니다.\n",
            "최종 답변은: 1967년 6월 22일\n",
            "\n",
            "\n",
            "Question: 율곡 이이의 어머니가 태어난 해의 통치하던 왕은 누구인가요?\n",
            "Answer: 이 질문에 추가 질문이 필요한가요: 예.\n",
            "추가 질문: 율곡 이이의 어머니는 누구인가요?\n",
            "중간 답변: 율곡 이이의 어머니는 신사임당입니다.\n",
            "추가 질문: 신사임당은 언제 태어났나요?\n",
            "중간 답변: 신사임당은 1504년에 태어났습니다.\n",
            "추가 질문: 1504년에 조선을 통치한 왕은 누구인가요?\n",
            "중간 답변: 1504년에 조선을 통치한 왕은 연산군입니다.\n",
            "최종 답변은: 연산군\n",
            "\n",
            "\n",
            "Question: 올드보이와 기생충의 감독이 같은 나라 출신인가요?\n",
            "Answer: 이 질문에 추가 질문이 필요한가요: 예.\n",
            "추가 질문: 올드보이의 감독은 누구인가요?\n",
            "중간 답변: 올드보이의 감독은 박찬욱입니다.\n",
            "추가 질문: 박찬욱은 어느 나라 출신인가요?\n",
            "중간 답변: 박찬욱은 대한민국 출신입니다.\n",
            "추가 질문: 기생충의 감독은 누구인가요?\n",
            "중간 답변: 기생충의 감독은 봉준호입니다.\n",
            "추가 질문: 봉준호는 어느 나라 출신인가요?\n",
            "중간 답변: 봉준호는 대한민국 출신입니다.\n",
            "최종 답변은: 예\n",
            "\n",
            "\n",
            "Question: 인공지능으로 유명한 대학교 5개가 어디야?\n",
            "Answer:\n"
          ]
        }
      ]
    },
    {
      "cell_type": "code",
      "source": [
        "from langchain_openai import ChatOpenAI\n",
        "\n",
        "llm = ChatOpenAI(\n",
        "    temperature = 0,\n",
        "    model_name = 'gpt-4o',\n",
        ")"
      ],
      "metadata": {
        "id": "VYSQmGEFaeb7"
      },
      "execution_count": null,
      "outputs": []
    },
    {
      "cell_type": "code",
      "source": [
        "llm.invoke(final_prompt)"
      ],
      "metadata": {
        "colab": {
          "base_uri": "https://localhost:8080/"
        },
        "id": "V3lpAWo5eXNY",
        "outputId": "c19f79b5-8351-4896-ec1a-638f96a5aedb"
      },
      "execution_count": null,
      "outputs": [
        {
          "output_type": "execute_result",
          "data": {
            "text/plain": [
              "AIMessage(content='이 질문에 추가 질문이 필요한가요: 예.\\n추가 질문: 인공지능 분야에서 유명한 대학교는 어떤 기준으로 선정되나요?\\n중간 답변: 인공지능 분야에서 유명한 대학교는 연구 성과, 교수진, 프로그램의 질, 산업과의 협력 등을 기준으로 선정됩니다.\\n추가 질문: 인공지능 분야에서 유명한 대학교 5개는 어디인가요?\\n중간 답변: 인공지능 분야에서 유명한 대학교로는 미국의 MIT(매사추세츠 공과대학교), 스탠퍼드 대학교, 카네기 멜런 대학교, UC 버클리(캘리포니아 대학교 버클리), 영국의 옥스퍼드 대학교 등이 있습니다.\\n최종 답변은: MIT, 스탠퍼드 대학교, 카네기 멜런 대학교, UC 버클리, 옥스퍼드 대학교', additional_kwargs={'refusal': None}, response_metadata={'token_usage': {'completion_tokens': 204, 'prompt_tokens': 580, 'total_tokens': 784, 'completion_tokens_details': {'accepted_prediction_tokens': 0, 'audio_tokens': 0, 'reasoning_tokens': 0, 'rejected_prediction_tokens': 0}, 'prompt_tokens_details': {'audio_tokens': 0, 'cached_tokens': 0}}, 'model_name': 'gpt-4o-2024-08-06', 'system_fingerprint': 'fp_b7d65f1a5b', 'finish_reason': 'stop', 'logprobs': None}, id='run-99a04066-3ee9-480e-817d-7f157ea4d090-0', usage_metadata={'input_tokens': 580, 'output_tokens': 204, 'total_tokens': 784, 'input_token_details': {'audio': 0, 'cache_read': 0}, 'output_token_details': {'audio': 0, 'reasoning': 0}})"
            ]
          },
          "metadata": {},
          "execution_count": 9
        }
      ]
    },
    {
      "cell_type": "code",
      "source": [
        "chain = prompt | llm\n",
        "\n",
        "print(chain.invoke({\"question\": question}).content)"
      ],
      "metadata": {
        "colab": {
          "base_uri": "https://localhost:8080/"
        },
        "id": "5xssTjloikAk",
        "outputId": "2eebbd58-3aad-48d9-8eef-3c058a6e963a"
      },
      "execution_count": null,
      "outputs": [
        {
          "output_type": "stream",
          "name": "stdout",
          "text": [
            "이 질문에 추가 질문이 필요한가요: 예.\n",
            "추가 질문: 인공지능 분야에서 유명한 대학교는 어떤 기준으로 선정되나요?\n",
            "중간 답변: 인공지능 분야에서 유명한 대학교는 연구 성과, 교수진, 프로그램의 질, 산업과의 협력 등을 기준으로 선정됩니다.\n",
            "추가 질문: 인공지능 분야에서 세계적으로 유명한 대학교는 어디인가요?\n",
            "중간 답변: 인공지능 분야에서 세계적으로 유명한 대학교로는 MIT(매사추세츠 공과대학교), 스탠퍼드 대학교, 카네기 멜런 대학교, UC 버클리, 하버드 대학교 등이 있습니다.\n",
            "최종 답변은: MIT, 스탠퍼드 대학교, 카네기 멜런 대학교, UC 버클리, 하버드 대학교\n"
          ]
        }
      ]
    },
    {
      "cell_type": "markdown",
      "source": [
        "### yaml"
      ],
      "metadata": {
        "id": "VUaSgp16jovg"
      }
    },
    {
      "cell_type": "code",
      "source": [
        "!pip install -qU langchain-teddynote"
      ],
      "metadata": {
        "id": "8ghwxhrwiuBR"
      },
      "execution_count": null,
      "outputs": []
    },
    {
      "cell_type": "code",
      "source": [
        "import yaml\n",
        "from langchain.prompts import FewShotPromptTemplate, PromptTemplate\n",
        "\n",
        "# YAML 파일 로드\n",
        "with open('/content/prompt.yaml', 'r', encoding='utf-8') as file:\n",
        "    data = yaml.safe_load(file)"
      ],
      "metadata": {
        "id": "zhX6BX0Rko6t"
      },
      "execution_count": null,
      "outputs": []
    },
    {
      "cell_type": "code",
      "source": [
        "# 프롬프트 템플릿 정의\n",
        "template = \"\"\"\n",
        "Question: {question}\n",
        "Answer: {answer}\n",
        "\"\"\"\n",
        "prompt_template = PromptTemplate(input_variables=[\"question\", \"answer\"], template=template)"
      ],
      "metadata": {
        "id": "gyvZ9W-7mgFE"
      },
      "execution_count": null,
      "outputs": []
    },
    {
      "cell_type": "code",
      "source": [
        "prompt_template = PromptTemplate(\n",
        "    input_variables=[\"question\", \"answer\"],\n",
        "    template=template)"
      ],
      "metadata": {
        "id": "9Abuyyv3ogVb"
      },
      "execution_count": null,
      "outputs": []
    },
    {
      "cell_type": "code",
      "source": [
        "# FewShotPromptTemplate 생성\n",
        "few_shot_prompt = FewShotPromptTemplate(\n",
        "    examples=examples,\n",
        "    example_prompt=prompt_template,\n",
        "    prefix=\"이 질문에 대한 답을 주세요.\",\n",
        "    suffix=data.get('suffix', \"\"),\n",
        "    input_variables=[\"question\"]\n",
        ")\n",
        "\n",
        "# 질문을 입력\n",
        "question = \"바나나의 색깔은?\"\n",
        "\n",
        "# 템플릿 실행\n",
        "formatted_prompt = few_shot_prompt.format(question=question)\n",
        "\n",
        "# 결과 출력\n",
        "print(formatted_prompt)"
      ],
      "metadata": {
        "colab": {
          "base_uri": "https://localhost:8080/"
        },
        "id": "-kuRbRB9ET7p",
        "outputId": "1eb2a1b4-fbcc-4a80-aaa2-4c01ce3f452b"
      },
      "execution_count": null,
      "outputs": [
        {
          "output_type": "stream",
          "name": "stdout",
          "text": [
            "이 질문에 대한 답을 주세요.\n",
            "\n",
            "\n",
            "Question: 스티브 잡스와 아인슈타인 중 누가 더 오래 살았나요?\n",
            "Answer: 이 질문에 추가 질문이 필요한가요: 예.\n",
            "추가 질문: 스티브 잡스는 몇 살에 사망했나요?\n",
            "중간 답변: 스티브 잡스는 56세에 사망했습니다.\n",
            "추가 질문: 아인슈타인은 몇 살에 사망했나요?\n",
            "중간 답변: 아인슈타인은 76세에 사망했습니다.\n",
            "최종 답변은: 아인슈타인\n",
            "\n",
            "\n",
            "\n",
            "\n",
            "Question: 네이버의 창립자는 언제 태어났나요?\n",
            "Answer: 이 질문에 추가 질문이 필요한가요: 예.\n",
            "추가 질문: 네이버의 창립자는 누구인가요?\n",
            "중간 답변: 네이버는 이해진에 의해 창립되었습니다.\n",
            "추가 질문: 이해진은 언제 태어났나요?\n",
            "중간 답변: 이해진은 1967년 6월 22일에 태어났습니다.\n",
            "최종 답변은: 1967년 6월 22일\n",
            "\n",
            "\n",
            "\n",
            "Question: 바나나의 색깔은?\n",
            "Answer:\n",
            "\n"
          ]
        }
      ]
    },
    {
      "cell_type": "code",
      "source": [
        "from langchain_openai import ChatOpenAI\n",
        "\n",
        "llm = ChatOpenAI(\n",
        "    temperature = 0,\n",
        "    model_name = 'gpt-4o',\n",
        ")"
      ],
      "metadata": {
        "id": "_pzaXZ_ADijD"
      },
      "execution_count": null,
      "outputs": []
    },
    {
      "cell_type": "code",
      "source": [
        "llm.invoke(formatted_prompt)"
      ],
      "metadata": {
        "colab": {
          "base_uri": "https://localhost:8080/"
        },
        "id": "aivgjXjWDnEf",
        "outputId": "2ac24794-bed3-4e5b-81a6-f776456eb901"
      },
      "execution_count": null,
      "outputs": [
        {
          "output_type": "execute_result",
          "data": {
            "text/plain": [
              "AIMessage(content='이 질문에 추가 질문이 필요한가요: 아니요.\\n최종 답변은: 바나나는 일반적으로 노란색입니다.', additional_kwargs={'refusal': None}, response_metadata={'token_usage': {'completion_tokens': 30, 'prompt_tokens': 265, 'total_tokens': 295, 'completion_tokens_details': {'accepted_prediction_tokens': 0, 'audio_tokens': 0, 'reasoning_tokens': 0, 'rejected_prediction_tokens': 0}, 'prompt_tokens_details': {'audio_tokens': 0, 'cached_tokens': 0}}, 'model_name': 'gpt-4o-2024-08-06', 'system_fingerprint': 'fp_703d4ff298', 'finish_reason': 'stop', 'logprobs': None}, id='run-e4885e45-2d66-4c92-bcb3-be046226a829-0', usage_metadata={'input_tokens': 265, 'output_tokens': 30, 'total_tokens': 295, 'input_token_details': {'audio': 0, 'cache_read': 0}, 'output_token_details': {'audio': 0, 'reasoning': 0}})"
            ]
          },
          "metadata": {},
          "execution_count": 76
        }
      ]
    },
    {
      "cell_type": "code",
      "source": [
        "chain = prompt | llm\n",
        "\n",
        "print(chain.invoke({\"question\": question}).content)"
      ],
      "metadata": {
        "colab": {
          "base_uri": "https://localhost:8080/"
        },
        "id": "zk9YrJv3DvvC",
        "outputId": "604887aa-81e1-4480-e339-4e3f12071bf5"
      },
      "execution_count": null,
      "outputs": [
        {
          "output_type": "stream",
          "name": "stdout",
          "text": [
            "이 질문에 추가 질문이 필요한가요: 아니요.  \n",
            "최종 답변은: 바나나는 일반적으로 노란색입니다. (익기 전에는 녹색일 수 있습니다.)\n"
          ]
        }
      ]
    },
    {
      "cell_type": "markdown",
      "source": [
        "## 2.Example Selector\n",
        "한 개의 질문에만 답변을 하여 돈 아끼기 가능"
      ],
      "metadata": {
        "id": "LCZFeOJwpvss"
      }
    },
    {
      "cell_type": "code",
      "source": [
        "!pip install -qU langchain langchain_openai langchain_chroma"
      ],
      "metadata": {
        "colab": {
          "base_uri": "https://localhost:8080/"
        },
        "id": "8dOwRe0dq9Vj",
        "outputId": "4ac8696f-2c3d-4e56-ef25-082fb9a0236d"
      },
      "execution_count": null,
      "outputs": [
        {
          "output_type": "stream",
          "name": "stdout",
          "text": [
            "\u001b[?25l     \u001b[90m━━━━━━━━━━━━━━━━━━━━━━━━━━━━━━━━━━━━━━━━\u001b[0m \u001b[32m0.0/67.3 kB\u001b[0m \u001b[31m?\u001b[0m eta \u001b[36m-:--:--\u001b[0m\r\u001b[2K     \u001b[90m━━━━━━━━━━━━━━━━━━━━━━━━━━━━━━━━━━━━━━━━\u001b[0m \u001b[32m67.3/67.3 kB\u001b[0m \u001b[31m3.2 MB/s\u001b[0m eta \u001b[36m0:00:00\u001b[0m\n",
            "\u001b[?25h  Installing build dependencies ... \u001b[?25l\u001b[?25hdone\n",
            "  Getting requirements to build wheel ... \u001b[?25l\u001b[?25hdone\n",
            "  Preparing metadata (pyproject.toml) ... \u001b[?25l\u001b[?25hdone\n",
            "\u001b[2K   \u001b[90m━━━━━━━━━━━━━━━━━━━━━━━━━━━━━━━━━━━━━━━━\u001b[0m \u001b[32m628.3/628.3 kB\u001b[0m \u001b[31m16.1 MB/s\u001b[0m eta \u001b[36m0:00:00\u001b[0m\n",
            "\u001b[2K   \u001b[90m━━━━━━━━━━━━━━━━━━━━━━━━━━━━━━━━━━━━━━━━\u001b[0m \u001b[32m2.4/2.4 MB\u001b[0m \u001b[31m53.7 MB/s\u001b[0m eta \u001b[36m0:00:00\u001b[0m\n",
            "\u001b[2K   \u001b[90m━━━━━━━━━━━━━━━━━━━━━━━━━━━━━━━━━━━━━━━━\u001b[0m \u001b[32m94.8/94.8 kB\u001b[0m \u001b[31m5.9 MB/s\u001b[0m eta \u001b[36m0:00:00\u001b[0m\n",
            "\u001b[2K   \u001b[90m━━━━━━━━━━━━━━━━━━━━━━━━━━━━━━━━━━━━━━━━\u001b[0m \u001b[32m278.6/278.6 kB\u001b[0m \u001b[31m18.4 MB/s\u001b[0m eta \u001b[36m0:00:00\u001b[0m\n",
            "\u001b[2K   \u001b[90m━━━━━━━━━━━━━━━━━━━━━━━━━━━━━━━━━━━━━━━━\u001b[0m \u001b[32m1.9/1.9 MB\u001b[0m \u001b[31m40.5 MB/s\u001b[0m eta \u001b[36m0:00:00\u001b[0m\n",
            "\u001b[2K   \u001b[90m━━━━━━━━━━━━━━━━━━━━━━━━━━━━━━━━━━━━━━━━\u001b[0m \u001b[32m13.3/13.3 MB\u001b[0m \u001b[31m58.1 MB/s\u001b[0m eta \u001b[36m0:00:00\u001b[0m\n",
            "\u001b[2K   \u001b[90m━━━━━━━━━━━━━━━━━━━━━━━━━━━━━━━━━━━━━━━━\u001b[0m \u001b[32m55.8/55.8 kB\u001b[0m \u001b[31m3.4 MB/s\u001b[0m eta \u001b[36m0:00:00\u001b[0m\n",
            "\u001b[2K   \u001b[90m━━━━━━━━━━━━━━━━━━━━━━━━━━━━━━━━━━━━━━━━\u001b[0m \u001b[32m54.9/54.9 kB\u001b[0m \u001b[31m4.0 MB/s\u001b[0m eta \u001b[36m0:00:00\u001b[0m\n",
            "\u001b[2K   \u001b[90m━━━━━━━━━━━━━━━━━━━━━━━━━━━━━━━━━━━━━━━━\u001b[0m \u001b[32m73.2/73.2 kB\u001b[0m \u001b[31m5.8 MB/s\u001b[0m eta \u001b[36m0:00:00\u001b[0m\n",
            "\u001b[2K   \u001b[90m━━━━━━━━━━━━━━━━━━━━━━━━━━━━━━━━━━━━━━━━\u001b[0m \u001b[32m3.0/3.0 MB\u001b[0m \u001b[31m51.3 MB/s\u001b[0m eta \u001b[36m0:00:00\u001b[0m\n",
            "\u001b[2K   \u001b[90m━━━━━━━━━━━━━━━━━━━━━━━━━━━━━━━━━━━━━━━━\u001b[0m \u001b[32m62.3/62.3 kB\u001b[0m \u001b[31m4.1 MB/s\u001b[0m eta \u001b[36m0:00:00\u001b[0m\n",
            "\u001b[2K   \u001b[90m━━━━━━━━━━━━━━━━━━━━━━━━━━━━━━━━━━━━━━━━\u001b[0m \u001b[32m442.1/442.1 kB\u001b[0m \u001b[31m21.5 MB/s\u001b[0m eta \u001b[36m0:00:00\u001b[0m\n",
            "\u001b[2K   \u001b[90m━━━━━━━━━━━━━━━━━━━━━━━━━━━━━━━━━━━━━━━━\u001b[0m \u001b[32m319.7/319.7 kB\u001b[0m \u001b[31m18.6 MB/s\u001b[0m eta \u001b[36m0:00:00\u001b[0m\n",
            "\u001b[2K   \u001b[90m━━━━━━━━━━━━━━━━━━━━━━━━━━━━━━━━━━━━━━━━\u001b[0m \u001b[32m3.8/3.8 MB\u001b[0m \u001b[31m51.5 MB/s\u001b[0m eta \u001b[36m0:00:00\u001b[0m\n",
            "\u001b[2K   \u001b[90m━━━━━━━━━━━━━━━━━━━━━━━━━━━━━━━━━━━━━━━━\u001b[0m \u001b[32m452.9/452.9 kB\u001b[0m \u001b[31m18.3 MB/s\u001b[0m eta \u001b[36m0:00:00\u001b[0m\n",
            "\u001b[2K   \u001b[90m━━━━━━━━━━━━━━━━━━━━━━━━━━━━━━━━━━━━━━━━\u001b[0m \u001b[32m46.0/46.0 kB\u001b[0m \u001b[31m2.6 MB/s\u001b[0m eta \u001b[36m0:00:00\u001b[0m\n",
            "\u001b[2K   \u001b[90m━━━━━━━━━━━━━━━━━━━━━━━━━━━━━━━━━━━━━━━━\u001b[0m \u001b[32m86.8/86.8 kB\u001b[0m \u001b[31m6.0 MB/s\u001b[0m eta \u001b[36m0:00:00\u001b[0m\n",
            "\u001b[?25h  Building wheel for pypika (pyproject.toml) ... \u001b[?25l\u001b[?25hdone\n",
            "\u001b[31mERROR: pip's dependency resolver does not currently take into account all the packages that are installed. This behaviour is the source of the following dependency conflicts.\n",
            "tensorflow 2.17.1 requires protobuf!=4.21.0,!=4.21.1,!=4.21.2,!=4.21.3,!=4.21.4,!=4.21.5,<5.0.0dev,>=3.20.3, but you have protobuf 5.29.3 which is incompatible.\n",
            "tensorflow-metadata 1.13.1 requires protobuf<5,>=3.20.3, but you have protobuf 5.29.3 which is incompatible.\n",
            "transformers 4.47.1 requires tokenizers<0.22,>=0.21, but you have tokenizers 0.20.3 which is incompatible.\u001b[0m\u001b[31m\n",
            "\u001b[0m"
          ]
        }
      ]
    },
    {
      "cell_type": "code",
      "source": [
        "from langchain_core.example_selectors import SemanticSimilarityExampleSelector\n",
        "from langchain_openai import OpenAIEmbeddings\n",
        "from langchain_chroma import Chroma\n",
        "\n",
        "example_selector = SemanticSimilarityExampleSelector.from_examples(\n",
        "    # 여기에는 선택 가능한 예시 목록이 있습니다.\n",
        "    examples,\n",
        "    # 여기에는 의미적 유사성을 측정하는 데 사용되는 임베딩을 생성하는 임베딩 클래스가 있습니다.\n",
        "    OpenAIEmbeddings(),\n",
        "    # 여기에는 임베딩을 저장하고 유사성 검색을 수행하는 데 사용되는 VectorStore 클래스가 있습니다.\n",
        "    Chroma,\n",
        "    # 이것은 생성할 예시의 수입니다.\n",
        "    k = 1,\n",
        ")"
      ],
      "metadata": {
        "id": "VnL8QPK-pypZ"
      },
      "execution_count": null,
      "outputs": []
    },
    {
      "cell_type": "code",
      "source": [
        "example_prompt = PromptTemplate(\n",
        "    input_variables=[\"question\", \"answer\"],\n",
        "    template=\"Question: {question}\\nAnswer: {answer}\"\n",
        ")"
      ],
      "metadata": {
        "id": "YBGJHA8Jr9ZN"
      },
      "execution_count": null,
      "outputs": []
    },
    {
      "cell_type": "code",
      "source": [
        "prompt = FewShotPromptTemplate(\n",
        "    examples=examples,\n",
        "    example_prompt=example_prompt,\n",
        "    suffix=\"Question: {question}\\nAnswer:\",\n",
        "    input_variables=[\"question\"]\n",
        ")"
      ],
      "metadata": {
        "id": "tTfeflZkr_7r"
      },
      "execution_count": null,
      "outputs": []
    },
    {
      "cell_type": "code",
      "source": [
        "prompt = FewShotPromptTemplate(\n",
        "    examples=examples,\n",
        "    example_prompt=example_prompt,\n",
        "    suffix=\"Question: {question}\\nAnswer:\",\n",
        "    input_variables=[\"question\"]\n",
        ")\n",
        "\n",
        "question = \"인공지능으로 유명한 대학교 5개가 어디야?\"\n",
        "\n",
        "example_selector_prompt = prompt.format(question = question)\n",
        "print(example_selector_prompt)"
      ],
      "metadata": {
        "colab": {
          "base_uri": "https://localhost:8080/"
        },
        "id": "iNAyEFY_rgqp",
        "outputId": "8a39d5da-d50e-483a-c32a-7beb12885ae3"
      },
      "execution_count": null,
      "outputs": [
        {
          "output_type": "stream",
          "name": "stdout",
          "text": [
            "Question: 스티브 잡스와 아인슈타인 중 누가 더 오래 살았나요?\n",
            "Answer: 이 질문에 추가 질문이 필요한가요: 예.\n",
            "추가 질문: 스티브 잡스는 몇 살에 사망했나요?\n",
            "중간 답변: 스티브 잡스는 56세에 사망했습니다.\n",
            "추가 질문: 아인슈타인은 몇 살에 사망했나요?\n",
            "중간 답변: 아인슈타인은 76세에 사망했습니다.\n",
            "최종 답변은: 아인슈타인\n",
            "\n",
            "\n",
            "Question: 네이버의 창립자는 언제 태어났나요?\n",
            "Answer: 이 질문에 추가 질문이 필요한가요: 예.\n",
            "추가 질문: 네이버의 창립자는 누구인가요?\n",
            "중간 답변: 네이버는 이해진에 의해 창립되었습니다.\n",
            "추가 질문: 이해진은 언제 태어났나요?\n",
            "중간 답변: 이해진은 1967년 6월 22일에 태어났습니다.\n",
            "최종 답변은: 1967년 6월 22일\n",
            "\n",
            "\n",
            "Question: 율곡 이이의 어머니가 태어난 해의 통치하던 왕은 누구인가요?\n",
            "Answer: 이 질문에 추가 질문이 필요한가요: 예.\n",
            "추가 질문: 율곡 이이의 어머니는 누구인가요?\n",
            "중간 답변: 율곡 이이의 어머니는 신사임당입니다.\n",
            "추가 질문: 신사임당은 언제 태어났나요?\n",
            "중간 답변: 신사임당은 1504년에 태어났습니다.\n",
            "추가 질문: 1504년에 조선을 통치한 왕은 누구인가요?\n",
            "중간 답변: 1504년에 조선을 통치한 왕은 연산군입니다.\n",
            "최종 답변은: 연산군\n",
            "\n",
            "\n",
            "Question: 올드보이와 기생충의 감독이 같은 나라 출신인가요?\n",
            "Answer: 이 질문에 추가 질문이 필요한가요: 예.\n",
            "추가 질문: 올드보이의 감독은 누구인가요?\n",
            "중간 답변: 올드보이의 감독은 박찬욱입니다.\n",
            "추가 질문: 박찬욱은 어느 나라 출신인가요?\n",
            "중간 답변: 박찬욱은 대한민국 출신입니다.\n",
            "추가 질문: 기생충의 감독은 누구인가요?\n",
            "중간 답변: 기생충의 감독은 봉준호입니다.\n",
            "추가 질문: 봉준호는 어느 나라 출신인가요?\n",
            "중간 답변: 봉준호는 대한민국 출신입니다.\n",
            "최종 답변은: 예\n",
            "\n",
            "\n",
            "Question: 인공지능으로 유명한 대학교 5개가 어디야?\n",
            "Answer:\n"
          ]
        }
      ]
    },
    {
      "cell_type": "code",
      "source": [
        "from langchain_openai import ChatOpenAI\n",
        "\n",
        "llm = ChatOpenAI(\n",
        "    temperature = 0,\n",
        "    model_name = 'gpt-4o',\n",
        ")\n",
        "\n",
        "llm.invoke(final_prompt)"
      ],
      "metadata": {
        "colab": {
          "base_uri": "https://localhost:8080/"
        },
        "id": "458K_XfCsgMT",
        "outputId": "28344442-9298-4d0f-d137-99e4e900e628"
      },
      "execution_count": null,
      "outputs": [
        {
          "output_type": "execute_result",
          "data": {
            "text/plain": [
              "AIMessage(content='이 질문에 추가 질문이 필요한가요: 예.\\n추가 질문: 인공지능 분야에서 유명한 대학교는 어떤 기준으로 선정되나요?\\n중간 답변: 인공지능 분야에서 유명한 대학교는 연구 성과, 교수진, 프로그램의 질, 산업과의 협력 등을 기준으로 선정됩니다.\\n추가 질문: 인공지능 분야에서 유명한 대학교 5개는 어디인가요?\\n중간 답변: 인공지능 분야에서 유명한 대학교로는 미국의 MIT(매사추세츠 공과대학교), 스탠퍼드 대학교, 카네기 멜런 대학교, UC 버클리(캘리포니아 대학교 버클리), 영국의 옥스퍼드 대학교 등이 있습니다.\\n최종 답변은: MIT, 스탠퍼드 대학교, 카네기 멜런 대학교, UC 버클리, 옥스퍼드 대학교', additional_kwargs={'refusal': None}, response_metadata={'token_usage': {'completion_tokens': 205, 'prompt_tokens': 580, 'total_tokens': 785, 'completion_tokens_details': {'accepted_prediction_tokens': 0, 'audio_tokens': 0, 'reasoning_tokens': 0, 'rejected_prediction_tokens': 0}, 'prompt_tokens_details': {'audio_tokens': 0, 'cached_tokens': 0}}, 'model_name': 'gpt-4o-2024-08-06', 'system_fingerprint': 'fp_b7d65f1a5b', 'finish_reason': 'stop', 'logprobs': None}, id='run-9fa0e334-37d4-44c5-8b32-a246100cf462-0', usage_metadata={'input_tokens': 580, 'output_tokens': 205, 'total_tokens': 785, 'input_token_details': {'audio': 0, 'cache_read': 0}, 'output_token_details': {'audio': 0, 'reasoning': 0}})"
            ]
          },
          "metadata": {},
          "execution_count": 45
        }
      ]
    },
    {
      "cell_type": "code",
      "source": [
        "prompt = FewShotPromptTemplate(\n",
        "    examples=examples,\n",
        "    example_prompt=example_prompt,\n",
        "    suffix=\"Question: {question}\\nAnswer:\",\n",
        "    input_variables=[\"question\"]\n",
        ")\n",
        "\n",
        "chain = prompt | llm"
      ],
      "metadata": {
        "id": "DOyCdASqsA2s"
      },
      "execution_count": null,
      "outputs": []
    },
    {
      "cell_type": "code",
      "source": [
        "print(chain.invoke({\"question\": question}).content)"
      ],
      "metadata": {
        "colab": {
          "base_uri": "https://localhost:8080/"
        },
        "id": "5F5Lw8JysUlb",
        "outputId": "8468a115-827b-4d35-e074-4a3a7251847f"
      },
      "execution_count": null,
      "outputs": [
        {
          "output_type": "stream",
          "name": "stdout",
          "text": [
            "이 질문에 추가 질문이 필요한가요: 예.\n",
            "추가 질문: 인공지능 분야에서 유명한 대학교는 어떤 기준으로 선정되나요?\n",
            "중간 답변: 인공지능 분야에서 유명한 대학교는 연구 성과, 교수진, 프로그램의 질, 산업과의 협력 등을 기준으로 선정됩니다.\n",
            "추가 질문: 인공지능 분야에서 유명한 대학교 5개는 어디인가요?\n",
            "중간 답변: 인공지능 분야에서 유명한 대학교로는 미국의 MIT, 스탠포드 대학교, 카네기 멜런 대학교, UC 버클리, 영국의 옥스퍼드 대학교 등이 있습니다.\n",
            "최종 답변은: MIT, 스탠포드 대학교, 카네기 멜런 대학교, UC 버클리, 옥스퍼드 대학교\n"
          ]
        }
      ]
    },
    {
      "cell_type": "code",
      "source": [],
      "metadata": {
        "id": "Hbw25b68sVYK"
      },
      "execution_count": null,
      "outputs": []
    }
  ]
}