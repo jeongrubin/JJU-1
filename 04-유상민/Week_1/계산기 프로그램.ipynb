{
 "cells": [
  {
   "cell_type": "markdown",
   "id": "98b8550c-c129-4675-8fec-fb31fb4b0933",
   "metadata": {},
   "source": []
  },
  {
   "cell_type": "code",
   "execution_count": 24,
   "id": "a0541824-46a0-45e8-bd8e-14dff4227bd3",
   "metadata": {},
   "outputs": [
    {
     "name": "stdin",
     "output_type": "stream",
     "text": [
      "숫자를 입력하세요:  4\n",
      "기호를 입력하세요 (+, -, *, /):  +\n",
      "숫자를 입력하세요:  5\n"
     ]
    },
    {
     "name": "stdout",
     "output_type": "stream",
     "text": [
      "계산값: 9.0\n"
     ]
    }
   ],
   "source": [
    "# 사칙연산\n",
    "def add(x, y):\n",
    "    return x + y\n",
    "\n",
    "def subtract(x, y):\n",
    "    return x - y\n",
    "\n",
    "def multiply(x, y):\n",
    "    return x * y\n",
    "\n",
    "def divide(x, y):\n",
    "    return x / y\n",
    "\n",
    "# 연산 입력\n",
    "def cal_input():\n",
    "    num1 = float(input(\"숫자를 입력하세요: \"))\n",
    "    mathematical_symbol = input(\"기호를 입력하세요 (+, -, *, /): \")\n",
    "    num2 = float(input(\"숫자를 입력하세요: \"))\n",
    "    return num1, mathematical_symbol, num2\n",
    "\n",
    "# 계산\n",
    "def calculate(num1, mathematical_symbol, num2):\n",
    "    if mathematical_symbol == \"+\":\n",
    "        return add(num1, num2)\n",
    "    elif mathematical_symbol == \"-\":\n",
    "        return subtract(num1, num2)\n",
    "    elif mathematical_symbol == \"*\":\n",
    "        return multiply(num1, num2)\n",
    "    elif mathematical_symbol == \"/\":\n",
    "        return divide(num1, num2)\n",
    "    else:\n",
    "        print('잘못된 연산입니다.')\n",
    "        return None\n",
    "\n",
    "# 동작\n",
    "def action():\n",
    "    num1, mathematical_symbol, num2 = cal_input()\n",
    "    result = calculate(num1, mathematical_symbol, num2)\n",
    "    print('계산값:', result)\n",
    "\n",
    "if __name__ == \"__main__\":\n",
    "    action()\n"
   ]
  },
  {
   "cell_type": "code",
   "execution_count": 25,
   "id": "393bb2bb-b3da-4c20-9ad3-793aea914043",
   "metadata": {},
   "outputs": [
    {
     "name": "stdin",
     "output_type": "stream",
     "text": [
      "숫자를 입력하세요:  4\n",
      "기호를 입력하세요 (+, -, *, /):  +\n",
      "숫자를 입력하세요:  5\n"
     ]
    },
    {
     "data": {
      "text/plain": [
       "(4.0, '+', 5.0)"
      ]
     },
     "execution_count": 25,
     "metadata": {},
     "output_type": "execute_result"
    }
   ],
   "source": [
    "cal_input()"
   ]
  },
  {
   "cell_type": "code",
   "execution_count": null,
   "id": "b9a7555d-6dd6-45bb-bbaf-a04b105fe560",
   "metadata": {},
   "outputs": [],
   "source": []
  },
  {
   "cell_type": "code",
   "execution_count": null,
   "id": "96c91770-c86f-4ca1-987c-889068af7f78",
   "metadata": {},
   "outputs": [],
   "source": []
  }
 ],
 "metadata": {
  "kernelspec": {
   "display_name": "Python 3 (ipykernel)",
   "language": "python",
   "name": "python3"
  },
  "language_info": {
   "codemirror_mode": {
    "name": "ipython",
    "version": 3
   },
   "file_extension": ".py",
   "mimetype": "text/x-python",
   "name": "python",
   "nbconvert_exporter": "python",
   "pygments_lexer": "ipython3",
   "version": "3.10.13"
  }
 },
 "nbformat": 4,
 "nbformat_minor": 5
}
