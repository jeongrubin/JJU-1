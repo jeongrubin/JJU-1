{
 "cells": [
  {
   "cell_type": "code",
   "execution_count": 2,
   "metadata": {},
   "outputs": [
    {
     "name": "stdout",
     "output_type": "stream",
     "text": [
      "랜덤 데이터 생성 완료! 파일 이름: random_data.csv\n"
     ]
    }
   ],
   "source": [
    "import pandas as pd\n",
    "import random\n",
    "\n",
    "# 데이터 생성\n",
    "num_rows = 60  # 데이터의 행 수\n",
    "num_columns = 60  # w01 ~ w60의 열 수\n",
    "\n",
    "# 랜덤 데이터 생성\n",
    "data = {\n",
    "    \"getTime\": pd.date_range(start=\"2023-01-01 00:00:00\", periods=num_rows, freq=\"1T\"),  # 1분 단위 시간\n",
    "    \"jeoulID\": [random.randint(1, 5) for _ in range(num_rows)],  # jeoulID는 1~5 사이 랜덤\n",
    "}\n",
    "\n",
    "# w01 ~ w60 열 추가\n",
    "for i in range(1, num_columns + 1):\n",
    "    col_name = f\"w{i:02d}\"\n",
    "    data[col_name] = [random.randint(1, 100) for _ in range(num_rows)]\n",
    "\n",
    "# 데이터프레임 생성\n",
    "df = pd.DataFrame(data)\n",
    "\n",
    "# CSV 파일 저장\n",
    "df.to_csv(\"random_data.csv\", index=False)\n",
    "\n",
    "print(\"랜덤 데이터 생성 완료! 파일 이름: random_data.csv\")\n"
   ]
  }
 ],
 "metadata": {
  "kernelspec": {
   "display_name": "base",
   "language": "python",
   "name": "python3"
  },
  "language_info": {
   "codemirror_mode": {
    "name": "ipython",
    "version": 3
   },
   "file_extension": ".py",
   "mimetype": "text/x-python",
   "name": "python",
   "nbconvert_exporter": "python",
   "pygments_lexer": "ipython3",
   "version": "3.10.13"
  }
 },
 "nbformat": 4,
 "nbformat_minor": 2
}
