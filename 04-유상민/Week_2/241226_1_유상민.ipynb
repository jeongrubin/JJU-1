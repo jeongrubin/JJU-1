{
 "cells": [
  {
   "cell_type": "markdown",
   "metadata": {
    "id": "-12xgcfFL5Cb"
   },
   "source": [
    "# 1. 키확인"
   ]
  },
  {
   "cell_type": "code",
   "execution_count": 3,
   "metadata": {
    "executionInfo": {
     "elapsed": 420,
     "status": "ok",
     "timestamp": 1735187072062,
     "user": {
      "displayName": "유상민",
      "userId": "13412534722180768201"
     },
     "user_tz": -540
    },
    "id": "xo3ueWmOL4sS"
   },
   "outputs": [],
   "source": [
    "import os\n",
    "\n",
    "os.environ['OPENAI_API_KEY']"
   ]
  },
  {
   "cell_type": "code",
   "execution_count": null,
   "metadata": {
    "id": "tYJDqCF4PeoF"
   },
   "outputs": [],
   "source": []
  },
  {
   "cell_type": "markdown",
   "metadata": {
    "id": "OJHTTD86OAKm"
   },
   "source": [
    "# 2. 키 유효성 확인"
   ]
  },
  {
   "cell_type": "code",
   "execution_count": 2,
   "metadata": {
    "colab": {
     "base_uri": "https://localhost:8080/"
    },
    "executionInfo": {
     "elapsed": 414,
     "status": "ok",
     "timestamp": 1735187633029,
     "user": {
      "displayName": "유상민",
      "userId": "13412534722180768201"
     },
     "user_tz": -540
    },
    "id": "bWC2f92yN8Ge",
    "outputId": "aa8b4b52-6278-4766-c6dc-c5954cd297e5"
   },
   "outputs": [],
   "source": [
    "# print(f'[API KEY]\\n{(os.environ[\"OPENAI_API_KEY\"][:-15])}' + '*' * 15)"
   ]
  },
  {
   "cell_type": "markdown",
   "metadata": {
    "id": "Wy1L7sP1N_hn"
   },
   "source": []
  },
  {
   "cell_type": "code",
   "execution_count": null,
   "metadata": {
    "id": "pZRDKRPMNWxX"
   },
   "outputs": [],
   "source": []
  }
 ],
 "metadata": {
  "colab": {
   "authorship_tag": "ABX9TyPePl1FYbjwFklNwrJPezEh",
   "provenance": []
  },
  "kernelspec": {
   "display_name": "base",
   "language": "python",
   "name": "python3"
  },
  "language_info": {
   "codemirror_mode": {
    "name": "ipython",
    "version": 3
   },
   "file_extension": ".py",
   "mimetype": "text/x-python",
   "name": "python",
   "nbconvert_exporter": "python",
   "pygments_lexer": "ipython3",
   "version": "3.12.8"
  }
 },
 "nbformat": 4,
 "nbformat_minor": 0
}
