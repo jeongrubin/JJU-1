{
  "nbformat": 4,
  "nbformat_minor": 0,
  "metadata": {
    "colab": {
      "provenance": [],
      "authorship_tag": "ABX9TyP6jcsvkP3vyeslItD1eadk",
      "include_colab_link": true
    },
    "kernelspec": {
      "name": "python3",
      "display_name": "Python 3"
    },
    "language_info": {
      "name": "python"
    }
  },
  "cells": [
    {
      "cell_type": "markdown",
      "metadata": {
        "id": "view-in-github",
        "colab_type": "text"
      },
      "source": [
        "<a href=\"https://colab.research.google.com/github/jeongrubin/JJU-1/blob/main/03_04JsonOutputParser_.ipynb\" target=\"_parent\"><img src=\"https://colab.research.google.com/assets/colab-badge.svg\" alt=\"Open In Colab\"/></a>"
      ]
    },
    {
      "cell_type": "code",
      "execution_count": 1,
      "metadata": {
        "id": "lmMgiiP6S_UK"
      },
      "outputs": [],
      "source": [
        "import os\n",
        "os.environ[\"OPENAI_API_KEY\"] = \"\"\n",
        "os.environ[\"LANGCHAIN_API_KEY\"] = \"\"\n",
        "os.environ[\"LANGCHAIN_TRACING_V2\"] = \"true\"\n",
        "os.environ[\"LANGCHAIN_ENDPOINT\"] = \"https://api.smith.langchain.com\"\n",
        "os.environ[\"LANGCHAIN_PROJECT\"] = \"01-07\""
      ]
    },
    {
      "cell_type": "code",
      "source": [
        "from langchain_core.prompts import ChatPromptTemplate\n",
        "from langchain_core.output_parsers import JsonOutputParser\n",
        "from pydantic import BaseModel, Field\n",
        "from langchain_openai import ChatOpenAI"
      ],
      "metadata": {
        "id": "XdeCuDH1Tu_U"
      },
      "execution_count": 5,
      "outputs": []
    },
    {
      "cell_type": "code",
      "source": [
        "# OpenAI 객체를 생성\n",
        "model = ChatOpenAI(temperature=0, model_name=\"gpt-4o\")"
      ],
      "metadata": {
        "id": "we29FFaiTv5z"
      },
      "execution_count": 6,
      "outputs": []
    },
    {
      "cell_type": "code",
      "source": [
        "# 원하는 데이터 구조를 정의.\n",
        "class Topic(BaseModel):\n",
        "    description: str = Field(description=\"주제에 대한 간결한 설명\")\n",
        "    hashtags: str = Field(description=\"해시태그 형식의 키워드(2개 이상)\")"
      ],
      "metadata": {
        "id": "SEWDvkdlTv8L"
      },
      "execution_count": 7,
      "outputs": []
    },
    {
      "cell_type": "code",
      "source": [
        "parser = JsonOutputParser(pydantic_object=Topic)"
      ],
      "metadata": {
        "id": "VPqxYqd-Tv-i"
      },
      "execution_count": 8,
      "outputs": []
    },
    {
      "cell_type": "code",
      "source": [
        "prompt = ChatPromptTemplate.from_messages(\n",
        "    [\n",
        "        (\"system\", \"당신은 친절한 AI 어시스턴트 입니다. 질문에 간결하게 답변하세요.\"),\n",
        "        (\"user\", \"#Format: {format_instructions}\\n\\n#Question: {question}\"),\n",
        "    ]\n",
        ")\n",
        "prompt = prompt.partial(format_instructions=parser.get_format_instructions())"
      ],
      "metadata": {
        "id": "QMksrrYfTwDj"
      },
      "execution_count": 9,
      "outputs": []
    },
    {
      "cell_type": "code",
      "source": [
        "chain = prompt | model | parser"
      ],
      "metadata": {
        "id": "2jlYa4aqTwGK"
      },
      "execution_count": 10,
      "outputs": []
    },
    {
      "cell_type": "code",
      "source": [
        "question = \"딥페이크에 대해 어떻게 생각해\"\n",
        "answer = chain.invoke({\"question\": question})"
      ],
      "metadata": {
        "id": "gj8JCtRaTwIj"
      },
      "execution_count": 11,
      "outputs": []
    },
    {
      "cell_type": "code",
      "source": [
        "answer"
      ],
      "metadata": {
        "colab": {
          "base_uri": "https://localhost:8080/"
        },
        "id": "L7h9-5mdTwKs",
        "outputId": "69dd587b-7a25-4662-b63e-a4d1160dc9b5"
      },
      "execution_count": 12,
      "outputs": [
        {
          "output_type": "execute_result",
          "data": {
            "text/plain": [
              "{'description': '딥페이크는 인공지능을 사용하여 사람의 얼굴이나 목소리를 조작하는 기술로, 긍정적인 활용과 부정적인 악용 가능성을 모두 가지고 있습니다.',\n",
              " 'hashtags': '#딥페이크 #인공지능 #기술'}"
            ]
          },
          "metadata": {},
          "execution_count": 12
        }
      ]
    },
    {
      "cell_type": "markdown",
      "source": [
        "#Pydantic 없이 사용하기"
      ],
      "metadata": {
        "id": "Ye4B0EaGYvWt"
      }
    },
    {
      "cell_type": "code",
      "source": [
        "# 질의 작성\n",
        "question = \"지구 온난화에 대해 알려주세요. 온난화에 대한 설명은 `description`에, 관련 키워드는 `hashtags`에 담아주세요.\"\n",
        "\n",
        "# JSON 출력 파서 초기화\n",
        "parser = JsonOutputParser()\n",
        "\n",
        "# 프롬프트 템플릿을 설정합니다.\n",
        "prompt = ChatPromptTemplate.from_messages(\n",
        "    [\n",
        "        (\"system\", \"당신은 친절한 AI 어시스턴트 입니다. 질문에 간결하게 답변하세요.\"),\n",
        "        (\"user\", \"#Format: {format_instructions}\\n\\n#Question: {question}\"),\n",
        "    ]\n",
        ")\n",
        "\n",
        "# 지시사항을 프롬프트에 주입합니다.\n",
        "prompt = prompt.partial(format_instructions=parser.get_format_instructions())\n",
        "\n",
        "# 프롬프트, 모델, 파서를 연결하는 체인 생성\n",
        "chain = prompt | model | parser\n",
        "\n",
        "# 체인을 호출하여 쿼리 실행\n",
        "response = chain.invoke({\"question\": question})\n",
        "\n",
        "# 출력을 확인합니다.\n",
        "print(response)"
      ],
      "metadata": {
        "colab": {
          "base_uri": "https://localhost:8080/"
        },
        "id": "E-ZZNr-0TwNV",
        "outputId": "4bfc1a00-e5ac-4b89-915e-ba13304aa0c9"
      },
      "execution_count": 13,
      "outputs": [
        {
          "output_type": "stream",
          "name": "stdout",
          "text": [
            "{'description': '지구 온난화는 대기 중 온실가스 농도의 증가로 인해 지구의 평균 기온이 상승하는 현상입니다. 이는 주로 화석 연료의 연소, 산림 파괴, 산업 활동 등 인간의 활동에 의해 촉발됩니다. 지구 온난화는 기후 변화, 해수면 상승, 극단적인 기상 현상 증가 등 다양한 환경적 문제를 야기합니다.', 'hashtags': ['#지구온난화', '#기후변화', '#온실가스', '#환경문제', '#해수면상승']}\n"
          ]
        }
      ]
    },
    {
      "cell_type": "code",
      "source": [],
      "metadata": {
        "id": "8brcZbbCTwPr"
      },
      "execution_count": null,
      "outputs": []
    },
    {
      "cell_type": "code",
      "source": [],
      "metadata": {
        "id": "fMlDG80QTwSL"
      },
      "execution_count": null,
      "outputs": []
    },
    {
      "cell_type": "code",
      "source": [],
      "metadata": {
        "id": "8Qq1sBFgTwUz"
      },
      "execution_count": null,
      "outputs": []
    },
    {
      "cell_type": "code",
      "source": [],
      "metadata": {
        "id": "STQpBUiRTwXT"
      },
      "execution_count": null,
      "outputs": []
    }
  ]
}