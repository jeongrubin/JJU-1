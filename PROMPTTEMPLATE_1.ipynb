{
  "nbformat": 4,
  "nbformat_minor": 0,
  "metadata": {
    "colab": {
      "provenance": []
    },
    "kernelspec": {
      "name": "python3",
      "display_name": "Python 3"
    },
    "language_info": {
      "name": "python"
    }
  },
  "cells": [
    {
      "cell_type": "code",
      "source": [
        "!pip install -qU langchain_openai"
      ],
      "metadata": {
        "colab": {
          "base_uri": "https://localhost:8080/"
        },
        "id": "AxpkpkuvAOkt",
        "outputId": "382b261a-2305-4d41-b471-ac05278da0ea"
      },
      "execution_count": null,
      "outputs": [
        {
          "output_type": "stream",
          "name": "stdout",
          "text": [
            "\u001b[?25l   \u001b[90m━━━━━━━━━━━━━━━━━━━━━━━━━━━━━━━━━━━━━━━━\u001b[0m \u001b[32m0.0/50.9 kB\u001b[0m \u001b[31m?\u001b[0m eta \u001b[36m-:--:--\u001b[0m\r\u001b[2K   \u001b[90m━━━━━━━━━━━━━━━━━━━━━━━━━━━━━━━━━━━━━━━━\u001b[0m \u001b[32m50.9/50.9 kB\u001b[0m \u001b[31m3.5 MB/s\u001b[0m eta \u001b[36m0:00:00\u001b[0m\n",
            "\u001b[?25h\u001b[?25l   \u001b[90m━━━━━━━━━━━━━━━━━━━━━━━━━━━━━━━━━━━━━━━━\u001b[0m \u001b[32m0.0/1.2 MB\u001b[0m \u001b[31m?\u001b[0m eta \u001b[36m-:--:--\u001b[0m\r\u001b[2K   \u001b[90m━━━━━━━━━━━━━━━━━━━━━━━━━━━━━━━━━━━━━━━━\u001b[0m \u001b[32m1.2/1.2 MB\u001b[0m \u001b[31m44.6 MB/s\u001b[0m eta \u001b[36m0:00:00\u001b[0m\n",
            "\u001b[?25h"
          ]
        }
      ]
    },
    {
      "cell_type": "code",
      "source": [
        "import os\n",
        "\n",
        "os.environ[\"OPENAI_API_KEY\"] = \"\"\n",
        "os.environ['LANGCHAIN_API_KEY'] = ''\n",
        "os.environ['LANGCHAIN_TRACING_V2'] = 'true'\n",
        "os.environ['LANGCHAIN_ENDPOINT'] = 'https://api.smith.langchain.com'\n",
        "os.environ['LANGCHAIN_PROJECT'] = \"test_JJU_LeeNaEun\""
      ],
      "metadata": {
        "id": "G4bwoLhrAI4v"
      },
      "execution_count": null,
      "outputs": []
    },
    {
      "cell_type": "code",
      "source": [
        "llm = ChatOpenAI(\n",
        "    model = 'gpt-4o',\n",
        "    temperature = 0,\n",
        "    max_tokens = None,\n",
        "    timeout = None,\n",
        "    max_retries = 2,\n",
        "    # base_url = '',\n",
        "    #organization = '',\n",
        ")"
      ],
      "metadata": {
        "id": "MZSzKVEtBPl9"
      },
      "execution_count": null,
      "outputs": []
    },
    {
      "cell_type": "code",
      "source": [
        "llm"
      ],
      "metadata": {
        "colab": {
          "base_uri": "https://localhost:8080/"
        },
        "id": "4Y5VH-k_BMiJ",
        "outputId": "1a3684cf-dc42-4d42-e51a-3be0cdbe574f"
      },
      "execution_count": null,
      "outputs": [
        {
          "output_type": "execute_result",
          "data": {
            "text/plain": [
              "ChatOpenAI(client=<openai.resources.chat.completions.Completions object at 0x7ca241fd6a40>, async_client=<openai.resources.chat.completions.AsyncCompletions object at 0x7ca243004580>, root_client=<openai.OpenAI object at 0x7ca2432b2a70>, root_async_client=<openai.AsyncOpenAI object at 0x7ca241fd69e0>, model_name='gpt-4o', temperature=0.0, model_kwargs={}, openai_api_key=SecretStr('**********'))"
            ]
          },
          "metadata": {},
          "execution_count": 16
        }
      ]
    },
    {
      "cell_type": "code",
      "execution_count": null,
      "metadata": {
        "colab": {
          "base_uri": "https://localhost:8080/"
        },
        "id": "GgPpVtW9_yLG",
        "outputId": "777b2c45-7a00-48dc-aa5b-799389226bc6"
      },
      "outputs": [
        {
          "output_type": "stream",
          "name": "stdout",
          "text": [
            "input_variables=['movie_title'] input_types={} partial_variables={} template='{movie_title}에 대한 줄거리, 감독, 평점에 대해서 알려줘'\n"
          ]
        }
      ],
      "source": [
        "from langchain.prompts import PromptTemplate\n",
        "from langchain_openai import ChatOpenAI\n",
        "\n",
        "template = \"{movie_title}에 대한 줄거리, 감독, 평점에 대해서 알려줘\"\n",
        "\n",
        "prompt = PromptTemplate(\n",
        "    template = template,\n",
        "    input_variables=[\"movie_title\"]\n",
        ")\n",
        "\n",
        "print(prompt)"
      ]
    },
    {
      "cell_type": "code",
      "source": [
        "# 2. LLM 초기화\n",
        "llm = ChatOpenAI(model=\"gpt-4\", temperature=0)\n",
        "\n",
        "Result = prompt.format(movie_title=\"나 홀로 집에\")\n",
        "\n",
        "response = llm.invoke(Result)\n",
        "print(response.content)"
      ],
      "metadata": {
        "colab": {
          "base_uri": "https://localhost:8080/"
        },
        "id": "YBy9OGCuEV_r",
        "outputId": "9e2a6bc2-e3b9-44c2-8011-39b066f4d827"
      },
      "execution_count": null,
      "outputs": [
        {
          "output_type": "stream",
          "name": "stdout",
          "text": [
            "\"나 홀로 집에\"는 1990년에 개봉한 미국의 코미디 영화입니다. 크리스마스를 앞두고 가족들과 함께 유럽 여행을 떠나려던 맥칼리스터 가족은 아들 케빈을 집에 혼자 두고 여행을 떠나게 되는데, 그런 그를 노리는 두 명의 도둑이 집을 털려고 하자 케빈은 집을 지키기 위해 다양한 함정을 설치하게 됩니다.\n",
            "\n",
            "이 영화는 크리스마스 시즌에 가장 많이 보는 영화 중 하나로, 가족들과 함께 보기 좋은 영화로 알려져 있습니다. \n",
            "\n",
            "감독은 크리스 콜럼버스이며, 주연으로는 맥컬리 컬킨이 출연했습니다.\n",
            "\n",
            "영화 평점은 다양한 리뷰 사이트에서 보통 7점대를 기록하고 있습니다. IMDb에서는 10점 만점에 7.6점, 로튼 토마토에서는 100점 만점에 65점을 받았습니다.\n"
          ]
        }
      ]
    },
    {
      "cell_type": "code",
      "source": [],
      "metadata": {
        "id": "MEwB35wUEGqf"
      },
      "execution_count": null,
      "outputs": []
    }
  ]
}